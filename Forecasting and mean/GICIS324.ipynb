{
 "cells": [
  {
   "cell_type": "code",
   "execution_count": 1,
   "metadata": {
    "ExecuteTime": {
     "end_time": "2020-05-04T20:14:51.426573Z",
     "start_time": "2020-05-04T20:14:51.407732Z"
    }
   },
   "outputs": [
    {
     "name": "stdout",
     "output_type": "stream",
     "text": [
      "Planta a Analizar:  24\n"
     ]
    }
   ],
   "source": [
    "planta = 24\n",
    "print(\"Planta a Analizar: \", planta)"
   ]
  },
  {
   "cell_type": "code",
   "execution_count": 2,
   "metadata": {
    "ExecuteTime": {
     "end_time": "2020-05-04T20:14:54.798923Z",
     "start_time": "2020-05-04T20:14:51.517547Z"
    }
   },
   "outputs": [
    {
     "data": {
      "text/html": [
       " <style> .output {display: center; align-items: center; text-align: center; justify-content: center; } </style> "
      ],
      "text/plain": [
       "<IPython.core.display.HTML object>"
      ]
     },
     "metadata": {},
     "output_type": "display_data"
    }
   ],
   "source": [
    "import pandas as pd\n",
    "import numpy as np\n",
    "import matplotlib as mpl\n",
    "import scipy.stats as st\n",
    "import seaborn as sns\n",
    "import statsmodels.api as sm\n",
    "from datetime import datetime\n",
    "import matplotlib.pyplot as plt\n",
    "from statsmodels.tsa.arima_model import ARIMA\n",
    "import pmdarima as pm\n",
    "from pmdarima.model_selection import train_test_split\n",
    "import matplotlib.pyplot as plt\n",
    "import warnings\n",
    "warnings.filterwarnings(\"ignore\")\n",
    "from statsmodels.tsa.stattools import acf\n",
    "import datetime\n",
    "from statsmodels.graphics.tsaplots import plot_acf, plot_pacf\n",
    "from sklearn.metrics import mean_squared_error\n",
    "\n",
    "from numpy import inf\n",
    "\n",
    "from IPython.display import display, HTML\n",
    "display(HTML(\"\"\" <style> .output {display: center; align-items: center; text-align: center; justify-content: center; } </style> \"\"\"))"
   ]
  },
  {
   "cell_type": "code",
   "execution_count": 3,
   "metadata": {
    "ExecuteTime": {
     "end_time": "2020-05-04T20:15:16.961707Z",
     "start_time": "2020-05-04T20:14:54.839413Z"
    }
   },
   "outputs": [],
   "source": [
    "#Importación de datos\n",
    "datos = pd.read_excel('Generación Intermitente de la GCROC 2013-2020.xlsx', header=1)"
   ]
  },
  {
   "cell_type": "code",
   "execution_count": 4,
   "metadata": {
    "ExecuteTime": {
     "end_time": "2020-05-04T20:15:17.793352Z",
     "start_time": "2020-05-04T20:15:16.964933Z"
    }
   },
   "outputs": [],
   "source": [
    "numbers = datos.hora-1\n",
    "hours = [datetime.time(num).strftime(\"%H:00:00\") for num in numbers]\n",
    "datos['fecha'] = datos['fecha'].replace(0,np.nan).ffill()\n",
    "datos['fecha'] = pd.to_datetime(datos['fecha'])\n",
    "datos['fecha'] = datos['fecha'].dt.date\n",
    "datos['fecha_hora'] = datos[\"fecha\"].astype(str) + ' ' + hours\n",
    "#LIMPIEZA DE DATOS\n",
    "datos = datos.set_index(datos['fecha_hora'])\n",
    "datos = datos.loc['2020-01-01 00:00:00':]\n",
    "\n",
    "# datos = datos.drop(datos.index[-24:])"
   ]
  },
  {
   "cell_type": "code",
   "execution_count": 5,
   "metadata": {
    "ExecuteTime": {
     "end_time": "2020-05-04T20:15:17.811656Z",
     "start_time": "2020-05-04T20:15:17.796062Z"
    }
   },
   "outputs": [],
   "source": [
    "columns = ['GICIE301', 'GICIE302','GICIE303','GICIE304','GICIE305','GICIS306', 'GICIS307','GICIS308',\n",
    "          'GICIS309','GICIS310','GICIS311','GICIS312','GICIS313','GICIS314','GICIS315','GICIS316','GICIS317',\n",
    "          'GICIS318','GICIS319','GICIS320','GICIS321','GICIS322','GICIS323','GICIS324','GICIS325','GICIS326']"
   ]
  },
  {
   "cell_type": "code",
   "execution_count": 6,
   "metadata": {
    "ExecuteTime": {
     "end_time": "2020-05-04T20:15:17.838240Z",
     "start_time": "2020-05-04T20:15:17.815941Z"
    }
   },
   "outputs": [
    {
     "data": {
      "text/plain": [
       "'GICIS324'"
      ]
     },
     "execution_count": 6,
     "metadata": {},
     "output_type": "execute_result"
    }
   ],
   "source": [
    "n_periods = 5*24\n",
    "columna = columns[planta-1]\n",
    "columna"
   ]
  },
  {
   "cell_type": "code",
   "execution_count": 7,
   "metadata": {
    "ExecuteTime": {
     "end_time": "2020-05-04T20:15:17.891704Z",
     "start_time": "2020-05-04T20:15:17.853803Z"
    },
    "scrolled": false
   },
   "outputs": [
    {
     "data": {
      "text/html": [
       "<div>\n",
       "<style scoped>\n",
       "    .dataframe tbody tr th:only-of-type {\n",
       "        vertical-align: middle;\n",
       "    }\n",
       "\n",
       "    .dataframe tbody tr th {\n",
       "        vertical-align: top;\n",
       "    }\n",
       "\n",
       "    .dataframe thead th {\n",
       "        text-align: right;\n",
       "    }\n",
       "</style>\n",
       "<table border=\"1\" class=\"dataframe\">\n",
       "  <thead>\n",
       "    <tr style=\"text-align: right;\">\n",
       "      <th></th>\n",
       "      <th>hora</th>\n",
       "      <th>GICIS324</th>\n",
       "    </tr>\n",
       "    <tr>\n",
       "      <th>fecha_hora</th>\n",
       "      <th></th>\n",
       "      <th></th>\n",
       "    </tr>\n",
       "  </thead>\n",
       "  <tbody>\n",
       "    <tr>\n",
       "      <td>2020-01-04 00:00:00</td>\n",
       "      <td>1</td>\n",
       "      <td>0.0</td>\n",
       "    </tr>\n",
       "    <tr>\n",
       "      <td>2020-01-04 01:00:00</td>\n",
       "      <td>2</td>\n",
       "      <td>0.0</td>\n",
       "    </tr>\n",
       "    <tr>\n",
       "      <td>2020-01-04 02:00:00</td>\n",
       "      <td>3</td>\n",
       "      <td>0.0</td>\n",
       "    </tr>\n",
       "    <tr>\n",
       "      <td>2020-01-04 03:00:00</td>\n",
       "      <td>4</td>\n",
       "      <td>0.0</td>\n",
       "    </tr>\n",
       "    <tr>\n",
       "      <td>2020-01-04 04:00:00</td>\n",
       "      <td>5</td>\n",
       "      <td>0.0</td>\n",
       "    </tr>\n",
       "  </tbody>\n",
       "</table>\n",
       "</div>"
      ],
      "text/plain": [
       "                     hora  GICIS324\n",
       "fecha_hora                         \n",
       "2020-01-04 00:00:00     1       0.0\n",
       "2020-01-04 01:00:00     2       0.0\n",
       "2020-01-04 02:00:00     3       0.0\n",
       "2020-01-04 03:00:00     4       0.0\n",
       "2020-01-04 04:00:00     5       0.0"
      ]
     },
     "execution_count": 7,
     "metadata": {},
     "output_type": "execute_result"
    }
   ],
   "source": [
    "df = datos[['hora',columna]]\n",
    "df[columna] = (df[columna]) # para efectos de las tranformaciones logaritmicas(eliminar el 0)\n",
    "df = df.dropna()\n",
    "df.head()"
   ]
  },
  {
   "cell_type": "code",
   "execution_count": 8,
   "metadata": {
    "ExecuteTime": {
     "end_time": "2020-05-04T20:15:17.991433Z",
     "start_time": "2020-05-04T20:15:17.916783Z"
    }
   },
   "outputs": [
    {
     "data": {
      "text/html": [
       "<div>\n",
       "<style scoped>\n",
       "    .dataframe tbody tr th:only-of-type {\n",
       "        vertical-align: middle;\n",
       "    }\n",
       "\n",
       "    .dataframe tbody tr th {\n",
       "        vertical-align: top;\n",
       "    }\n",
       "\n",
       "    .dataframe thead th {\n",
       "        text-align: right;\n",
       "    }\n",
       "</style>\n",
       "<table border=\"1\" class=\"dataframe\">\n",
       "  <thead>\n",
       "    <tr style=\"text-align: right;\">\n",
       "      <th></th>\n",
       "      <th>GICIS324</th>\n",
       "    </tr>\n",
       "    <tr>\n",
       "      <th>fecha_hora</th>\n",
       "      <th></th>\n",
       "    </tr>\n",
       "  </thead>\n",
       "  <tbody>\n",
       "    <tr>\n",
       "      <td>2020-01-04 00:00:00</td>\n",
       "      <td>0.0</td>\n",
       "    </tr>\n",
       "    <tr>\n",
       "      <td>2020-01-04 01:00:00</td>\n",
       "      <td>0.0</td>\n",
       "    </tr>\n",
       "    <tr>\n",
       "      <td>2020-01-04 02:00:00</td>\n",
       "      <td>0.0</td>\n",
       "    </tr>\n",
       "    <tr>\n",
       "      <td>2020-01-04 03:00:00</td>\n",
       "      <td>0.0</td>\n",
       "    </tr>\n",
       "    <tr>\n",
       "      <td>2020-01-04 04:00:00</td>\n",
       "      <td>0.0</td>\n",
       "    </tr>\n",
       "    <tr>\n",
       "      <td>...</td>\n",
       "      <td>...</td>\n",
       "    </tr>\n",
       "    <tr>\n",
       "      <td>2020-03-09 19:00:00</td>\n",
       "      <td>0.0</td>\n",
       "    </tr>\n",
       "    <tr>\n",
       "      <td>2020-03-09 20:00:00</td>\n",
       "      <td>0.0</td>\n",
       "    </tr>\n",
       "    <tr>\n",
       "      <td>2020-03-09 21:00:00</td>\n",
       "      <td>0.0</td>\n",
       "    </tr>\n",
       "    <tr>\n",
       "      <td>2020-03-09 22:00:00</td>\n",
       "      <td>0.0</td>\n",
       "    </tr>\n",
       "    <tr>\n",
       "      <td>2020-03-09 23:00:00</td>\n",
       "      <td>0.0</td>\n",
       "    </tr>\n",
       "  </tbody>\n",
       "</table>\n",
       "<p>1584 rows × 1 columns</p>\n",
       "</div>"
      ],
      "text/plain": [
       "                     GICIS324\n",
       "fecha_hora                   \n",
       "2020-01-04 00:00:00       0.0\n",
       "2020-01-04 01:00:00       0.0\n",
       "2020-01-04 02:00:00       0.0\n",
       "2020-01-04 03:00:00       0.0\n",
       "2020-01-04 04:00:00       0.0\n",
       "...                       ...\n",
       "2020-03-09 19:00:00       0.0\n",
       "2020-03-09 20:00:00       0.0\n",
       "2020-03-09 21:00:00       0.0\n",
       "2020-03-09 22:00:00       0.0\n",
       "2020-03-09 23:00:00       0.0\n",
       "\n",
       "[1584 rows x 1 columns]"
      ]
     },
     "execution_count": 8,
     "metadata": {},
     "output_type": "execute_result"
    }
   ],
   "source": [
    "df2 = df.drop(['hora'], axis=1)\n",
    "df2"
   ]
  },
  {
   "cell_type": "markdown",
   "metadata": {},
   "source": [
    "***"
   ]
  },
  {
   "cell_type": "code",
   "execution_count": 9,
   "metadata": {
    "ExecuteTime": {
     "end_time": "2020-05-04T20:15:18.038819Z",
     "start_time": "2020-05-04T20:15:18.021387Z"
    }
   },
   "outputs": [],
   "source": [
    "#Seleccion de y_train y y_test\n",
    "  \n",
    "n = 1 #numero de dias a simular\n",
    "test = (df.iloc[-(1*24):,:])   # INFO DE TEST (n DIAS)\n",
    "train = df.drop(df.index[:(1*24)]) # QUITANDO TEST PARA TRAIN"
   ]
  },
  {
   "cell_type": "code",
   "execution_count": 10,
   "metadata": {
    "ExecuteTime": {
     "end_time": "2020-05-04T20:15:18.086867Z",
     "start_time": "2020-05-04T20:15:18.047841Z"
    },
    "scrolled": true
   },
   "outputs": [
    {
     "data": {
      "text/html": [
       "<div>\n",
       "<style scoped>\n",
       "    .dataframe tbody tr th:only-of-type {\n",
       "        vertical-align: middle;\n",
       "    }\n",
       "\n",
       "    .dataframe tbody tr th {\n",
       "        vertical-align: top;\n",
       "    }\n",
       "\n",
       "    .dataframe thead th {\n",
       "        text-align: right;\n",
       "    }\n",
       "</style>\n",
       "<table border=\"1\" class=\"dataframe\">\n",
       "  <thead>\n",
       "    <tr style=\"text-align: right;\">\n",
       "      <th></th>\n",
       "      <th>hora</th>\n",
       "      <th>GICIS324</th>\n",
       "    </tr>\n",
       "    <tr>\n",
       "      <th>fecha_hora</th>\n",
       "      <th></th>\n",
       "      <th></th>\n",
       "    </tr>\n",
       "  </thead>\n",
       "  <tbody>\n",
       "    <tr>\n",
       "      <td>2020-01-05 00:00:00</td>\n",
       "      <td>1</td>\n",
       "      <td>0.0</td>\n",
       "    </tr>\n",
       "    <tr>\n",
       "      <td>2020-01-05 01:00:00</td>\n",
       "      <td>2</td>\n",
       "      <td>0.0</td>\n",
       "    </tr>\n",
       "    <tr>\n",
       "      <td>2020-01-05 02:00:00</td>\n",
       "      <td>3</td>\n",
       "      <td>0.0</td>\n",
       "    </tr>\n",
       "    <tr>\n",
       "      <td>2020-01-05 03:00:00</td>\n",
       "      <td>4</td>\n",
       "      <td>0.0</td>\n",
       "    </tr>\n",
       "    <tr>\n",
       "      <td>2020-01-05 04:00:00</td>\n",
       "      <td>5</td>\n",
       "      <td>0.0</td>\n",
       "    </tr>\n",
       "    <tr>\n",
       "      <td>...</td>\n",
       "      <td>...</td>\n",
       "      <td>...</td>\n",
       "    </tr>\n",
       "    <tr>\n",
       "      <td>2020-03-09 19:00:00</td>\n",
       "      <td>20</td>\n",
       "      <td>0.0</td>\n",
       "    </tr>\n",
       "    <tr>\n",
       "      <td>2020-03-09 20:00:00</td>\n",
       "      <td>21</td>\n",
       "      <td>0.0</td>\n",
       "    </tr>\n",
       "    <tr>\n",
       "      <td>2020-03-09 21:00:00</td>\n",
       "      <td>22</td>\n",
       "      <td>0.0</td>\n",
       "    </tr>\n",
       "    <tr>\n",
       "      <td>2020-03-09 22:00:00</td>\n",
       "      <td>23</td>\n",
       "      <td>0.0</td>\n",
       "    </tr>\n",
       "    <tr>\n",
       "      <td>2020-03-09 23:00:00</td>\n",
       "      <td>24</td>\n",
       "      <td>0.0</td>\n",
       "    </tr>\n",
       "  </tbody>\n",
       "</table>\n",
       "<p>1560 rows × 2 columns</p>\n",
       "</div>"
      ],
      "text/plain": [
       "                     hora  GICIS324\n",
       "fecha_hora                         \n",
       "2020-01-05 00:00:00     1       0.0\n",
       "2020-01-05 01:00:00     2       0.0\n",
       "2020-01-05 02:00:00     3       0.0\n",
       "2020-01-05 03:00:00     4       0.0\n",
       "2020-01-05 04:00:00     5       0.0\n",
       "...                   ...       ...\n",
       "2020-03-09 19:00:00    20       0.0\n",
       "2020-03-09 20:00:00    21       0.0\n",
       "2020-03-09 21:00:00    22       0.0\n",
       "2020-03-09 22:00:00    23       0.0\n",
       "2020-03-09 23:00:00    24       0.0\n",
       "\n",
       "[1560 rows x 2 columns]"
      ]
     },
     "execution_count": 10,
     "metadata": {},
     "output_type": "execute_result"
    }
   ],
   "source": [
    "train"
   ]
  },
  {
   "cell_type": "code",
   "execution_count": 11,
   "metadata": {
    "ExecuteTime": {
     "end_time": "2020-05-04T20:15:18.119601Z",
     "start_time": "2020-05-04T20:15:18.090615Z"
    }
   },
   "outputs": [
    {
     "data": {
      "text/plain": [
       "hora          7.0\n",
       "GICIS324    480.0\n",
       "Name: 2020-01-05 06:00:00, dtype: float64"
      ]
     },
     "execution_count": 11,
     "metadata": {},
     "output_type": "execute_result"
    }
   ],
   "source": [
    "train.iloc[6]"
   ]
  },
  {
   "cell_type": "code",
   "execution_count": 12,
   "metadata": {
    "ExecuteTime": {
     "end_time": "2020-05-04T20:15:18.186185Z",
     "start_time": "2020-05-04T20:15:18.124155Z"
    },
    "scrolled": true
   },
   "outputs": [
    {
     "data": {
      "text/html": [
       "<div>\n",
       "<style scoped>\n",
       "    .dataframe tbody tr th:only-of-type {\n",
       "        vertical-align: middle;\n",
       "    }\n",
       "\n",
       "    .dataframe tbody tr th {\n",
       "        vertical-align: top;\n",
       "    }\n",
       "\n",
       "    .dataframe thead th {\n",
       "        text-align: right;\n",
       "    }\n",
       "</style>\n",
       "<table border=\"1\" class=\"dataframe\">\n",
       "  <thead>\n",
       "    <tr style=\"text-align: right;\">\n",
       "      <th></th>\n",
       "      <th>hora</th>\n",
       "      <th>GICIS324</th>\n",
       "    </tr>\n",
       "    <tr>\n",
       "      <th>fecha_hora</th>\n",
       "      <th></th>\n",
       "      <th></th>\n",
       "    </tr>\n",
       "  </thead>\n",
       "  <tbody>\n",
       "    <tr>\n",
       "      <td>2020-03-09 00:00:00</td>\n",
       "      <td>1</td>\n",
       "      <td>0.0</td>\n",
       "    </tr>\n",
       "    <tr>\n",
       "      <td>2020-03-09 01:00:00</td>\n",
       "      <td>2</td>\n",
       "      <td>0.0</td>\n",
       "    </tr>\n",
       "    <tr>\n",
       "      <td>2020-03-09 02:00:00</td>\n",
       "      <td>3</td>\n",
       "      <td>0.0</td>\n",
       "    </tr>\n",
       "    <tr>\n",
       "      <td>2020-03-09 03:00:00</td>\n",
       "      <td>4</td>\n",
       "      <td>0.0</td>\n",
       "    </tr>\n",
       "    <tr>\n",
       "      <td>2020-03-09 04:00:00</td>\n",
       "      <td>5</td>\n",
       "      <td>0.0</td>\n",
       "    </tr>\n",
       "    <tr>\n",
       "      <td>2020-03-09 05:00:00</td>\n",
       "      <td>6</td>\n",
       "      <td>0.0</td>\n",
       "    </tr>\n",
       "    <tr>\n",
       "      <td>2020-03-09 06:00:00</td>\n",
       "      <td>7</td>\n",
       "      <td>0.0</td>\n",
       "    </tr>\n",
       "    <tr>\n",
       "      <td>2020-03-09 07:00:00</td>\n",
       "      <td>8</td>\n",
       "      <td>3573.0</td>\n",
       "    </tr>\n",
       "    <tr>\n",
       "      <td>2020-03-09 08:00:00</td>\n",
       "      <td>9</td>\n",
       "      <td>15060.0</td>\n",
       "    </tr>\n",
       "    <tr>\n",
       "      <td>2020-03-09 09:00:00</td>\n",
       "      <td>10</td>\n",
       "      <td>24463.0</td>\n",
       "    </tr>\n",
       "    <tr>\n",
       "      <td>2020-03-09 10:00:00</td>\n",
       "      <td>11</td>\n",
       "      <td>27349.0</td>\n",
       "    </tr>\n",
       "    <tr>\n",
       "      <td>2020-03-09 11:00:00</td>\n",
       "      <td>12</td>\n",
       "      <td>27057.0</td>\n",
       "    </tr>\n",
       "    <tr>\n",
       "      <td>2020-03-09 12:00:00</td>\n",
       "      <td>13</td>\n",
       "      <td>27367.0</td>\n",
       "    </tr>\n",
       "    <tr>\n",
       "      <td>2020-03-09 13:00:00</td>\n",
       "      <td>14</td>\n",
       "      <td>24973.0</td>\n",
       "    </tr>\n",
       "    <tr>\n",
       "      <td>2020-03-09 14:00:00</td>\n",
       "      <td>15</td>\n",
       "      <td>26265.0</td>\n",
       "    </tr>\n",
       "    <tr>\n",
       "      <td>2020-03-09 15:00:00</td>\n",
       "      <td>16</td>\n",
       "      <td>21337.0</td>\n",
       "    </tr>\n",
       "    <tr>\n",
       "      <td>2020-03-09 16:00:00</td>\n",
       "      <td>17</td>\n",
       "      <td>12647.0</td>\n",
       "    </tr>\n",
       "    <tr>\n",
       "      <td>2020-03-09 17:00:00</td>\n",
       "      <td>18</td>\n",
       "      <td>2936.0</td>\n",
       "    </tr>\n",
       "    <tr>\n",
       "      <td>2020-03-09 18:00:00</td>\n",
       "      <td>19</td>\n",
       "      <td>522.0</td>\n",
       "    </tr>\n",
       "    <tr>\n",
       "      <td>2020-03-09 19:00:00</td>\n",
       "      <td>20</td>\n",
       "      <td>0.0</td>\n",
       "    </tr>\n",
       "    <tr>\n",
       "      <td>2020-03-09 20:00:00</td>\n",
       "      <td>21</td>\n",
       "      <td>0.0</td>\n",
       "    </tr>\n",
       "    <tr>\n",
       "      <td>2020-03-09 21:00:00</td>\n",
       "      <td>22</td>\n",
       "      <td>0.0</td>\n",
       "    </tr>\n",
       "    <tr>\n",
       "      <td>2020-03-09 22:00:00</td>\n",
       "      <td>23</td>\n",
       "      <td>0.0</td>\n",
       "    </tr>\n",
       "    <tr>\n",
       "      <td>2020-03-09 23:00:00</td>\n",
       "      <td>24</td>\n",
       "      <td>0.0</td>\n",
       "    </tr>\n",
       "  </tbody>\n",
       "</table>\n",
       "</div>"
      ],
      "text/plain": [
       "                     hora  GICIS324\n",
       "fecha_hora                         \n",
       "2020-03-09 00:00:00     1       0.0\n",
       "2020-03-09 01:00:00     2       0.0\n",
       "2020-03-09 02:00:00     3       0.0\n",
       "2020-03-09 03:00:00     4       0.0\n",
       "2020-03-09 04:00:00     5       0.0\n",
       "2020-03-09 05:00:00     6       0.0\n",
       "2020-03-09 06:00:00     7       0.0\n",
       "2020-03-09 07:00:00     8    3573.0\n",
       "2020-03-09 08:00:00     9   15060.0\n",
       "2020-03-09 09:00:00    10   24463.0\n",
       "2020-03-09 10:00:00    11   27349.0\n",
       "2020-03-09 11:00:00    12   27057.0\n",
       "2020-03-09 12:00:00    13   27367.0\n",
       "2020-03-09 13:00:00    14   24973.0\n",
       "2020-03-09 14:00:00    15   26265.0\n",
       "2020-03-09 15:00:00    16   21337.0\n",
       "2020-03-09 16:00:00    17   12647.0\n",
       "2020-03-09 17:00:00    18    2936.0\n",
       "2020-03-09 18:00:00    19     522.0\n",
       "2020-03-09 19:00:00    20       0.0\n",
       "2020-03-09 20:00:00    21       0.0\n",
       "2020-03-09 21:00:00    22       0.0\n",
       "2020-03-09 22:00:00    23       0.0\n",
       "2020-03-09 23:00:00    24       0.0"
      ]
     },
     "execution_count": 12,
     "metadata": {},
     "output_type": "execute_result"
    }
   ],
   "source": [
    "test"
   ]
  },
  {
   "cell_type": "code",
   "execution_count": 13,
   "metadata": {
    "ExecuteTime": {
     "end_time": "2020-05-04T20:15:31.797809Z",
     "start_time": "2020-05-04T20:15:18.228942Z"
    }
   },
   "outputs": [
    {
     "data": {
      "text/html": [
       "<div>\n",
       "<style scoped>\n",
       "    .dataframe tbody tr th:only-of-type {\n",
       "        vertical-align: middle;\n",
       "    }\n",
       "\n",
       "    .dataframe tbody tr th {\n",
       "        vertical-align: top;\n",
       "    }\n",
       "\n",
       "    .dataframe thead th {\n",
       "        text-align: right;\n",
       "    }\n",
       "</style>\n",
       "<table border=\"1\" class=\"dataframe\">\n",
       "  <thead>\n",
       "    <tr style=\"text-align: right;\">\n",
       "      <th></th>\n",
       "      <th>Hora 1</th>\n",
       "      <th>Hora 2</th>\n",
       "      <th>Hora 3</th>\n",
       "      <th>Hora 4</th>\n",
       "      <th>Hora 5</th>\n",
       "      <th>Hora 6</th>\n",
       "      <th>Hora 7</th>\n",
       "      <th>Hora 8</th>\n",
       "      <th>Hora 9</th>\n",
       "      <th>Hora 10</th>\n",
       "      <th>...</th>\n",
       "      <th>Hora 15</th>\n",
       "      <th>Hora 16</th>\n",
       "      <th>Hora 17</th>\n",
       "      <th>Hora 18</th>\n",
       "      <th>Hora 19</th>\n",
       "      <th>Hora 20</th>\n",
       "      <th>Hora 21</th>\n",
       "      <th>Hora 22</th>\n",
       "      <th>Hora 23</th>\n",
       "      <th>Hora 24</th>\n",
       "    </tr>\n",
       "  </thead>\n",
       "  <tbody>\n",
       "    <tr>\n",
       "      <td>0</td>\n",
       "      <td>0.0</td>\n",
       "      <td>0.0</td>\n",
       "      <td>0.0</td>\n",
       "      <td>0.0</td>\n",
       "      <td>0.0</td>\n",
       "      <td>0.0</td>\n",
       "      <td>480.0</td>\n",
       "      <td>1143.0</td>\n",
       "      <td>12866.0</td>\n",
       "      <td>15061.0</td>\n",
       "      <td>...</td>\n",
       "      <td>24918.0</td>\n",
       "      <td>23315.0</td>\n",
       "      <td>18742.0</td>\n",
       "      <td>3525.0</td>\n",
       "      <td>554.0</td>\n",
       "      <td>0.0</td>\n",
       "      <td>0.0</td>\n",
       "      <td>0.0</td>\n",
       "      <td>0.0</td>\n",
       "      <td>0.0</td>\n",
       "    </tr>\n",
       "    <tr>\n",
       "      <td>1</td>\n",
       "      <td>0.0</td>\n",
       "      <td>0.0</td>\n",
       "      <td>0.0</td>\n",
       "      <td>0.0</td>\n",
       "      <td>0.0</td>\n",
       "      <td>0.0</td>\n",
       "      <td>470.0</td>\n",
       "      <td>938.0</td>\n",
       "      <td>8706.0</td>\n",
       "      <td>13985.0</td>\n",
       "      <td>...</td>\n",
       "      <td>22975.0</td>\n",
       "      <td>22235.0</td>\n",
       "      <td>20068.0</td>\n",
       "      <td>5643.0</td>\n",
       "      <td>605.0</td>\n",
       "      <td>0.0</td>\n",
       "      <td>0.0</td>\n",
       "      <td>0.0</td>\n",
       "      <td>0.0</td>\n",
       "      <td>0.0</td>\n",
       "    </tr>\n",
       "    <tr>\n",
       "      <td>2</td>\n",
       "      <td>0.0</td>\n",
       "      <td>0.0</td>\n",
       "      <td>0.0</td>\n",
       "      <td>0.0</td>\n",
       "      <td>0.0</td>\n",
       "      <td>0.0</td>\n",
       "      <td>466.0</td>\n",
       "      <td>619.0</td>\n",
       "      <td>2318.0</td>\n",
       "      <td>5605.0</td>\n",
       "      <td>...</td>\n",
       "      <td>23771.0</td>\n",
       "      <td>20814.0</td>\n",
       "      <td>13939.0</td>\n",
       "      <td>2439.0</td>\n",
       "      <td>609.0</td>\n",
       "      <td>0.0</td>\n",
       "      <td>0.0</td>\n",
       "      <td>0.0</td>\n",
       "      <td>0.0</td>\n",
       "      <td>0.0</td>\n",
       "    </tr>\n",
       "    <tr>\n",
       "      <td>3</td>\n",
       "      <td>0.0</td>\n",
       "      <td>0.0</td>\n",
       "      <td>0.0</td>\n",
       "      <td>0.0</td>\n",
       "      <td>0.0</td>\n",
       "      <td>0.0</td>\n",
       "      <td>430.0</td>\n",
       "      <td>626.0</td>\n",
       "      <td>7400.0</td>\n",
       "      <td>12723.0</td>\n",
       "      <td>...</td>\n",
       "      <td>12375.0</td>\n",
       "      <td>15333.0</td>\n",
       "      <td>13679.0</td>\n",
       "      <td>4097.0</td>\n",
       "      <td>522.0</td>\n",
       "      <td>0.0</td>\n",
       "      <td>0.0</td>\n",
       "      <td>0.0</td>\n",
       "      <td>0.0</td>\n",
       "      <td>0.0</td>\n",
       "    </tr>\n",
       "    <tr>\n",
       "      <td>4</td>\n",
       "      <td>0.0</td>\n",
       "      <td>0.0</td>\n",
       "      <td>0.0</td>\n",
       "      <td>0.0</td>\n",
       "      <td>0.0</td>\n",
       "      <td>0.0</td>\n",
       "      <td>470.0</td>\n",
       "      <td>1037.0</td>\n",
       "      <td>8912.0</td>\n",
       "      <td>13213.0</td>\n",
       "      <td>...</td>\n",
       "      <td>13110.0</td>\n",
       "      <td>13860.0</td>\n",
       "      <td>11768.0</td>\n",
       "      <td>8421.0</td>\n",
       "      <td>715.0</td>\n",
       "      <td>0.0</td>\n",
       "      <td>0.0</td>\n",
       "      <td>0.0</td>\n",
       "      <td>0.0</td>\n",
       "      <td>0.0</td>\n",
       "    </tr>\n",
       "    <tr>\n",
       "      <td>...</td>\n",
       "      <td>...</td>\n",
       "      <td>...</td>\n",
       "      <td>...</td>\n",
       "      <td>...</td>\n",
       "      <td>...</td>\n",
       "      <td>...</td>\n",
       "      <td>...</td>\n",
       "      <td>...</td>\n",
       "      <td>...</td>\n",
       "      <td>...</td>\n",
       "      <td>...</td>\n",
       "      <td>...</td>\n",
       "      <td>...</td>\n",
       "      <td>...</td>\n",
       "      <td>...</td>\n",
       "      <td>...</td>\n",
       "      <td>...</td>\n",
       "      <td>...</td>\n",
       "      <td>...</td>\n",
       "      <td>...</td>\n",
       "      <td>...</td>\n",
       "    </tr>\n",
       "    <tr>\n",
       "      <td>59</td>\n",
       "      <td>0.0</td>\n",
       "      <td>0.0</td>\n",
       "      <td>0.0</td>\n",
       "      <td>0.0</td>\n",
       "      <td>0.0</td>\n",
       "      <td>0.0</td>\n",
       "      <td>0.0</td>\n",
       "      <td>2800.0</td>\n",
       "      <td>12584.0</td>\n",
       "      <td>21168.0</td>\n",
       "      <td>...</td>\n",
       "      <td>25315.0</td>\n",
       "      <td>17958.0</td>\n",
       "      <td>11104.0</td>\n",
       "      <td>8374.0</td>\n",
       "      <td>1455.0</td>\n",
       "      <td>0.0</td>\n",
       "      <td>0.0</td>\n",
       "      <td>0.0</td>\n",
       "      <td>0.0</td>\n",
       "      <td>0.0</td>\n",
       "    </tr>\n",
       "    <tr>\n",
       "      <td>60</td>\n",
       "      <td>0.0</td>\n",
       "      <td>0.0</td>\n",
       "      <td>0.0</td>\n",
       "      <td>0.0</td>\n",
       "      <td>0.0</td>\n",
       "      <td>0.0</td>\n",
       "      <td>0.0</td>\n",
       "      <td>3042.0</td>\n",
       "      <td>8473.0</td>\n",
       "      <td>15002.0</td>\n",
       "      <td>...</td>\n",
       "      <td>23752.0</td>\n",
       "      <td>22490.0</td>\n",
       "      <td>21688.0</td>\n",
       "      <td>13482.0</td>\n",
       "      <td>4470.0</td>\n",
       "      <td>0.0</td>\n",
       "      <td>0.0</td>\n",
       "      <td>0.0</td>\n",
       "      <td>0.0</td>\n",
       "      <td>0.0</td>\n",
       "    </tr>\n",
       "    <tr>\n",
       "      <td>61</td>\n",
       "      <td>0.0</td>\n",
       "      <td>0.0</td>\n",
       "      <td>0.0</td>\n",
       "      <td>0.0</td>\n",
       "      <td>0.0</td>\n",
       "      <td>0.0</td>\n",
       "      <td>0.0</td>\n",
       "      <td>1269.0</td>\n",
       "      <td>10084.0</td>\n",
       "      <td>18770.0</td>\n",
       "      <td>...</td>\n",
       "      <td>27213.0</td>\n",
       "      <td>21334.0</td>\n",
       "      <td>15392.0</td>\n",
       "      <td>8829.0</td>\n",
       "      <td>1976.0</td>\n",
       "      <td>0.0</td>\n",
       "      <td>0.0</td>\n",
       "      <td>0.0</td>\n",
       "      <td>0.0</td>\n",
       "      <td>0.0</td>\n",
       "    </tr>\n",
       "    <tr>\n",
       "      <td>62</td>\n",
       "      <td>0.0</td>\n",
       "      <td>0.0</td>\n",
       "      <td>0.0</td>\n",
       "      <td>0.0</td>\n",
       "      <td>0.0</td>\n",
       "      <td>0.0</td>\n",
       "      <td>0.0</td>\n",
       "      <td>2583.0</td>\n",
       "      <td>6484.0</td>\n",
       "      <td>13096.0</td>\n",
       "      <td>...</td>\n",
       "      <td>23736.0</td>\n",
       "      <td>19213.0</td>\n",
       "      <td>17187.0</td>\n",
       "      <td>15516.0</td>\n",
       "      <td>2769.0</td>\n",
       "      <td>0.0</td>\n",
       "      <td>0.0</td>\n",
       "      <td>0.0</td>\n",
       "      <td>0.0</td>\n",
       "      <td>0.0</td>\n",
       "    </tr>\n",
       "    <tr>\n",
       "      <td>63</td>\n",
       "      <td>0.0</td>\n",
       "      <td>0.0</td>\n",
       "      <td>0.0</td>\n",
       "      <td>0.0</td>\n",
       "      <td>0.0</td>\n",
       "      <td>0.0</td>\n",
       "      <td>0.0</td>\n",
       "      <td>1101.0</td>\n",
       "      <td>6499.0</td>\n",
       "      <td>13573.0</td>\n",
       "      <td>...</td>\n",
       "      <td>14725.0</td>\n",
       "      <td>13001.0</td>\n",
       "      <td>20007.0</td>\n",
       "      <td>13555.0</td>\n",
       "      <td>2229.0</td>\n",
       "      <td>0.0</td>\n",
       "      <td>0.0</td>\n",
       "      <td>0.0</td>\n",
       "      <td>0.0</td>\n",
       "      <td>0.0</td>\n",
       "    </tr>\n",
       "  </tbody>\n",
       "</table>\n",
       "<p>64 rows × 24 columns</p>\n",
       "</div>"
      ],
      "text/plain": [
       "    Hora 1  Hora 2  Hora 3  Hora 4  Hora 5  Hora 6  Hora 7  Hora 8   Hora 9  \\\n",
       "0      0.0     0.0     0.0     0.0     0.0     0.0   480.0  1143.0  12866.0   \n",
       "1      0.0     0.0     0.0     0.0     0.0     0.0   470.0   938.0   8706.0   \n",
       "2      0.0     0.0     0.0     0.0     0.0     0.0   466.0   619.0   2318.0   \n",
       "3      0.0     0.0     0.0     0.0     0.0     0.0   430.0   626.0   7400.0   \n",
       "4      0.0     0.0     0.0     0.0     0.0     0.0   470.0  1037.0   8912.0   \n",
       "..     ...     ...     ...     ...     ...     ...     ...     ...      ...   \n",
       "59     0.0     0.0     0.0     0.0     0.0     0.0     0.0  2800.0  12584.0   \n",
       "60     0.0     0.0     0.0     0.0     0.0     0.0     0.0  3042.0   8473.0   \n",
       "61     0.0     0.0     0.0     0.0     0.0     0.0     0.0  1269.0  10084.0   \n",
       "62     0.0     0.0     0.0     0.0     0.0     0.0     0.0  2583.0   6484.0   \n",
       "63     0.0     0.0     0.0     0.0     0.0     0.0     0.0  1101.0   6499.0   \n",
       "\n",
       "    Hora 10  ...  Hora 15  Hora 16  Hora 17  Hora 18  Hora 19  Hora 20  \\\n",
       "0   15061.0  ...  24918.0  23315.0  18742.0   3525.0    554.0      0.0   \n",
       "1   13985.0  ...  22975.0  22235.0  20068.0   5643.0    605.0      0.0   \n",
       "2    5605.0  ...  23771.0  20814.0  13939.0   2439.0    609.0      0.0   \n",
       "3   12723.0  ...  12375.0  15333.0  13679.0   4097.0    522.0      0.0   \n",
       "4   13213.0  ...  13110.0  13860.0  11768.0   8421.0    715.0      0.0   \n",
       "..      ...  ...      ...      ...      ...      ...      ...      ...   \n",
       "59  21168.0  ...  25315.0  17958.0  11104.0   8374.0   1455.0      0.0   \n",
       "60  15002.0  ...  23752.0  22490.0  21688.0  13482.0   4470.0      0.0   \n",
       "61  18770.0  ...  27213.0  21334.0  15392.0   8829.0   1976.0      0.0   \n",
       "62  13096.0  ...  23736.0  19213.0  17187.0  15516.0   2769.0      0.0   \n",
       "63  13573.0  ...  14725.0  13001.0  20007.0  13555.0   2229.0      0.0   \n",
       "\n",
       "    Hora 21  Hora 22  Hora 23  Hora 24  \n",
       "0       0.0      0.0      0.0      0.0  \n",
       "1       0.0      0.0      0.0      0.0  \n",
       "2       0.0      0.0      0.0      0.0  \n",
       "3       0.0      0.0      0.0      0.0  \n",
       "4       0.0      0.0      0.0      0.0  \n",
       "..      ...      ...      ...      ...  \n",
       "59      0.0      0.0      0.0      0.0  \n",
       "60      0.0      0.0      0.0      0.0  \n",
       "61      0.0      0.0      0.0      0.0  \n",
       "62      0.0      0.0      0.0      0.0  \n",
       "63      0.0      0.0      0.0      0.0  \n",
       "\n",
       "[64 rows x 24 columns]"
      ]
     },
     "execution_count": 13,
     "metadata": {},
     "output_type": "execute_result"
    }
   ],
   "source": [
    "xhr = pd.DataFrame()\n",
    "for i in range(0,24):\n",
    "    hrs = [train.iloc[j][1] for j in range(0,len(train)) if train.iloc[j][0] == i+1 ] #pd.Series()\n",
    "    xhr['Hora '+str(i+1)] = hrs\n",
    "xhr = xhr.drop([xhr.index[-1]])\n",
    "xhr"
   ]
  },
  {
   "cell_type": "code",
   "execution_count": 14,
   "metadata": {
    "ExecuteTime": {
     "end_time": "2020-05-04T20:15:31.847552Z",
     "start_time": "2020-05-04T20:15:31.815036Z"
    }
   },
   "outputs": [],
   "source": [
    "train = train.drop(['hora'], axis=1)\n",
    "test = test.drop(['hora'], axis=1)"
   ]
  },
  {
   "cell_type": "markdown",
   "metadata": {},
   "source": [
    "*** \n",
    "# Modelo ARIMA"
   ]
  },
  {
   "cell_type": "code",
   "execution_count": 15,
   "metadata": {
    "ExecuteTime": {
     "end_time": "2020-05-04T20:20:03.295525Z",
     "start_time": "2020-05-04T20:15:31.870599Z"
    }
   },
   "outputs": [
    {
     "data": {
      "image/png": "[encoded data removed]",
      "text/plain": [
       "<Figure size 576x432 with 1 Axes>"
      ]
     },
     "metadata": {
      "needs_background": "light"
     },
     "output_type": "display_data"
    }
   ],
   "source": [
    "history = [x for x in train.values]\n",
    "predictions = []\n",
    "\n",
    "for t in range(0,24):\n",
    "    model = ARIMA(history, order=(8,1,2))\n",
    "    model_fit = model.fit()\n",
    "    output = model_fit.forecast()\n",
    "    yhat = output[0]\n",
    "    predictions.append(yhat)\n",
    "    obs = test.values[t]\n",
    "    history.append(obs)\n",
    "\n",
    "for i in range(0,len(test)): # SUPUESTO 1: SI NO HUBO PRODUCCIÓN UN DÍA ANTES, NO HABRÁ ESE DÍA. \n",
    "    if test.iloc[i].values == 0:\n",
    "        predictions[i] = 0\n",
    "    if predictions[i] < 0:\n",
    "        predictions[i] = 0\n",
    "        \n",
    "# plot\n",
    "plt.subplots(figsize=(8,6))\n",
    "plt.plot(test)\n",
    "plt.plot(predictions, color='red')\n",
    "plt.xticks(rotation=90)\n",
    "plt.show()"
   ]
  },
  {
   "cell_type": "code",
   "execution_count": 16,
   "metadata": {
    "ExecuteTime": {
     "end_time": "2020-05-04T20:20:03.384033Z",
     "start_time": "2020-05-04T20:20:03.299835Z"
    }
   },
   "outputs": [
    {
     "data": {
      "text/plain": [
       "0.32298022929508563"
      ]
     },
     "execution_count": 16,
     "metadata": {},
     "output_type": "execute_result"
    }
   ],
   "source": [
    "fvst = pd.DataFrame()\n",
    "fvst['real'] = test[columna].values.flatten()\n",
    "fvst['forecasts'] = 0\n",
    "for i in range(len(fvst)):\n",
    "    if predictions[i] == 0:\n",
    "        fvst['forecasts'][i] = predictions[i]\n",
    "    else:\n",
    "        fvst['forecasts'][i] = predictions[i].item()\n",
    "fvst['error'] = 0\n",
    "\n",
    "for i in range(len(fvst)):\n",
    "    fvst['error'][i] = np.abs((fvst['forecasts'][i]- fvst['real'][i])/(fvst['real'][i]))\n",
    "\n",
    "mea = np.mean(fvst.iloc[7:19,2])\n",
    "mea"
   ]
  },
  {
   "cell_type": "code",
   "execution_count": 17,
   "metadata": {
    "ExecuteTime": {
     "end_time": "2020-05-04T20:20:03.450883Z",
     "start_time": "2020-05-04T20:20:03.388441Z"
    }
   },
   "outputs": [
    {
     "name": "stdout",
     "output_type": "stream",
     "text": [
      "0.16149011464754282\n"
     ]
    },
    {
     "data": {
      "text/html": [
       "<div>\n",
       "<style scoped>\n",
       "    .dataframe tbody tr th:only-of-type {\n",
       "        vertical-align: middle;\n",
       "    }\n",
       "\n",
       "    .dataframe tbody tr th {\n",
       "        vertical-align: top;\n",
       "    }\n",
       "\n",
       "    .dataframe thead th {\n",
       "        text-align: right;\n",
       "    }\n",
       "</style>\n",
       "<table border=\"1\" class=\"dataframe\">\n",
       "  <thead>\n",
       "    <tr style=\"text-align: right;\">\n",
       "      <th></th>\n",
       "      <th>real</th>\n",
       "      <th>forecasts</th>\n",
       "      <th>error</th>\n",
       "    </tr>\n",
       "  </thead>\n",
       "  <tbody>\n",
       "    <tr>\n",
       "      <td>0</td>\n",
       "      <td>0.0</td>\n",
       "      <td>0</td>\n",
       "      <td>0.000000</td>\n",
       "    </tr>\n",
       "    <tr>\n",
       "      <td>1</td>\n",
       "      <td>0.0</td>\n",
       "      <td>0</td>\n",
       "      <td>0.000000</td>\n",
       "    </tr>\n",
       "    <tr>\n",
       "      <td>2</td>\n",
       "      <td>0.0</td>\n",
       "      <td>0</td>\n",
       "      <td>0.000000</td>\n",
       "    </tr>\n",
       "    <tr>\n",
       "      <td>3</td>\n",
       "      <td>0.0</td>\n",
       "      <td>0</td>\n",
       "      <td>0.000000</td>\n",
       "    </tr>\n",
       "    <tr>\n",
       "      <td>4</td>\n",
       "      <td>0.0</td>\n",
       "      <td>0</td>\n",
       "      <td>0.000000</td>\n",
       "    </tr>\n",
       "    <tr>\n",
       "      <td>5</td>\n",
       "      <td>0.0</td>\n",
       "      <td>0</td>\n",
       "      <td>0.000000</td>\n",
       "    </tr>\n",
       "    <tr>\n",
       "      <td>6</td>\n",
       "      <td>0.0</td>\n",
       "      <td>0</td>\n",
       "      <td>0.000000</td>\n",
       "    </tr>\n",
       "    <tr>\n",
       "      <td>7</td>\n",
       "      <td>3573.0</td>\n",
       "      <td>2527</td>\n",
       "      <td>0.292751</td>\n",
       "    </tr>\n",
       "    <tr>\n",
       "      <td>8</td>\n",
       "      <td>15060.0</td>\n",
       "      <td>7948</td>\n",
       "      <td>0.472244</td>\n",
       "    </tr>\n",
       "    <tr>\n",
       "      <td>9</td>\n",
       "      <td>24463.0</td>\n",
       "      <td>20952</td>\n",
       "      <td>0.143523</td>\n",
       "    </tr>\n",
       "    <tr>\n",
       "      <td>10</td>\n",
       "      <td>27349.0</td>\n",
       "      <td>27428</td>\n",
       "      <td>0.002889</td>\n",
       "    </tr>\n",
       "    <tr>\n",
       "      <td>11</td>\n",
       "      <td>27057.0</td>\n",
       "      <td>26950</td>\n",
       "      <td>0.003955</td>\n",
       "    </tr>\n",
       "    <tr>\n",
       "      <td>12</td>\n",
       "      <td>27367.0</td>\n",
       "      <td>25737</td>\n",
       "      <td>0.059561</td>\n",
       "    </tr>\n",
       "    <tr>\n",
       "      <td>13</td>\n",
       "      <td>24973.0</td>\n",
       "      <td>26384</td>\n",
       "      <td>0.056501</td>\n",
       "    </tr>\n",
       "    <tr>\n",
       "      <td>14</td>\n",
       "      <td>26265.0</td>\n",
       "      <td>22878</td>\n",
       "      <td>0.128955</td>\n",
       "    </tr>\n",
       "    <tr>\n",
       "      <td>15</td>\n",
       "      <td>21337.0</td>\n",
       "      <td>24867</td>\n",
       "      <td>0.165440</td>\n",
       "    </tr>\n",
       "    <tr>\n",
       "      <td>16</td>\n",
       "      <td>12647.0</td>\n",
       "      <td>16729</td>\n",
       "      <td>0.322764</td>\n",
       "    </tr>\n",
       "    <tr>\n",
       "      <td>17</td>\n",
       "      <td>2936.0</td>\n",
       "      <td>6539</td>\n",
       "      <td>1.227180</td>\n",
       "    </tr>\n",
       "    <tr>\n",
       "      <td>18</td>\n",
       "      <td>522.0</td>\n",
       "      <td>0</td>\n",
       "      <td>1.000000</td>\n",
       "    </tr>\n",
       "    <tr>\n",
       "      <td>19</td>\n",
       "      <td>0.0</td>\n",
       "      <td>0</td>\n",
       "      <td>0.000000</td>\n",
       "    </tr>\n",
       "    <tr>\n",
       "      <td>20</td>\n",
       "      <td>0.0</td>\n",
       "      <td>0</td>\n",
       "      <td>0.000000</td>\n",
       "    </tr>\n",
       "    <tr>\n",
       "      <td>21</td>\n",
       "      <td>0.0</td>\n",
       "      <td>0</td>\n",
       "      <td>0.000000</td>\n",
       "    </tr>\n",
       "    <tr>\n",
       "      <td>22</td>\n",
       "      <td>0.0</td>\n",
       "      <td>0</td>\n",
       "      <td>0.000000</td>\n",
       "    </tr>\n",
       "    <tr>\n",
       "      <td>23</td>\n",
       "      <td>0.0</td>\n",
       "      <td>0</td>\n",
       "      <td>0.000000</td>\n",
       "    </tr>\n",
       "  </tbody>\n",
       "</table>\n",
       "</div>"
      ],
      "text/plain": [
       "       real  forecasts     error\n",
       "0       0.0          0  0.000000\n",
       "1       0.0          0  0.000000\n",
       "2       0.0          0  0.000000\n",
       "3       0.0          0  0.000000\n",
       "4       0.0          0  0.000000\n",
       "5       0.0          0  0.000000\n",
       "6       0.0          0  0.000000\n",
       "7    3573.0       2527  0.292751\n",
       "8   15060.0       7948  0.472244\n",
       "9   24463.0      20952  0.143523\n",
       "10  27349.0      27428  0.002889\n",
       "11  27057.0      26950  0.003955\n",
       "12  27367.0      25737  0.059561\n",
       "13  24973.0      26384  0.056501\n",
       "14  26265.0      22878  0.128955\n",
       "15  21337.0      24867  0.165440\n",
       "16  12647.0      16729  0.322764\n",
       "17   2936.0       6539  1.227180\n",
       "18    522.0          0  1.000000\n",
       "19      0.0          0  0.000000\n",
       "20      0.0          0  0.000000\n",
       "21      0.0          0  0.000000\n",
       "22      0.0          0  0.000000\n",
       "23      0.0          0  0.000000"
      ]
     },
     "execution_count": 17,
     "metadata": {},
     "output_type": "execute_result"
    }
   ],
   "source": [
    "fvst = fvst.fillna(0)\n",
    "print(np.mean(fvst.error))\n",
    "fvst"
   ]
  },
  {
   "cell_type": "code",
   "execution_count": 18,
   "metadata": {
    "ExecuteTime": {
     "end_time": "2020-05-04T20:20:03.485076Z",
     "start_time": "2020-05-04T20:20:03.473325Z"
    }
   },
   "outputs": [
    {
     "data": {
      "text/plain": [
       "0.021587551334822454"
      ]
     },
     "execution_count": 18,
     "metadata": {},
     "output_type": "execute_result"
    }
   ],
   "source": [
    "np.abs((sum(fvst['forecasts']) - sum(fvst['real']))/sum(fvst['real']))"
   ]
  },
  {
   "cell_type": "markdown",
   "metadata": {},
   "source": [
    "# Tomando promedios anteriores:"
   ]
  },
  {
   "cell_type": "markdown",
   "metadata": {},
   "source": [
    "# Cambiando 7 8 y 9:"
   ]
  },
  {
   "cell_type": "code",
   "execution_count": 19,
   "metadata": {
    "ExecuteTime": {
     "end_time": "2020-05-04T20:20:03.520490Z",
     "start_time": "2020-05-04T20:20:03.508861Z"
    }
   },
   "outputs": [
    {
     "data": {
      "text/plain": [
       "2527"
      ]
     },
     "execution_count": 19,
     "metadata": {},
     "output_type": "execute_result"
    }
   ],
   "source": [
    "fvst.iloc[7,1]"
   ]
  },
  {
   "cell_type": "code",
   "execution_count": 20,
   "metadata": {
    "ExecuteTime": {
     "end_time": "2020-05-04T20:20:03.554872Z",
     "start_time": "2020-05-04T20:20:03.534381Z"
    }
   },
   "outputs": [
    {
     "data": {
      "text/plain": [
       "57    3414.0\n",
       "58    5270.0\n",
       "59    2800.0\n",
       "60    3042.0\n",
       "61    1269.0\n",
       "62    2583.0\n",
       "63    1101.0\n",
       "Name: Hora 8, dtype: float64"
      ]
     },
     "execution_count": 20,
     "metadata": {},
     "output_type": "execute_result"
    }
   ],
   "source": [
    "xhr['Hora 8'][-7:]"
   ]
  },
  {
   "cell_type": "code",
   "execution_count": 21,
   "metadata": {
    "ExecuteTime": {
     "end_time": "2020-05-04T20:20:03.610019Z",
     "start_time": "2020-05-04T20:20:03.561298Z"
    }
   },
   "outputs": [
    {
     "data": {
      "text/html": [
       "<div>\n",
       "<style scoped>\n",
       "    .dataframe tbody tr th:only-of-type {\n",
       "        vertical-align: middle;\n",
       "    }\n",
       "\n",
       "    .dataframe tbody tr th {\n",
       "        vertical-align: top;\n",
       "    }\n",
       "\n",
       "    .dataframe thead th {\n",
       "        text-align: right;\n",
       "    }\n",
       "</style>\n",
       "<table border=\"1\" class=\"dataframe\">\n",
       "  <thead>\n",
       "    <tr style=\"text-align: right;\">\n",
       "      <th></th>\n",
       "      <th>real</th>\n",
       "      <th>forecasts</th>\n",
       "      <th>error</th>\n",
       "    </tr>\n",
       "  </thead>\n",
       "  <tbody>\n",
       "    <tr>\n",
       "      <td>0</td>\n",
       "      <td>0.0</td>\n",
       "      <td>0.000000</td>\n",
       "      <td>0.000000</td>\n",
       "    </tr>\n",
       "    <tr>\n",
       "      <td>1</td>\n",
       "      <td>0.0</td>\n",
       "      <td>0.000000</td>\n",
       "      <td>0.000000</td>\n",
       "    </tr>\n",
       "    <tr>\n",
       "      <td>2</td>\n",
       "      <td>0.0</td>\n",
       "      <td>0.000000</td>\n",
       "      <td>0.000000</td>\n",
       "    </tr>\n",
       "    <tr>\n",
       "      <td>3</td>\n",
       "      <td>0.0</td>\n",
       "      <td>0.000000</td>\n",
       "      <td>0.000000</td>\n",
       "    </tr>\n",
       "    <tr>\n",
       "      <td>4</td>\n",
       "      <td>0.0</td>\n",
       "      <td>0.000000</td>\n",
       "      <td>0.000000</td>\n",
       "    </tr>\n",
       "    <tr>\n",
       "      <td>5</td>\n",
       "      <td>0.0</td>\n",
       "      <td>0.000000</td>\n",
       "      <td>0.000000</td>\n",
       "    </tr>\n",
       "    <tr>\n",
       "      <td>6</td>\n",
       "      <td>0.0</td>\n",
       "      <td>0.000000</td>\n",
       "      <td>0.000000</td>\n",
       "    </tr>\n",
       "    <tr>\n",
       "      <td>7</td>\n",
       "      <td>3573.0</td>\n",
       "      <td>2782.714286</td>\n",
       "      <td>0.221183</td>\n",
       "    </tr>\n",
       "    <tr>\n",
       "      <td>8</td>\n",
       "      <td>15060.0</td>\n",
       "      <td>11483.714286</td>\n",
       "      <td>0.237469</td>\n",
       "    </tr>\n",
       "    <tr>\n",
       "      <td>9</td>\n",
       "      <td>24463.0</td>\n",
       "      <td>19481.571429</td>\n",
       "      <td>0.203631</td>\n",
       "    </tr>\n",
       "    <tr>\n",
       "      <td>10</td>\n",
       "      <td>27349.0</td>\n",
       "      <td>27428.000000</td>\n",
       "      <td>0.002889</td>\n",
       "    </tr>\n",
       "    <tr>\n",
       "      <td>11</td>\n",
       "      <td>27057.0</td>\n",
       "      <td>26950.000000</td>\n",
       "      <td>0.003955</td>\n",
       "    </tr>\n",
       "    <tr>\n",
       "      <td>12</td>\n",
       "      <td>27367.0</td>\n",
       "      <td>25737.000000</td>\n",
       "      <td>0.059561</td>\n",
       "    </tr>\n",
       "    <tr>\n",
       "      <td>13</td>\n",
       "      <td>24973.0</td>\n",
       "      <td>26384.000000</td>\n",
       "      <td>0.056501</td>\n",
       "    </tr>\n",
       "    <tr>\n",
       "      <td>14</td>\n",
       "      <td>26265.0</td>\n",
       "      <td>22878.000000</td>\n",
       "      <td>0.128955</td>\n",
       "    </tr>\n",
       "    <tr>\n",
       "      <td>15</td>\n",
       "      <td>21337.0</td>\n",
       "      <td>24867.000000</td>\n",
       "      <td>0.165440</td>\n",
       "    </tr>\n",
       "    <tr>\n",
       "      <td>16</td>\n",
       "      <td>12647.0</td>\n",
       "      <td>16729.000000</td>\n",
       "      <td>0.322764</td>\n",
       "    </tr>\n",
       "    <tr>\n",
       "      <td>17</td>\n",
       "      <td>2936.0</td>\n",
       "      <td>6539.000000</td>\n",
       "      <td>1.227180</td>\n",
       "    </tr>\n",
       "    <tr>\n",
       "      <td>18</td>\n",
       "      <td>522.0</td>\n",
       "      <td>0.000000</td>\n",
       "      <td>1.000000</td>\n",
       "    </tr>\n",
       "    <tr>\n",
       "      <td>19</td>\n",
       "      <td>0.0</td>\n",
       "      <td>0.000000</td>\n",
       "      <td>0.000000</td>\n",
       "    </tr>\n",
       "    <tr>\n",
       "      <td>20</td>\n",
       "      <td>0.0</td>\n",
       "      <td>0.000000</td>\n",
       "      <td>0.000000</td>\n",
       "    </tr>\n",
       "    <tr>\n",
       "      <td>21</td>\n",
       "      <td>0.0</td>\n",
       "      <td>0.000000</td>\n",
       "      <td>0.000000</td>\n",
       "    </tr>\n",
       "    <tr>\n",
       "      <td>22</td>\n",
       "      <td>0.0</td>\n",
       "      <td>0.000000</td>\n",
       "      <td>0.000000</td>\n",
       "    </tr>\n",
       "    <tr>\n",
       "      <td>23</td>\n",
       "      <td>0.0</td>\n",
       "      <td>0.000000</td>\n",
       "      <td>0.000000</td>\n",
       "    </tr>\n",
       "  </tbody>\n",
       "</table>\n",
       "</div>"
      ],
      "text/plain": [
       "       real     forecasts     error\n",
       "0       0.0      0.000000  0.000000\n",
       "1       0.0      0.000000  0.000000\n",
       "2       0.0      0.000000  0.000000\n",
       "3       0.0      0.000000  0.000000\n",
       "4       0.0      0.000000  0.000000\n",
       "5       0.0      0.000000  0.000000\n",
       "6       0.0      0.000000  0.000000\n",
       "7    3573.0   2782.714286  0.221183\n",
       "8   15060.0  11483.714286  0.237469\n",
       "9   24463.0  19481.571429  0.203631\n",
       "10  27349.0  27428.000000  0.002889\n",
       "11  27057.0  26950.000000  0.003955\n",
       "12  27367.0  25737.000000  0.059561\n",
       "13  24973.0  26384.000000  0.056501\n",
       "14  26265.0  22878.000000  0.128955\n",
       "15  21337.0  24867.000000  0.165440\n",
       "16  12647.0  16729.000000  0.322764\n",
       "17   2936.0   6539.000000  1.227180\n",
       "18    522.0      0.000000  1.000000\n",
       "19      0.0      0.000000  0.000000\n",
       "20      0.0      0.000000  0.000000\n",
       "21      0.0      0.000000  0.000000\n",
       "22      0.0      0.000000  0.000000\n",
       "23      0.0      0.000000  0.000000"
      ]
     },
     "execution_count": 21,
     "metadata": {},
     "output_type": "execute_result"
    }
   ],
   "source": [
    "fvst.iloc[7,1] = np.mean(xhr['Hora 8'][-7:])\n",
    "fvst.iloc[8,1] = np.mean(xhr['Hora 9'][-7:])\n",
    "fvst.iloc[9,1] = np.mean(xhr['Hora 10'][-7:])\n",
    "\n",
    "for i in range(len(fvst)):\n",
    "    fvst['error'][i] = np.abs((fvst['forecasts'][i]- fvst['real'][i])/(fvst['real'][i]))\n",
    "\n",
    "fvst = fvst.fillna(0)\n",
    "fvst"
   ]
  },
  {
   "cell_type": "code",
   "execution_count": 22,
   "metadata": {
    "ExecuteTime": {
     "end_time": "2020-05-04T20:20:03.633419Z",
     "start_time": "2020-05-04T20:20:03.615287Z"
    }
   },
   "outputs": [
    {
     "data": {
      "text/plain": [
       "0.30246061043122663"
      ]
     },
     "execution_count": 22,
     "metadata": {},
     "output_type": "execute_result"
    }
   ],
   "source": [
    "mea = np.mean(fvst.iloc[7:19,2])\n",
    "mea"
   ]
  },
  {
   "cell_type": "code",
   "execution_count": 23,
   "metadata": {
    "ExecuteTime": {
     "end_time": "2020-05-04T20:20:03.659047Z",
     "start_time": "2020-05-04T20:20:03.635881Z"
    }
   },
   "outputs": [
    {
     "data": {
      "text/plain": [
       "0.01071885141115154"
      ]
     },
     "execution_count": 23,
     "metadata": {},
     "output_type": "execute_result"
    }
   ],
   "source": [
    "np.abs((sum(fvst['forecasts']) - sum(fvst['real']))/sum(fvst['real']))"
   ]
  },
  {
   "cell_type": "markdown",
   "metadata": {},
   "source": [
    "## Cambiando Hora 17, 18 y 19:"
   ]
  },
  {
   "cell_type": "code",
   "execution_count": 24,
   "metadata": {
    "ExecuteTime": {
     "end_time": "2020-05-04T20:20:03.717067Z",
     "start_time": "2020-05-04T20:20:03.676505Z"
    }
   },
   "outputs": [
    {
     "data": {
      "text/html": [
       "<div>\n",
       "<style scoped>\n",
       "    .dataframe tbody tr th:only-of-type {\n",
       "        vertical-align: middle;\n",
       "    }\n",
       "\n",
       "    .dataframe tbody tr th {\n",
       "        vertical-align: top;\n",
       "    }\n",
       "\n",
       "    .dataframe thead th {\n",
       "        text-align: right;\n",
       "    }\n",
       "</style>\n",
       "<table border=\"1\" class=\"dataframe\">\n",
       "  <thead>\n",
       "    <tr style=\"text-align: right;\">\n",
       "      <th></th>\n",
       "      <th>real</th>\n",
       "      <th>forecasts</th>\n",
       "      <th>error</th>\n",
       "    </tr>\n",
       "  </thead>\n",
       "  <tbody>\n",
       "    <tr>\n",
       "      <td>0</td>\n",
       "      <td>0.0</td>\n",
       "      <td>0.000000</td>\n",
       "      <td>0.000000</td>\n",
       "    </tr>\n",
       "    <tr>\n",
       "      <td>1</td>\n",
       "      <td>0.0</td>\n",
       "      <td>0.000000</td>\n",
       "      <td>0.000000</td>\n",
       "    </tr>\n",
       "    <tr>\n",
       "      <td>2</td>\n",
       "      <td>0.0</td>\n",
       "      <td>0.000000</td>\n",
       "      <td>0.000000</td>\n",
       "    </tr>\n",
       "    <tr>\n",
       "      <td>3</td>\n",
       "      <td>0.0</td>\n",
       "      <td>0.000000</td>\n",
       "      <td>0.000000</td>\n",
       "    </tr>\n",
       "    <tr>\n",
       "      <td>4</td>\n",
       "      <td>0.0</td>\n",
       "      <td>0.000000</td>\n",
       "      <td>0.000000</td>\n",
       "    </tr>\n",
       "    <tr>\n",
       "      <td>5</td>\n",
       "      <td>0.0</td>\n",
       "      <td>0.000000</td>\n",
       "      <td>0.000000</td>\n",
       "    </tr>\n",
       "    <tr>\n",
       "      <td>6</td>\n",
       "      <td>0.0</td>\n",
       "      <td>0.000000</td>\n",
       "      <td>0.000000</td>\n",
       "    </tr>\n",
       "    <tr>\n",
       "      <td>7</td>\n",
       "      <td>3573.0</td>\n",
       "      <td>2782.714286</td>\n",
       "      <td>0.221183</td>\n",
       "    </tr>\n",
       "    <tr>\n",
       "      <td>8</td>\n",
       "      <td>15060.0</td>\n",
       "      <td>11483.714286</td>\n",
       "      <td>0.237469</td>\n",
       "    </tr>\n",
       "    <tr>\n",
       "      <td>9</td>\n",
       "      <td>24463.0</td>\n",
       "      <td>19481.571429</td>\n",
       "      <td>0.203631</td>\n",
       "    </tr>\n",
       "    <tr>\n",
       "      <td>10</td>\n",
       "      <td>27349.0</td>\n",
       "      <td>27428.000000</td>\n",
       "      <td>0.002889</td>\n",
       "    </tr>\n",
       "    <tr>\n",
       "      <td>11</td>\n",
       "      <td>27057.0</td>\n",
       "      <td>26950.000000</td>\n",
       "      <td>0.003955</td>\n",
       "    </tr>\n",
       "    <tr>\n",
       "      <td>12</td>\n",
       "      <td>27367.0</td>\n",
       "      <td>25737.000000</td>\n",
       "      <td>0.059561</td>\n",
       "    </tr>\n",
       "    <tr>\n",
       "      <td>13</td>\n",
       "      <td>24973.0</td>\n",
       "      <td>26384.000000</td>\n",
       "      <td>0.056501</td>\n",
       "    </tr>\n",
       "    <tr>\n",
       "      <td>14</td>\n",
       "      <td>26265.0</td>\n",
       "      <td>22878.000000</td>\n",
       "      <td>0.128955</td>\n",
       "    </tr>\n",
       "    <tr>\n",
       "      <td>15</td>\n",
       "      <td>21337.0</td>\n",
       "      <td>24867.000000</td>\n",
       "      <td>0.165440</td>\n",
       "    </tr>\n",
       "    <tr>\n",
       "      <td>16</td>\n",
       "      <td>12647.0</td>\n",
       "      <td>18597.571429</td>\n",
       "      <td>0.470512</td>\n",
       "    </tr>\n",
       "    <tr>\n",
       "      <td>17</td>\n",
       "      <td>2936.0</td>\n",
       "      <td>12128.285714</td>\n",
       "      <td>3.130888</td>\n",
       "    </tr>\n",
       "    <tr>\n",
       "      <td>18</td>\n",
       "      <td>522.0</td>\n",
       "      <td>2716.857143</td>\n",
       "      <td>4.204707</td>\n",
       "    </tr>\n",
       "    <tr>\n",
       "      <td>19</td>\n",
       "      <td>0.0</td>\n",
       "      <td>0.000000</td>\n",
       "      <td>0.000000</td>\n",
       "    </tr>\n",
       "    <tr>\n",
       "      <td>20</td>\n",
       "      <td>0.0</td>\n",
       "      <td>0.000000</td>\n",
       "      <td>0.000000</td>\n",
       "    </tr>\n",
       "    <tr>\n",
       "      <td>21</td>\n",
       "      <td>0.0</td>\n",
       "      <td>0.000000</td>\n",
       "      <td>0.000000</td>\n",
       "    </tr>\n",
       "    <tr>\n",
       "      <td>22</td>\n",
       "      <td>0.0</td>\n",
       "      <td>0.000000</td>\n",
       "      <td>0.000000</td>\n",
       "    </tr>\n",
       "    <tr>\n",
       "      <td>23</td>\n",
       "      <td>0.0</td>\n",
       "      <td>0.000000</td>\n",
       "      <td>0.000000</td>\n",
       "    </tr>\n",
       "  </tbody>\n",
       "</table>\n",
       "</div>"
      ],
      "text/plain": [
       "       real     forecasts     error\n",
       "0       0.0      0.000000  0.000000\n",
       "1       0.0      0.000000  0.000000\n",
       "2       0.0      0.000000  0.000000\n",
       "3       0.0      0.000000  0.000000\n",
       "4       0.0      0.000000  0.000000\n",
       "5       0.0      0.000000  0.000000\n",
       "6       0.0      0.000000  0.000000\n",
       "7    3573.0   2782.714286  0.221183\n",
       "8   15060.0  11483.714286  0.237469\n",
       "9   24463.0  19481.571429  0.203631\n",
       "10  27349.0  27428.000000  0.002889\n",
       "11  27057.0  26950.000000  0.003955\n",
       "12  27367.0  25737.000000  0.059561\n",
       "13  24973.0  26384.000000  0.056501\n",
       "14  26265.0  22878.000000  0.128955\n",
       "15  21337.0  24867.000000  0.165440\n",
       "16  12647.0  18597.571429  0.470512\n",
       "17   2936.0  12128.285714  3.130888\n",
       "18    522.0   2716.857143  4.204707\n",
       "19      0.0      0.000000  0.000000\n",
       "20      0.0      0.000000  0.000000\n",
       "21      0.0      0.000000  0.000000\n",
       "22      0.0      0.000000  0.000000\n",
       "23      0.0      0.000000  0.000000"
      ]
     },
     "execution_count": 24,
     "metadata": {},
     "output_type": "execute_result"
    }
   ],
   "source": [
    "fvst.iloc[16,1] = np.mean(xhr['Hora 17'][-7:])\n",
    "fvst.iloc[17,1] = np.mean(xhr['Hora 18'][-7:])\n",
    "fvst.iloc[18,1] = np.mean(xhr['Hora 19'][-7:])\n",
    "\n",
    "for i in range(len(fvst)):\n",
    "    fvst['error'][i] = np.abs((fvst['forecasts'][i]- fvst['real'][i])/(fvst['real'][i]))\n",
    "\n",
    "fvst = fvst.fillna(0)\n",
    "fvst"
   ]
  },
  {
   "cell_type": "code",
   "execution_count": 25,
   "metadata": {
    "ExecuteTime": {
     "end_time": "2020-05-04T20:20:03.739674Z",
     "start_time": "2020-05-04T20:20:03.720113Z"
    }
   },
   "outputs": [
    {
     "data": {
      "text/plain": [
       "0.7404741966049277"
      ]
     },
     "execution_count": 25,
     "metadata": {},
     "output_type": "execute_result"
    }
   ],
   "source": [
    "mea = np.mean(fvst.iloc[7:19,2])\n",
    "mea"
   ]
  },
  {
   "cell_type": "code",
   "execution_count": 26,
   "metadata": {
    "ExecuteTime": {
     "end_time": "2020-05-04T20:20:03.785338Z",
     "start_time": "2020-05-04T20:20:03.744683Z"
    }
   },
   "outputs": [
    {
     "data": {
      "text/plain": [
       "0.03692695487084585"
      ]
     },
     "execution_count": 26,
     "metadata": {},
     "output_type": "execute_result"
    }
   ],
   "source": [
    "np.abs((sum(fvst['forecasts']) - sum(fvst['real']))/sum(fvst['real']))"
   ]
  },
  {
   "cell_type": "code",
   "execution_count": null,
   "metadata": {},
   "outputs": [],
   "source": []
  }
 ],
 "metadata": {
  "kernelspec": {
   "display_name": "Python 3",
   "language": "python",
   "name": "python3"
  },
  "language_info": {
   "codemirror_mode": {
    "name": "ipython",
    "version": 3
   },
   "file_extension": ".py",
   "mimetype": "text/x-python",
   "name": "python",
   "nbconvert_exporter": "python",
   "pygments_lexer": "ipython3",
   "version": "3.7.4"
  }
 },
 "nbformat": 4,
 "nbformat_minor": 2
}
