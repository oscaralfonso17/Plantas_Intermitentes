{
 "cells": [
  {
   "cell_type": "code",
   "execution_count": 1,
   "metadata": {
    "ExecuteTime": {
     "end_time": "2020-05-04T20:34:32.669239Z",
     "start_time": "2020-05-04T20:34:32.662480Z"
    }
   },
   "outputs": [
    {
     "name": "stdout",
     "output_type": "stream",
     "text": [
      "Planta a Analizar:  26\n"
     ]
    }
   ],
   "source": [
    "planta = 26\n",
    "print(\"Planta a Analizar: \", planta)"
   ]
  },
  {
   "cell_type": "code",
   "execution_count": 2,
   "metadata": {
    "ExecuteTime": {
     "end_time": "2020-05-04T20:34:36.152317Z",
     "start_time": "2020-05-04T20:34:32.688098Z"
    }
   },
   "outputs": [
    {
     "data": {
      "text/html": [
       " <style> .output {display: center; align-items: center; text-align: center; justify-content: center; } </style> "
      ],
      "text/plain": [
       "<IPython.core.display.HTML object>"
      ]
     },
     "metadata": {},
     "output_type": "display_data"
    }
   ],
   "source": [
    "import pandas as pd\n",
    "import numpy as np\n",
    "import matplotlib as mpl\n",
    "import scipy.stats as st\n",
    "import seaborn as sns\n",
    "import statsmodels.api as sm\n",
    "from datetime import datetime\n",
    "import matplotlib.pyplot as plt\n",
    "from statsmodels.tsa.arima_model import ARIMA\n",
    "import pmdarima as pm\n",
    "from pmdarima.model_selection import train_test_split\n",
    "import matplotlib.pyplot as plt\n",
    "import warnings\n",
    "warnings.filterwarnings(\"ignore\")\n",
    "from statsmodels.tsa.stattools import acf\n",
    "import datetime\n",
    "from statsmodels.graphics.tsaplots import plot_acf, plot_pacf\n",
    "from sklearn.metrics import mean_squared_error\n",
    "\n",
    "from numpy import inf\n",
    "\n",
    "from IPython.display import display, HTML\n",
    "display(HTML(\"\"\" <style> .output {display: center; align-items: center; text-align: center; justify-content: center; } </style> \"\"\"))"
   ]
  },
  {
   "cell_type": "code",
   "execution_count": 3,
   "metadata": {
    "ExecuteTime": {
     "end_time": "2020-05-04T20:34:59.579098Z",
     "start_time": "2020-05-04T20:34:36.168908Z"
    }
   },
   "outputs": [],
   "source": [
    "#Importación de datos\n",
    "datos = pd.read_excel('Generación Intermitente de la GCROC 2013-2020.xlsx', header=1)"
   ]
  },
  {
   "cell_type": "code",
   "execution_count": 4,
   "metadata": {
    "ExecuteTime": {
     "end_time": "2020-05-04T20:35:00.340619Z",
     "start_time": "2020-05-04T20:34:59.585046Z"
    }
   },
   "outputs": [],
   "source": [
    "numbers = datos.hora-1\n",
    "hours = [datetime.time(num).strftime(\"%H:00:00\") for num in numbers]\n",
    "datos['fecha'] = datos['fecha'].replace(0,np.nan).ffill()\n",
    "datos['fecha'] = pd.to_datetime(datos['fecha'])\n",
    "datos['fecha'] = datos['fecha'].dt.date\n",
    "datos['fecha_hora'] = datos[\"fecha\"].astype(str) + ' ' + hours\n",
    "#LIMPIEZA DE DATOS\n",
    "datos = datos.set_index(datos['fecha_hora'])\n",
    "datos = datos.loc['2020-01-01 00:00:00':]\n",
    "\n",
    "# datos = datos.drop(datos.index[-24:])"
   ]
  },
  {
   "cell_type": "code",
   "execution_count": 5,
   "metadata": {
    "ExecuteTime": {
     "end_time": "2020-05-04T20:35:00.362376Z",
     "start_time": "2020-05-04T20:35:00.355812Z"
    }
   },
   "outputs": [],
   "source": [
    "columns = ['GICIE301', 'GICIE302','GICIE303','GICIE304','GICIE305','GICIS306', 'GICIS307','GICIS308',\n",
    "          'GICIS309','GICIS310','GICIS311','GICIS312','GICIS313','GICIS314','GICIS315','GICIS316','GICIS317',\n",
    "          'GICIS318','GICIS319','GICIS320','GICIS321','GICIS322','GICIS323','GICIS324','GICIS325','GICIS326']"
   ]
  },
  {
   "cell_type": "code",
   "execution_count": 6,
   "metadata": {
    "ExecuteTime": {
     "end_time": "2020-05-04T20:35:00.380159Z",
     "start_time": "2020-05-04T20:35:00.367604Z"
    }
   },
   "outputs": [
    {
     "data": {
      "text/plain": [
       "'GICIS326'"
      ]
     },
     "execution_count": 6,
     "metadata": {},
     "output_type": "execute_result"
    }
   ],
   "source": [
    "n_periods = 5*24\n",
    "columna = columns[planta-1]\n",
    "columna"
   ]
  },
  {
   "cell_type": "code",
   "execution_count": 7,
   "metadata": {
    "ExecuteTime": {
     "end_time": "2020-05-04T20:35:00.423777Z",
     "start_time": "2020-05-04T20:35:00.389211Z"
    },
    "scrolled": false
   },
   "outputs": [
    {
     "data": {
      "text/html": [
       "<div>\n",
       "<style scoped>\n",
       "    .dataframe tbody tr th:only-of-type {\n",
       "        vertical-align: middle;\n",
       "    }\n",
       "\n",
       "    .dataframe tbody tr th {\n",
       "        vertical-align: top;\n",
       "    }\n",
       "\n",
       "    .dataframe thead th {\n",
       "        text-align: right;\n",
       "    }\n",
       "</style>\n",
       "<table border=\"1\" class=\"dataframe\">\n",
       "  <thead>\n",
       "    <tr style=\"text-align: right;\">\n",
       "      <th></th>\n",
       "      <th>hora</th>\n",
       "      <th>GICIS326</th>\n",
       "    </tr>\n",
       "    <tr>\n",
       "      <th>fecha_hora</th>\n",
       "      <th></th>\n",
       "      <th></th>\n",
       "    </tr>\n",
       "  </thead>\n",
       "  <tbody>\n",
       "    <tr>\n",
       "      <td>2020-02-27 00:00:00</td>\n",
       "      <td>1</td>\n",
       "      <td>0.0</td>\n",
       "    </tr>\n",
       "    <tr>\n",
       "      <td>2020-02-27 01:00:00</td>\n",
       "      <td>2</td>\n",
       "      <td>0.0</td>\n",
       "    </tr>\n",
       "    <tr>\n",
       "      <td>2020-02-27 02:00:00</td>\n",
       "      <td>3</td>\n",
       "      <td>0.0</td>\n",
       "    </tr>\n",
       "    <tr>\n",
       "      <td>2020-02-27 03:00:00</td>\n",
       "      <td>4</td>\n",
       "      <td>0.0</td>\n",
       "    </tr>\n",
       "    <tr>\n",
       "      <td>2020-02-27 04:00:00</td>\n",
       "      <td>5</td>\n",
       "      <td>0.0</td>\n",
       "    </tr>\n",
       "  </tbody>\n",
       "</table>\n",
       "</div>"
      ],
      "text/plain": [
       "                     hora  GICIS326\n",
       "fecha_hora                         \n",
       "2020-02-27 00:00:00     1       0.0\n",
       "2020-02-27 01:00:00     2       0.0\n",
       "2020-02-27 02:00:00     3       0.0\n",
       "2020-02-27 03:00:00     4       0.0\n",
       "2020-02-27 04:00:00     5       0.0"
      ]
     },
     "execution_count": 7,
     "metadata": {},
     "output_type": "execute_result"
    }
   ],
   "source": [
    "df = datos[['hora',columna]]\n",
    "df[columna] = (df[columna]) # para efectos de las tranformaciones logaritmicas(eliminar el 0)\n",
    "df = df.dropna()\n",
    "df.head()"
   ]
  },
  {
   "cell_type": "code",
   "execution_count": 8,
   "metadata": {
    "ExecuteTime": {
     "end_time": "2020-05-04T20:35:00.451551Z",
     "start_time": "2020-05-04T20:35:00.432659Z"
    }
   },
   "outputs": [
    {
     "data": {
      "text/html": [
       "<div>\n",
       "<style scoped>\n",
       "    .dataframe tbody tr th:only-of-type {\n",
       "        vertical-align: middle;\n",
       "    }\n",
       "\n",
       "    .dataframe tbody tr th {\n",
       "        vertical-align: top;\n",
       "    }\n",
       "\n",
       "    .dataframe thead th {\n",
       "        text-align: right;\n",
       "    }\n",
       "</style>\n",
       "<table border=\"1\" class=\"dataframe\">\n",
       "  <thead>\n",
       "    <tr style=\"text-align: right;\">\n",
       "      <th></th>\n",
       "      <th>GICIS326</th>\n",
       "    </tr>\n",
       "    <tr>\n",
       "      <th>fecha_hora</th>\n",
       "      <th></th>\n",
       "    </tr>\n",
       "  </thead>\n",
       "  <tbody>\n",
       "    <tr>\n",
       "      <td>2020-02-27 00:00:00</td>\n",
       "      <td>0.0</td>\n",
       "    </tr>\n",
       "    <tr>\n",
       "      <td>2020-02-27 01:00:00</td>\n",
       "      <td>0.0</td>\n",
       "    </tr>\n",
       "    <tr>\n",
       "      <td>2020-02-27 02:00:00</td>\n",
       "      <td>0.0</td>\n",
       "    </tr>\n",
       "    <tr>\n",
       "      <td>2020-02-27 03:00:00</td>\n",
       "      <td>0.0</td>\n",
       "    </tr>\n",
       "    <tr>\n",
       "      <td>2020-02-27 04:00:00</td>\n",
       "      <td>0.0</td>\n",
       "    </tr>\n",
       "    <tr>\n",
       "      <td>...</td>\n",
       "      <td>...</td>\n",
       "    </tr>\n",
       "    <tr>\n",
       "      <td>2020-03-09 19:00:00</td>\n",
       "      <td>0.0</td>\n",
       "    </tr>\n",
       "    <tr>\n",
       "      <td>2020-03-09 20:00:00</td>\n",
       "      <td>0.0</td>\n",
       "    </tr>\n",
       "    <tr>\n",
       "      <td>2020-03-09 21:00:00</td>\n",
       "      <td>0.0</td>\n",
       "    </tr>\n",
       "    <tr>\n",
       "      <td>2020-03-09 22:00:00</td>\n",
       "      <td>0.0</td>\n",
       "    </tr>\n",
       "    <tr>\n",
       "      <td>2020-03-09 23:00:00</td>\n",
       "      <td>0.0</td>\n",
       "    </tr>\n",
       "  </tbody>\n",
       "</table>\n",
       "<p>288 rows × 1 columns</p>\n",
       "</div>"
      ],
      "text/plain": [
       "                     GICIS326\n",
       "fecha_hora                   \n",
       "2020-02-27 00:00:00       0.0\n",
       "2020-02-27 01:00:00       0.0\n",
       "2020-02-27 02:00:00       0.0\n",
       "2020-02-27 03:00:00       0.0\n",
       "2020-02-27 04:00:00       0.0\n",
       "...                       ...\n",
       "2020-03-09 19:00:00       0.0\n",
       "2020-03-09 20:00:00       0.0\n",
       "2020-03-09 21:00:00       0.0\n",
       "2020-03-09 22:00:00       0.0\n",
       "2020-03-09 23:00:00       0.0\n",
       "\n",
       "[288 rows x 1 columns]"
      ]
     },
     "execution_count": 8,
     "metadata": {},
     "output_type": "execute_result"
    }
   ],
   "source": [
    "df2 = df.drop(['hora'], axis=1)\n",
    "df2"
   ]
  },
  {
   "cell_type": "markdown",
   "metadata": {},
   "source": [
    "***"
   ]
  },
  {
   "cell_type": "code",
   "execution_count": 9,
   "metadata": {
    "ExecuteTime": {
     "end_time": "2020-05-04T20:35:00.486987Z",
     "start_time": "2020-05-04T20:35:00.469767Z"
    }
   },
   "outputs": [],
   "source": [
    "#Seleccion de y_train y y_test\n",
    "  \n",
    "n = 1 #numero de dias a simular\n",
    "test = (df.iloc[-(1*24):,:])   # INFO DE TEST (n DIAS)\n",
    "train = df.drop(df.index[:(1*24)]) # QUITANDO TEST PARA TRAIN"
   ]
  },
  {
   "cell_type": "code",
   "execution_count": 10,
   "metadata": {
    "ExecuteTime": {
     "end_time": "2020-05-04T20:35:00.521640Z",
     "start_time": "2020-05-04T20:35:00.492299Z"
    },
    "scrolled": true
   },
   "outputs": [
    {
     "data": {
      "text/html": [
       "<div>\n",
       "<style scoped>\n",
       "    .dataframe tbody tr th:only-of-type {\n",
       "        vertical-align: middle;\n",
       "    }\n",
       "\n",
       "    .dataframe tbody tr th {\n",
       "        vertical-align: top;\n",
       "    }\n",
       "\n",
       "    .dataframe thead th {\n",
       "        text-align: right;\n",
       "    }\n",
       "</style>\n",
       "<table border=\"1\" class=\"dataframe\">\n",
       "  <thead>\n",
       "    <tr style=\"text-align: right;\">\n",
       "      <th></th>\n",
       "      <th>hora</th>\n",
       "      <th>GICIS326</th>\n",
       "    </tr>\n",
       "    <tr>\n",
       "      <th>fecha_hora</th>\n",
       "      <th></th>\n",
       "      <th></th>\n",
       "    </tr>\n",
       "  </thead>\n",
       "  <tbody>\n",
       "    <tr>\n",
       "      <td>2020-02-28 00:00:00</td>\n",
       "      <td>1</td>\n",
       "      <td>0.0</td>\n",
       "    </tr>\n",
       "    <tr>\n",
       "      <td>2020-02-28 01:00:00</td>\n",
       "      <td>2</td>\n",
       "      <td>0.0</td>\n",
       "    </tr>\n",
       "    <tr>\n",
       "      <td>2020-02-28 02:00:00</td>\n",
       "      <td>3</td>\n",
       "      <td>0.0</td>\n",
       "    </tr>\n",
       "    <tr>\n",
       "      <td>2020-02-28 03:00:00</td>\n",
       "      <td>4</td>\n",
       "      <td>0.0</td>\n",
       "    </tr>\n",
       "    <tr>\n",
       "      <td>2020-02-28 04:00:00</td>\n",
       "      <td>5</td>\n",
       "      <td>0.0</td>\n",
       "    </tr>\n",
       "    <tr>\n",
       "      <td>...</td>\n",
       "      <td>...</td>\n",
       "      <td>...</td>\n",
       "    </tr>\n",
       "    <tr>\n",
       "      <td>2020-03-09 19:00:00</td>\n",
       "      <td>20</td>\n",
       "      <td>0.0</td>\n",
       "    </tr>\n",
       "    <tr>\n",
       "      <td>2020-03-09 20:00:00</td>\n",
       "      <td>21</td>\n",
       "      <td>0.0</td>\n",
       "    </tr>\n",
       "    <tr>\n",
       "      <td>2020-03-09 21:00:00</td>\n",
       "      <td>22</td>\n",
       "      <td>0.0</td>\n",
       "    </tr>\n",
       "    <tr>\n",
       "      <td>2020-03-09 22:00:00</td>\n",
       "      <td>23</td>\n",
       "      <td>0.0</td>\n",
       "    </tr>\n",
       "    <tr>\n",
       "      <td>2020-03-09 23:00:00</td>\n",
       "      <td>24</td>\n",
       "      <td>0.0</td>\n",
       "    </tr>\n",
       "  </tbody>\n",
       "</table>\n",
       "<p>264 rows × 2 columns</p>\n",
       "</div>"
      ],
      "text/plain": [
       "                     hora  GICIS326\n",
       "fecha_hora                         \n",
       "2020-02-28 00:00:00     1       0.0\n",
       "2020-02-28 01:00:00     2       0.0\n",
       "2020-02-28 02:00:00     3       0.0\n",
       "2020-02-28 03:00:00     4       0.0\n",
       "2020-02-28 04:00:00     5       0.0\n",
       "...                   ...       ...\n",
       "2020-03-09 19:00:00    20       0.0\n",
       "2020-03-09 20:00:00    21       0.0\n",
       "2020-03-09 21:00:00    22       0.0\n",
       "2020-03-09 22:00:00    23       0.0\n",
       "2020-03-09 23:00:00    24       0.0\n",
       "\n",
       "[264 rows x 2 columns]"
      ]
     },
     "execution_count": 10,
     "metadata": {},
     "output_type": "execute_result"
    }
   ],
   "source": [
    "train"
   ]
  },
  {
   "cell_type": "code",
   "execution_count": 11,
   "metadata": {
    "ExecuteTime": {
     "end_time": "2020-05-04T20:35:00.551227Z",
     "start_time": "2020-05-04T20:35:00.534324Z"
    }
   },
   "outputs": [
    {
     "data": {
      "text/plain": [
       "hora        7.0\n",
       "GICIS326    0.0\n",
       "Name: 2020-02-28 06:00:00, dtype: float64"
      ]
     },
     "execution_count": 11,
     "metadata": {},
     "output_type": "execute_result"
    }
   ],
   "source": [
    "train.iloc[6]"
   ]
  },
  {
   "cell_type": "code",
   "execution_count": 12,
   "metadata": {
    "ExecuteTime": {
     "end_time": "2020-05-04T20:35:00.578913Z",
     "start_time": "2020-05-04T20:35:00.560365Z"
    },
    "scrolled": true
   },
   "outputs": [
    {
     "data": {
      "text/html": [
       "<div>\n",
       "<style scoped>\n",
       "    .dataframe tbody tr th:only-of-type {\n",
       "        vertical-align: middle;\n",
       "    }\n",
       "\n",
       "    .dataframe tbody tr th {\n",
       "        vertical-align: top;\n",
       "    }\n",
       "\n",
       "    .dataframe thead th {\n",
       "        text-align: right;\n",
       "    }\n",
       "</style>\n",
       "<table border=\"1\" class=\"dataframe\">\n",
       "  <thead>\n",
       "    <tr style=\"text-align: right;\">\n",
       "      <th></th>\n",
       "      <th>hora</th>\n",
       "      <th>GICIS326</th>\n",
       "    </tr>\n",
       "    <tr>\n",
       "      <th>fecha_hora</th>\n",
       "      <th></th>\n",
       "      <th></th>\n",
       "    </tr>\n",
       "  </thead>\n",
       "  <tbody>\n",
       "    <tr>\n",
       "      <td>2020-03-09 00:00:00</td>\n",
       "      <td>1</td>\n",
       "      <td>0.0</td>\n",
       "    </tr>\n",
       "    <tr>\n",
       "      <td>2020-03-09 01:00:00</td>\n",
       "      <td>2</td>\n",
       "      <td>0.0</td>\n",
       "    </tr>\n",
       "    <tr>\n",
       "      <td>2020-03-09 02:00:00</td>\n",
       "      <td>3</td>\n",
       "      <td>0.0</td>\n",
       "    </tr>\n",
       "    <tr>\n",
       "      <td>2020-03-09 03:00:00</td>\n",
       "      <td>4</td>\n",
       "      <td>0.0</td>\n",
       "    </tr>\n",
       "    <tr>\n",
       "      <td>2020-03-09 04:00:00</td>\n",
       "      <td>5</td>\n",
       "      <td>0.0</td>\n",
       "    </tr>\n",
       "    <tr>\n",
       "      <td>2020-03-09 05:00:00</td>\n",
       "      <td>6</td>\n",
       "      <td>0.0</td>\n",
       "    </tr>\n",
       "    <tr>\n",
       "      <td>2020-03-09 06:00:00</td>\n",
       "      <td>7</td>\n",
       "      <td>0.0</td>\n",
       "    </tr>\n",
       "    <tr>\n",
       "      <td>2020-03-09 07:00:00</td>\n",
       "      <td>8</td>\n",
       "      <td>773.0</td>\n",
       "    </tr>\n",
       "    <tr>\n",
       "      <td>2020-03-09 08:00:00</td>\n",
       "      <td>9</td>\n",
       "      <td>4191.0</td>\n",
       "    </tr>\n",
       "    <tr>\n",
       "      <td>2020-03-09 09:00:00</td>\n",
       "      <td>10</td>\n",
       "      <td>19440.0</td>\n",
       "    </tr>\n",
       "    <tr>\n",
       "      <td>2020-03-09 10:00:00</td>\n",
       "      <td>11</td>\n",
       "      <td>27491.0</td>\n",
       "    </tr>\n",
       "    <tr>\n",
       "      <td>2020-03-09 11:00:00</td>\n",
       "      <td>12</td>\n",
       "      <td>28914.0</td>\n",
       "    </tr>\n",
       "    <tr>\n",
       "      <td>2020-03-09 12:00:00</td>\n",
       "      <td>13</td>\n",
       "      <td>26239.0</td>\n",
       "    </tr>\n",
       "    <tr>\n",
       "      <td>2020-03-09 13:00:00</td>\n",
       "      <td>14</td>\n",
       "      <td>26079.0</td>\n",
       "    </tr>\n",
       "    <tr>\n",
       "      <td>2020-03-09 14:00:00</td>\n",
       "      <td>15</td>\n",
       "      <td>26950.0</td>\n",
       "    </tr>\n",
       "    <tr>\n",
       "      <td>2020-03-09 15:00:00</td>\n",
       "      <td>16</td>\n",
       "      <td>25201.0</td>\n",
       "    </tr>\n",
       "    <tr>\n",
       "      <td>2020-03-09 16:00:00</td>\n",
       "      <td>17</td>\n",
       "      <td>19048.0</td>\n",
       "    </tr>\n",
       "    <tr>\n",
       "      <td>2020-03-09 17:00:00</td>\n",
       "      <td>18</td>\n",
       "      <td>6788.0</td>\n",
       "    </tr>\n",
       "    <tr>\n",
       "      <td>2020-03-09 18:00:00</td>\n",
       "      <td>19</td>\n",
       "      <td>419.0</td>\n",
       "    </tr>\n",
       "    <tr>\n",
       "      <td>2020-03-09 19:00:00</td>\n",
       "      <td>20</td>\n",
       "      <td>0.0</td>\n",
       "    </tr>\n",
       "    <tr>\n",
       "      <td>2020-03-09 20:00:00</td>\n",
       "      <td>21</td>\n",
       "      <td>0.0</td>\n",
       "    </tr>\n",
       "    <tr>\n",
       "      <td>2020-03-09 21:00:00</td>\n",
       "      <td>22</td>\n",
       "      <td>0.0</td>\n",
       "    </tr>\n",
       "    <tr>\n",
       "      <td>2020-03-09 22:00:00</td>\n",
       "      <td>23</td>\n",
       "      <td>0.0</td>\n",
       "    </tr>\n",
       "    <tr>\n",
       "      <td>2020-03-09 23:00:00</td>\n",
       "      <td>24</td>\n",
       "      <td>0.0</td>\n",
       "    </tr>\n",
       "  </tbody>\n",
       "</table>\n",
       "</div>"
      ],
      "text/plain": [
       "                     hora  GICIS326\n",
       "fecha_hora                         \n",
       "2020-03-09 00:00:00     1       0.0\n",
       "2020-03-09 01:00:00     2       0.0\n",
       "2020-03-09 02:00:00     3       0.0\n",
       "2020-03-09 03:00:00     4       0.0\n",
       "2020-03-09 04:00:00     5       0.0\n",
       "2020-03-09 05:00:00     6       0.0\n",
       "2020-03-09 06:00:00     7       0.0\n",
       "2020-03-09 07:00:00     8     773.0\n",
       "2020-03-09 08:00:00     9    4191.0\n",
       "2020-03-09 09:00:00    10   19440.0\n",
       "2020-03-09 10:00:00    11   27491.0\n",
       "2020-03-09 11:00:00    12   28914.0\n",
       "2020-03-09 12:00:00    13   26239.0\n",
       "2020-03-09 13:00:00    14   26079.0\n",
       "2020-03-09 14:00:00    15   26950.0\n",
       "2020-03-09 15:00:00    16   25201.0\n",
       "2020-03-09 16:00:00    17   19048.0\n",
       "2020-03-09 17:00:00    18    6788.0\n",
       "2020-03-09 18:00:00    19     419.0\n",
       "2020-03-09 19:00:00    20       0.0\n",
       "2020-03-09 20:00:00    21       0.0\n",
       "2020-03-09 21:00:00    22       0.0\n",
       "2020-03-09 22:00:00    23       0.0\n",
       "2020-03-09 23:00:00    24       0.0"
      ]
     },
     "execution_count": 12,
     "metadata": {},
     "output_type": "execute_result"
    }
   ],
   "source": [
    "test"
   ]
  },
  {
   "cell_type": "code",
   "execution_count": 13,
   "metadata": {
    "ExecuteTime": {
     "end_time": "2020-05-04T20:35:03.871065Z",
     "start_time": "2020-05-04T20:35:00.589270Z"
    }
   },
   "outputs": [
    {
     "data": {
      "text/html": [
       "<div>\n",
       "<style scoped>\n",
       "    .dataframe tbody tr th:only-of-type {\n",
       "        vertical-align: middle;\n",
       "    }\n",
       "\n",
       "    .dataframe tbody tr th {\n",
       "        vertical-align: top;\n",
       "    }\n",
       "\n",
       "    .dataframe thead th {\n",
       "        text-align: right;\n",
       "    }\n",
       "</style>\n",
       "<table border=\"1\" class=\"dataframe\">\n",
       "  <thead>\n",
       "    <tr style=\"text-align: right;\">\n",
       "      <th></th>\n",
       "      <th>Hora 1</th>\n",
       "      <th>Hora 2</th>\n",
       "      <th>Hora 3</th>\n",
       "      <th>Hora 4</th>\n",
       "      <th>Hora 5</th>\n",
       "      <th>Hora 6</th>\n",
       "      <th>Hora 7</th>\n",
       "      <th>Hora 8</th>\n",
       "      <th>Hora 9</th>\n",
       "      <th>Hora 10</th>\n",
       "      <th>...</th>\n",
       "      <th>Hora 15</th>\n",
       "      <th>Hora 16</th>\n",
       "      <th>Hora 17</th>\n",
       "      <th>Hora 18</th>\n",
       "      <th>Hora 19</th>\n",
       "      <th>Hora 20</th>\n",
       "      <th>Hora 21</th>\n",
       "      <th>Hora 22</th>\n",
       "      <th>Hora 23</th>\n",
       "      <th>Hora 24</th>\n",
       "    </tr>\n",
       "  </thead>\n",
       "  <tbody>\n",
       "    <tr>\n",
       "      <td>0</td>\n",
       "      <td>0.0</td>\n",
       "      <td>0.0</td>\n",
       "      <td>0.0</td>\n",
       "      <td>0.0</td>\n",
       "      <td>0.0</td>\n",
       "      <td>0.0</td>\n",
       "      <td>0.0</td>\n",
       "      <td>0.000</td>\n",
       "      <td>0.0</td>\n",
       "      <td>0.00</td>\n",
       "      <td>...</td>\n",
       "      <td>0.00</td>\n",
       "      <td>0.0</td>\n",
       "      <td>0.00</td>\n",
       "      <td>0.00</td>\n",
       "      <td>0.0000</td>\n",
       "      <td>0.0</td>\n",
       "      <td>0.0</td>\n",
       "      <td>0.0</td>\n",
       "      <td>0.0</td>\n",
       "      <td>0.0</td>\n",
       "    </tr>\n",
       "    <tr>\n",
       "      <td>1</td>\n",
       "      <td>0.0</td>\n",
       "      <td>0.0</td>\n",
       "      <td>0.0</td>\n",
       "      <td>0.0</td>\n",
       "      <td>0.0</td>\n",
       "      <td>0.0</td>\n",
       "      <td>0.0</td>\n",
       "      <td>5309.000</td>\n",
       "      <td>20956.0</td>\n",
       "      <td>28217.00</td>\n",
       "      <td>...</td>\n",
       "      <td>25346.00</td>\n",
       "      <td>29999.0</td>\n",
       "      <td>28775.00</td>\n",
       "      <td>17877.00</td>\n",
       "      <td>3839.0000</td>\n",
       "      <td>0.0</td>\n",
       "      <td>0.0</td>\n",
       "      <td>0.0</td>\n",
       "      <td>0.0</td>\n",
       "      <td>0.0</td>\n",
       "    </tr>\n",
       "    <tr>\n",
       "      <td>2</td>\n",
       "      <td>0.0</td>\n",
       "      <td>0.0</td>\n",
       "      <td>0.0</td>\n",
       "      <td>0.0</td>\n",
       "      <td>0.0</td>\n",
       "      <td>0.0</td>\n",
       "      <td>0.0</td>\n",
       "      <td>0.000</td>\n",
       "      <td>0.0</td>\n",
       "      <td>0.00</td>\n",
       "      <td>...</td>\n",
       "      <td>0.00</td>\n",
       "      <td>0.0</td>\n",
       "      <td>0.00</td>\n",
       "      <td>0.00</td>\n",
       "      <td>0.0000</td>\n",
       "      <td>0.0</td>\n",
       "      <td>0.0</td>\n",
       "      <td>0.0</td>\n",
       "      <td>0.0</td>\n",
       "      <td>0.0</td>\n",
       "    </tr>\n",
       "    <tr>\n",
       "      <td>3</td>\n",
       "      <td>0.0</td>\n",
       "      <td>0.0</td>\n",
       "      <td>0.0</td>\n",
       "      <td>0.0</td>\n",
       "      <td>0.0</td>\n",
       "      <td>0.0</td>\n",
       "      <td>0.0</td>\n",
       "      <td>5309.000</td>\n",
       "      <td>20956.0</td>\n",
       "      <td>28217.00</td>\n",
       "      <td>...</td>\n",
       "      <td>25346.00</td>\n",
       "      <td>29999.0</td>\n",
       "      <td>28775.00</td>\n",
       "      <td>17877.00</td>\n",
       "      <td>3839.0000</td>\n",
       "      <td>0.0</td>\n",
       "      <td>0.0</td>\n",
       "      <td>0.0</td>\n",
       "      <td>0.0</td>\n",
       "      <td>0.0</td>\n",
       "    </tr>\n",
       "    <tr>\n",
       "      <td>4</td>\n",
       "      <td>0.0</td>\n",
       "      <td>0.0</td>\n",
       "      <td>0.0</td>\n",
       "      <td>0.0</td>\n",
       "      <td>0.0</td>\n",
       "      <td>0.0</td>\n",
       "      <td>0.0</td>\n",
       "      <td>6363.000</td>\n",
       "      <td>16859.0</td>\n",
       "      <td>23435.00</td>\n",
       "      <td>...</td>\n",
       "      <td>27886.00</td>\n",
       "      <td>24195.0</td>\n",
       "      <td>23811.00</td>\n",
       "      <td>12561.00</td>\n",
       "      <td>3597.0000</td>\n",
       "      <td>0.0</td>\n",
       "      <td>0.0</td>\n",
       "      <td>0.0</td>\n",
       "      <td>0.0</td>\n",
       "      <td>0.0</td>\n",
       "    </tr>\n",
       "    <tr>\n",
       "      <td>5</td>\n",
       "      <td>0.0</td>\n",
       "      <td>0.0</td>\n",
       "      <td>0.0</td>\n",
       "      <td>0.0</td>\n",
       "      <td>0.0</td>\n",
       "      <td>0.0</td>\n",
       "      <td>0.0</td>\n",
       "      <td>4697.000</td>\n",
       "      <td>16950.0</td>\n",
       "      <td>26090.00</td>\n",
       "      <td>...</td>\n",
       "      <td>27073.00</td>\n",
       "      <td>24975.0</td>\n",
       "      <td>21559.00</td>\n",
       "      <td>13017.00</td>\n",
       "      <td>3019.0000</td>\n",
       "      <td>0.0</td>\n",
       "      <td>0.0</td>\n",
       "      <td>0.0</td>\n",
       "      <td>0.0</td>\n",
       "      <td>0.0</td>\n",
       "    </tr>\n",
       "    <tr>\n",
       "      <td>6</td>\n",
       "      <td>0.0</td>\n",
       "      <td>0.0</td>\n",
       "      <td>0.0</td>\n",
       "      <td>0.0</td>\n",
       "      <td>0.0</td>\n",
       "      <td>0.0</td>\n",
       "      <td>0.0</td>\n",
       "      <td>3015.000</td>\n",
       "      <td>12300.0</td>\n",
       "      <td>20479.00</td>\n",
       "      <td>...</td>\n",
       "      <td>19749.00</td>\n",
       "      <td>23919.0</td>\n",
       "      <td>22912.00</td>\n",
       "      <td>14980.00</td>\n",
       "      <td>4577.0000</td>\n",
       "      <td>0.0</td>\n",
       "      <td>0.0</td>\n",
       "      <td>0.0</td>\n",
       "      <td>0.0</td>\n",
       "      <td>0.0</td>\n",
       "    </tr>\n",
       "    <tr>\n",
       "      <td>7</td>\n",
       "      <td>0.0</td>\n",
       "      <td>0.0</td>\n",
       "      <td>0.0</td>\n",
       "      <td>0.0</td>\n",
       "      <td>0.0</td>\n",
       "      <td>0.0</td>\n",
       "      <td>0.0</td>\n",
       "      <td>3015.000</td>\n",
       "      <td>12300.0</td>\n",
       "      <td>20479.00</td>\n",
       "      <td>...</td>\n",
       "      <td>19749.00</td>\n",
       "      <td>23919.0</td>\n",
       "      <td>22912.00</td>\n",
       "      <td>14980.00</td>\n",
       "      <td>4577.0000</td>\n",
       "      <td>0.0</td>\n",
       "      <td>0.0</td>\n",
       "      <td>0.0</td>\n",
       "      <td>0.0</td>\n",
       "      <td>0.0</td>\n",
       "    </tr>\n",
       "    <tr>\n",
       "      <td>8</td>\n",
       "      <td>0.0</td>\n",
       "      <td>0.0</td>\n",
       "      <td>0.0</td>\n",
       "      <td>0.0</td>\n",
       "      <td>0.0</td>\n",
       "      <td>0.0</td>\n",
       "      <td>0.0</td>\n",
       "      <td>1320.012</td>\n",
       "      <td>21891.6</td>\n",
       "      <td>28046.79</td>\n",
       "      <td>...</td>\n",
       "      <td>29665.81</td>\n",
       "      <td>30000.0</td>\n",
       "      <td>29993.93</td>\n",
       "      <td>11475.38</td>\n",
       "      <td>520.3466</td>\n",
       "      <td>0.0</td>\n",
       "      <td>0.0</td>\n",
       "      <td>0.0</td>\n",
       "      <td>0.0</td>\n",
       "      <td>0.0</td>\n",
       "    </tr>\n",
       "    <tr>\n",
       "      <td>9</td>\n",
       "      <td>0.0</td>\n",
       "      <td>0.0</td>\n",
       "      <td>0.0</td>\n",
       "      <td>0.0</td>\n",
       "      <td>0.0</td>\n",
       "      <td>0.0</td>\n",
       "      <td>0.0</td>\n",
       "      <td>850.000</td>\n",
       "      <td>3206.0</td>\n",
       "      <td>6721.00</td>\n",
       "      <td>...</td>\n",
       "      <td>16475.00</td>\n",
       "      <td>16279.0</td>\n",
       "      <td>8204.00</td>\n",
       "      <td>4080.00</td>\n",
       "      <td>869.0000</td>\n",
       "      <td>0.0</td>\n",
       "      <td>0.0</td>\n",
       "      <td>0.0</td>\n",
       "      <td>0.0</td>\n",
       "      <td>0.0</td>\n",
       "    </tr>\n",
       "  </tbody>\n",
       "</table>\n",
       "<p>10 rows × 24 columns</p>\n",
       "</div>"
      ],
      "text/plain": [
       "   Hora 1  Hora 2  Hora 3  Hora 4  Hora 5  Hora 6  Hora 7    Hora 8   Hora 9  \\\n",
       "0     0.0     0.0     0.0     0.0     0.0     0.0     0.0     0.000      0.0   \n",
       "1     0.0     0.0     0.0     0.0     0.0     0.0     0.0  5309.000  20956.0   \n",
       "2     0.0     0.0     0.0     0.0     0.0     0.0     0.0     0.000      0.0   \n",
       "3     0.0     0.0     0.0     0.0     0.0     0.0     0.0  5309.000  20956.0   \n",
       "4     0.0     0.0     0.0     0.0     0.0     0.0     0.0  6363.000  16859.0   \n",
       "5     0.0     0.0     0.0     0.0     0.0     0.0     0.0  4697.000  16950.0   \n",
       "6     0.0     0.0     0.0     0.0     0.0     0.0     0.0  3015.000  12300.0   \n",
       "7     0.0     0.0     0.0     0.0     0.0     0.0     0.0  3015.000  12300.0   \n",
       "8     0.0     0.0     0.0     0.0     0.0     0.0     0.0  1320.012  21891.6   \n",
       "9     0.0     0.0     0.0     0.0     0.0     0.0     0.0   850.000   3206.0   \n",
       "\n",
       "    Hora 10  ...   Hora 15  Hora 16   Hora 17   Hora 18    Hora 19  Hora 20  \\\n",
       "0      0.00  ...      0.00      0.0      0.00      0.00     0.0000      0.0   \n",
       "1  28217.00  ...  25346.00  29999.0  28775.00  17877.00  3839.0000      0.0   \n",
       "2      0.00  ...      0.00      0.0      0.00      0.00     0.0000      0.0   \n",
       "3  28217.00  ...  25346.00  29999.0  28775.00  17877.00  3839.0000      0.0   \n",
       "4  23435.00  ...  27886.00  24195.0  23811.00  12561.00  3597.0000      0.0   \n",
       "5  26090.00  ...  27073.00  24975.0  21559.00  13017.00  3019.0000      0.0   \n",
       "6  20479.00  ...  19749.00  23919.0  22912.00  14980.00  4577.0000      0.0   \n",
       "7  20479.00  ...  19749.00  23919.0  22912.00  14980.00  4577.0000      0.0   \n",
       "8  28046.79  ...  29665.81  30000.0  29993.93  11475.38   520.3466      0.0   \n",
       "9   6721.00  ...  16475.00  16279.0   8204.00   4080.00   869.0000      0.0   \n",
       "\n",
       "   Hora 21  Hora 22  Hora 23  Hora 24  \n",
       "0      0.0      0.0      0.0      0.0  \n",
       "1      0.0      0.0      0.0      0.0  \n",
       "2      0.0      0.0      0.0      0.0  \n",
       "3      0.0      0.0      0.0      0.0  \n",
       "4      0.0      0.0      0.0      0.0  \n",
       "5      0.0      0.0      0.0      0.0  \n",
       "6      0.0      0.0      0.0      0.0  \n",
       "7      0.0      0.0      0.0      0.0  \n",
       "8      0.0      0.0      0.0      0.0  \n",
       "9      0.0      0.0      0.0      0.0  \n",
       "\n",
       "[10 rows x 24 columns]"
      ]
     },
     "execution_count": 13,
     "metadata": {},
     "output_type": "execute_result"
    }
   ],
   "source": [
    "xhr = pd.DataFrame()\n",
    "for i in range(0,24):\n",
    "    hrs = [train.iloc[j][1] for j in range(0,len(train)) if train.iloc[j][0] == i+1 ] #pd.Series()\n",
    "    xhr['Hora '+str(i+1)] = hrs\n",
    "xhr = xhr.drop([xhr.index[-1]])\n",
    "xhr"
   ]
  },
  {
   "cell_type": "code",
   "execution_count": 14,
   "metadata": {
    "ExecuteTime": {
     "end_time": "2020-05-04T20:35:03.903211Z",
     "start_time": "2020-05-04T20:35:03.887715Z"
    }
   },
   "outputs": [],
   "source": [
    "train = train.drop(['hora'], axis=1)\n",
    "test = test.drop(['hora'], axis=1)"
   ]
  },
  {
   "cell_type": "markdown",
   "metadata": {},
   "source": [
    "*** \n",
    "# Modelo ARIMA"
   ]
  },
  {
   "cell_type": "code",
   "execution_count": 15,
   "metadata": {
    "ExecuteTime": {
     "end_time": "2020-05-04T20:36:33.535409Z",
     "start_time": "2020-05-04T20:35:03.912039Z"
    }
   },
   "outputs": [
    {
     "data": {
      "image/png": "[encoded data removed]",
      "text/plain": [
       "<Figure size 576x432 with 1 Axes>"
      ]
     },
     "metadata": {
      "needs_background": "light"
     },
     "output_type": "display_data"
    }
   ],
   "source": [
    "history = [x for x in train.values]\n",
    "predictions = []\n",
    "\n",
    "for t in range(0,24):\n",
    "    model = ARIMA(history, order=(8,1,2))\n",
    "    model_fit = model.fit()\n",
    "    output = model_fit.forecast()\n",
    "    yhat = output[0]\n",
    "    predictions.append(yhat)\n",
    "    obs = test.values[t]\n",
    "    history.append(obs)\n",
    "\n",
    "for i in range(0,len(test)): # SUPUESTO 1: SI NO HUBO PRODUCCIÓN UN DÍA ANTES, NO HABRÁ ESE DÍA. \n",
    "    if test.iloc[i].values == 0:\n",
    "        predictions[i] = 0\n",
    "    if predictions[i] < 0:\n",
    "        predictions[i] = 0\n",
    "        \n",
    "# plot\n",
    "plt.subplots(figsize=(8,6))\n",
    "plt.plot(test)\n",
    "plt.plot(predictions, color='red')\n",
    "plt.xticks(rotation=90)\n",
    "plt.show()"
   ]
  },
  {
   "cell_type": "code",
   "execution_count": 16,
   "metadata": {
    "ExecuteTime": {
     "end_time": "2020-05-04T20:36:33.590071Z",
     "start_time": "2020-05-04T20:36:33.539967Z"
    }
   },
   "outputs": [
    {
     "data": {
      "text/plain": [
       "0.4131770459853823"
      ]
     },
     "execution_count": 16,
     "metadata": {},
     "output_type": "execute_result"
    }
   ],
   "source": [
    "fvst = pd.DataFrame()\n",
    "fvst['real'] = test[columna].values.flatten()\n",
    "fvst['forecasts'] = 0\n",
    "for i in range(len(fvst)):\n",
    "    if predictions[i] == 0:\n",
    "        fvst['forecasts'][i] = predictions[i]\n",
    "    else:\n",
    "        fvst['forecasts'][i] = predictions[i].item()\n",
    "fvst['error'] = 0\n",
    "\n",
    "for i in range(len(fvst)):\n",
    "    fvst['error'][i] = np.abs((fvst['forecasts'][i]- fvst['real'][i])/(fvst['real'][i]))\n",
    "\n",
    "mea = np.mean(fvst.iloc[7:19,2])\n",
    "mea"
   ]
  },
  {
   "cell_type": "code",
   "execution_count": 17,
   "metadata": {
    "ExecuteTime": {
     "end_time": "2020-05-04T20:36:33.637921Z",
     "start_time": "2020-05-04T20:36:33.596128Z"
    }
   },
   "outputs": [
    {
     "name": "stdout",
     "output_type": "stream",
     "text": [
      "0.20658852299269115\n"
     ]
    },
    {
     "data": {
      "text/html": [
       "<div>\n",
       "<style scoped>\n",
       "    .dataframe tbody tr th:only-of-type {\n",
       "        vertical-align: middle;\n",
       "    }\n",
       "\n",
       "    .dataframe tbody tr th {\n",
       "        vertical-align: top;\n",
       "    }\n",
       "\n",
       "    .dataframe thead th {\n",
       "        text-align: right;\n",
       "    }\n",
       "</style>\n",
       "<table border=\"1\" class=\"dataframe\">\n",
       "  <thead>\n",
       "    <tr style=\"text-align: right;\">\n",
       "      <th></th>\n",
       "      <th>real</th>\n",
       "      <th>forecasts</th>\n",
       "      <th>error</th>\n",
       "    </tr>\n",
       "  </thead>\n",
       "  <tbody>\n",
       "    <tr>\n",
       "      <td>0</td>\n",
       "      <td>0.0</td>\n",
       "      <td>0</td>\n",
       "      <td>0.000000</td>\n",
       "    </tr>\n",
       "    <tr>\n",
       "      <td>1</td>\n",
       "      <td>0.0</td>\n",
       "      <td>0</td>\n",
       "      <td>0.000000</td>\n",
       "    </tr>\n",
       "    <tr>\n",
       "      <td>2</td>\n",
       "      <td>0.0</td>\n",
       "      <td>0</td>\n",
       "      <td>0.000000</td>\n",
       "    </tr>\n",
       "    <tr>\n",
       "      <td>3</td>\n",
       "      <td>0.0</td>\n",
       "      <td>0</td>\n",
       "      <td>0.000000</td>\n",
       "    </tr>\n",
       "    <tr>\n",
       "      <td>4</td>\n",
       "      <td>0.0</td>\n",
       "      <td>0</td>\n",
       "      <td>0.000000</td>\n",
       "    </tr>\n",
       "    <tr>\n",
       "      <td>5</td>\n",
       "      <td>0.0</td>\n",
       "      <td>0</td>\n",
       "      <td>0.000000</td>\n",
       "    </tr>\n",
       "    <tr>\n",
       "      <td>6</td>\n",
       "      <td>0.0</td>\n",
       "      <td>0</td>\n",
       "      <td>0.000000</td>\n",
       "    </tr>\n",
       "    <tr>\n",
       "      <td>7</td>\n",
       "      <td>773.0</td>\n",
       "      <td>2023</td>\n",
       "      <td>1.617076</td>\n",
       "    </tr>\n",
       "    <tr>\n",
       "      <td>8</td>\n",
       "      <td>4191.0</td>\n",
       "      <td>3154</td>\n",
       "      <td>0.247435</td>\n",
       "    </tr>\n",
       "    <tr>\n",
       "      <td>9</td>\n",
       "      <td>19440.0</td>\n",
       "      <td>7677</td>\n",
       "      <td>0.605093</td>\n",
       "    </tr>\n",
       "    <tr>\n",
       "      <td>10</td>\n",
       "      <td>27491.0</td>\n",
       "      <td>28202</td>\n",
       "      <td>0.025863</td>\n",
       "    </tr>\n",
       "    <tr>\n",
       "      <td>11</td>\n",
       "      <td>28914.0</td>\n",
       "      <td>28776</td>\n",
       "      <td>0.004773</td>\n",
       "    </tr>\n",
       "    <tr>\n",
       "      <td>12</td>\n",
       "      <td>26239.0</td>\n",
       "      <td>27636</td>\n",
       "      <td>0.053241</td>\n",
       "    </tr>\n",
       "    <tr>\n",
       "      <td>13</td>\n",
       "      <td>26079.0</td>\n",
       "      <td>24244</td>\n",
       "      <td>0.070363</td>\n",
       "    </tr>\n",
       "    <tr>\n",
       "      <td>14</td>\n",
       "      <td>26950.0</td>\n",
       "      <td>26359</td>\n",
       "      <td>0.021929</td>\n",
       "    </tr>\n",
       "    <tr>\n",
       "      <td>15</td>\n",
       "      <td>25201.0</td>\n",
       "      <td>25744</td>\n",
       "      <td>0.021547</td>\n",
       "    </tr>\n",
       "    <tr>\n",
       "      <td>16</td>\n",
       "      <td>19048.0</td>\n",
       "      <td>23563</td>\n",
       "      <td>0.237033</td>\n",
       "    </tr>\n",
       "    <tr>\n",
       "      <td>17</td>\n",
       "      <td>6788.0</td>\n",
       "      <td>13941</td>\n",
       "      <td>1.053771</td>\n",
       "    </tr>\n",
       "    <tr>\n",
       "      <td>18</td>\n",
       "      <td>419.0</td>\n",
       "      <td>0</td>\n",
       "      <td>1.000000</td>\n",
       "    </tr>\n",
       "    <tr>\n",
       "      <td>19</td>\n",
       "      <td>0.0</td>\n",
       "      <td>0</td>\n",
       "      <td>0.000000</td>\n",
       "    </tr>\n",
       "    <tr>\n",
       "      <td>20</td>\n",
       "      <td>0.0</td>\n",
       "      <td>0</td>\n",
       "      <td>0.000000</td>\n",
       "    </tr>\n",
       "    <tr>\n",
       "      <td>21</td>\n",
       "      <td>0.0</td>\n",
       "      <td>0</td>\n",
       "      <td>0.000000</td>\n",
       "    </tr>\n",
       "    <tr>\n",
       "      <td>22</td>\n",
       "      <td>0.0</td>\n",
       "      <td>0</td>\n",
       "      <td>0.000000</td>\n",
       "    </tr>\n",
       "    <tr>\n",
       "      <td>23</td>\n",
       "      <td>0.0</td>\n",
       "      <td>0</td>\n",
       "      <td>0.000000</td>\n",
       "    </tr>\n",
       "  </tbody>\n",
       "</table>\n",
       "</div>"
      ],
      "text/plain": [
       "       real  forecasts     error\n",
       "0       0.0          0  0.000000\n",
       "1       0.0          0  0.000000\n",
       "2       0.0          0  0.000000\n",
       "3       0.0          0  0.000000\n",
       "4       0.0          0  0.000000\n",
       "5       0.0          0  0.000000\n",
       "6       0.0          0  0.000000\n",
       "7     773.0       2023  1.617076\n",
       "8    4191.0       3154  0.247435\n",
       "9   19440.0       7677  0.605093\n",
       "10  27491.0      28202  0.025863\n",
       "11  28914.0      28776  0.004773\n",
       "12  26239.0      27636  0.053241\n",
       "13  26079.0      24244  0.070363\n",
       "14  26950.0      26359  0.021929\n",
       "15  25201.0      25744  0.021547\n",
       "16  19048.0      23563  0.237033\n",
       "17   6788.0      13941  1.053771\n",
       "18    419.0          0  1.000000\n",
       "19      0.0          0  0.000000\n",
       "20      0.0          0  0.000000\n",
       "21      0.0          0  0.000000\n",
       "22      0.0          0  0.000000\n",
       "23      0.0          0  0.000000"
      ]
     },
     "execution_count": 17,
     "metadata": {},
     "output_type": "execute_result"
    }
   ],
   "source": [
    "fvst = fvst.fillna(0)\n",
    "print(np.mean(fvst.error))\n",
    "fvst"
   ]
  },
  {
   "cell_type": "code",
   "execution_count": 18,
   "metadata": {
    "ExecuteTime": {
     "end_time": "2020-05-04T20:36:33.670878Z",
     "start_time": "2020-05-04T20:36:33.654315Z"
    }
   },
   "outputs": [
    {
     "data": {
      "text/plain": [
       "0.0010116624829222863"
      ]
     },
     "execution_count": 18,
     "metadata": {},
     "output_type": "execute_result"
    }
   ],
   "source": [
    "np.abs((sum(fvst['forecasts']) - sum(fvst['real']))/sum(fvst['real']))"
   ]
  },
  {
   "cell_type": "markdown",
   "metadata": {},
   "source": [
    "# Tomando promedios anteriores:"
   ]
  },
  {
   "cell_type": "markdown",
   "metadata": {},
   "source": [
    "# Cambiando 7 8 y 9:"
   ]
  },
  {
   "cell_type": "code",
   "execution_count": 19,
   "metadata": {
    "ExecuteTime": {
     "end_time": "2020-05-04T20:36:33.684363Z",
     "start_time": "2020-05-04T20:36:33.675040Z"
    }
   },
   "outputs": [
    {
     "data": {
      "text/plain": [
       "2023"
      ]
     },
     "execution_count": 19,
     "metadata": {},
     "output_type": "execute_result"
    }
   ],
   "source": [
    "fvst.iloc[7,1]"
   ]
  },
  {
   "cell_type": "code",
   "execution_count": 20,
   "metadata": {
    "ExecuteTime": {
     "end_time": "2020-05-04T20:36:33.705176Z",
     "start_time": "2020-05-04T20:36:33.690109Z"
    }
   },
   "outputs": [
    {
     "data": {
      "text/plain": [
       "3    5309.000\n",
       "4    6363.000\n",
       "5    4697.000\n",
       "6    3015.000\n",
       "7    3015.000\n",
       "8    1320.012\n",
       "9     850.000\n",
       "Name: Hora 8, dtype: float64"
      ]
     },
     "execution_count": 20,
     "metadata": {},
     "output_type": "execute_result"
    }
   ],
   "source": [
    "xhr['Hora 8'][-7:]"
   ]
  },
  {
   "cell_type": "code",
   "execution_count": 21,
   "metadata": {
    "ExecuteTime": {
     "end_time": "2020-05-04T20:36:33.746673Z",
     "start_time": "2020-05-04T20:36:33.710821Z"
    }
   },
   "outputs": [
    {
     "data": {
      "text/html": [
       "<div>\n",
       "<style scoped>\n",
       "    .dataframe tbody tr th:only-of-type {\n",
       "        vertical-align: middle;\n",
       "    }\n",
       "\n",
       "    .dataframe tbody tr th {\n",
       "        vertical-align: top;\n",
       "    }\n",
       "\n",
       "    .dataframe thead th {\n",
       "        text-align: right;\n",
       "    }\n",
       "</style>\n",
       "<table border=\"1\" class=\"dataframe\">\n",
       "  <thead>\n",
       "    <tr style=\"text-align: right;\">\n",
       "      <th></th>\n",
       "      <th>real</th>\n",
       "      <th>forecasts</th>\n",
       "      <th>error</th>\n",
       "    </tr>\n",
       "  </thead>\n",
       "  <tbody>\n",
       "    <tr>\n",
       "      <td>0</td>\n",
       "      <td>0.0</td>\n",
       "      <td>0.000000</td>\n",
       "      <td>0.000000</td>\n",
       "    </tr>\n",
       "    <tr>\n",
       "      <td>1</td>\n",
       "      <td>0.0</td>\n",
       "      <td>0.000000</td>\n",
       "      <td>0.000000</td>\n",
       "    </tr>\n",
       "    <tr>\n",
       "      <td>2</td>\n",
       "      <td>0.0</td>\n",
       "      <td>0.000000</td>\n",
       "      <td>0.000000</td>\n",
       "    </tr>\n",
       "    <tr>\n",
       "      <td>3</td>\n",
       "      <td>0.0</td>\n",
       "      <td>0.000000</td>\n",
       "      <td>0.000000</td>\n",
       "    </tr>\n",
       "    <tr>\n",
       "      <td>4</td>\n",
       "      <td>0.0</td>\n",
       "      <td>0.000000</td>\n",
       "      <td>0.000000</td>\n",
       "    </tr>\n",
       "    <tr>\n",
       "      <td>5</td>\n",
       "      <td>0.0</td>\n",
       "      <td>0.000000</td>\n",
       "      <td>0.000000</td>\n",
       "    </tr>\n",
       "    <tr>\n",
       "      <td>6</td>\n",
       "      <td>0.0</td>\n",
       "      <td>0.000000</td>\n",
       "      <td>0.000000</td>\n",
       "    </tr>\n",
       "    <tr>\n",
       "      <td>7</td>\n",
       "      <td>773.0</td>\n",
       "      <td>3509.858857</td>\n",
       "      <td>3.540568</td>\n",
       "    </tr>\n",
       "    <tr>\n",
       "      <td>8</td>\n",
       "      <td>4191.0</td>\n",
       "      <td>14923.228571</td>\n",
       "      <td>2.560780</td>\n",
       "    </tr>\n",
       "    <tr>\n",
       "      <td>9</td>\n",
       "      <td>19440.0</td>\n",
       "      <td>21923.970000</td>\n",
       "      <td>0.127776</td>\n",
       "    </tr>\n",
       "    <tr>\n",
       "      <td>10</td>\n",
       "      <td>27491.0</td>\n",
       "      <td>28202.000000</td>\n",
       "      <td>0.025863</td>\n",
       "    </tr>\n",
       "    <tr>\n",
       "      <td>11</td>\n",
       "      <td>28914.0</td>\n",
       "      <td>28776.000000</td>\n",
       "      <td>0.004773</td>\n",
       "    </tr>\n",
       "    <tr>\n",
       "      <td>12</td>\n",
       "      <td>26239.0</td>\n",
       "      <td>27636.000000</td>\n",
       "      <td>0.053241</td>\n",
       "    </tr>\n",
       "    <tr>\n",
       "      <td>13</td>\n",
       "      <td>26079.0</td>\n",
       "      <td>24244.000000</td>\n",
       "      <td>0.070363</td>\n",
       "    </tr>\n",
       "    <tr>\n",
       "      <td>14</td>\n",
       "      <td>26950.0</td>\n",
       "      <td>26359.000000</td>\n",
       "      <td>0.021929</td>\n",
       "    </tr>\n",
       "    <tr>\n",
       "      <td>15</td>\n",
       "      <td>25201.0</td>\n",
       "      <td>25744.000000</td>\n",
       "      <td>0.021547</td>\n",
       "    </tr>\n",
       "    <tr>\n",
       "      <td>16</td>\n",
       "      <td>19048.0</td>\n",
       "      <td>23563.000000</td>\n",
       "      <td>0.237033</td>\n",
       "    </tr>\n",
       "    <tr>\n",
       "      <td>17</td>\n",
       "      <td>6788.0</td>\n",
       "      <td>13941.000000</td>\n",
       "      <td>1.053771</td>\n",
       "    </tr>\n",
       "    <tr>\n",
       "      <td>18</td>\n",
       "      <td>419.0</td>\n",
       "      <td>0.000000</td>\n",
       "      <td>1.000000</td>\n",
       "    </tr>\n",
       "    <tr>\n",
       "      <td>19</td>\n",
       "      <td>0.0</td>\n",
       "      <td>0.000000</td>\n",
       "      <td>0.000000</td>\n",
       "    </tr>\n",
       "    <tr>\n",
       "      <td>20</td>\n",
       "      <td>0.0</td>\n",
       "      <td>0.000000</td>\n",
       "      <td>0.000000</td>\n",
       "    </tr>\n",
       "    <tr>\n",
       "      <td>21</td>\n",
       "      <td>0.0</td>\n",
       "      <td>0.000000</td>\n",
       "      <td>0.000000</td>\n",
       "    </tr>\n",
       "    <tr>\n",
       "      <td>22</td>\n",
       "      <td>0.0</td>\n",
       "      <td>0.000000</td>\n",
       "      <td>0.000000</td>\n",
       "    </tr>\n",
       "    <tr>\n",
       "      <td>23</td>\n",
       "      <td>0.0</td>\n",
       "      <td>0.000000</td>\n",
       "      <td>0.000000</td>\n",
       "    </tr>\n",
       "  </tbody>\n",
       "</table>\n",
       "</div>"
      ],
      "text/plain": [
       "       real     forecasts     error\n",
       "0       0.0      0.000000  0.000000\n",
       "1       0.0      0.000000  0.000000\n",
       "2       0.0      0.000000  0.000000\n",
       "3       0.0      0.000000  0.000000\n",
       "4       0.0      0.000000  0.000000\n",
       "5       0.0      0.000000  0.000000\n",
       "6       0.0      0.000000  0.000000\n",
       "7     773.0   3509.858857  3.540568\n",
       "8    4191.0  14923.228571  2.560780\n",
       "9   19440.0  21923.970000  0.127776\n",
       "10  27491.0  28202.000000  0.025863\n",
       "11  28914.0  28776.000000  0.004773\n",
       "12  26239.0  27636.000000  0.053241\n",
       "13  26079.0  24244.000000  0.070363\n",
       "14  26950.0  26359.000000  0.021929\n",
       "15  25201.0  25744.000000  0.021547\n",
       "16  19048.0  23563.000000  0.237033\n",
       "17   6788.0  13941.000000  1.053771\n",
       "18    419.0      0.000000  1.000000\n",
       "19      0.0      0.000000  0.000000\n",
       "20      0.0      0.000000  0.000000\n",
       "21      0.0      0.000000  0.000000\n",
       "22      0.0      0.000000  0.000000\n",
       "23      0.0      0.000000  0.000000"
      ]
     },
     "execution_count": 21,
     "metadata": {},
     "output_type": "execute_result"
    }
   ],
   "source": [
    "fvst.iloc[7,1] = np.mean(xhr['Hora 8'][-7:])\n",
    "fvst.iloc[8,1] = np.mean(xhr['Hora 9'][-7:])\n",
    "fvst.iloc[9,1] = np.mean(xhr['Hora 10'][-7:])\n",
    "\n",
    "for i in range(len(fvst)):\n",
    "    fvst['error'][i] = np.abs((fvst['forecasts'][i]- fvst['real'][i])/(fvst['real'][i]))\n",
    "\n",
    "fvst = fvst.fillna(0)\n",
    "fvst"
   ]
  },
  {
   "cell_type": "code",
   "execution_count": 22,
   "metadata": {
    "ExecuteTime": {
     "end_time": "2020-05-04T20:36:33.758426Z",
     "start_time": "2020-05-04T20:36:33.750178Z"
    }
   },
   "outputs": [
    {
     "data": {
      "text/plain": [
       "0.7264703769156681"
      ]
     },
     "execution_count": 22,
     "metadata": {},
     "output_type": "execute_result"
    }
   ],
   "source": [
    "mea = np.mean(fvst.iloc[7:19,2])\n",
    "mea"
   ]
  },
  {
   "cell_type": "code",
   "execution_count": 23,
   "metadata": {
    "ExecuteTime": {
     "end_time": "2020-05-04T20:36:33.784660Z",
     "start_time": "2020-05-04T20:36:33.771023Z"
    }
   },
   "outputs": [
    {
     "data": {
      "text/plain": [
       "0.12900614763924034"
      ]
     },
     "execution_count": 23,
     "metadata": {},
     "output_type": "execute_result"
    }
   ],
   "source": [
    "np.abs((sum(fvst['forecasts']) - sum(fvst['real']))/sum(fvst['real']))"
   ]
  },
  {
   "cell_type": "markdown",
   "metadata": {},
   "source": [
    "## Cambiando Hora 17, 18 y 19:"
   ]
  },
  {
   "cell_type": "code",
   "execution_count": 24,
   "metadata": {
    "ExecuteTime": {
     "end_time": "2020-05-04T20:36:33.841264Z",
     "start_time": "2020-05-04T20:36:33.799937Z"
    }
   },
   "outputs": [
    {
     "data": {
      "text/html": [
       "<div>\n",
       "<style scoped>\n",
       "    .dataframe tbody tr th:only-of-type {\n",
       "        vertical-align: middle;\n",
       "    }\n",
       "\n",
       "    .dataframe tbody tr th {\n",
       "        vertical-align: top;\n",
       "    }\n",
       "\n",
       "    .dataframe thead th {\n",
       "        text-align: right;\n",
       "    }\n",
       "</style>\n",
       "<table border=\"1\" class=\"dataframe\">\n",
       "  <thead>\n",
       "    <tr style=\"text-align: right;\">\n",
       "      <th></th>\n",
       "      <th>real</th>\n",
       "      <th>forecasts</th>\n",
       "      <th>error</th>\n",
       "    </tr>\n",
       "  </thead>\n",
       "  <tbody>\n",
       "    <tr>\n",
       "      <td>0</td>\n",
       "      <td>0.0</td>\n",
       "      <td>0.000000</td>\n",
       "      <td>0.000000</td>\n",
       "    </tr>\n",
       "    <tr>\n",
       "      <td>1</td>\n",
       "      <td>0.0</td>\n",
       "      <td>0.000000</td>\n",
       "      <td>0.000000</td>\n",
       "    </tr>\n",
       "    <tr>\n",
       "      <td>2</td>\n",
       "      <td>0.0</td>\n",
       "      <td>0.000000</td>\n",
       "      <td>0.000000</td>\n",
       "    </tr>\n",
       "    <tr>\n",
       "      <td>3</td>\n",
       "      <td>0.0</td>\n",
       "      <td>0.000000</td>\n",
       "      <td>0.000000</td>\n",
       "    </tr>\n",
       "    <tr>\n",
       "      <td>4</td>\n",
       "      <td>0.0</td>\n",
       "      <td>0.000000</td>\n",
       "      <td>0.000000</td>\n",
       "    </tr>\n",
       "    <tr>\n",
       "      <td>5</td>\n",
       "      <td>0.0</td>\n",
       "      <td>0.000000</td>\n",
       "      <td>0.000000</td>\n",
       "    </tr>\n",
       "    <tr>\n",
       "      <td>6</td>\n",
       "      <td>0.0</td>\n",
       "      <td>0.000000</td>\n",
       "      <td>0.000000</td>\n",
       "    </tr>\n",
       "    <tr>\n",
       "      <td>7</td>\n",
       "      <td>773.0</td>\n",
       "      <td>3509.858857</td>\n",
       "      <td>3.540568</td>\n",
       "    </tr>\n",
       "    <tr>\n",
       "      <td>8</td>\n",
       "      <td>4191.0</td>\n",
       "      <td>14923.228571</td>\n",
       "      <td>2.560780</td>\n",
       "    </tr>\n",
       "    <tr>\n",
       "      <td>9</td>\n",
       "      <td>19440.0</td>\n",
       "      <td>21923.970000</td>\n",
       "      <td>0.127776</td>\n",
       "    </tr>\n",
       "    <tr>\n",
       "      <td>10</td>\n",
       "      <td>27491.0</td>\n",
       "      <td>28202.000000</td>\n",
       "      <td>0.025863</td>\n",
       "    </tr>\n",
       "    <tr>\n",
       "      <td>11</td>\n",
       "      <td>28914.0</td>\n",
       "      <td>28776.000000</td>\n",
       "      <td>0.004773</td>\n",
       "    </tr>\n",
       "    <tr>\n",
       "      <td>12</td>\n",
       "      <td>26239.0</td>\n",
       "      <td>27636.000000</td>\n",
       "      <td>0.053241</td>\n",
       "    </tr>\n",
       "    <tr>\n",
       "      <td>13</td>\n",
       "      <td>26079.0</td>\n",
       "      <td>24244.000000</td>\n",
       "      <td>0.070363</td>\n",
       "    </tr>\n",
       "    <tr>\n",
       "      <td>14</td>\n",
       "      <td>26950.0</td>\n",
       "      <td>26359.000000</td>\n",
       "      <td>0.021929</td>\n",
       "    </tr>\n",
       "    <tr>\n",
       "      <td>15</td>\n",
       "      <td>25201.0</td>\n",
       "      <td>25744.000000</td>\n",
       "      <td>0.021547</td>\n",
       "    </tr>\n",
       "    <tr>\n",
       "      <td>16</td>\n",
       "      <td>19048.0</td>\n",
       "      <td>22595.275714</td>\n",
       "      <td>0.186228</td>\n",
       "    </tr>\n",
       "    <tr>\n",
       "      <td>17</td>\n",
       "      <td>6788.0</td>\n",
       "      <td>12710.054286</td>\n",
       "      <td>0.872430</td>\n",
       "    </tr>\n",
       "    <tr>\n",
       "      <td>18</td>\n",
       "      <td>419.0</td>\n",
       "      <td>2999.763800</td>\n",
       "      <td>6.159341</td>\n",
       "    </tr>\n",
       "    <tr>\n",
       "      <td>19</td>\n",
       "      <td>0.0</td>\n",
       "      <td>0.000000</td>\n",
       "      <td>0.000000</td>\n",
       "    </tr>\n",
       "    <tr>\n",
       "      <td>20</td>\n",
       "      <td>0.0</td>\n",
       "      <td>0.000000</td>\n",
       "      <td>0.000000</td>\n",
       "    </tr>\n",
       "    <tr>\n",
       "      <td>21</td>\n",
       "      <td>0.0</td>\n",
       "      <td>0.000000</td>\n",
       "      <td>0.000000</td>\n",
       "    </tr>\n",
       "    <tr>\n",
       "      <td>22</td>\n",
       "      <td>0.0</td>\n",
       "      <td>0.000000</td>\n",
       "      <td>0.000000</td>\n",
       "    </tr>\n",
       "    <tr>\n",
       "      <td>23</td>\n",
       "      <td>0.0</td>\n",
       "      <td>0.000000</td>\n",
       "      <td>0.000000</td>\n",
       "    </tr>\n",
       "  </tbody>\n",
       "</table>\n",
       "</div>"
      ],
      "text/plain": [
       "       real     forecasts     error\n",
       "0       0.0      0.000000  0.000000\n",
       "1       0.0      0.000000  0.000000\n",
       "2       0.0      0.000000  0.000000\n",
       "3       0.0      0.000000  0.000000\n",
       "4       0.0      0.000000  0.000000\n",
       "5       0.0      0.000000  0.000000\n",
       "6       0.0      0.000000  0.000000\n",
       "7     773.0   3509.858857  3.540568\n",
       "8    4191.0  14923.228571  2.560780\n",
       "9   19440.0  21923.970000  0.127776\n",
       "10  27491.0  28202.000000  0.025863\n",
       "11  28914.0  28776.000000  0.004773\n",
       "12  26239.0  27636.000000  0.053241\n",
       "13  26079.0  24244.000000  0.070363\n",
       "14  26950.0  26359.000000  0.021929\n",
       "15  25201.0  25744.000000  0.021547\n",
       "16  19048.0  22595.275714  0.186228\n",
       "17   6788.0  12710.054286  0.872430\n",
       "18    419.0   2999.763800  6.159341\n",
       "19      0.0      0.000000  0.000000\n",
       "20      0.0      0.000000  0.000000\n",
       "21      0.0      0.000000  0.000000\n",
       "22      0.0      0.000000  0.000000\n",
       "23      0.0      0.000000  0.000000"
      ]
     },
     "execution_count": 24,
     "metadata": {},
     "output_type": "execute_result"
    }
   ],
   "source": [
    "fvst.iloc[16,1] = np.mean(xhr['Hora 17'][-7:])\n",
    "fvst.iloc[17,1] = np.mean(xhr['Hora 18'][-7:])\n",
    "fvst.iloc[18,1] = np.mean(xhr['Hora 19'][-7:])\n",
    "\n",
    "for i in range(len(fvst)):\n",
    "    fvst['error'][i] = np.abs((fvst['forecasts'][i]- fvst['real'][i])/(fvst['real'][i]))\n",
    "\n",
    "fvst = fvst.fillna(0)\n",
    "fvst"
   ]
  },
  {
   "cell_type": "code",
   "execution_count": 25,
   "metadata": {
    "ExecuteTime": {
     "end_time": "2020-05-04T20:36:33.876338Z",
     "start_time": "2020-05-04T20:36:33.854034Z"
    }
   },
   "outputs": [
    {
     "data": {
      "text/plain": [
       "1.1370699485543039"
      ]
     },
     "execution_count": 25,
     "metadata": {},
     "output_type": "execute_result"
    }
   ],
   "source": [
    "mea = np.mean(fvst.iloc[7:19,2])\n",
    "mea"
   ]
  },
  {
   "cell_type": "code",
   "execution_count": 26,
   "metadata": {
    "ExecuteTime": {
     "end_time": "2020-05-04T20:36:33.903290Z",
     "start_time": "2020-05-04T20:36:33.880804Z"
    }
   },
   "outputs": [
    {
     "data": {
      "text/plain": [
       "0.13279323428765913"
      ]
     },
     "execution_count": 26,
     "metadata": {},
     "output_type": "execute_result"
    }
   ],
   "source": [
    "np.abs((sum(fvst['forecasts']) - sum(fvst['real']))/sum(fvst['real']))"
   ]
  },
  {
   "cell_type": "code",
   "execution_count": null,
   "metadata": {},
   "outputs": [],
   "source": []
  }
 ],
 "metadata": {
  "kernelspec": {
   "display_name": "Python 3",
   "language": "python",
   "name": "python3"
  },
  "language_info": {
   "codemirror_mode": {
    "name": "ipython",
    "version": 3
   },
   "file_extension": ".py",
   "mimetype": "text/x-python",
   "name": "python",
   "nbconvert_exporter": "python",
   "pygments_lexer": "ipython3",
   "version": "3.7.4"
  }
 },
 "nbformat": 4,
 "nbformat_minor": 2
}
