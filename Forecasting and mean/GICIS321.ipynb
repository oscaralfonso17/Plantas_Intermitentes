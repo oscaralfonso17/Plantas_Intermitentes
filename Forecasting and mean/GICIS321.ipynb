{
 "cells": [
  {
   "cell_type": "code",
   "execution_count": 1,
   "metadata": {
    "ExecuteTime": {
     "end_time": "2020-05-03T23:30:51.505721Z",
     "start_time": "2020-05-03T23:30:51.477001Z"
    }
   },
   "outputs": [
    {
     "name": "stdout",
     "output_type": "stream",
     "text": [
      "Planta a Analizar:  21\n"
     ]
    }
   ],
   "source": [
    "planta = 21\n",
    "print(\"Planta a Analizar: \", planta)"
   ]
  },
  {
   "cell_type": "code",
   "execution_count": 2,
   "metadata": {
    "ExecuteTime": {
     "end_time": "2020-05-03T23:30:54.387370Z",
     "start_time": "2020-05-03T23:30:51.570393Z"
    }
   },
   "outputs": [
    {
     "data": {
      "text/html": [
       " <style> .output {display: center; align-items: center; text-align: center; justify-content: center; } </style> "
      ],
      "text/plain": [
       "<IPython.core.display.HTML object>"
      ]
     },
     "metadata": {},
     "output_type": "display_data"
    }
   ],
   "source": [
    "import pandas as pd\n",
    "import numpy as np\n",
    "import matplotlib as mpl\n",
    "import scipy.stats as st\n",
    "import seaborn as sns\n",
    "import statsmodels.api as sm\n",
    "from datetime import datetime\n",
    "import matplotlib.pyplot as plt\n",
    "from statsmodels.tsa.arima_model import ARIMA\n",
    "import pmdarima as pm\n",
    "from pmdarima.model_selection import train_test_split\n",
    "import matplotlib.pyplot as plt\n",
    "import warnings\n",
    "warnings.filterwarnings(\"ignore\")\n",
    "from statsmodels.tsa.stattools import acf\n",
    "import datetime\n",
    "from statsmodels.graphics.tsaplots import plot_acf, plot_pacf\n",
    "from sklearn.metrics import mean_squared_error\n",
    "\n",
    "from numpy import inf\n",
    "\n",
    "from IPython.display import display, HTML\n",
    "display(HTML(\"\"\" <style> .output {display: center; align-items: center; text-align: center; justify-content: center; } </style> \"\"\"))"
   ]
  },
  {
   "cell_type": "code",
   "execution_count": 3,
   "metadata": {
    "ExecuteTime": {
     "end_time": "2020-05-03T23:31:07.736239Z",
     "start_time": "2020-05-03T23:30:54.393256Z"
    }
   },
   "outputs": [],
   "source": [
    "#Importación de datos\n",
    "datos = pd.read_excel('Generación Intermitente de la GCROC 2013-2020.xlsx', header=1)"
   ]
  },
  {
   "cell_type": "code",
   "execution_count": 4,
   "metadata": {
    "ExecuteTime": {
     "end_time": "2020-05-03T23:31:08.945116Z",
     "start_time": "2020-05-03T23:31:07.739532Z"
    }
   },
   "outputs": [],
   "source": [
    "numbers = datos.hora-1\n",
    "hours = [datetime.time(num).strftime(\"%H:00:00\") for num in numbers]\n",
    "datos['fecha'] = datos['fecha'].replace(0,np.nan).ffill()\n",
    "datos['fecha'] = pd.to_datetime(datos['fecha'])\n",
    "datos['fecha'] = datos['fecha'].dt.date\n",
    "datos['fecha_hora'] = datos[\"fecha\"].astype(str) + ' ' + hours\n",
    "#LIMPIEZA DE DATOS\n",
    "datos = datos.set_index(datos['fecha_hora'])\n",
    "datos = datos.loc['2020-01-01 00:00:00':]\n",
    "\n",
    "# datos = datos.drop(datos.index[-24:])"
   ]
  },
  {
   "cell_type": "code",
   "execution_count": 5,
   "metadata": {
    "ExecuteTime": {
     "end_time": "2020-05-03T23:31:08.965810Z",
     "start_time": "2020-05-03T23:31:08.952538Z"
    }
   },
   "outputs": [],
   "source": [
    "columns = ['GICIE301', 'GICIE302','GICIE303','GICIE304','GICIE305','GICIS306', 'GICIS307','GICIS308',\n",
    "          'GICIS309','GICIS310','GICIS311','GICIS312','GICIS313','GICIS314','GICIS315','GICIS316','GICIS317',\n",
    "          'GICIS318','GICIS319','GICIS320','GICIS321','GICIS322','GICIS323','GICIS324','GICIS325','GICIS326']"
   ]
  },
  {
   "cell_type": "code",
   "execution_count": 6,
   "metadata": {
    "ExecuteTime": {
     "end_time": "2020-05-03T23:31:08.986919Z",
     "start_time": "2020-05-03T23:31:08.973637Z"
    }
   },
   "outputs": [
    {
     "data": {
      "text/plain": [
       "'GICIS321'"
      ]
     },
     "execution_count": 6,
     "metadata": {},
     "output_type": "execute_result"
    }
   ],
   "source": [
    "n_periods = 5*24\n",
    "columna = columns[planta-1]\n",
    "columna"
   ]
  },
  {
   "cell_type": "code",
   "execution_count": 7,
   "metadata": {
    "ExecuteTime": {
     "end_time": "2020-05-03T23:31:09.020658Z",
     "start_time": "2020-05-03T23:31:08.996793Z"
    },
    "scrolled": false
   },
   "outputs": [
    {
     "data": {
      "text/html": [
       "<div>\n",
       "<style scoped>\n",
       "    .dataframe tbody tr th:only-of-type {\n",
       "        vertical-align: middle;\n",
       "    }\n",
       "\n",
       "    .dataframe tbody tr th {\n",
       "        vertical-align: top;\n",
       "    }\n",
       "\n",
       "    .dataframe thead th {\n",
       "        text-align: right;\n",
       "    }\n",
       "</style>\n",
       "<table border=\"1\" class=\"dataframe\">\n",
       "  <thead>\n",
       "    <tr style=\"text-align: right;\">\n",
       "      <th></th>\n",
       "      <th>hora</th>\n",
       "      <th>GICIS321</th>\n",
       "    </tr>\n",
       "    <tr>\n",
       "      <th>fecha_hora</th>\n",
       "      <th></th>\n",
       "      <th></th>\n",
       "    </tr>\n",
       "  </thead>\n",
       "  <tbody>\n",
       "    <tr>\n",
       "      <td>2020-01-01 00:00:00</td>\n",
       "      <td>1</td>\n",
       "      <td>0.0</td>\n",
       "    </tr>\n",
       "    <tr>\n",
       "      <td>2020-01-01 01:00:00</td>\n",
       "      <td>2</td>\n",
       "      <td>0.0</td>\n",
       "    </tr>\n",
       "    <tr>\n",
       "      <td>2020-01-01 02:00:00</td>\n",
       "      <td>3</td>\n",
       "      <td>0.0</td>\n",
       "    </tr>\n",
       "    <tr>\n",
       "      <td>2020-01-01 03:00:00</td>\n",
       "      <td>4</td>\n",
       "      <td>0.0</td>\n",
       "    </tr>\n",
       "    <tr>\n",
       "      <td>2020-01-01 04:00:00</td>\n",
       "      <td>5</td>\n",
       "      <td>0.0</td>\n",
       "    </tr>\n",
       "  </tbody>\n",
       "</table>\n",
       "</div>"
      ],
      "text/plain": [
       "                     hora  GICIS321\n",
       "fecha_hora                         \n",
       "2020-01-01 00:00:00     1       0.0\n",
       "2020-01-01 01:00:00     2       0.0\n",
       "2020-01-01 02:00:00     3       0.0\n",
       "2020-01-01 03:00:00     4       0.0\n",
       "2020-01-01 04:00:00     5       0.0"
      ]
     },
     "execution_count": 7,
     "metadata": {},
     "output_type": "execute_result"
    }
   ],
   "source": [
    "df = datos[['hora',columna]]\n",
    "df[columna] = (df[columna]) # para efectos de las tranformaciones logaritmicas(eliminar el 0)\n",
    "df = df.dropna()\n",
    "df.head()"
   ]
  },
  {
   "cell_type": "code",
   "execution_count": 8,
   "metadata": {
    "ExecuteTime": {
     "end_time": "2020-05-03T23:31:09.052151Z",
     "start_time": "2020-05-03T23:31:09.028224Z"
    }
   },
   "outputs": [
    {
     "data": {
      "text/html": [
       "<div>\n",
       "<style scoped>\n",
       "    .dataframe tbody tr th:only-of-type {\n",
       "        vertical-align: middle;\n",
       "    }\n",
       "\n",
       "    .dataframe tbody tr th {\n",
       "        vertical-align: top;\n",
       "    }\n",
       "\n",
       "    .dataframe thead th {\n",
       "        text-align: right;\n",
       "    }\n",
       "</style>\n",
       "<table border=\"1\" class=\"dataframe\">\n",
       "  <thead>\n",
       "    <tr style=\"text-align: right;\">\n",
       "      <th></th>\n",
       "      <th>GICIS321</th>\n",
       "    </tr>\n",
       "    <tr>\n",
       "      <th>fecha_hora</th>\n",
       "      <th></th>\n",
       "    </tr>\n",
       "  </thead>\n",
       "  <tbody>\n",
       "    <tr>\n",
       "      <td>2020-01-01 00:00:00</td>\n",
       "      <td>0.0</td>\n",
       "    </tr>\n",
       "    <tr>\n",
       "      <td>2020-01-01 01:00:00</td>\n",
       "      <td>0.0</td>\n",
       "    </tr>\n",
       "    <tr>\n",
       "      <td>2020-01-01 02:00:00</td>\n",
       "      <td>0.0</td>\n",
       "    </tr>\n",
       "    <tr>\n",
       "      <td>2020-01-01 03:00:00</td>\n",
       "      <td>0.0</td>\n",
       "    </tr>\n",
       "    <tr>\n",
       "      <td>2020-01-01 04:00:00</td>\n",
       "      <td>0.0</td>\n",
       "    </tr>\n",
       "    <tr>\n",
       "      <td>...</td>\n",
       "      <td>...</td>\n",
       "    </tr>\n",
       "    <tr>\n",
       "      <td>2020-03-09 19:00:00</td>\n",
       "      <td>0.0</td>\n",
       "    </tr>\n",
       "    <tr>\n",
       "      <td>2020-03-09 20:00:00</td>\n",
       "      <td>0.0</td>\n",
       "    </tr>\n",
       "    <tr>\n",
       "      <td>2020-03-09 21:00:00</td>\n",
       "      <td>0.0</td>\n",
       "    </tr>\n",
       "    <tr>\n",
       "      <td>2020-03-09 22:00:00</td>\n",
       "      <td>0.0</td>\n",
       "    </tr>\n",
       "    <tr>\n",
       "      <td>2020-03-09 23:00:00</td>\n",
       "      <td>0.0</td>\n",
       "    </tr>\n",
       "  </tbody>\n",
       "</table>\n",
       "<p>1656 rows × 1 columns</p>\n",
       "</div>"
      ],
      "text/plain": [
       "                     GICIS321\n",
       "fecha_hora                   \n",
       "2020-01-01 00:00:00       0.0\n",
       "2020-01-01 01:00:00       0.0\n",
       "2020-01-01 02:00:00       0.0\n",
       "2020-01-01 03:00:00       0.0\n",
       "2020-01-01 04:00:00       0.0\n",
       "...                       ...\n",
       "2020-03-09 19:00:00       0.0\n",
       "2020-03-09 20:00:00       0.0\n",
       "2020-03-09 21:00:00       0.0\n",
       "2020-03-09 22:00:00       0.0\n",
       "2020-03-09 23:00:00       0.0\n",
       "\n",
       "[1656 rows x 1 columns]"
      ]
     },
     "execution_count": 8,
     "metadata": {},
     "output_type": "execute_result"
    }
   ],
   "source": [
    "df2 = df.drop(['hora'], axis=1)\n",
    "df2"
   ]
  },
  {
   "cell_type": "markdown",
   "metadata": {},
   "source": [
    "***"
   ]
  },
  {
   "cell_type": "code",
   "execution_count": 9,
   "metadata": {
    "ExecuteTime": {
     "end_time": "2020-05-03T23:31:09.081451Z",
     "start_time": "2020-05-03T23:31:09.067293Z"
    }
   },
   "outputs": [],
   "source": [
    "#Seleccion de y_train y y_test\n",
    "  \n",
    "n = 1 #numero de dias a simular\n",
    "test = (df.iloc[-(1*24):,:])   # INFO DE TEST (n DIAS)\n",
    "train = df.drop(df.index[:(1*24)]) # QUITANDO TEST PARA TRAIN"
   ]
  },
  {
   "cell_type": "code",
   "execution_count": 10,
   "metadata": {
    "ExecuteTime": {
     "end_time": "2020-05-03T23:31:09.104822Z",
     "start_time": "2020-05-03T23:31:09.088015Z"
    },
    "scrolled": true
   },
   "outputs": [
    {
     "data": {
      "text/html": [
       "<div>\n",
       "<style scoped>\n",
       "    .dataframe tbody tr th:only-of-type {\n",
       "        vertical-align: middle;\n",
       "    }\n",
       "\n",
       "    .dataframe tbody tr th {\n",
       "        vertical-align: top;\n",
       "    }\n",
       "\n",
       "    .dataframe thead th {\n",
       "        text-align: right;\n",
       "    }\n",
       "</style>\n",
       "<table border=\"1\" class=\"dataframe\">\n",
       "  <thead>\n",
       "    <tr style=\"text-align: right;\">\n",
       "      <th></th>\n",
       "      <th>hora</th>\n",
       "      <th>GICIS321</th>\n",
       "    </tr>\n",
       "    <tr>\n",
       "      <th>fecha_hora</th>\n",
       "      <th></th>\n",
       "      <th></th>\n",
       "    </tr>\n",
       "  </thead>\n",
       "  <tbody>\n",
       "    <tr>\n",
       "      <td>2020-01-02 00:00:00</td>\n",
       "      <td>1</td>\n",
       "      <td>0.0</td>\n",
       "    </tr>\n",
       "    <tr>\n",
       "      <td>2020-01-02 01:00:00</td>\n",
       "      <td>2</td>\n",
       "      <td>0.0</td>\n",
       "    </tr>\n",
       "    <tr>\n",
       "      <td>2020-01-02 02:00:00</td>\n",
       "      <td>3</td>\n",
       "      <td>0.0</td>\n",
       "    </tr>\n",
       "    <tr>\n",
       "      <td>2020-01-02 03:00:00</td>\n",
       "      <td>4</td>\n",
       "      <td>0.0</td>\n",
       "    </tr>\n",
       "    <tr>\n",
       "      <td>2020-01-02 04:00:00</td>\n",
       "      <td>5</td>\n",
       "      <td>0.0</td>\n",
       "    </tr>\n",
       "    <tr>\n",
       "      <td>...</td>\n",
       "      <td>...</td>\n",
       "      <td>...</td>\n",
       "    </tr>\n",
       "    <tr>\n",
       "      <td>2020-03-09 19:00:00</td>\n",
       "      <td>20</td>\n",
       "      <td>0.0</td>\n",
       "    </tr>\n",
       "    <tr>\n",
       "      <td>2020-03-09 20:00:00</td>\n",
       "      <td>21</td>\n",
       "      <td>0.0</td>\n",
       "    </tr>\n",
       "    <tr>\n",
       "      <td>2020-03-09 21:00:00</td>\n",
       "      <td>22</td>\n",
       "      <td>0.0</td>\n",
       "    </tr>\n",
       "    <tr>\n",
       "      <td>2020-03-09 22:00:00</td>\n",
       "      <td>23</td>\n",
       "      <td>0.0</td>\n",
       "    </tr>\n",
       "    <tr>\n",
       "      <td>2020-03-09 23:00:00</td>\n",
       "      <td>24</td>\n",
       "      <td>0.0</td>\n",
       "    </tr>\n",
       "  </tbody>\n",
       "</table>\n",
       "<p>1632 rows × 2 columns</p>\n",
       "</div>"
      ],
      "text/plain": [
       "                     hora  GICIS321\n",
       "fecha_hora                         \n",
       "2020-01-02 00:00:00     1       0.0\n",
       "2020-01-02 01:00:00     2       0.0\n",
       "2020-01-02 02:00:00     3       0.0\n",
       "2020-01-02 03:00:00     4       0.0\n",
       "2020-01-02 04:00:00     5       0.0\n",
       "...                   ...       ...\n",
       "2020-03-09 19:00:00    20       0.0\n",
       "2020-03-09 20:00:00    21       0.0\n",
       "2020-03-09 21:00:00    22       0.0\n",
       "2020-03-09 22:00:00    23       0.0\n",
       "2020-03-09 23:00:00    24       0.0\n",
       "\n",
       "[1632 rows x 2 columns]"
      ]
     },
     "execution_count": 10,
     "metadata": {},
     "output_type": "execute_result"
    }
   ],
   "source": [
    "train"
   ]
  },
  {
   "cell_type": "code",
   "execution_count": 11,
   "metadata": {
    "ExecuteTime": {
     "end_time": "2020-05-03T23:31:09.145108Z",
     "start_time": "2020-05-03T23:31:09.114475Z"
    }
   },
   "outputs": [
    {
     "data": {
      "text/plain": [
       "hora        7.0\n",
       "GICIS321    0.0\n",
       "Name: 2020-01-02 06:00:00, dtype: float64"
      ]
     },
     "execution_count": 11,
     "metadata": {},
     "output_type": "execute_result"
    }
   ],
   "source": [
    "train.iloc[6]"
   ]
  },
  {
   "cell_type": "code",
   "execution_count": 12,
   "metadata": {
    "ExecuteTime": {
     "end_time": "2020-05-03T23:31:09.177606Z",
     "start_time": "2020-05-03T23:31:09.151696Z"
    },
    "scrolled": true
   },
   "outputs": [
    {
     "data": {
      "text/html": [
       "<div>\n",
       "<style scoped>\n",
       "    .dataframe tbody tr th:only-of-type {\n",
       "        vertical-align: middle;\n",
       "    }\n",
       "\n",
       "    .dataframe tbody tr th {\n",
       "        vertical-align: top;\n",
       "    }\n",
       "\n",
       "    .dataframe thead th {\n",
       "        text-align: right;\n",
       "    }\n",
       "</style>\n",
       "<table border=\"1\" class=\"dataframe\">\n",
       "  <thead>\n",
       "    <tr style=\"text-align: right;\">\n",
       "      <th></th>\n",
       "      <th>hora</th>\n",
       "      <th>GICIS321</th>\n",
       "    </tr>\n",
       "    <tr>\n",
       "      <th>fecha_hora</th>\n",
       "      <th></th>\n",
       "      <th></th>\n",
       "    </tr>\n",
       "  </thead>\n",
       "  <tbody>\n",
       "    <tr>\n",
       "      <td>2020-03-09 00:00:00</td>\n",
       "      <td>1</td>\n",
       "      <td>0.0</td>\n",
       "    </tr>\n",
       "    <tr>\n",
       "      <td>2020-03-09 01:00:00</td>\n",
       "      <td>2</td>\n",
       "      <td>0.0</td>\n",
       "    </tr>\n",
       "    <tr>\n",
       "      <td>2020-03-09 02:00:00</td>\n",
       "      <td>3</td>\n",
       "      <td>0.0</td>\n",
       "    </tr>\n",
       "    <tr>\n",
       "      <td>2020-03-09 03:00:00</td>\n",
       "      <td>4</td>\n",
       "      <td>0.0</td>\n",
       "    </tr>\n",
       "    <tr>\n",
       "      <td>2020-03-09 04:00:00</td>\n",
       "      <td>5</td>\n",
       "      <td>0.0</td>\n",
       "    </tr>\n",
       "    <tr>\n",
       "      <td>2020-03-09 05:00:00</td>\n",
       "      <td>6</td>\n",
       "      <td>0.0</td>\n",
       "    </tr>\n",
       "    <tr>\n",
       "      <td>2020-03-09 06:00:00</td>\n",
       "      <td>7</td>\n",
       "      <td>0.0</td>\n",
       "    </tr>\n",
       "    <tr>\n",
       "      <td>2020-03-09 07:00:00</td>\n",
       "      <td>8</td>\n",
       "      <td>17740.0</td>\n",
       "    </tr>\n",
       "    <tr>\n",
       "      <td>2020-03-09 08:00:00</td>\n",
       "      <td>9</td>\n",
       "      <td>44948.0</td>\n",
       "    </tr>\n",
       "    <tr>\n",
       "      <td>2020-03-09 09:00:00</td>\n",
       "      <td>10</td>\n",
       "      <td>68701.0</td>\n",
       "    </tr>\n",
       "    <tr>\n",
       "      <td>2020-03-09 10:00:00</td>\n",
       "      <td>11</td>\n",
       "      <td>107638.0</td>\n",
       "    </tr>\n",
       "    <tr>\n",
       "      <td>2020-03-09 11:00:00</td>\n",
       "      <td>12</td>\n",
       "      <td>100243.0</td>\n",
       "    </tr>\n",
       "    <tr>\n",
       "      <td>2020-03-09 12:00:00</td>\n",
       "      <td>13</td>\n",
       "      <td>79295.0</td>\n",
       "    </tr>\n",
       "    <tr>\n",
       "      <td>2020-03-09 13:00:00</td>\n",
       "      <td>14</td>\n",
       "      <td>84740.0</td>\n",
       "    </tr>\n",
       "    <tr>\n",
       "      <td>2020-03-09 14:00:00</td>\n",
       "      <td>15</td>\n",
       "      <td>70830.0</td>\n",
       "    </tr>\n",
       "    <tr>\n",
       "      <td>2020-03-09 15:00:00</td>\n",
       "      <td>16</td>\n",
       "      <td>45907.0</td>\n",
       "    </tr>\n",
       "    <tr>\n",
       "      <td>2020-03-09 16:00:00</td>\n",
       "      <td>17</td>\n",
       "      <td>21979.0</td>\n",
       "    </tr>\n",
       "    <tr>\n",
       "      <td>2020-03-09 17:00:00</td>\n",
       "      <td>18</td>\n",
       "      <td>883.0</td>\n",
       "    </tr>\n",
       "    <tr>\n",
       "      <td>2020-03-09 18:00:00</td>\n",
       "      <td>19</td>\n",
       "      <td>0.0</td>\n",
       "    </tr>\n",
       "    <tr>\n",
       "      <td>2020-03-09 19:00:00</td>\n",
       "      <td>20</td>\n",
       "      <td>0.0</td>\n",
       "    </tr>\n",
       "    <tr>\n",
       "      <td>2020-03-09 20:00:00</td>\n",
       "      <td>21</td>\n",
       "      <td>0.0</td>\n",
       "    </tr>\n",
       "    <tr>\n",
       "      <td>2020-03-09 21:00:00</td>\n",
       "      <td>22</td>\n",
       "      <td>0.0</td>\n",
       "    </tr>\n",
       "    <tr>\n",
       "      <td>2020-03-09 22:00:00</td>\n",
       "      <td>23</td>\n",
       "      <td>0.0</td>\n",
       "    </tr>\n",
       "    <tr>\n",
       "      <td>2020-03-09 23:00:00</td>\n",
       "      <td>24</td>\n",
       "      <td>0.0</td>\n",
       "    </tr>\n",
       "  </tbody>\n",
       "</table>\n",
       "</div>"
      ],
      "text/plain": [
       "                     hora  GICIS321\n",
       "fecha_hora                         \n",
       "2020-03-09 00:00:00     1       0.0\n",
       "2020-03-09 01:00:00     2       0.0\n",
       "2020-03-09 02:00:00     3       0.0\n",
       "2020-03-09 03:00:00     4       0.0\n",
       "2020-03-09 04:00:00     5       0.0\n",
       "2020-03-09 05:00:00     6       0.0\n",
       "2020-03-09 06:00:00     7       0.0\n",
       "2020-03-09 07:00:00     8   17740.0\n",
       "2020-03-09 08:00:00     9   44948.0\n",
       "2020-03-09 09:00:00    10   68701.0\n",
       "2020-03-09 10:00:00    11  107638.0\n",
       "2020-03-09 11:00:00    12  100243.0\n",
       "2020-03-09 12:00:00    13   79295.0\n",
       "2020-03-09 13:00:00    14   84740.0\n",
       "2020-03-09 14:00:00    15   70830.0\n",
       "2020-03-09 15:00:00    16   45907.0\n",
       "2020-03-09 16:00:00    17   21979.0\n",
       "2020-03-09 17:00:00    18     883.0\n",
       "2020-03-09 18:00:00    19       0.0\n",
       "2020-03-09 19:00:00    20       0.0\n",
       "2020-03-09 20:00:00    21       0.0\n",
       "2020-03-09 21:00:00    22       0.0\n",
       "2020-03-09 22:00:00    23       0.0\n",
       "2020-03-09 23:00:00    24       0.0"
      ]
     },
     "execution_count": 12,
     "metadata": {},
     "output_type": "execute_result"
    }
   ],
   "source": [
    "test"
   ]
  },
  {
   "cell_type": "code",
   "execution_count": 13,
   "metadata": {
    "ExecuteTime": {
     "end_time": "2020-05-03T23:31:17.170953Z",
     "start_time": "2020-05-03T23:31:09.180740Z"
    }
   },
   "outputs": [
    {
     "data": {
      "text/html": [
       "<div>\n",
       "<style scoped>\n",
       "    .dataframe tbody tr th:only-of-type {\n",
       "        vertical-align: middle;\n",
       "    }\n",
       "\n",
       "    .dataframe tbody tr th {\n",
       "        vertical-align: top;\n",
       "    }\n",
       "\n",
       "    .dataframe thead th {\n",
       "        text-align: right;\n",
       "    }\n",
       "</style>\n",
       "<table border=\"1\" class=\"dataframe\">\n",
       "  <thead>\n",
       "    <tr style=\"text-align: right;\">\n",
       "      <th></th>\n",
       "      <th>Hora 1</th>\n",
       "      <th>Hora 2</th>\n",
       "      <th>Hora 3</th>\n",
       "      <th>Hora 4</th>\n",
       "      <th>Hora 5</th>\n",
       "      <th>Hora 6</th>\n",
       "      <th>Hora 7</th>\n",
       "      <th>Hora 8</th>\n",
       "      <th>Hora 9</th>\n",
       "      <th>Hora 10</th>\n",
       "      <th>...</th>\n",
       "      <th>Hora 15</th>\n",
       "      <th>Hora 16</th>\n",
       "      <th>Hora 17</th>\n",
       "      <th>Hora 18</th>\n",
       "      <th>Hora 19</th>\n",
       "      <th>Hora 20</th>\n",
       "      <th>Hora 21</th>\n",
       "      <th>Hora 22</th>\n",
       "      <th>Hora 23</th>\n",
       "      <th>Hora 24</th>\n",
       "    </tr>\n",
       "  </thead>\n",
       "  <tbody>\n",
       "    <tr>\n",
       "      <td>0</td>\n",
       "      <td>0.0</td>\n",
       "      <td>0.0</td>\n",
       "      <td>0.0</td>\n",
       "      <td>0.0</td>\n",
       "      <td>0.0</td>\n",
       "      <td>0.0</td>\n",
       "      <td>0.0</td>\n",
       "      <td>0.0</td>\n",
       "      <td>3040.0</td>\n",
       "      <td>8344.0</td>\n",
       "      <td>...</td>\n",
       "      <td>121483.0</td>\n",
       "      <td>113987.0</td>\n",
       "      <td>118179.0</td>\n",
       "      <td>15236.0</td>\n",
       "      <td>0.0</td>\n",
       "      <td>0.0</td>\n",
       "      <td>0.0</td>\n",
       "      <td>0.0</td>\n",
       "      <td>0.0</td>\n",
       "      <td>0.0</td>\n",
       "    </tr>\n",
       "    <tr>\n",
       "      <td>1</td>\n",
       "      <td>0.0</td>\n",
       "      <td>0.0</td>\n",
       "      <td>0.0</td>\n",
       "      <td>0.0</td>\n",
       "      <td>0.0</td>\n",
       "      <td>0.0</td>\n",
       "      <td>0.0</td>\n",
       "      <td>1698.0</td>\n",
       "      <td>85527.0</td>\n",
       "      <td>134170.0</td>\n",
       "      <td>...</td>\n",
       "      <td>116874.0</td>\n",
       "      <td>116946.0</td>\n",
       "      <td>113654.0</td>\n",
       "      <td>20966.0</td>\n",
       "      <td>0.0</td>\n",
       "      <td>0.0</td>\n",
       "      <td>0.0</td>\n",
       "      <td>0.0</td>\n",
       "      <td>0.0</td>\n",
       "      <td>0.0</td>\n",
       "    </tr>\n",
       "    <tr>\n",
       "      <td>2</td>\n",
       "      <td>0.0</td>\n",
       "      <td>0.0</td>\n",
       "      <td>0.0</td>\n",
       "      <td>0.0</td>\n",
       "      <td>0.0</td>\n",
       "      <td>0.0</td>\n",
       "      <td>0.0</td>\n",
       "      <td>1993.0</td>\n",
       "      <td>85591.0</td>\n",
       "      <td>124917.0</td>\n",
       "      <td>...</td>\n",
       "      <td>129293.0</td>\n",
       "      <td>131060.0</td>\n",
       "      <td>112783.0</td>\n",
       "      <td>24182.0</td>\n",
       "      <td>0.0</td>\n",
       "      <td>0.0</td>\n",
       "      <td>0.0</td>\n",
       "      <td>0.0</td>\n",
       "      <td>0.0</td>\n",
       "      <td>0.0</td>\n",
       "    </tr>\n",
       "    <tr>\n",
       "      <td>3</td>\n",
       "      <td>0.0</td>\n",
       "      <td>0.0</td>\n",
       "      <td>0.0</td>\n",
       "      <td>0.0</td>\n",
       "      <td>0.0</td>\n",
       "      <td>0.0</td>\n",
       "      <td>0.0</td>\n",
       "      <td>2037.0</td>\n",
       "      <td>81153.0</td>\n",
       "      <td>127014.0</td>\n",
       "      <td>...</td>\n",
       "      <td>117797.0</td>\n",
       "      <td>123404.0</td>\n",
       "      <td>102896.0</td>\n",
       "      <td>25234.0</td>\n",
       "      <td>0.0</td>\n",
       "      <td>0.0</td>\n",
       "      <td>0.0</td>\n",
       "      <td>0.0</td>\n",
       "      <td>0.0</td>\n",
       "      <td>0.0</td>\n",
       "    </tr>\n",
       "    <tr>\n",
       "      <td>4</td>\n",
       "      <td>0.0</td>\n",
       "      <td>0.0</td>\n",
       "      <td>0.0</td>\n",
       "      <td>0.0</td>\n",
       "      <td>0.0</td>\n",
       "      <td>0.0</td>\n",
       "      <td>0.0</td>\n",
       "      <td>2388.0</td>\n",
       "      <td>87343.0</td>\n",
       "      <td>127128.0</td>\n",
       "      <td>...</td>\n",
       "      <td>112916.0</td>\n",
       "      <td>110042.0</td>\n",
       "      <td>88569.0</td>\n",
       "      <td>23601.0</td>\n",
       "      <td>0.0</td>\n",
       "      <td>0.0</td>\n",
       "      <td>0.0</td>\n",
       "      <td>0.0</td>\n",
       "      <td>0.0</td>\n",
       "      <td>0.0</td>\n",
       "    </tr>\n",
       "    <tr>\n",
       "      <td>...</td>\n",
       "      <td>...</td>\n",
       "      <td>...</td>\n",
       "      <td>...</td>\n",
       "      <td>...</td>\n",
       "      <td>...</td>\n",
       "      <td>...</td>\n",
       "      <td>...</td>\n",
       "      <td>...</td>\n",
       "      <td>...</td>\n",
       "      <td>...</td>\n",
       "      <td>...</td>\n",
       "      <td>...</td>\n",
       "      <td>...</td>\n",
       "      <td>...</td>\n",
       "      <td>...</td>\n",
       "      <td>...</td>\n",
       "      <td>...</td>\n",
       "      <td>...</td>\n",
       "      <td>...</td>\n",
       "      <td>...</td>\n",
       "      <td>...</td>\n",
       "    </tr>\n",
       "    <tr>\n",
       "      <td>62</td>\n",
       "      <td>0.0</td>\n",
       "      <td>0.0</td>\n",
       "      <td>0.0</td>\n",
       "      <td>0.0</td>\n",
       "      <td>0.0</td>\n",
       "      <td>0.0</td>\n",
       "      <td>0.0</td>\n",
       "      <td>4477.0</td>\n",
       "      <td>25617.0</td>\n",
       "      <td>65814.0</td>\n",
       "      <td>...</td>\n",
       "      <td>134124.0</td>\n",
       "      <td>98073.0</td>\n",
       "      <td>44736.0</td>\n",
       "      <td>54614.0</td>\n",
       "      <td>6687.0</td>\n",
       "      <td>0.0</td>\n",
       "      <td>0.0</td>\n",
       "      <td>0.0</td>\n",
       "      <td>0.0</td>\n",
       "      <td>0.0</td>\n",
       "    </tr>\n",
       "    <tr>\n",
       "      <td>63</td>\n",
       "      <td>0.0</td>\n",
       "      <td>0.0</td>\n",
       "      <td>0.0</td>\n",
       "      <td>0.0</td>\n",
       "      <td>0.0</td>\n",
       "      <td>0.0</td>\n",
       "      <td>0.0</td>\n",
       "      <td>6388.0</td>\n",
       "      <td>46982.0</td>\n",
       "      <td>122530.0</td>\n",
       "      <td>...</td>\n",
       "      <td>126111.0</td>\n",
       "      <td>110941.0</td>\n",
       "      <td>65166.0</td>\n",
       "      <td>27354.0</td>\n",
       "      <td>7127.0</td>\n",
       "      <td>0.0</td>\n",
       "      <td>0.0</td>\n",
       "      <td>0.0</td>\n",
       "      <td>0.0</td>\n",
       "      <td>0.0</td>\n",
       "    </tr>\n",
       "    <tr>\n",
       "      <td>64</td>\n",
       "      <td>0.0</td>\n",
       "      <td>0.0</td>\n",
       "      <td>0.0</td>\n",
       "      <td>0.0</td>\n",
       "      <td>0.0</td>\n",
       "      <td>0.0</td>\n",
       "      <td>0.0</td>\n",
       "      <td>5389.0</td>\n",
       "      <td>35185.0</td>\n",
       "      <td>136518.0</td>\n",
       "      <td>...</td>\n",
       "      <td>99011.0</td>\n",
       "      <td>111358.0</td>\n",
       "      <td>78705.0</td>\n",
       "      <td>33460.0</td>\n",
       "      <td>2821.0</td>\n",
       "      <td>0.0</td>\n",
       "      <td>0.0</td>\n",
       "      <td>0.0</td>\n",
       "      <td>0.0</td>\n",
       "      <td>0.0</td>\n",
       "    </tr>\n",
       "    <tr>\n",
       "      <td>65</td>\n",
       "      <td>0.0</td>\n",
       "      <td>0.0</td>\n",
       "      <td>0.0</td>\n",
       "      <td>0.0</td>\n",
       "      <td>0.0</td>\n",
       "      <td>0.0</td>\n",
       "      <td>0.0</td>\n",
       "      <td>6607.0</td>\n",
       "      <td>27932.0</td>\n",
       "      <td>91990.0</td>\n",
       "      <td>...</td>\n",
       "      <td>128377.0</td>\n",
       "      <td>114482.0</td>\n",
       "      <td>107119.0</td>\n",
       "      <td>54844.0</td>\n",
       "      <td>2056.0</td>\n",
       "      <td>0.0</td>\n",
       "      <td>0.0</td>\n",
       "      <td>0.0</td>\n",
       "      <td>0.0</td>\n",
       "      <td>0.0</td>\n",
       "    </tr>\n",
       "    <tr>\n",
       "      <td>66</td>\n",
       "      <td>0.0</td>\n",
       "      <td>0.0</td>\n",
       "      <td>0.0</td>\n",
       "      <td>0.0</td>\n",
       "      <td>0.0</td>\n",
       "      <td>0.0</td>\n",
       "      <td>0.0</td>\n",
       "      <td>1814.0</td>\n",
       "      <td>14872.0</td>\n",
       "      <td>28116.0</td>\n",
       "      <td>...</td>\n",
       "      <td>39004.0</td>\n",
       "      <td>30546.0</td>\n",
       "      <td>48824.0</td>\n",
       "      <td>19976.0</td>\n",
       "      <td>4245.0</td>\n",
       "      <td>0.0</td>\n",
       "      <td>0.0</td>\n",
       "      <td>0.0</td>\n",
       "      <td>0.0</td>\n",
       "      <td>0.0</td>\n",
       "    </tr>\n",
       "  </tbody>\n",
       "</table>\n",
       "<p>67 rows × 24 columns</p>\n",
       "</div>"
      ],
      "text/plain": [
       "    Hora 1  Hora 2  Hora 3  Hora 4  Hora 5  Hora 6  Hora 7  Hora 8   Hora 9  \\\n",
       "0      0.0     0.0     0.0     0.0     0.0     0.0     0.0     0.0   3040.0   \n",
       "1      0.0     0.0     0.0     0.0     0.0     0.0     0.0  1698.0  85527.0   \n",
       "2      0.0     0.0     0.0     0.0     0.0     0.0     0.0  1993.0  85591.0   \n",
       "3      0.0     0.0     0.0     0.0     0.0     0.0     0.0  2037.0  81153.0   \n",
       "4      0.0     0.0     0.0     0.0     0.0     0.0     0.0  2388.0  87343.0   \n",
       "..     ...     ...     ...     ...     ...     ...     ...     ...      ...   \n",
       "62     0.0     0.0     0.0     0.0     0.0     0.0     0.0  4477.0  25617.0   \n",
       "63     0.0     0.0     0.0     0.0     0.0     0.0     0.0  6388.0  46982.0   \n",
       "64     0.0     0.0     0.0     0.0     0.0     0.0     0.0  5389.0  35185.0   \n",
       "65     0.0     0.0     0.0     0.0     0.0     0.0     0.0  6607.0  27932.0   \n",
       "66     0.0     0.0     0.0     0.0     0.0     0.0     0.0  1814.0  14872.0   \n",
       "\n",
       "     Hora 10  ...   Hora 15   Hora 16   Hora 17  Hora 18  Hora 19  Hora 20  \\\n",
       "0     8344.0  ...  121483.0  113987.0  118179.0  15236.0      0.0      0.0   \n",
       "1   134170.0  ...  116874.0  116946.0  113654.0  20966.0      0.0      0.0   \n",
       "2   124917.0  ...  129293.0  131060.0  112783.0  24182.0      0.0      0.0   \n",
       "3   127014.0  ...  117797.0  123404.0  102896.0  25234.0      0.0      0.0   \n",
       "4   127128.0  ...  112916.0  110042.0   88569.0  23601.0      0.0      0.0   \n",
       "..       ...  ...       ...       ...       ...      ...      ...      ...   \n",
       "62   65814.0  ...  134124.0   98073.0   44736.0  54614.0   6687.0      0.0   \n",
       "63  122530.0  ...  126111.0  110941.0   65166.0  27354.0   7127.0      0.0   \n",
       "64  136518.0  ...   99011.0  111358.0   78705.0  33460.0   2821.0      0.0   \n",
       "65   91990.0  ...  128377.0  114482.0  107119.0  54844.0   2056.0      0.0   \n",
       "66   28116.0  ...   39004.0   30546.0   48824.0  19976.0   4245.0      0.0   \n",
       "\n",
       "    Hora 21  Hora 22  Hora 23  Hora 24  \n",
       "0       0.0      0.0      0.0      0.0  \n",
       "1       0.0      0.0      0.0      0.0  \n",
       "2       0.0      0.0      0.0      0.0  \n",
       "3       0.0      0.0      0.0      0.0  \n",
       "4       0.0      0.0      0.0      0.0  \n",
       "..      ...      ...      ...      ...  \n",
       "62      0.0      0.0      0.0      0.0  \n",
       "63      0.0      0.0      0.0      0.0  \n",
       "64      0.0      0.0      0.0      0.0  \n",
       "65      0.0      0.0      0.0      0.0  \n",
       "66      0.0      0.0      0.0      0.0  \n",
       "\n",
       "[67 rows x 24 columns]"
      ]
     },
     "execution_count": 13,
     "metadata": {},
     "output_type": "execute_result"
    }
   ],
   "source": [
    "xhr = pd.DataFrame()\n",
    "for i in range(0,24):\n",
    "    hrs = [train.iloc[j][1] for j in range(0,len(train)) if train.iloc[j][0] == i+1 ] #pd.Series()\n",
    "    xhr['Hora '+str(i+1)] = hrs\n",
    "xhr = xhr.drop([xhr.index[-1]])\n",
    "xhr"
   ]
  },
  {
   "cell_type": "code",
   "execution_count": 14,
   "metadata": {
    "ExecuteTime": {
     "end_time": "2020-05-03T23:31:17.193820Z",
     "start_time": "2020-05-03T23:31:17.175972Z"
    }
   },
   "outputs": [],
   "source": [
    "train = train.drop(['hora'], axis=1)\n",
    "test = test.drop(['hora'], axis=1)"
   ]
  },
  {
   "cell_type": "markdown",
   "metadata": {},
   "source": [
    "*** \n",
    "# Modelo ARIMA"
   ]
  },
  {
   "cell_type": "code",
   "execution_count": 15,
   "metadata": {
    "ExecuteTime": {
     "end_time": "2020-05-03T23:32:31.966547Z",
     "start_time": "2020-05-03T23:31:17.205475Z"
    }
   },
   "outputs": [
    {
     "data": {
      "image/png": "[encoded data removed]",
      "text/plain": [
       "<Figure size 576x432 with 1 Axes>"
      ]
     },
     "metadata": {
      "needs_background": "light"
     },
     "output_type": "display_data"
    }
   ],
   "source": [
    "history = [x for x in train.values]\n",
    "predictions = []\n",
    "\n",
    "for t in range(0,24):\n",
    "    model = ARIMA(history, order=(8,1,2))\n",
    "    model_fit = model.fit()\n",
    "    output = model_fit.forecast()\n",
    "    yhat = output[0]\n",
    "    predictions.append(yhat)\n",
    "    obs = test.values[t]\n",
    "    history.append(obs)\n",
    "\n",
    "for i in range(0,len(test)): # SUPUESTO 1: SI NO HUBO PRODUCCIÓN UN DÍA ANTES, NO HABRÁ ESE DÍA. \n",
    "    if test.iloc[i].values == 0:\n",
    "        predictions[i] = 0\n",
    "    if predictions[i] < 0:\n",
    "        predictions[i] = 0\n",
    "        \n",
    "# plot\n",
    "plt.subplots(figsize=(8,6))\n",
    "plt.plot(test)\n",
    "plt.plot(predictions, color='red')\n",
    "plt.xticks(rotation=90)\n",
    "plt.show()"
   ]
  },
  {
   "cell_type": "code",
   "execution_count": 16,
   "metadata": {
    "ExecuteTime": {
     "end_time": "2020-05-03T23:32:32.007171Z",
     "start_time": "2020-05-03T23:32:31.969200Z"
    }
   },
   "outputs": [
    {
     "data": {
      "text/plain": [
       "1.4086354604474651"
      ]
     },
     "execution_count": 16,
     "metadata": {},
     "output_type": "execute_result"
    }
   ],
   "source": [
    "fvst = pd.DataFrame()\n",
    "fvst['real'] = test[columna].values.flatten()\n",
    "fvst['forecasts'] = 0\n",
    "for i in range(len(fvst)):\n",
    "    if predictions[i] == 0:\n",
    "        fvst['forecasts'][i] = predictions[i]\n",
    "    else:\n",
    "        fvst['forecasts'][i] = predictions[i].item()\n",
    "fvst['error'] = 0\n",
    "\n",
    "for i in range(len(fvst)):\n",
    "    fvst['error'][i] = np.abs((fvst['forecasts'][i]- fvst['real'][i])/(fvst['real'][i]))\n",
    "\n",
    "mea = np.mean(fvst.iloc[7:19,2])\n",
    "mea"
   ]
  },
  {
   "cell_type": "code",
   "execution_count": 17,
   "metadata": {
    "ExecuteTime": {
     "end_time": "2020-05-03T23:32:32.051961Z",
     "start_time": "2020-05-03T23:32:32.028453Z"
    }
   },
   "outputs": [
    {
     "name": "stdout",
     "output_type": "stream",
     "text": [
      "0.6456245860384215\n"
     ]
    },
    {
     "data": {
      "text/html": [
       "<div>\n",
       "<style scoped>\n",
       "    .dataframe tbody tr th:only-of-type {\n",
       "        vertical-align: middle;\n",
       "    }\n",
       "\n",
       "    .dataframe tbody tr th {\n",
       "        vertical-align: top;\n",
       "    }\n",
       "\n",
       "    .dataframe thead th {\n",
       "        text-align: right;\n",
       "    }\n",
       "</style>\n",
       "<table border=\"1\" class=\"dataframe\">\n",
       "  <thead>\n",
       "    <tr style=\"text-align: right;\">\n",
       "      <th></th>\n",
       "      <th>real</th>\n",
       "      <th>forecasts</th>\n",
       "      <th>error</th>\n",
       "    </tr>\n",
       "  </thead>\n",
       "  <tbody>\n",
       "    <tr>\n",
       "      <td>0</td>\n",
       "      <td>0.0</td>\n",
       "      <td>0</td>\n",
       "      <td>0.000000</td>\n",
       "    </tr>\n",
       "    <tr>\n",
       "      <td>1</td>\n",
       "      <td>0.0</td>\n",
       "      <td>0</td>\n",
       "      <td>0.000000</td>\n",
       "    </tr>\n",
       "    <tr>\n",
       "      <td>2</td>\n",
       "      <td>0.0</td>\n",
       "      <td>0</td>\n",
       "      <td>0.000000</td>\n",
       "    </tr>\n",
       "    <tr>\n",
       "      <td>3</td>\n",
       "      <td>0.0</td>\n",
       "      <td>0</td>\n",
       "      <td>0.000000</td>\n",
       "    </tr>\n",
       "    <tr>\n",
       "      <td>4</td>\n",
       "      <td>0.0</td>\n",
       "      <td>0</td>\n",
       "      <td>0.000000</td>\n",
       "    </tr>\n",
       "    <tr>\n",
       "      <td>5</td>\n",
       "      <td>0.0</td>\n",
       "      <td>0</td>\n",
       "      <td>0.000000</td>\n",
       "    </tr>\n",
       "    <tr>\n",
       "      <td>6</td>\n",
       "      <td>0.0</td>\n",
       "      <td>0</td>\n",
       "      <td>0.000000</td>\n",
       "    </tr>\n",
       "    <tr>\n",
       "      <td>7</td>\n",
       "      <td>17740.0</td>\n",
       "      <td>14145</td>\n",
       "      <td>0.202649</td>\n",
       "    </tr>\n",
       "    <tr>\n",
       "      <td>8</td>\n",
       "      <td>44948.0</td>\n",
       "      <td>34884</td>\n",
       "      <td>0.223903</td>\n",
       "    </tr>\n",
       "    <tr>\n",
       "      <td>9</td>\n",
       "      <td>68701.0</td>\n",
       "      <td>59569</td>\n",
       "      <td>0.132924</td>\n",
       "    </tr>\n",
       "    <tr>\n",
       "      <td>10</td>\n",
       "      <td>107638.0</td>\n",
       "      <td>76128</td>\n",
       "      <td>0.292740</td>\n",
       "    </tr>\n",
       "    <tr>\n",
       "      <td>11</td>\n",
       "      <td>100243.0</td>\n",
       "      <td>112442</td>\n",
       "      <td>0.121694</td>\n",
       "    </tr>\n",
       "    <tr>\n",
       "      <td>12</td>\n",
       "      <td>79295.0</td>\n",
       "      <td>88579</td>\n",
       "      <td>0.117082</td>\n",
       "    </tr>\n",
       "    <tr>\n",
       "      <td>13</td>\n",
       "      <td>84740.0</td>\n",
       "      <td>65495</td>\n",
       "      <td>0.227106</td>\n",
       "    </tr>\n",
       "    <tr>\n",
       "      <td>14</td>\n",
       "      <td>70830.0</td>\n",
       "      <td>80312</td>\n",
       "      <td>0.133870</td>\n",
       "    </tr>\n",
       "    <tr>\n",
       "      <td>15</td>\n",
       "      <td>45907.0</td>\n",
       "      <td>58144</td>\n",
       "      <td>0.266561</td>\n",
       "    </tr>\n",
       "    <tr>\n",
       "      <td>16</td>\n",
       "      <td>21979.0</td>\n",
       "      <td>31677</td>\n",
       "      <td>0.441239</td>\n",
       "    </tr>\n",
       "    <tr>\n",
       "      <td>17</td>\n",
       "      <td>883.0</td>\n",
       "      <td>12658</td>\n",
       "      <td>13.335221</td>\n",
       "    </tr>\n",
       "    <tr>\n",
       "      <td>18</td>\n",
       "      <td>0.0</td>\n",
       "      <td>0</td>\n",
       "      <td>0.000000</td>\n",
       "    </tr>\n",
       "    <tr>\n",
       "      <td>19</td>\n",
       "      <td>0.0</td>\n",
       "      <td>0</td>\n",
       "      <td>0.000000</td>\n",
       "    </tr>\n",
       "    <tr>\n",
       "      <td>20</td>\n",
       "      <td>0.0</td>\n",
       "      <td>0</td>\n",
       "      <td>0.000000</td>\n",
       "    </tr>\n",
       "    <tr>\n",
       "      <td>21</td>\n",
       "      <td>0.0</td>\n",
       "      <td>0</td>\n",
       "      <td>0.000000</td>\n",
       "    </tr>\n",
       "    <tr>\n",
       "      <td>22</td>\n",
       "      <td>0.0</td>\n",
       "      <td>0</td>\n",
       "      <td>0.000000</td>\n",
       "    </tr>\n",
       "    <tr>\n",
       "      <td>23</td>\n",
       "      <td>0.0</td>\n",
       "      <td>0</td>\n",
       "      <td>0.000000</td>\n",
       "    </tr>\n",
       "  </tbody>\n",
       "</table>\n",
       "</div>"
      ],
      "text/plain": [
       "        real  forecasts      error\n",
       "0        0.0          0   0.000000\n",
       "1        0.0          0   0.000000\n",
       "2        0.0          0   0.000000\n",
       "3        0.0          0   0.000000\n",
       "4        0.0          0   0.000000\n",
       "5        0.0          0   0.000000\n",
       "6        0.0          0   0.000000\n",
       "7    17740.0      14145   0.202649\n",
       "8    44948.0      34884   0.223903\n",
       "9    68701.0      59569   0.132924\n",
       "10  107638.0      76128   0.292740\n",
       "11  100243.0     112442   0.121694\n",
       "12   79295.0      88579   0.117082\n",
       "13   84740.0      65495   0.227106\n",
       "14   70830.0      80312   0.133870\n",
       "15   45907.0      58144   0.266561\n",
       "16   21979.0      31677   0.441239\n",
       "17     883.0      12658  13.335221\n",
       "18       0.0          0   0.000000\n",
       "19       0.0          0   0.000000\n",
       "20       0.0          0   0.000000\n",
       "21       0.0          0   0.000000\n",
       "22       0.0          0   0.000000\n",
       "23       0.0          0   0.000000"
      ]
     },
     "execution_count": 17,
     "metadata": {},
     "output_type": "execute_result"
    }
   ],
   "source": [
    "fvst = fvst.fillna(0)\n",
    "print(np.mean(fvst.error))\n",
    "fvst"
   ]
  },
  {
   "cell_type": "code",
   "execution_count": 18,
   "metadata": {
    "ExecuteTime": {
     "end_time": "2020-05-03T23:32:32.069722Z",
     "start_time": "2020-05-03T23:32:32.056574Z"
    }
   },
   "outputs": [
    {
     "data": {
      "text/plain": [
       "0.013798327588566878"
      ]
     },
     "execution_count": 18,
     "metadata": {},
     "output_type": "execute_result"
    }
   ],
   "source": [
    "np.abs((sum(fvst['forecasts']) - sum(fvst['real']))/sum(fvst['real']))"
   ]
  },
  {
   "cell_type": "markdown",
   "metadata": {},
   "source": [
    "# Tomando promedios anteriores:"
   ]
  },
  {
   "cell_type": "markdown",
   "metadata": {},
   "source": [
    "# Cambiando 7 8 y 9:"
   ]
  },
  {
   "cell_type": "code",
   "execution_count": 19,
   "metadata": {
    "ExecuteTime": {
     "end_time": "2020-05-03T23:32:32.085062Z",
     "start_time": "2020-05-03T23:32:32.074657Z"
    }
   },
   "outputs": [
    {
     "data": {
      "text/plain": [
       "14145"
      ]
     },
     "execution_count": 19,
     "metadata": {},
     "output_type": "execute_result"
    }
   ],
   "source": [
    "fvst.iloc[7,1]"
   ]
  },
  {
   "cell_type": "code",
   "execution_count": 20,
   "metadata": {
    "ExecuteTime": {
     "end_time": "2020-05-03T23:32:32.102286Z",
     "start_time": "2020-05-03T23:32:32.089196Z"
    }
   },
   "outputs": [
    {
     "data": {
      "text/plain": [
       "60    19019.0\n",
       "61    10249.0\n",
       "62     4477.0\n",
       "63     6388.0\n",
       "64     5389.0\n",
       "65     6607.0\n",
       "66     1814.0\n",
       "Name: Hora 8, dtype: float64"
      ]
     },
     "execution_count": 20,
     "metadata": {},
     "output_type": "execute_result"
    }
   ],
   "source": [
    "xhr['Hora 8'][-7:]"
   ]
  },
  {
   "cell_type": "code",
   "execution_count": 21,
   "metadata": {
    "ExecuteTime": {
     "end_time": "2020-05-03T23:32:32.138489Z",
     "start_time": "2020-05-03T23:32:32.106112Z"
    }
   },
   "outputs": [
    {
     "data": {
      "text/html": [
       "<div>\n",
       "<style scoped>\n",
       "    .dataframe tbody tr th:only-of-type {\n",
       "        vertical-align: middle;\n",
       "    }\n",
       "\n",
       "    .dataframe tbody tr th {\n",
       "        vertical-align: top;\n",
       "    }\n",
       "\n",
       "    .dataframe thead th {\n",
       "        text-align: right;\n",
       "    }\n",
       "</style>\n",
       "<table border=\"1\" class=\"dataframe\">\n",
       "  <thead>\n",
       "    <tr style=\"text-align: right;\">\n",
       "      <th></th>\n",
       "      <th>real</th>\n",
       "      <th>forecasts</th>\n",
       "      <th>error</th>\n",
       "    </tr>\n",
       "  </thead>\n",
       "  <tbody>\n",
       "    <tr>\n",
       "      <td>0</td>\n",
       "      <td>0.0</td>\n",
       "      <td>0.000000</td>\n",
       "      <td>0.000000</td>\n",
       "    </tr>\n",
       "    <tr>\n",
       "      <td>1</td>\n",
       "      <td>0.0</td>\n",
       "      <td>0.000000</td>\n",
       "      <td>0.000000</td>\n",
       "    </tr>\n",
       "    <tr>\n",
       "      <td>2</td>\n",
       "      <td>0.0</td>\n",
       "      <td>0.000000</td>\n",
       "      <td>0.000000</td>\n",
       "    </tr>\n",
       "    <tr>\n",
       "      <td>3</td>\n",
       "      <td>0.0</td>\n",
       "      <td>0.000000</td>\n",
       "      <td>0.000000</td>\n",
       "    </tr>\n",
       "    <tr>\n",
       "      <td>4</td>\n",
       "      <td>0.0</td>\n",
       "      <td>0.000000</td>\n",
       "      <td>0.000000</td>\n",
       "    </tr>\n",
       "    <tr>\n",
       "      <td>5</td>\n",
       "      <td>0.0</td>\n",
       "      <td>0.000000</td>\n",
       "      <td>0.000000</td>\n",
       "    </tr>\n",
       "    <tr>\n",
       "      <td>6</td>\n",
       "      <td>0.0</td>\n",
       "      <td>0.000000</td>\n",
       "      <td>0.000000</td>\n",
       "    </tr>\n",
       "    <tr>\n",
       "      <td>7</td>\n",
       "      <td>17740.0</td>\n",
       "      <td>7706.142857</td>\n",
       "      <td>0.565606</td>\n",
       "    </tr>\n",
       "    <tr>\n",
       "      <td>8</td>\n",
       "      <td>44948.0</td>\n",
       "      <td>45765.571429</td>\n",
       "      <td>0.018189</td>\n",
       "    </tr>\n",
       "    <tr>\n",
       "      <td>9</td>\n",
       "      <td>68701.0</td>\n",
       "      <td>94431.714286</td>\n",
       "      <td>0.374532</td>\n",
       "    </tr>\n",
       "    <tr>\n",
       "      <td>10</td>\n",
       "      <td>107638.0</td>\n",
       "      <td>76128.000000</td>\n",
       "      <td>0.292740</td>\n",
       "    </tr>\n",
       "    <tr>\n",
       "      <td>11</td>\n",
       "      <td>100243.0</td>\n",
       "      <td>112442.000000</td>\n",
       "      <td>0.121694</td>\n",
       "    </tr>\n",
       "    <tr>\n",
       "      <td>12</td>\n",
       "      <td>79295.0</td>\n",
       "      <td>88579.000000</td>\n",
       "      <td>0.117082</td>\n",
       "    </tr>\n",
       "    <tr>\n",
       "      <td>13</td>\n",
       "      <td>84740.0</td>\n",
       "      <td>65495.000000</td>\n",
       "      <td>0.227106</td>\n",
       "    </tr>\n",
       "    <tr>\n",
       "      <td>14</td>\n",
       "      <td>70830.0</td>\n",
       "      <td>80312.000000</td>\n",
       "      <td>0.133870</td>\n",
       "    </tr>\n",
       "    <tr>\n",
       "      <td>15</td>\n",
       "      <td>45907.0</td>\n",
       "      <td>58144.000000</td>\n",
       "      <td>0.266561</td>\n",
       "    </tr>\n",
       "    <tr>\n",
       "      <td>16</td>\n",
       "      <td>21979.0</td>\n",
       "      <td>31677.000000</td>\n",
       "      <td>0.441239</td>\n",
       "    </tr>\n",
       "    <tr>\n",
       "      <td>17</td>\n",
       "      <td>883.0</td>\n",
       "      <td>12658.000000</td>\n",
       "      <td>13.335221</td>\n",
       "    </tr>\n",
       "    <tr>\n",
       "      <td>18</td>\n",
       "      <td>0.0</td>\n",
       "      <td>0.000000</td>\n",
       "      <td>0.000000</td>\n",
       "    </tr>\n",
       "    <tr>\n",
       "      <td>19</td>\n",
       "      <td>0.0</td>\n",
       "      <td>0.000000</td>\n",
       "      <td>0.000000</td>\n",
       "    </tr>\n",
       "    <tr>\n",
       "      <td>20</td>\n",
       "      <td>0.0</td>\n",
       "      <td>0.000000</td>\n",
       "      <td>0.000000</td>\n",
       "    </tr>\n",
       "    <tr>\n",
       "      <td>21</td>\n",
       "      <td>0.0</td>\n",
       "      <td>0.000000</td>\n",
       "      <td>0.000000</td>\n",
       "    </tr>\n",
       "    <tr>\n",
       "      <td>22</td>\n",
       "      <td>0.0</td>\n",
       "      <td>0.000000</td>\n",
       "      <td>0.000000</td>\n",
       "    </tr>\n",
       "    <tr>\n",
       "      <td>23</td>\n",
       "      <td>0.0</td>\n",
       "      <td>0.000000</td>\n",
       "      <td>0.000000</td>\n",
       "    </tr>\n",
       "  </tbody>\n",
       "</table>\n",
       "</div>"
      ],
      "text/plain": [
       "        real      forecasts      error\n",
       "0        0.0       0.000000   0.000000\n",
       "1        0.0       0.000000   0.000000\n",
       "2        0.0       0.000000   0.000000\n",
       "3        0.0       0.000000   0.000000\n",
       "4        0.0       0.000000   0.000000\n",
       "5        0.0       0.000000   0.000000\n",
       "6        0.0       0.000000   0.000000\n",
       "7    17740.0    7706.142857   0.565606\n",
       "8    44948.0   45765.571429   0.018189\n",
       "9    68701.0   94431.714286   0.374532\n",
       "10  107638.0   76128.000000   0.292740\n",
       "11  100243.0  112442.000000   0.121694\n",
       "12   79295.0   88579.000000   0.117082\n",
       "13   84740.0   65495.000000   0.227106\n",
       "14   70830.0   80312.000000   0.133870\n",
       "15   45907.0   58144.000000   0.266561\n",
       "16   21979.0   31677.000000   0.441239\n",
       "17     883.0   12658.000000  13.335221\n",
       "18       0.0       0.000000   0.000000\n",
       "19       0.0       0.000000   0.000000\n",
       "20       0.0       0.000000   0.000000\n",
       "21       0.0       0.000000   0.000000\n",
       "22       0.0       0.000000   0.000000\n",
       "23       0.0       0.000000   0.000000"
      ]
     },
     "execution_count": 21,
     "metadata": {},
     "output_type": "execute_result"
    }
   ],
   "source": [
    "fvst.iloc[7,1] = np.mean(xhr['Hora 8'][-7:])\n",
    "fvst.iloc[8,1] = np.mean(xhr['Hora 9'][-7:])\n",
    "fvst.iloc[9,1] = np.mean(xhr['Hora 10'][-7:])\n",
    "\n",
    "for i in range(len(fvst)):\n",
    "    fvst['error'][i] = np.abs((fvst['forecasts'][i]- fvst['real'][i])/(fvst['real'][i]))\n",
    "\n",
    "fvst = fvst.fillna(0)\n",
    "fvst"
   ]
  },
  {
   "cell_type": "code",
   "execution_count": 22,
   "metadata": {
    "ExecuteTime": {
     "end_time": "2020-05-03T23:32:32.154889Z",
     "start_time": "2020-05-03T23:32:32.145019Z"
    }
   },
   "outputs": [
    {
     "data": {
      "text/plain": [
       "1.3244867669421567"
      ]
     },
     "execution_count": 22,
     "metadata": {},
     "output_type": "execute_result"
    }
   ],
   "source": [
    "mea = np.mean(fvst.iloc[7:19,2])\n",
    "mea"
   ]
  },
  {
   "cell_type": "code",
   "execution_count": 23,
   "metadata": {
    "ExecuteTime": {
     "end_time": "2020-05-03T23:32:32.169976Z",
     "start_time": "2020-05-03T23:32:32.158918Z"
    }
   },
   "outputs": [
    {
     "data": {
      "text/plain": [
       "0.04733899395777385"
      ]
     },
     "execution_count": 23,
     "metadata": {},
     "output_type": "execute_result"
    }
   ],
   "source": [
    "np.abs((sum(fvst['forecasts']) - sum(fvst['real']))/sum(fvst['real']))"
   ]
  },
  {
   "cell_type": "markdown",
   "metadata": {},
   "source": [
    "## Cambiando Hora 17, 18 y 19:"
   ]
  },
  {
   "cell_type": "code",
   "execution_count": 24,
   "metadata": {
    "ExecuteTime": {
     "end_time": "2020-05-03T23:32:32.203649Z",
     "start_time": "2020-05-03T23:32:32.174254Z"
    }
   },
   "outputs": [
    {
     "data": {
      "text/html": [
       "<div>\n",
       "<style scoped>\n",
       "    .dataframe tbody tr th:only-of-type {\n",
       "        vertical-align: middle;\n",
       "    }\n",
       "\n",
       "    .dataframe tbody tr th {\n",
       "        vertical-align: top;\n",
       "    }\n",
       "\n",
       "    .dataframe thead th {\n",
       "        text-align: right;\n",
       "    }\n",
       "</style>\n",
       "<table border=\"1\" class=\"dataframe\">\n",
       "  <thead>\n",
       "    <tr style=\"text-align: right;\">\n",
       "      <th></th>\n",
       "      <th>real</th>\n",
       "      <th>forecasts</th>\n",
       "      <th>error</th>\n",
       "    </tr>\n",
       "  </thead>\n",
       "  <tbody>\n",
       "    <tr>\n",
       "      <td>0</td>\n",
       "      <td>0.0</td>\n",
       "      <td>0.000000</td>\n",
       "      <td>0.000000</td>\n",
       "    </tr>\n",
       "    <tr>\n",
       "      <td>1</td>\n",
       "      <td>0.0</td>\n",
       "      <td>0.000000</td>\n",
       "      <td>0.000000</td>\n",
       "    </tr>\n",
       "    <tr>\n",
       "      <td>2</td>\n",
       "      <td>0.0</td>\n",
       "      <td>0.000000</td>\n",
       "      <td>0.000000</td>\n",
       "    </tr>\n",
       "    <tr>\n",
       "      <td>3</td>\n",
       "      <td>0.0</td>\n",
       "      <td>0.000000</td>\n",
       "      <td>0.000000</td>\n",
       "    </tr>\n",
       "    <tr>\n",
       "      <td>4</td>\n",
       "      <td>0.0</td>\n",
       "      <td>0.000000</td>\n",
       "      <td>0.000000</td>\n",
       "    </tr>\n",
       "    <tr>\n",
       "      <td>5</td>\n",
       "      <td>0.0</td>\n",
       "      <td>0.000000</td>\n",
       "      <td>0.000000</td>\n",
       "    </tr>\n",
       "    <tr>\n",
       "      <td>6</td>\n",
       "      <td>0.0</td>\n",
       "      <td>0.000000</td>\n",
       "      <td>0.000000</td>\n",
       "    </tr>\n",
       "    <tr>\n",
       "      <td>7</td>\n",
       "      <td>17740.0</td>\n",
       "      <td>7706.142857</td>\n",
       "      <td>0.565606</td>\n",
       "    </tr>\n",
       "    <tr>\n",
       "      <td>8</td>\n",
       "      <td>44948.0</td>\n",
       "      <td>45765.571429</td>\n",
       "      <td>0.018189</td>\n",
       "    </tr>\n",
       "    <tr>\n",
       "      <td>9</td>\n",
       "      <td>68701.0</td>\n",
       "      <td>94431.714286</td>\n",
       "      <td>0.374532</td>\n",
       "    </tr>\n",
       "    <tr>\n",
       "      <td>10</td>\n",
       "      <td>107638.0</td>\n",
       "      <td>76128.000000</td>\n",
       "      <td>0.292740</td>\n",
       "    </tr>\n",
       "    <tr>\n",
       "      <td>11</td>\n",
       "      <td>100243.0</td>\n",
       "      <td>112442.000000</td>\n",
       "      <td>0.121694</td>\n",
       "    </tr>\n",
       "    <tr>\n",
       "      <td>12</td>\n",
       "      <td>79295.0</td>\n",
       "      <td>88579.000000</td>\n",
       "      <td>0.117082</td>\n",
       "    </tr>\n",
       "    <tr>\n",
       "      <td>13</td>\n",
       "      <td>84740.0</td>\n",
       "      <td>65495.000000</td>\n",
       "      <td>0.227106</td>\n",
       "    </tr>\n",
       "    <tr>\n",
       "      <td>14</td>\n",
       "      <td>70830.0</td>\n",
       "      <td>80312.000000</td>\n",
       "      <td>0.133870</td>\n",
       "    </tr>\n",
       "    <tr>\n",
       "      <td>15</td>\n",
       "      <td>45907.0</td>\n",
       "      <td>58144.000000</td>\n",
       "      <td>0.266561</td>\n",
       "    </tr>\n",
       "    <tr>\n",
       "      <td>16</td>\n",
       "      <td>21979.0</td>\n",
       "      <td>79468.142857</td>\n",
       "      <td>2.615640</td>\n",
       "    </tr>\n",
       "    <tr>\n",
       "      <td>17</td>\n",
       "      <td>883.0</td>\n",
       "      <td>44624.000000</td>\n",
       "      <td>49.536806</td>\n",
       "    </tr>\n",
       "    <tr>\n",
       "      <td>18</td>\n",
       "      <td>0.0</td>\n",
       "      <td>5500.142857</td>\n",
       "      <td>inf</td>\n",
       "    </tr>\n",
       "    <tr>\n",
       "      <td>19</td>\n",
       "      <td>0.0</td>\n",
       "      <td>0.000000</td>\n",
       "      <td>0.000000</td>\n",
       "    </tr>\n",
       "    <tr>\n",
       "      <td>20</td>\n",
       "      <td>0.0</td>\n",
       "      <td>0.000000</td>\n",
       "      <td>0.000000</td>\n",
       "    </tr>\n",
       "    <tr>\n",
       "      <td>21</td>\n",
       "      <td>0.0</td>\n",
       "      <td>0.000000</td>\n",
       "      <td>0.000000</td>\n",
       "    </tr>\n",
       "    <tr>\n",
       "      <td>22</td>\n",
       "      <td>0.0</td>\n",
       "      <td>0.000000</td>\n",
       "      <td>0.000000</td>\n",
       "    </tr>\n",
       "    <tr>\n",
       "      <td>23</td>\n",
       "      <td>0.0</td>\n",
       "      <td>0.000000</td>\n",
       "      <td>0.000000</td>\n",
       "    </tr>\n",
       "  </tbody>\n",
       "</table>\n",
       "</div>"
      ],
      "text/plain": [
       "        real      forecasts      error\n",
       "0        0.0       0.000000   0.000000\n",
       "1        0.0       0.000000   0.000000\n",
       "2        0.0       0.000000   0.000000\n",
       "3        0.0       0.000000   0.000000\n",
       "4        0.0       0.000000   0.000000\n",
       "5        0.0       0.000000   0.000000\n",
       "6        0.0       0.000000   0.000000\n",
       "7    17740.0    7706.142857   0.565606\n",
       "8    44948.0   45765.571429   0.018189\n",
       "9    68701.0   94431.714286   0.374532\n",
       "10  107638.0   76128.000000   0.292740\n",
       "11  100243.0  112442.000000   0.121694\n",
       "12   79295.0   88579.000000   0.117082\n",
       "13   84740.0   65495.000000   0.227106\n",
       "14   70830.0   80312.000000   0.133870\n",
       "15   45907.0   58144.000000   0.266561\n",
       "16   21979.0   79468.142857   2.615640\n",
       "17     883.0   44624.000000  49.536806\n",
       "18       0.0    5500.142857        inf\n",
       "19       0.0       0.000000   0.000000\n",
       "20       0.0       0.000000   0.000000\n",
       "21       0.0       0.000000   0.000000\n",
       "22       0.0       0.000000   0.000000\n",
       "23       0.0       0.000000   0.000000"
      ]
     },
     "execution_count": 24,
     "metadata": {},
     "output_type": "execute_result"
    }
   ],
   "source": [
    "fvst.iloc[16,1] = np.mean(xhr['Hora 17'][-7:])\n",
    "fvst.iloc[17,1] = np.mean(xhr['Hora 18'][-7:])\n",
    "fvst.iloc[18,1] = np.mean(xhr['Hora 19'][-7:])\n",
    "\n",
    "for i in range(len(fvst)):\n",
    "    fvst['error'][i] = np.abs((fvst['forecasts'][i]- fvst['real'][i])/(fvst['real'][i]))\n",
    "\n",
    "fvst = fvst.fillna(0)\n",
    "fvst"
   ]
  },
  {
   "cell_type": "code",
   "execution_count": 25,
   "metadata": {
    "ExecuteTime": {
     "end_time": "2020-05-03T23:32:32.219742Z",
     "start_time": "2020-05-03T23:32:32.206844Z"
    }
   },
   "outputs": [
    {
     "data": {
      "text/plain": [
       "inf"
      ]
     },
     "execution_count": 25,
     "metadata": {},
     "output_type": "execute_result"
    }
   ],
   "source": [
    "mea = np.mean(fvst.iloc[7:19,2])\n",
    "mea"
   ]
  },
  {
   "cell_type": "code",
   "execution_count": 26,
   "metadata": {
    "ExecuteTime": {
     "end_time": "2020-05-03T23:32:32.237004Z",
     "start_time": "2020-05-03T23:32:32.223420Z"
    }
   },
   "outputs": [
    {
     "data": {
      "text/plain": [
       "0.1799517724041448"
      ]
     },
     "execution_count": 26,
     "metadata": {},
     "output_type": "execute_result"
    }
   ],
   "source": [
    "np.abs((sum(fvst['forecasts']) - sum(fvst['real']))/sum(fvst['real']))"
   ]
  },
  {
   "cell_type": "code",
   "execution_count": null,
   "metadata": {},
   "outputs": [],
   "source": []
  }
 ],
 "metadata": {
  "kernelspec": {
   "display_name": "Python 3",
   "language": "python",
   "name": "python3"
  },
  "language_info": {
   "codemirror_mode": {
    "name": "ipython",
    "version": 3
   },
   "file_extension": ".py",
   "mimetype": "text/x-python",
   "name": "python",
   "nbconvert_exporter": "python",
   "pygments_lexer": "ipython3",
   "version": "3.7.4"
  }
 },
 "nbformat": 4,
 "nbformat_minor": 2
}
