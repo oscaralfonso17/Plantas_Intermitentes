{
 "cells": [
  {
   "cell_type": "markdown",
   "metadata": {},
   "source": [
    "## WeatherStack https://weatherstack.com/documentation"
   ]
  },
  {
   "cell_type": "code",
   "execution_count": 3,
   "metadata": {},
   "outputs": [
    {
     "data": {
      "text/plain": [
       "{'request': {'type': 'City',\n",
       "  'query': 'New York, United States of America',\n",
       "  'language': 'en',\n",
       "  'unit': 'm'},\n",
       " 'location': {'name': 'New York',\n",
       "  'country': 'United States of America',\n",
       "  'region': 'New York',\n",
       "  'lat': '40.714',\n",
       "  'lon': '-74.006',\n",
       "  'timezone_id': 'America/New_York',\n",
       "  'localtime': '2020-02-22 10:03',\n",
       "  'localtime_epoch': 1582365780,\n",
       "  'utc_offset': '-5.0'},\n",
       " 'current': {'observation_time': '03:03 PM',\n",
       "  'temperature': 1,\n",
       "  'weather_code': 113,\n",
       "  'weather_icons': ['https://assets.weatherstack.com/images/wsymbols01_png_64/wsymbol_0001_sunny.png'],\n",
       "  'weather_descriptions': ['Sunny'],\n",
       "  'wind_speed': 0,\n",
       "  'wind_degree': 261,\n",
       "  'wind_dir': 'W',\n",
       "  'pressure': 1026,\n",
       "  'precip': 0,\n",
       "  'humidity': 36,\n",
       "  'cloudcover': 0,\n",
       "  'feelslike': 1,\n",
       "  'uv_index': 1,\n",
       "  'visibility': 16,\n",
       "  'is_day': 'yes'}}"
      ]
     },
     "execution_count": 3,
     "metadata": {},
     "output_type": "execute_result"
    }
   ],
   "source": [
    "# coding: utf-8\n",
    "import requests\n",
    "\n",
    "params = {\n",
    "    'access_key': '0f29d3ed98d68554a02895eebf699cae',\n",
    "    'query': 'New York',\n",
    "    'hourly': '1'\n",
    "}\n",
    "\n",
    "api_result = requests.get('http://api.weatherstack.com/current', params)\n",
    "\n",
    "api_response = api_result.json()\n",
    "api_response"
   ]
  },
  {
   "cell_type": "code",
   "execution_count": 2,
   "metadata": {},
   "outputs": [
    {
     "ename": "KeyError",
     "evalue": "'location'",
     "output_type": "error",
     "traceback": [
      "\u001b[0;31m---------------------------------------------------------------------------\u001b[0m",
      "\u001b[0;31mKeyError\u001b[0m                                  Traceback (most recent call last)",
      "\u001b[0;32m<ipython-input-2-abe9559ff6a7>\u001b[0m in \u001b[0;36m<module>\u001b[0;34m()\u001b[0m\n\u001b[0;32m----> 1\u001b[0;31m \u001b[0mprint\u001b[0m\u001b[0;34m(\u001b[0m\u001b[0;34mu'Current temperature in %s is %d℃'\u001b[0m \u001b[0;34m%\u001b[0m \u001b[0;34m(\u001b[0m\u001b[0mapi_response\u001b[0m\u001b[0;34m[\u001b[0m\u001b[0;34m'location'\u001b[0m\u001b[0;34m]\u001b[0m\u001b[0;34m[\u001b[0m\u001b[0;34m'name'\u001b[0m\u001b[0;34m]\u001b[0m\u001b[0;34m,\u001b[0m \u001b[0mapi_response\u001b[0m\u001b[0;34m[\u001b[0m\u001b[0;34m'current'\u001b[0m\u001b[0;34m]\u001b[0m\u001b[0;34m[\u001b[0m\u001b[0;34m'temperature'\u001b[0m\u001b[0;34m]\u001b[0m\u001b[0;34m)\u001b[0m\u001b[0;34m)\u001b[0m\u001b[0;34m\u001b[0m\u001b[0;34m\u001b[0m\u001b[0m\n\u001b[0m",
      "\u001b[0;31mKeyError\u001b[0m: 'location'"
     ]
    }
   ],
   "source": [
    "print(u'Current temperature in %s is %d℃' % (api_response['location']['name'], api_response['current']['temperature']))"
   ]
  },
  {
   "cell_type": "code",
   "execution_count": null,
   "metadata": {},
   "outputs": [],
   "source": []
  }
 ],
 "metadata": {
  "kernelspec": {
   "display_name": "Python 3",
   "language": "python",
   "name": "python3"
  },
  "language_info": {
   "codemirror_mode": {
    "name": "ipython",
    "version": 3
   },
   "file_extension": ".py",
   "mimetype": "text/x-python",
   "name": "python",
   "nbconvert_exporter": "python",
   "pygments_lexer": "ipython3",
   "version": "3.6.8"
  }
 },
 "nbformat": 4,
 "nbformat_minor": 2
}
