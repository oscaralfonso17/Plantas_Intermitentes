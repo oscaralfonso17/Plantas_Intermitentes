{
 "cells": [
  {
   "cell_type": "code",
   "execution_count": 1,
   "metadata": {
    "ExecuteTime": {
     "end_time": "2020-03-27T02:34:26.490414Z",
     "start_time": "2020-03-27T02:34:24.123507Z"
    }
   },
   "outputs": [
    {
     "data": {
      "text/html": [
       " <style> .output {display: center; align-items: left; text-align: center; justify-content: center; } </style> "
      ],
      "text/plain": [
       "<IPython.core.display.HTML object>"
      ]
     },
     "metadata": {},
     "output_type": "display_data"
    }
   ],
   "source": [
    "import pandas as pd\n",
    "import numpy as np\n",
    "import matplotlib as mpl\n",
    "import scipy.stats as st\n",
    "import seaborn as sns\n",
    "import statsmodels.api as sm\n",
    "from datetime import datetime\n",
    "import matplotlib.pyplot as plt\n",
    "from statsmodels.tsa.arima_model import ARIMA\n",
    "import pmdarima as pm\n",
    "from pmdarima.model_selection import train_test_split\n",
    "import matplotlib.pyplot as plt\n",
    "import warnings\n",
    "warnings.filterwarnings(\"ignore\")\n",
    "from statsmodels.tsa.stattools import acf\n",
    "import datetime\n",
    "\n",
    "from numpy import inf\n",
    "\n",
    "from IPython.display import display, HTML\n",
    "display(HTML(\"\"\" <style> .output {display: center; align-items: left; text-align: center; justify-content: center; } </style> \"\"\"))"
   ]
  },
  {
   "cell_type": "code",
   "execution_count": 2,
   "metadata": {
    "ExecuteTime": {
     "end_time": "2020-03-27T02:34:46.262040Z",
     "start_time": "2020-03-27T02:34:26.506035Z"
    }
   },
   "outputs": [],
   "source": [
    "#Importación de datos\n",
    "datos = pd.read_excel('Generación Intermitente de la GCROC 2013-2020.xlsx', header=1)"
   ]
  },
  {
   "cell_type": "code",
   "execution_count": 3,
   "metadata": {
    "ExecuteTime": {
     "end_time": "2020-03-27T02:34:47.104718Z",
     "start_time": "2020-03-27T02:34:46.268428Z"
    }
   },
   "outputs": [
    {
     "data": {
      "text/html": [
       "<div>\n",
       "<style scoped>\n",
       "    .dataframe tbody tr th:only-of-type {\n",
       "        vertical-align: middle;\n",
       "    }\n",
       "\n",
       "    .dataframe tbody tr th {\n",
       "        vertical-align: top;\n",
       "    }\n",
       "\n",
       "    .dataframe thead th {\n",
       "        text-align: right;\n",
       "    }\n",
       "</style>\n",
       "<table border=\"1\" class=\"dataframe\">\n",
       "  <thead>\n",
       "    <tr style=\"text-align: right;\">\n",
       "      <th></th>\n",
       "      <th>Unnamed: 0</th>\n",
       "      <th>dia de la semana</th>\n",
       "      <th>fecha</th>\n",
       "      <th>hora</th>\n",
       "      <th>GICIE301</th>\n",
       "      <th>GICIE302</th>\n",
       "      <th>GICIE303</th>\n",
       "      <th>GICIE304</th>\n",
       "      <th>GICIE305</th>\n",
       "      <th>GICIS306</th>\n",
       "      <th>...</th>\n",
       "      <th>GICIS318</th>\n",
       "      <th>GICIS319</th>\n",
       "      <th>GICIS320</th>\n",
       "      <th>GICIS321</th>\n",
       "      <th>GICIS322</th>\n",
       "      <th>GICIS323</th>\n",
       "      <th>GICIS324</th>\n",
       "      <th>GICIS325</th>\n",
       "      <th>GICIS326</th>\n",
       "      <th>fecha_hora</th>\n",
       "    </tr>\n",
       "  </thead>\n",
       "  <tbody>\n",
       "    <tr>\n",
       "      <td>0</td>\n",
       "      <td>NaN</td>\n",
       "      <td>Jueves</td>\n",
       "      <td>2013-11-14</td>\n",
       "      <td>1</td>\n",
       "      <td>0.0</td>\n",
       "      <td>NaN</td>\n",
       "      <td>NaN</td>\n",
       "      <td>NaN</td>\n",
       "      <td>NaN</td>\n",
       "      <td>NaN</td>\n",
       "      <td>...</td>\n",
       "      <td>NaN</td>\n",
       "      <td>NaN</td>\n",
       "      <td>NaN</td>\n",
       "      <td>NaN</td>\n",
       "      <td>NaN</td>\n",
       "      <td>NaN</td>\n",
       "      <td>NaN</td>\n",
       "      <td>NaN</td>\n",
       "      <td>NaN</td>\n",
       "      <td>2013-11-14 00:00:00</td>\n",
       "    </tr>\n",
       "    <tr>\n",
       "      <td>1</td>\n",
       "      <td>NaN</td>\n",
       "      <td>NaN</td>\n",
       "      <td>2013-11-14</td>\n",
       "      <td>2</td>\n",
       "      <td>0.0</td>\n",
       "      <td>NaN</td>\n",
       "      <td>NaN</td>\n",
       "      <td>NaN</td>\n",
       "      <td>NaN</td>\n",
       "      <td>NaN</td>\n",
       "      <td>...</td>\n",
       "      <td>NaN</td>\n",
       "      <td>NaN</td>\n",
       "      <td>NaN</td>\n",
       "      <td>NaN</td>\n",
       "      <td>NaN</td>\n",
       "      <td>NaN</td>\n",
       "      <td>NaN</td>\n",
       "      <td>NaN</td>\n",
       "      <td>NaN</td>\n",
       "      <td>2013-11-14 01:00:00</td>\n",
       "    </tr>\n",
       "    <tr>\n",
       "      <td>2</td>\n",
       "      <td>NaN</td>\n",
       "      <td>NaN</td>\n",
       "      <td>2013-11-14</td>\n",
       "      <td>3</td>\n",
       "      <td>0.0</td>\n",
       "      <td>NaN</td>\n",
       "      <td>NaN</td>\n",
       "      <td>NaN</td>\n",
       "      <td>NaN</td>\n",
       "      <td>NaN</td>\n",
       "      <td>...</td>\n",
       "      <td>NaN</td>\n",
       "      <td>NaN</td>\n",
       "      <td>NaN</td>\n",
       "      <td>NaN</td>\n",
       "      <td>NaN</td>\n",
       "      <td>NaN</td>\n",
       "      <td>NaN</td>\n",
       "      <td>NaN</td>\n",
       "      <td>NaN</td>\n",
       "      <td>2013-11-14 02:00:00</td>\n",
       "    </tr>\n",
       "    <tr>\n",
       "      <td>3</td>\n",
       "      <td>NaN</td>\n",
       "      <td>NaN</td>\n",
       "      <td>2013-11-14</td>\n",
       "      <td>4</td>\n",
       "      <td>0.0</td>\n",
       "      <td>NaN</td>\n",
       "      <td>NaN</td>\n",
       "      <td>NaN</td>\n",
       "      <td>NaN</td>\n",
       "      <td>NaN</td>\n",
       "      <td>...</td>\n",
       "      <td>NaN</td>\n",
       "      <td>NaN</td>\n",
       "      <td>NaN</td>\n",
       "      <td>NaN</td>\n",
       "      <td>NaN</td>\n",
       "      <td>NaN</td>\n",
       "      <td>NaN</td>\n",
       "      <td>NaN</td>\n",
       "      <td>NaN</td>\n",
       "      <td>2013-11-14 03:00:00</td>\n",
       "    </tr>\n",
       "    <tr>\n",
       "      <td>4</td>\n",
       "      <td>NaN</td>\n",
       "      <td>NaN</td>\n",
       "      <td>2013-11-14</td>\n",
       "      <td>5</td>\n",
       "      <td>0.0</td>\n",
       "      <td>NaN</td>\n",
       "      <td>NaN</td>\n",
       "      <td>NaN</td>\n",
       "      <td>NaN</td>\n",
       "      <td>NaN</td>\n",
       "      <td>...</td>\n",
       "      <td>NaN</td>\n",
       "      <td>NaN</td>\n",
       "      <td>NaN</td>\n",
       "      <td>NaN</td>\n",
       "      <td>NaN</td>\n",
       "      <td>NaN</td>\n",
       "      <td>NaN</td>\n",
       "      <td>NaN</td>\n",
       "      <td>NaN</td>\n",
       "      <td>2013-11-14 04:00:00</td>\n",
       "    </tr>\n",
       "  </tbody>\n",
       "</table>\n",
       "<p>5 rows × 31 columns</p>\n",
       "</div>"
      ],
      "text/plain": [
       "   Unnamed: 0 dia de la semana       fecha  hora  GICIE301  GICIE302  \\\n",
       "0         NaN           Jueves  2013-11-14     1       0.0       NaN   \n",
       "1         NaN              NaN  2013-11-14     2       0.0       NaN   \n",
       "2         NaN              NaN  2013-11-14     3       0.0       NaN   \n",
       "3         NaN              NaN  2013-11-14     4       0.0       NaN   \n",
       "4         NaN              NaN  2013-11-14     5       0.0       NaN   \n",
       "\n",
       "   GICIE303  GICIE304  GICIE305  GICIS306  ...  GICIS318  GICIS319  GICIS320  \\\n",
       "0       NaN       NaN       NaN       NaN  ...       NaN       NaN       NaN   \n",
       "1       NaN       NaN       NaN       NaN  ...       NaN       NaN       NaN   \n",
       "2       NaN       NaN       NaN       NaN  ...       NaN       NaN       NaN   \n",
       "3       NaN       NaN       NaN       NaN  ...       NaN       NaN       NaN   \n",
       "4       NaN       NaN       NaN       NaN  ...       NaN       NaN       NaN   \n",
       "\n",
       "   GICIS321  GICIS322  GICIS323  GICIS324  GICIS325  GICIS326  \\\n",
       "0       NaN       NaN       NaN       NaN       NaN       NaN   \n",
       "1       NaN       NaN       NaN       NaN       NaN       NaN   \n",
       "2       NaN       NaN       NaN       NaN       NaN       NaN   \n",
       "3       NaN       NaN       NaN       NaN       NaN       NaN   \n",
       "4       NaN       NaN       NaN       NaN       NaN       NaN   \n",
       "\n",
       "            fecha_hora  \n",
       "0  2013-11-14 00:00:00  \n",
       "1  2013-11-14 01:00:00  \n",
       "2  2013-11-14 02:00:00  \n",
       "3  2013-11-14 03:00:00  \n",
       "4  2013-11-14 04:00:00  \n",
       "\n",
       "[5 rows x 31 columns]"
      ]
     },
     "execution_count": 3,
     "metadata": {},
     "output_type": "execute_result"
    }
   ],
   "source": [
    "numbers = datos.hora-1\n",
    "hours = [datetime.time(num).strftime(\"%H:00:00\") for num in numbers]\n",
    "datos['fecha'] = datos['fecha'].replace(0,np.nan).ffill()\n",
    "datos['fecha'] = pd.to_datetime(datos['fecha'])\n",
    "datos['fecha'] = datos['fecha'].dt.date\n",
    "datos['fecha_hora'] = datos[\"fecha\"].astype(str) + ' ' + hours\n",
    "datos.head()"
   ]
  },
  {
   "cell_type": "code",
   "execution_count": 4,
   "metadata": {
    "ExecuteTime": {
     "end_time": "2020-03-27T02:34:47.182649Z",
     "start_time": "2020-03-27T02:34:47.118866Z"
    }
   },
   "outputs": [
    {
     "data": {
      "text/html": [
       "<div>\n",
       "<style scoped>\n",
       "    .dataframe tbody tr th:only-of-type {\n",
       "        vertical-align: middle;\n",
       "    }\n",
       "\n",
       "    .dataframe tbody tr th {\n",
       "        vertical-align: top;\n",
       "    }\n",
       "\n",
       "    .dataframe thead th {\n",
       "        text-align: right;\n",
       "    }\n",
       "</style>\n",
       "<table border=\"1\" class=\"dataframe\">\n",
       "  <thead>\n",
       "    <tr style=\"text-align: right;\">\n",
       "      <th></th>\n",
       "      <th>Unnamed: 0</th>\n",
       "      <th>dia de la semana</th>\n",
       "      <th>fecha</th>\n",
       "      <th>hora</th>\n",
       "      <th>GICIE301</th>\n",
       "      <th>GICIE302</th>\n",
       "      <th>GICIE303</th>\n",
       "      <th>GICIE304</th>\n",
       "      <th>GICIE305</th>\n",
       "      <th>GICIS306</th>\n",
       "      <th>...</th>\n",
       "      <th>GICIS318</th>\n",
       "      <th>GICIS319</th>\n",
       "      <th>GICIS320</th>\n",
       "      <th>GICIS321</th>\n",
       "      <th>GICIS322</th>\n",
       "      <th>GICIS323</th>\n",
       "      <th>GICIS324</th>\n",
       "      <th>GICIS325</th>\n",
       "      <th>GICIS326</th>\n",
       "      <th>fecha_hora</th>\n",
       "    </tr>\n",
       "  </thead>\n",
       "  <tbody>\n",
       "    <tr>\n",
       "      <td>55387</td>\n",
       "      <td>NaN</td>\n",
       "      <td>NaN</td>\n",
       "      <td>2020-03-09</td>\n",
       "      <td>20</td>\n",
       "      <td>12140.0</td>\n",
       "      <td>6879.0</td>\n",
       "      <td>26607.0</td>\n",
       "      <td>19358.0</td>\n",
       "      <td>10983.0</td>\n",
       "      <td>0.0</td>\n",
       "      <td>...</td>\n",
       "      <td>0.0</td>\n",
       "      <td>0.0</td>\n",
       "      <td>0.0</td>\n",
       "      <td>0.0</td>\n",
       "      <td>0.0</td>\n",
       "      <td>0.0</td>\n",
       "      <td>0.0</td>\n",
       "      <td>0.0</td>\n",
       "      <td>0.0</td>\n",
       "      <td>2020-03-09 19:00:00</td>\n",
       "    </tr>\n",
       "    <tr>\n",
       "      <td>55388</td>\n",
       "      <td>NaN</td>\n",
       "      <td>NaN</td>\n",
       "      <td>2020-03-09</td>\n",
       "      <td>21</td>\n",
       "      <td>4313.0</td>\n",
       "      <td>31473.0</td>\n",
       "      <td>14942.0</td>\n",
       "      <td>3029.0</td>\n",
       "      <td>15129.0</td>\n",
       "      <td>0.0</td>\n",
       "      <td>...</td>\n",
       "      <td>0.0</td>\n",
       "      <td>0.0</td>\n",
       "      <td>0.0</td>\n",
       "      <td>0.0</td>\n",
       "      <td>0.0</td>\n",
       "      <td>0.0</td>\n",
       "      <td>0.0</td>\n",
       "      <td>0.0</td>\n",
       "      <td>0.0</td>\n",
       "      <td>2020-03-09 20:00:00</td>\n",
       "    </tr>\n",
       "    <tr>\n",
       "      <td>55389</td>\n",
       "      <td>NaN</td>\n",
       "      <td>NaN</td>\n",
       "      <td>2020-03-09</td>\n",
       "      <td>22</td>\n",
       "      <td>98.0</td>\n",
       "      <td>54796.0</td>\n",
       "      <td>33875.0</td>\n",
       "      <td>22778.0</td>\n",
       "      <td>8490.0</td>\n",
       "      <td>0.0</td>\n",
       "      <td>...</td>\n",
       "      <td>0.0</td>\n",
       "      <td>0.0</td>\n",
       "      <td>0.0</td>\n",
       "      <td>0.0</td>\n",
       "      <td>0.0</td>\n",
       "      <td>0.0</td>\n",
       "      <td>0.0</td>\n",
       "      <td>0.0</td>\n",
       "      <td>0.0</td>\n",
       "      <td>2020-03-09 21:00:00</td>\n",
       "    </tr>\n",
       "    <tr>\n",
       "      <td>55390</td>\n",
       "      <td>NaN</td>\n",
       "      <td>NaN</td>\n",
       "      <td>2020-03-09</td>\n",
       "      <td>23</td>\n",
       "      <td>803.0</td>\n",
       "      <td>57081.0</td>\n",
       "      <td>34073.0</td>\n",
       "      <td>36240.0</td>\n",
       "      <td>16482.0</td>\n",
       "      <td>0.0</td>\n",
       "      <td>...</td>\n",
       "      <td>0.0</td>\n",
       "      <td>0.0</td>\n",
       "      <td>0.0</td>\n",
       "      <td>0.0</td>\n",
       "      <td>0.0</td>\n",
       "      <td>0.0</td>\n",
       "      <td>0.0</td>\n",
       "      <td>0.0</td>\n",
       "      <td>0.0</td>\n",
       "      <td>2020-03-09 22:00:00</td>\n",
       "    </tr>\n",
       "    <tr>\n",
       "      <td>55391</td>\n",
       "      <td>NaN</td>\n",
       "      <td>NaN</td>\n",
       "      <td>2020-03-09</td>\n",
       "      <td>24</td>\n",
       "      <td>7594.0</td>\n",
       "      <td>56351.0</td>\n",
       "      <td>39697.0</td>\n",
       "      <td>45519.0</td>\n",
       "      <td>22479.0</td>\n",
       "      <td>0.0</td>\n",
       "      <td>...</td>\n",
       "      <td>0.0</td>\n",
       "      <td>0.0</td>\n",
       "      <td>0.0</td>\n",
       "      <td>0.0</td>\n",
       "      <td>0.0</td>\n",
       "      <td>0.0</td>\n",
       "      <td>0.0</td>\n",
       "      <td>0.0</td>\n",
       "      <td>0.0</td>\n",
       "      <td>2020-03-09 23:00:00</td>\n",
       "    </tr>\n",
       "  </tbody>\n",
       "</table>\n",
       "<p>5 rows × 31 columns</p>\n",
       "</div>"
      ],
      "text/plain": [
       "       Unnamed: 0 dia de la semana       fecha  hora  GICIE301  GICIE302  \\\n",
       "55387         NaN              NaN  2020-03-09    20   12140.0    6879.0   \n",
       "55388         NaN              NaN  2020-03-09    21    4313.0   31473.0   \n",
       "55389         NaN              NaN  2020-03-09    22      98.0   54796.0   \n",
       "55390         NaN              NaN  2020-03-09    23     803.0   57081.0   \n",
       "55391         NaN              NaN  2020-03-09    24    7594.0   56351.0   \n",
       "\n",
       "       GICIE303  GICIE304  GICIE305  GICIS306  ...  GICIS318  GICIS319  \\\n",
       "55387   26607.0   19358.0   10983.0       0.0  ...       0.0       0.0   \n",
       "55388   14942.0    3029.0   15129.0       0.0  ...       0.0       0.0   \n",
       "55389   33875.0   22778.0    8490.0       0.0  ...       0.0       0.0   \n",
       "55390   34073.0   36240.0   16482.0       0.0  ...       0.0       0.0   \n",
       "55391   39697.0   45519.0   22479.0       0.0  ...       0.0       0.0   \n",
       "\n",
       "       GICIS320  GICIS321  GICIS322  GICIS323  GICIS324  GICIS325  GICIS326  \\\n",
       "55387       0.0       0.0       0.0       0.0       0.0       0.0       0.0   \n",
       "55388       0.0       0.0       0.0       0.0       0.0       0.0       0.0   \n",
       "55389       0.0       0.0       0.0       0.0       0.0       0.0       0.0   \n",
       "55390       0.0       0.0       0.0       0.0       0.0       0.0       0.0   \n",
       "55391       0.0       0.0       0.0       0.0       0.0       0.0       0.0   \n",
       "\n",
       "                fecha_hora  \n",
       "55387  2020-03-09 19:00:00  \n",
       "55388  2020-03-09 20:00:00  \n",
       "55389  2020-03-09 21:00:00  \n",
       "55390  2020-03-09 22:00:00  \n",
       "55391  2020-03-09 23:00:00  \n",
       "\n",
       "[5 rows x 31 columns]"
      ]
     },
     "execution_count": 4,
     "metadata": {},
     "output_type": "execute_result"
    }
   ],
   "source": [
    "datos.tail()"
   ]
  },
  {
   "cell_type": "code",
   "execution_count": 5,
   "metadata": {
    "ExecuteTime": {
     "end_time": "2020-03-27T02:34:47.456065Z",
     "start_time": "2020-03-27T02:34:47.268805Z"
    },
    "scrolled": true
   },
   "outputs": [],
   "source": [
    "#LIMPIEZA DE DATOS\n",
    "datos = datos.set_index(datos['fecha_hora'])\n",
    "datos = datos[53736:]"
   ]
  },
  {
   "cell_type": "code",
   "execution_count": 6,
   "metadata": {
    "ExecuteTime": {
     "end_time": "2020-03-27T02:34:47.484175Z",
     "start_time": "2020-03-27T02:34:47.472152Z"
    }
   },
   "outputs": [],
   "source": [
    "n_periods = 5*24"
   ]
  },
  {
   "cell_type": "code",
   "execution_count": 7,
   "metadata": {
    "ExecuteTime": {
     "end_time": "2020-03-27T02:34:47.499763Z",
     "start_time": "2020-03-27T02:34:47.489994Z"
    }
   },
   "outputs": [],
   "source": [
    "columns = ['GICIE301', 'GICIE302','GICIE303','GICIE304','GICIE305','GICIS306', 'GICIS307','GICIS308',\n",
    "          'GICIS309','GICIS310','GICIS311','GICIS312','GICIS313','GICIS314''GICIS315','GICIS316','GICIS317',\n",
    "          'GICIS318','GICIS319','GICIS320','GICIS321','GICIS322','GICIS323','GICIS324','GICIS325','GICIS326']"
   ]
  },
  {
   "cell_type": "code",
   "execution_count": 8,
   "metadata": {
    "ExecuteTime": {
     "end_time": "2020-03-27T02:34:47.516717Z",
     "start_time": "2020-03-27T02:34:47.505833Z"
    }
   },
   "outputs": [
    {
     "data": {
      "text/plain": [
       "'GICIS307'"
      ]
     },
     "execution_count": 8,
     "metadata": {},
     "output_type": "execute_result"
    }
   ],
   "source": [
    "columna = columns[6]\n",
    "columna"
   ]
  },
  {
   "cell_type": "code",
   "execution_count": 9,
   "metadata": {
    "ExecuteTime": {
     "end_time": "2020-03-27T02:34:47.564335Z",
     "start_time": "2020-03-27T02:34:47.552211Z"
    }
   },
   "outputs": [],
   "source": [
    "def mape(forecast, actual):\n",
    "    return np.mean(np.abs((forecast - actual)/actual))  # MAPE"
   ]
  },
  {
   "cell_type": "code",
   "execution_count": 10,
   "metadata": {
    "ExecuteTime": {
     "end_time": "2020-03-27T02:34:47.686640Z",
     "start_time": "2020-03-27T02:34:47.673925Z"
    }
   },
   "outputs": [],
   "source": [
    "def AIC_accuracy(train,test):\n",
    "        data = train[columna].dropna()\n",
    "        model = pm.auto_arima(data.values, start_p=1, start_q=1,\n",
    "                          test='adf',       # use adftest to find optimal 'd'\n",
    "                          max_p=4, max_q=4, # maximum p and q\n",
    "                          m=24,              # frequency of series\n",
    "                          d=None,           # let model determine 'd'\n",
    "                          seasonal=True,   # Seasonality\n",
    "                          start_P=0, \n",
    "                          D=0, \n",
    "                          trace=False,\n",
    "                          error_action='ignore',  \n",
    "                          suppress_warnings=True, \n",
    "                          stepwise=True)\n",
    "        return(model)"
   ]
  },
  {
   "cell_type": "code",
   "execution_count": 11,
   "metadata": {
    "ExecuteTime": {
     "end_time": "2020-03-27T02:34:47.750879Z",
     "start_time": "2020-03-27T02:34:47.719373Z"
    }
   },
   "outputs": [
    {
     "data": {
      "text/html": [
       "<div>\n",
       "<style scoped>\n",
       "    .dataframe tbody tr th:only-of-type {\n",
       "        vertical-align: middle;\n",
       "    }\n",
       "\n",
       "    .dataframe tbody tr th {\n",
       "        vertical-align: top;\n",
       "    }\n",
       "\n",
       "    .dataframe thead th {\n",
       "        text-align: right;\n",
       "    }\n",
       "</style>\n",
       "<table border=\"1\" class=\"dataframe\">\n",
       "  <thead>\n",
       "    <tr style=\"text-align: right;\">\n",
       "      <th></th>\n",
       "      <th>hora</th>\n",
       "      <th>GICIS307</th>\n",
       "    </tr>\n",
       "    <tr>\n",
       "      <th>fecha_hora</th>\n",
       "      <th></th>\n",
       "      <th></th>\n",
       "    </tr>\n",
       "  </thead>\n",
       "  <tbody>\n",
       "    <tr>\n",
       "      <td>2020-01-01 00:00:00</td>\n",
       "      <td>1</td>\n",
       "      <td>0.0</td>\n",
       "    </tr>\n",
       "    <tr>\n",
       "      <td>2020-01-01 01:00:00</td>\n",
       "      <td>2</td>\n",
       "      <td>0.0</td>\n",
       "    </tr>\n",
       "    <tr>\n",
       "      <td>2020-01-01 02:00:00</td>\n",
       "      <td>3</td>\n",
       "      <td>0.0</td>\n",
       "    </tr>\n",
       "    <tr>\n",
       "      <td>2020-01-01 03:00:00</td>\n",
       "      <td>4</td>\n",
       "      <td>0.0</td>\n",
       "    </tr>\n",
       "    <tr>\n",
       "      <td>2020-01-01 04:00:00</td>\n",
       "      <td>5</td>\n",
       "      <td>0.0</td>\n",
       "    </tr>\n",
       "    <tr>\n",
       "      <td>...</td>\n",
       "      <td>...</td>\n",
       "      <td>...</td>\n",
       "    </tr>\n",
       "    <tr>\n",
       "      <td>2020-03-09 19:00:00</td>\n",
       "      <td>20</td>\n",
       "      <td>0.0</td>\n",
       "    </tr>\n",
       "    <tr>\n",
       "      <td>2020-03-09 20:00:00</td>\n",
       "      <td>21</td>\n",
       "      <td>0.0</td>\n",
       "    </tr>\n",
       "    <tr>\n",
       "      <td>2020-03-09 21:00:00</td>\n",
       "      <td>22</td>\n",
       "      <td>0.0</td>\n",
       "    </tr>\n",
       "    <tr>\n",
       "      <td>2020-03-09 22:00:00</td>\n",
       "      <td>23</td>\n",
       "      <td>0.0</td>\n",
       "    </tr>\n",
       "    <tr>\n",
       "      <td>2020-03-09 23:00:00</td>\n",
       "      <td>24</td>\n",
       "      <td>0.0</td>\n",
       "    </tr>\n",
       "  </tbody>\n",
       "</table>\n",
       "<p>1656 rows × 2 columns</p>\n",
       "</div>"
      ],
      "text/plain": [
       "                     hora  GICIS307\n",
       "fecha_hora                         \n",
       "2020-01-01 00:00:00     1       0.0\n",
       "2020-01-01 01:00:00     2       0.0\n",
       "2020-01-01 02:00:00     3       0.0\n",
       "2020-01-01 03:00:00     4       0.0\n",
       "2020-01-01 04:00:00     5       0.0\n",
       "...                   ...       ...\n",
       "2020-03-09 19:00:00    20       0.0\n",
       "2020-03-09 20:00:00    21       0.0\n",
       "2020-03-09 21:00:00    22       0.0\n",
       "2020-03-09 22:00:00    23       0.0\n",
       "2020-03-09 23:00:00    24       0.0\n",
       "\n",
       "[1656 rows x 2 columns]"
      ]
     },
     "execution_count": 11,
     "metadata": {},
     "output_type": "execute_result"
    }
   ],
   "source": [
    "    data2 = datos[['hora',columna]]\n",
    "    data2[columna] = (data2[columna]) # para efectos de las tranformaciones logaritmicas(eliminar el 0)\n",
    "    #data2 = data2.dropna()\n",
    "    data2"
   ]
  },
  {
   "cell_type": "markdown",
   "metadata": {},
   "source": [
    "***"
   ]
  },
  {
   "cell_type": "code",
   "execution_count": 12,
   "metadata": {
    "ExecuteTime": {
     "end_time": "2020-03-27T02:34:47.774734Z",
     "start_time": "2020-03-27T02:34:47.759034Z"
    }
   },
   "outputs": [],
   "source": [
    "    #Seleccion de y_train y y_test\n",
    "    n = 1\n",
    "    test = (data2.iloc[-(1*24):,:])   # INFO DE TEST\n",
    "    train = data2.drop(data2.index[:(1*24)]) # QUITANDO TEST PARA TRAIN"
   ]
  },
  {
   "cell_type": "code",
   "execution_count": 13,
   "metadata": {
    "ExecuteTime": {
     "end_time": "2020-03-27T02:34:47.875754Z",
     "start_time": "2020-03-27T02:34:47.791858Z"
    }
   },
   "outputs": [
    {
     "data": {
      "text/plain": [
       "(                     hora  GICIS307\n",
       " fecha_hora                         \n",
       " 2020-01-02 00:00:00     1       0.0\n",
       " 2020-01-02 01:00:00     2       0.0\n",
       " 2020-01-02 02:00:00     3       0.0\n",
       " 2020-01-02 03:00:00     4       0.0\n",
       " 2020-01-02 04:00:00     5       0.0\n",
       " ...                   ...       ...\n",
       " 2020-03-09 19:00:00    20       0.0\n",
       " 2020-03-09 20:00:00    21       0.0\n",
       " 2020-03-09 21:00:00    22       0.0\n",
       " 2020-03-09 22:00:00    23       0.0\n",
       " 2020-03-09 23:00:00    24       0.0\n",
       " \n",
       " [1632 rows x 2 columns],                      hora  GICIS307\n",
       " fecha_hora                         \n",
       " 2020-03-09 00:00:00     1       0.0\n",
       " 2020-03-09 01:00:00     2       0.0\n",
       " 2020-03-09 02:00:00     3       0.0\n",
       " 2020-03-09 03:00:00     4       0.0\n",
       " 2020-03-09 04:00:00     5       0.0\n",
       " 2020-03-09 05:00:00     6       0.0\n",
       " 2020-03-09 06:00:00     7       0.0\n",
       " 2020-03-09 07:00:00     8     285.0\n",
       " 2020-03-09 08:00:00     9    1166.0\n",
       " 2020-03-09 09:00:00    10    1547.0\n",
       " 2020-03-09 10:00:00    11    1569.0\n",
       " 2020-03-09 11:00:00    12    1495.0\n",
       " 2020-03-09 12:00:00    13    1517.0\n",
       " 2020-03-09 13:00:00    14    1469.0\n",
       " 2020-03-09 14:00:00    15    1339.0\n",
       " 2020-03-09 15:00:00    16    1461.0\n",
       " 2020-03-09 16:00:00    17    1232.0\n",
       " 2020-03-09 17:00:00    18     728.0\n",
       " 2020-03-09 18:00:00    19     113.0\n",
       " 2020-03-09 19:00:00    20       0.0\n",
       " 2020-03-09 20:00:00    21       0.0\n",
       " 2020-03-09 21:00:00    22       0.0\n",
       " 2020-03-09 22:00:00    23       0.0\n",
       " 2020-03-09 23:00:00    24       0.0)"
      ]
     },
     "execution_count": 13,
     "metadata": {},
     "output_type": "execute_result"
    }
   ],
   "source": [
    "train, test"
   ]
  },
  {
   "cell_type": "code",
   "execution_count": 14,
   "metadata": {
    "ExecuteTime": {
     "end_time": "2020-03-27T02:50:37.877052Z",
     "start_time": "2020-03-27T02:34:47.887986Z"
    }
   },
   "outputs": [
    {
     "name": "stdout",
     "output_type": "stream",
     "text": [
      "ARIMA(maxiter=50, method='lbfgs', order=(1, 0, 0), out_of_sample_size=0,\n",
      "      scoring='mse', scoring_args=None, seasonal_order=(1, 0, 1, 24),\n",
      "      start_params=None, suppress_warnings=False, trend=None,\n",
      "      with_intercept=True)\n"
     ]
    }
   ],
   "source": [
    "fcc = []\n",
    "\n",
    "#MODELO ARIMA\n",
    "y_train = train[columna]\n",
    "        \n",
    "model = pm.auto_arima(y_train.values, start_p=1, start_q=1,\n",
    "            test='adf',       # use adftest to find optimal 'd'\n",
    "            max_p=3, max_q=3, # maximum p and q\n",
    "            m=24,              # frequency of series\n",
    "            d=None,           # let model determine 'd'\n",
    "            seasonal=True)   \n",
    "\n",
    "print(model)"
   ]
  },
  {
   "cell_type": "code",
   "execution_count": 15,
   "metadata": {
    "ExecuteTime": {
     "end_time": "2020-03-27T02:50:56.758152Z",
     "start_time": "2020-03-27T02:50:37.902556Z"
    }
   },
   "outputs": [
    {
     "data": {
      "text/plain": [
       "ARIMA(maxiter=50, method='lbfgs', order=(1, 0, 0), out_of_sample_size=0,\n",
       "      scoring='mse', scoring_args=None, seasonal_order=(1, 0, 1, 24),\n",
       "      start_params=None, suppress_warnings=False, trend=None,\n",
       "      with_intercept=True)"
      ]
     },
     "execution_count": 15,
     "metadata": {},
     "output_type": "execute_result"
    }
   ],
   "source": [
    "model.fit(y_train.values)"
   ]
  },
  {
   "cell_type": "code",
   "execution_count": 16,
   "metadata": {
    "ExecuteTime": {
     "end_time": "2020-03-27T02:50:56.812337Z",
     "start_time": "2020-03-27T02:50:56.765196Z"
    }
   },
   "outputs": [],
   "source": [
    "# Predicción\n",
    "fc = model.predict(n_periods=len(test))"
   ]
  },
  {
   "cell_type": "code",
   "execution_count": 17,
   "metadata": {
    "ExecuteTime": {
     "end_time": "2020-03-27T02:50:56.864103Z",
     "start_time": "2020-03-27T02:50:56.815491Z"
    }
   },
   "outputs": [
    {
     "data": {
      "text/html": [
       "<table class=\"simpletable\">\n",
       "<caption>SARIMAX Results</caption>\n",
       "<tr>\n",
       "  <th>Dep. Variable:</th>                   <td>y</td>                <th>  No. Observations:  </th>    <td>1632</td>   \n",
       "</tr>\n",
       "<tr>\n",
       "  <th>Model:</th>           <td>SARIMAX(1, 0, 0)x(1, 0, [1], 24)</td> <th>  Log Likelihood     </th> <td>-10363.436</td>\n",
       "</tr>\n",
       "<tr>\n",
       "  <th>Date:</th>                    <td>Thu, 26 Mar 2020</td>         <th>  AIC                </th>  <td>20736.871</td>\n",
       "</tr>\n",
       "<tr>\n",
       "  <th>Time:</th>                        <td>20:50:56</td>             <th>  BIC                </th>  <td>20763.859</td>\n",
       "</tr>\n",
       "<tr>\n",
       "  <th>Sample:</th>                          <td>0</td>                <th>  HQIC               </th>  <td>20746.883</td>\n",
       "</tr>\n",
       "<tr>\n",
       "  <th></th>                              <td> - 1632</td>             <th>                     </th>      <td> </td>    \n",
       "</tr>\n",
       "<tr>\n",
       "  <th>Covariance Type:</th>                <td>opg</td>               <th>                     </th>      <td> </td>    \n",
       "</tr>\n",
       "</table>\n",
       "<table class=\"simpletable\">\n",
       "<tr>\n",
       "      <td></td>         <th>coef</th>     <th>std err</th>      <th>z</th>      <th>P>|z|</th>  <th>[0.025</th>    <th>0.975]</th>  \n",
       "</tr>\n",
       "<tr>\n",
       "  <th>intercept</th> <td>    0.2367</td> <td>    0.171</td> <td>    1.381</td> <td> 0.167</td> <td>   -0.099</td> <td>    0.572</td>\n",
       "</tr>\n",
       "<tr>\n",
       "  <th>ar.L1</th>     <td>    0.8075</td> <td>    0.008</td> <td>   98.196</td> <td> 0.000</td> <td>    0.791</td> <td>    0.824</td>\n",
       "</tr>\n",
       "<tr>\n",
       "  <th>ar.S.L24</th>  <td>    0.9975</td> <td>    0.001</td> <td> 1134.702</td> <td> 0.000</td> <td>    0.996</td> <td>    0.999</td>\n",
       "</tr>\n",
       "<tr>\n",
       "  <th>ma.S.L24</th>  <td>   -0.8805</td> <td>    0.010</td> <td>  -90.611</td> <td> 0.000</td> <td>   -0.900</td> <td>   -0.861</td>\n",
       "</tr>\n",
       "<tr>\n",
       "  <th>sigma2</th>    <td> 1.847e+04</td> <td>  314.641</td> <td>   58.705</td> <td> 0.000</td> <td> 1.79e+04</td> <td> 1.91e+04</td>\n",
       "</tr>\n",
       "</table>\n",
       "<table class=\"simpletable\">\n",
       "<tr>\n",
       "  <th>Ljung-Box (Q):</th>          <td>105.94</td> <th>  Jarque-Bera (JB):  </th> <td>3206.24</td>\n",
       "</tr>\n",
       "<tr>\n",
       "  <th>Prob(Q):</th>                 <td>0.00</td>  <th>  Prob(JB):          </th>  <td>0.00</td>  \n",
       "</tr>\n",
       "<tr>\n",
       "  <th>Heteroskedasticity (H):</th>  <td>0.53</td>  <th>  Skew:              </th>  <td>-0.28</td> \n",
       "</tr>\n",
       "<tr>\n",
       "  <th>Prob(H) (two-sided):</th>     <td>0.00</td>  <th>  Kurtosis:          </th>  <td>9.84</td>  \n",
       "</tr>\n",
       "</table><br/><br/>Warnings:<br/>[1] Covariance matrix calculated using the outer product of gradients (complex-step)."
      ],
      "text/plain": [
       "<class 'statsmodels.iolib.summary.Summary'>\n",
       "\"\"\"\n",
       "                                      SARIMAX Results                                       \n",
       "============================================================================================\n",
       "Dep. Variable:                                    y   No. Observations:                 1632\n",
       "Model:             SARIMAX(1, 0, 0)x(1, 0, [1], 24)   Log Likelihood              -10363.436\n",
       "Date:                              Thu, 26 Mar 2020   AIC                          20736.871\n",
       "Time:                                      20:50:56   BIC                          20763.859\n",
       "Sample:                                           0   HQIC                         20746.883\n",
       "                                             - 1632                                         \n",
       "Covariance Type:                                opg                                         \n",
       "==============================================================================\n",
       "                 coef    std err          z      P>|z|      [0.025      0.975]\n",
       "------------------------------------------------------------------------------\n",
       "intercept      0.2367      0.171      1.381      0.167      -0.099       0.572\n",
       "ar.L1          0.8075      0.008     98.196      0.000       0.791       0.824\n",
       "ar.S.L24       0.9975      0.001   1134.702      0.000       0.996       0.999\n",
       "ma.S.L24      -0.8805      0.010    -90.611      0.000      -0.900      -0.861\n",
       "sigma2      1.847e+04    314.641     58.705      0.000    1.79e+04    1.91e+04\n",
       "===================================================================================\n",
       "Ljung-Box (Q):                      105.94   Jarque-Bera (JB):              3206.24\n",
       "Prob(Q):                              0.00   Prob(JB):                         0.00\n",
       "Heteroskedasticity (H):               0.53   Skew:                            -0.28\n",
       "Prob(H) (two-sided):                  0.00   Kurtosis:                         9.84\n",
       "===================================================================================\n",
       "\n",
       "Warnings:\n",
       "[1] Covariance matrix calculated using the outer product of gradients (complex-step).\n",
       "\"\"\""
      ]
     },
     "execution_count": 17,
     "metadata": {},
     "output_type": "execute_result"
    }
   ],
   "source": [
    "model.summary()"
   ]
  },
  {
   "cell_type": "code",
   "execution_count": 18,
   "metadata": {
    "ExecuteTime": {
     "end_time": "2020-03-27T02:50:56.901629Z",
     "start_time": "2020-03-27T02:50:56.873027Z"
    }
   },
   "outputs": [
    {
     "data": {
      "text/plain": [
       "array([   1.98143321,    3.58156376,    4.87371327,    5.91715949,\n",
       "          6.75977085,    7.44020241,    7.98966919,  226.46173297,\n",
       "        933.76083111, 1374.957718  , 1337.80543439, 1382.37542084,\n",
       "       1317.70188629, 1299.53915609, 1299.62228775, 1266.23312491,\n",
       "       1167.41959445,  780.96841772,  188.08538761,   10.15172127,\n",
       "         10.17924091,   10.20145002,   10.21936744,   10.23381515])"
      ]
     },
     "execution_count": 18,
     "metadata": {},
     "output_type": "execute_result"
    }
   ],
   "source": [
    "fc"
   ]
  },
  {
   "cell_type": "code",
   "execution_count": 19,
   "metadata": {
    "ExecuteTime": {
     "end_time": "2020-03-27T02:50:56.928732Z",
     "start_time": "2020-03-27T02:50:56.906945Z"
    }
   },
   "outputs": [],
   "source": [
    "    dias = []\n",
    "    pronostico = pd.DataFrame(fc)\n",
    "        \n",
    "    start=datos['fecha'][0]\n",
    "    pronostico = pronostico.set_index(pd.date_range(test.index[0],periods=len(pronostico),freq='H'))\n",
    "    pronostico.index = pronostico.index.map(str)"
   ]
  },
  {
   "cell_type": "code",
   "execution_count": 20,
   "metadata": {
    "ExecuteTime": {
     "end_time": "2020-03-27T02:50:56.962552Z",
     "start_time": "2020-03-27T02:50:56.933627Z"
    }
   },
   "outputs": [
    {
     "data": {
      "text/html": [
       "<div>\n",
       "<style scoped>\n",
       "    .dataframe tbody tr th:only-of-type {\n",
       "        vertical-align: middle;\n",
       "    }\n",
       "\n",
       "    .dataframe tbody tr th {\n",
       "        vertical-align: top;\n",
       "    }\n",
       "\n",
       "    .dataframe thead th {\n",
       "        text-align: right;\n",
       "    }\n",
       "</style>\n",
       "<table border=\"1\" class=\"dataframe\">\n",
       "  <thead>\n",
       "    <tr style=\"text-align: right;\">\n",
       "      <th></th>\n",
       "      <th>0</th>\n",
       "    </tr>\n",
       "  </thead>\n",
       "  <tbody>\n",
       "    <tr>\n",
       "      <td>2020-03-09 00:00:00</td>\n",
       "      <td>1.981433</td>\n",
       "    </tr>\n",
       "    <tr>\n",
       "      <td>2020-03-09 01:00:00</td>\n",
       "      <td>3.581564</td>\n",
       "    </tr>\n",
       "    <tr>\n",
       "      <td>2020-03-09 02:00:00</td>\n",
       "      <td>4.873713</td>\n",
       "    </tr>\n",
       "    <tr>\n",
       "      <td>2020-03-09 03:00:00</td>\n",
       "      <td>5.917159</td>\n",
       "    </tr>\n",
       "    <tr>\n",
       "      <td>2020-03-09 04:00:00</td>\n",
       "      <td>6.759771</td>\n",
       "    </tr>\n",
       "    <tr>\n",
       "      <td>2020-03-09 05:00:00</td>\n",
       "      <td>7.440202</td>\n",
       "    </tr>\n",
       "    <tr>\n",
       "      <td>2020-03-09 06:00:00</td>\n",
       "      <td>7.989669</td>\n",
       "    </tr>\n",
       "    <tr>\n",
       "      <td>2020-03-09 07:00:00</td>\n",
       "      <td>226.461733</td>\n",
       "    </tr>\n",
       "    <tr>\n",
       "      <td>2020-03-09 08:00:00</td>\n",
       "      <td>933.760831</td>\n",
       "    </tr>\n",
       "    <tr>\n",
       "      <td>2020-03-09 09:00:00</td>\n",
       "      <td>1374.957718</td>\n",
       "    </tr>\n",
       "    <tr>\n",
       "      <td>2020-03-09 10:00:00</td>\n",
       "      <td>1337.805434</td>\n",
       "    </tr>\n",
       "    <tr>\n",
       "      <td>2020-03-09 11:00:00</td>\n",
       "      <td>1382.375421</td>\n",
       "    </tr>\n",
       "    <tr>\n",
       "      <td>2020-03-09 12:00:00</td>\n",
       "      <td>1317.701886</td>\n",
       "    </tr>\n",
       "    <tr>\n",
       "      <td>2020-03-09 13:00:00</td>\n",
       "      <td>1299.539156</td>\n",
       "    </tr>\n",
       "    <tr>\n",
       "      <td>2020-03-09 14:00:00</td>\n",
       "      <td>1299.622288</td>\n",
       "    </tr>\n",
       "    <tr>\n",
       "      <td>2020-03-09 15:00:00</td>\n",
       "      <td>1266.233125</td>\n",
       "    </tr>\n",
       "    <tr>\n",
       "      <td>2020-03-09 16:00:00</td>\n",
       "      <td>1167.419594</td>\n",
       "    </tr>\n",
       "    <tr>\n",
       "      <td>2020-03-09 17:00:00</td>\n",
       "      <td>780.968418</td>\n",
       "    </tr>\n",
       "    <tr>\n",
       "      <td>2020-03-09 18:00:00</td>\n",
       "      <td>188.085388</td>\n",
       "    </tr>\n",
       "    <tr>\n",
       "      <td>2020-03-09 19:00:00</td>\n",
       "      <td>10.151721</td>\n",
       "    </tr>\n",
       "    <tr>\n",
       "      <td>2020-03-09 20:00:00</td>\n",
       "      <td>10.179241</td>\n",
       "    </tr>\n",
       "    <tr>\n",
       "      <td>2020-03-09 21:00:00</td>\n",
       "      <td>10.201450</td>\n",
       "    </tr>\n",
       "    <tr>\n",
       "      <td>2020-03-09 22:00:00</td>\n",
       "      <td>10.219367</td>\n",
       "    </tr>\n",
       "    <tr>\n",
       "      <td>2020-03-09 23:00:00</td>\n",
       "      <td>10.233815</td>\n",
       "    </tr>\n",
       "  </tbody>\n",
       "</table>\n",
       "</div>"
      ],
      "text/plain": [
       "                               0\n",
       "2020-03-09 00:00:00     1.981433\n",
       "2020-03-09 01:00:00     3.581564\n",
       "2020-03-09 02:00:00     4.873713\n",
       "2020-03-09 03:00:00     5.917159\n",
       "2020-03-09 04:00:00     6.759771\n",
       "2020-03-09 05:00:00     7.440202\n",
       "2020-03-09 06:00:00     7.989669\n",
       "2020-03-09 07:00:00   226.461733\n",
       "2020-03-09 08:00:00   933.760831\n",
       "2020-03-09 09:00:00  1374.957718\n",
       "2020-03-09 10:00:00  1337.805434\n",
       "2020-03-09 11:00:00  1382.375421\n",
       "2020-03-09 12:00:00  1317.701886\n",
       "2020-03-09 13:00:00  1299.539156\n",
       "2020-03-09 14:00:00  1299.622288\n",
       "2020-03-09 15:00:00  1266.233125\n",
       "2020-03-09 16:00:00  1167.419594\n",
       "2020-03-09 17:00:00   780.968418\n",
       "2020-03-09 18:00:00   188.085388\n",
       "2020-03-09 19:00:00    10.151721\n",
       "2020-03-09 20:00:00    10.179241\n",
       "2020-03-09 21:00:00    10.201450\n",
       "2020-03-09 22:00:00    10.219367\n",
       "2020-03-09 23:00:00    10.233815"
      ]
     },
     "execution_count": 20,
     "metadata": {},
     "output_type": "execute_result"
    }
   ],
   "source": [
    "pronostico"
   ]
  },
  {
   "cell_type": "code",
   "execution_count": 21,
   "metadata": {
    "ExecuteTime": {
     "end_time": "2020-03-27T02:50:56.982225Z",
     "start_time": "2020-03-27T02:50:56.966329Z"
    }
   },
   "outputs": [
    {
     "data": {
      "text/plain": [
       "fecha_hora\n",
       "2020-02-19 23:00:00    0.0\n",
       "2020-02-20 00:00:00    0.0\n",
       "2020-02-20 01:00:00    0.0\n",
       "2020-02-20 02:00:00    0.0\n",
       "2020-02-20 03:00:00    0.0\n",
       "                      ... \n",
       "2020-03-09 19:00:00    0.0\n",
       "2020-03-09 20:00:00    0.0\n",
       "2020-03-09 21:00:00    0.0\n",
       "2020-03-09 22:00:00    0.0\n",
       "2020-03-09 23:00:00    0.0\n",
       "Name: GICIS307, Length: 457, dtype: float64"
      ]
     },
     "execution_count": 21,
     "metadata": {},
     "output_type": "execute_result"
    }
   ],
   "source": [
    "datos[columna][-1-19*24:]"
   ]
  },
  {
   "cell_type": "code",
   "execution_count": 22,
   "metadata": {
    "ExecuteTime": {
     "end_time": "2020-03-27T02:50:57.545540Z",
     "start_time": "2020-03-27T02:50:57.000222Z"
    }
   },
   "outputs": [
    {
     "data": {
      "image/png": "[encoded data removed]",
      "text/plain": [
       "<Figure size 1200x500 with 1 Axes>"
      ]
     },
     "metadata": {
      "needs_background": "light"
     },
     "output_type": "display_data"
    }
   ],
   "source": [
    "    arange_dates = []\n",
    "    arange_no = []\n",
    "    arange = datos[columna][-1-19*24:].index\n",
    "    for i in range(0,len(arange),48):\n",
    "        arange_dates.append(arange[i])\n",
    "        arange_no.append(i)\n",
    "\n",
    "    plt.figure(figsize=(12,5), dpi=100)\n",
    "    plt.plot(datos[columna][-1-19*24:], 'o-', label = 'Datos Reales')\n",
    "    plt.plot(pronostico, 'o--', label='pronostico',color ='r')\n",
    "    plt.title('Predicción vs Reales 5 dias '+columna)\n",
    "    plt.xticks(arange_no,arange_dates,rotation = 45)\n",
    "    plt.legend(loc='upper left', fontsize=8)\n",
    "    plt.show()"
   ]
  },
  {
   "cell_type": "code",
   "execution_count": 33,
   "metadata": {
    "ExecuteTime": {
     "end_time": "2020-03-27T02:52:26.916384Z",
     "start_time": "2020-03-27T02:52:26.887326Z"
    }
   },
   "outputs": [
    {
     "data": {
      "text/html": [
       "<div>\n",
       "<style scoped>\n",
       "    .dataframe tbody tr th:only-of-type {\n",
       "        vertical-align: middle;\n",
       "    }\n",
       "\n",
       "    .dataframe tbody tr th {\n",
       "        vertical-align: top;\n",
       "    }\n",
       "\n",
       "    .dataframe thead th {\n",
       "        text-align: right;\n",
       "    }\n",
       "</style>\n",
       "<table border=\"1\" class=\"dataframe\">\n",
       "  <thead>\n",
       "    <tr style=\"text-align: right;\">\n",
       "      <th></th>\n",
       "      <th>0</th>\n",
       "    </tr>\n",
       "  </thead>\n",
       "  <tbody>\n",
       "    <tr>\n",
       "      <td>0</td>\n",
       "      <td>1.981433</td>\n",
       "    </tr>\n",
       "    <tr>\n",
       "      <td>1</td>\n",
       "      <td>3.581564</td>\n",
       "    </tr>\n",
       "    <tr>\n",
       "      <td>2</td>\n",
       "      <td>4.873713</td>\n",
       "    </tr>\n",
       "    <tr>\n",
       "      <td>3</td>\n",
       "      <td>5.917159</td>\n",
       "    </tr>\n",
       "    <tr>\n",
       "      <td>4</td>\n",
       "      <td>6.759771</td>\n",
       "    </tr>\n",
       "    <tr>\n",
       "      <td>5</td>\n",
       "      <td>7.440202</td>\n",
       "    </tr>\n",
       "    <tr>\n",
       "      <td>6</td>\n",
       "      <td>7.989669</td>\n",
       "    </tr>\n",
       "    <tr>\n",
       "      <td>7</td>\n",
       "      <td>226.461733</td>\n",
       "    </tr>\n",
       "    <tr>\n",
       "      <td>8</td>\n",
       "      <td>933.760831</td>\n",
       "    </tr>\n",
       "    <tr>\n",
       "      <td>9</td>\n",
       "      <td>1374.957718</td>\n",
       "    </tr>\n",
       "    <tr>\n",
       "      <td>10</td>\n",
       "      <td>1337.805434</td>\n",
       "    </tr>\n",
       "    <tr>\n",
       "      <td>11</td>\n",
       "      <td>1382.375421</td>\n",
       "    </tr>\n",
       "    <tr>\n",
       "      <td>12</td>\n",
       "      <td>1317.701886</td>\n",
       "    </tr>\n",
       "    <tr>\n",
       "      <td>13</td>\n",
       "      <td>1299.539156</td>\n",
       "    </tr>\n",
       "    <tr>\n",
       "      <td>14</td>\n",
       "      <td>1299.622288</td>\n",
       "    </tr>\n",
       "    <tr>\n",
       "      <td>15</td>\n",
       "      <td>1266.233125</td>\n",
       "    </tr>\n",
       "    <tr>\n",
       "      <td>16</td>\n",
       "      <td>1167.419594</td>\n",
       "    </tr>\n",
       "    <tr>\n",
       "      <td>17</td>\n",
       "      <td>780.968418</td>\n",
       "    </tr>\n",
       "    <tr>\n",
       "      <td>18</td>\n",
       "      <td>188.085388</td>\n",
       "    </tr>\n",
       "    <tr>\n",
       "      <td>19</td>\n",
       "      <td>10.151721</td>\n",
       "    </tr>\n",
       "    <tr>\n",
       "      <td>20</td>\n",
       "      <td>10.179241</td>\n",
       "    </tr>\n",
       "    <tr>\n",
       "      <td>21</td>\n",
       "      <td>10.201450</td>\n",
       "    </tr>\n",
       "    <tr>\n",
       "      <td>22</td>\n",
       "      <td>10.219367</td>\n",
       "    </tr>\n",
       "    <tr>\n",
       "      <td>23</td>\n",
       "      <td>10.233815</td>\n",
       "    </tr>\n",
       "  </tbody>\n",
       "</table>\n",
       "</div>"
      ],
      "text/plain": [
       "              0\n",
       "0      1.981433\n",
       "1      3.581564\n",
       "2      4.873713\n",
       "3      5.917159\n",
       "4      6.759771\n",
       "5      7.440202\n",
       "6      7.989669\n",
       "7    226.461733\n",
       "8    933.760831\n",
       "9   1374.957718\n",
       "10  1337.805434\n",
       "11  1382.375421\n",
       "12  1317.701886\n",
       "13  1299.539156\n",
       "14  1299.622288\n",
       "15  1266.233125\n",
       "16  1167.419594\n",
       "17   780.968418\n",
       "18   188.085388\n",
       "19    10.151721\n",
       "20    10.179241\n",
       "21    10.201450\n",
       "22    10.219367\n",
       "23    10.233815"
      ]
     },
     "execution_count": 33,
     "metadata": {},
     "output_type": "execute_result"
    }
   ],
   "source": [
    "Forecasts = pd.DataFrame(fc)\n",
    "Forecasts"
   ]
  },
  {
   "cell_type": "code",
   "execution_count": 35,
   "metadata": {
    "ExecuteTime": {
     "end_time": "2020-03-27T02:52:41.786245Z",
     "start_time": "2020-03-27T02:52:41.777186Z"
    }
   },
   "outputs": [
    {
     "data": {
      "text/plain": [
       "Index(['hora', 'GICIS307'], dtype='object')"
      ]
     },
     "execution_count": 35,
     "metadata": {},
     "output_type": "execute_result"
    }
   ],
   "source": [
    "test.columns"
   ]
  },
  {
   "cell_type": "code",
   "execution_count": 63,
   "metadata": {
    "ExecuteTime": {
     "end_time": "2020-03-27T02:58:24.784098Z",
     "start_time": "2020-03-27T02:58:24.768011Z"
    }
   },
   "outputs": [
    {
     "data": {
      "text/html": [
       "<div>\n",
       "<style scoped>\n",
       "    .dataframe tbody tr th:only-of-type {\n",
       "        vertical-align: middle;\n",
       "    }\n",
       "\n",
       "    .dataframe tbody tr th {\n",
       "        vertical-align: top;\n",
       "    }\n",
       "\n",
       "    .dataframe thead th {\n",
       "        text-align: right;\n",
       "    }\n",
       "</style>\n",
       "<table border=\"1\" class=\"dataframe\">\n",
       "  <thead>\n",
       "    <tr style=\"text-align: right;\">\n",
       "      <th></th>\n",
       "      <th>GICIS307</th>\n",
       "    </tr>\n",
       "    <tr>\n",
       "      <th>fecha_hora</th>\n",
       "      <th></th>\n",
       "    </tr>\n",
       "  </thead>\n",
       "  <tbody>\n",
       "    <tr>\n",
       "      <td>2020-03-09 00:00:00</td>\n",
       "      <td>1.98</td>\n",
       "    </tr>\n",
       "    <tr>\n",
       "      <td>2020-03-09 01:00:00</td>\n",
       "      <td>3.58</td>\n",
       "    </tr>\n",
       "    <tr>\n",
       "      <td>2020-03-09 02:00:00</td>\n",
       "      <td>4.87</td>\n",
       "    </tr>\n",
       "    <tr>\n",
       "      <td>2020-03-09 03:00:00</td>\n",
       "      <td>5.92</td>\n",
       "    </tr>\n",
       "    <tr>\n",
       "      <td>2020-03-09 04:00:00</td>\n",
       "      <td>6.76</td>\n",
       "    </tr>\n",
       "    <tr>\n",
       "      <td>2020-03-09 05:00:00</td>\n",
       "      <td>7.44</td>\n",
       "    </tr>\n",
       "    <tr>\n",
       "      <td>2020-03-09 06:00:00</td>\n",
       "      <td>7.99</td>\n",
       "    </tr>\n",
       "    <tr>\n",
       "      <td>2020-03-09 07:00:00</td>\n",
       "      <td>226.46</td>\n",
       "    </tr>\n",
       "    <tr>\n",
       "      <td>2020-03-09 08:00:00</td>\n",
       "      <td>933.76</td>\n",
       "    </tr>\n",
       "    <tr>\n",
       "      <td>2020-03-09 09:00:00</td>\n",
       "      <td>1374.96</td>\n",
       "    </tr>\n",
       "    <tr>\n",
       "      <td>2020-03-09 10:00:00</td>\n",
       "      <td>1337.81</td>\n",
       "    </tr>\n",
       "    <tr>\n",
       "      <td>2020-03-09 11:00:00</td>\n",
       "      <td>1382.38</td>\n",
       "    </tr>\n",
       "    <tr>\n",
       "      <td>2020-03-09 12:00:00</td>\n",
       "      <td>1317.70</td>\n",
       "    </tr>\n",
       "    <tr>\n",
       "      <td>2020-03-09 13:00:00</td>\n",
       "      <td>1299.54</td>\n",
       "    </tr>\n",
       "    <tr>\n",
       "      <td>2020-03-09 14:00:00</td>\n",
       "      <td>1299.62</td>\n",
       "    </tr>\n",
       "    <tr>\n",
       "      <td>2020-03-09 15:00:00</td>\n",
       "      <td>1266.23</td>\n",
       "    </tr>\n",
       "    <tr>\n",
       "      <td>2020-03-09 16:00:00</td>\n",
       "      <td>1167.42</td>\n",
       "    </tr>\n",
       "    <tr>\n",
       "      <td>2020-03-09 17:00:00</td>\n",
       "      <td>780.97</td>\n",
       "    </tr>\n",
       "    <tr>\n",
       "      <td>2020-03-09 18:00:00</td>\n",
       "      <td>188.09</td>\n",
       "    </tr>\n",
       "    <tr>\n",
       "      <td>2020-03-09 19:00:00</td>\n",
       "      <td>10.15</td>\n",
       "    </tr>\n",
       "    <tr>\n",
       "      <td>2020-03-09 20:00:00</td>\n",
       "      <td>10.18</td>\n",
       "    </tr>\n",
       "    <tr>\n",
       "      <td>2020-03-09 21:00:00</td>\n",
       "      <td>10.20</td>\n",
       "    </tr>\n",
       "    <tr>\n",
       "      <td>2020-03-09 22:00:00</td>\n",
       "      <td>10.22</td>\n",
       "    </tr>\n",
       "    <tr>\n",
       "      <td>2020-03-09 23:00:00</td>\n",
       "      <td>10.23</td>\n",
       "    </tr>\n",
       "  </tbody>\n",
       "</table>\n",
       "</div>"
      ],
      "text/plain": [
       "                     GICIS307\n",
       "fecha_hora                   \n",
       "2020-03-09 00:00:00      1.98\n",
       "2020-03-09 01:00:00      3.58\n",
       "2020-03-09 02:00:00      4.87\n",
       "2020-03-09 03:00:00      5.92\n",
       "2020-03-09 04:00:00      6.76\n",
       "2020-03-09 05:00:00      7.44\n",
       "2020-03-09 06:00:00      7.99\n",
       "2020-03-09 07:00:00    226.46\n",
       "2020-03-09 08:00:00    933.76\n",
       "2020-03-09 09:00:00   1374.96\n",
       "2020-03-09 10:00:00   1337.81\n",
       "2020-03-09 11:00:00   1382.38\n",
       "2020-03-09 12:00:00   1317.70\n",
       "2020-03-09 13:00:00   1299.54\n",
       "2020-03-09 14:00:00   1299.62\n",
       "2020-03-09 15:00:00   1266.23\n",
       "2020-03-09 16:00:00   1167.42\n",
       "2020-03-09 17:00:00    780.97\n",
       "2020-03-09 18:00:00    188.09\n",
       "2020-03-09 19:00:00     10.15\n",
       "2020-03-09 20:00:00     10.18\n",
       "2020-03-09 21:00:00     10.20\n",
       "2020-03-09 22:00:00     10.22\n",
       "2020-03-09 23:00:00     10.23"
      ]
     },
     "execution_count": 63,
     "metadata": {},
     "output_type": "execute_result"
    }
   ],
   "source": [
    "Forecasts.index = test.index\n",
    "Forecasts.columns = [columna]\n",
    "Forecasts = round(Forecasts,2)"
   ]
  },
  {
   "cell_type": "code",
   "execution_count": 68,
   "metadata": {
    "ExecuteTime": {
     "end_time": "2020-03-27T02:59:30.638342Z",
     "start_time": "2020-03-27T02:59:30.627008Z"
    }
   },
   "outputs": [
    {
     "data": {
      "text/plain": [
       "(24, 48)"
      ]
     },
     "execution_count": 68,
     "metadata": {},
     "output_type": "execute_result"
    }
   ],
   "source": [
    "len(Forecasts.values.flatten()), len(test.values.flatten())"
   ]
  },
  {
   "cell_type": "code",
   "execution_count": 75,
   "metadata": {
    "ExecuteTime": {
     "end_time": "2020-03-27T03:04:01.116994Z",
     "start_time": "2020-03-27T03:04:01.095913Z"
    }
   },
   "outputs": [
    {
     "data": {
      "text/html": [
       "<div>\n",
       "<style scoped>\n",
       "    .dataframe tbody tr th:only-of-type {\n",
       "        vertical-align: middle;\n",
       "    }\n",
       "\n",
       "    .dataframe tbody tr th {\n",
       "        vertical-align: top;\n",
       "    }\n",
       "\n",
       "    .dataframe thead th {\n",
       "        text-align: right;\n",
       "    }\n",
       "</style>\n",
       "<table border=\"1\" class=\"dataframe\">\n",
       "  <thead>\n",
       "    <tr style=\"text-align: right;\">\n",
       "      <th></th>\n",
       "      <th>real</th>\n",
       "      <th>forecasts</th>\n",
       "    </tr>\n",
       "  </thead>\n",
       "  <tbody>\n",
       "    <tr>\n",
       "      <td>0</td>\n",
       "      <td>0.0</td>\n",
       "      <td>1.98</td>\n",
       "    </tr>\n",
       "    <tr>\n",
       "      <td>1</td>\n",
       "      <td>0.0</td>\n",
       "      <td>3.58</td>\n",
       "    </tr>\n",
       "    <tr>\n",
       "      <td>2</td>\n",
       "      <td>0.0</td>\n",
       "      <td>4.87</td>\n",
       "    </tr>\n",
       "    <tr>\n",
       "      <td>3</td>\n",
       "      <td>0.0</td>\n",
       "      <td>5.92</td>\n",
       "    </tr>\n",
       "    <tr>\n",
       "      <td>4</td>\n",
       "      <td>0.0</td>\n",
       "      <td>6.76</td>\n",
       "    </tr>\n",
       "    <tr>\n",
       "      <td>5</td>\n",
       "      <td>0.0</td>\n",
       "      <td>7.44</td>\n",
       "    </tr>\n",
       "    <tr>\n",
       "      <td>6</td>\n",
       "      <td>0.0</td>\n",
       "      <td>7.99</td>\n",
       "    </tr>\n",
       "    <tr>\n",
       "      <td>7</td>\n",
       "      <td>285.0</td>\n",
       "      <td>226.46</td>\n",
       "    </tr>\n",
       "    <tr>\n",
       "      <td>8</td>\n",
       "      <td>1166.0</td>\n",
       "      <td>933.76</td>\n",
       "    </tr>\n",
       "    <tr>\n",
       "      <td>9</td>\n",
       "      <td>1547.0</td>\n",
       "      <td>1374.96</td>\n",
       "    </tr>\n",
       "    <tr>\n",
       "      <td>10</td>\n",
       "      <td>1569.0</td>\n",
       "      <td>1337.81</td>\n",
       "    </tr>\n",
       "    <tr>\n",
       "      <td>11</td>\n",
       "      <td>1495.0</td>\n",
       "      <td>1382.38</td>\n",
       "    </tr>\n",
       "    <tr>\n",
       "      <td>12</td>\n",
       "      <td>1517.0</td>\n",
       "      <td>1317.70</td>\n",
       "    </tr>\n",
       "    <tr>\n",
       "      <td>13</td>\n",
       "      <td>1469.0</td>\n",
       "      <td>1299.54</td>\n",
       "    </tr>\n",
       "    <tr>\n",
       "      <td>14</td>\n",
       "      <td>1339.0</td>\n",
       "      <td>1299.62</td>\n",
       "    </tr>\n",
       "    <tr>\n",
       "      <td>15</td>\n",
       "      <td>1461.0</td>\n",
       "      <td>1266.23</td>\n",
       "    </tr>\n",
       "    <tr>\n",
       "      <td>16</td>\n",
       "      <td>1232.0</td>\n",
       "      <td>1167.42</td>\n",
       "    </tr>\n",
       "    <tr>\n",
       "      <td>17</td>\n",
       "      <td>728.0</td>\n",
       "      <td>780.97</td>\n",
       "    </tr>\n",
       "    <tr>\n",
       "      <td>18</td>\n",
       "      <td>113.0</td>\n",
       "      <td>188.09</td>\n",
       "    </tr>\n",
       "    <tr>\n",
       "      <td>19</td>\n",
       "      <td>0.0</td>\n",
       "      <td>10.15</td>\n",
       "    </tr>\n",
       "    <tr>\n",
       "      <td>20</td>\n",
       "      <td>0.0</td>\n",
       "      <td>10.18</td>\n",
       "    </tr>\n",
       "    <tr>\n",
       "      <td>21</td>\n",
       "      <td>0.0</td>\n",
       "      <td>10.20</td>\n",
       "    </tr>\n",
       "    <tr>\n",
       "      <td>22</td>\n",
       "      <td>0.0</td>\n",
       "      <td>10.22</td>\n",
       "    </tr>\n",
       "    <tr>\n",
       "      <td>23</td>\n",
       "      <td>0.0</td>\n",
       "      <td>10.23</td>\n",
       "    </tr>\n",
       "  </tbody>\n",
       "</table>\n",
       "</div>"
      ],
      "text/plain": [
       "      real  forecasts\n",
       "0      0.0       1.98\n",
       "1      0.0       3.58\n",
       "2      0.0       4.87\n",
       "3      0.0       5.92\n",
       "4      0.0       6.76\n",
       "5      0.0       7.44\n",
       "6      0.0       7.99\n",
       "7    285.0     226.46\n",
       "8   1166.0     933.76\n",
       "9   1547.0    1374.96\n",
       "10  1569.0    1337.81\n",
       "11  1495.0    1382.38\n",
       "12  1517.0    1317.70\n",
       "13  1469.0    1299.54\n",
       "14  1339.0    1299.62\n",
       "15  1461.0    1266.23\n",
       "16  1232.0    1167.42\n",
       "17   728.0     780.97\n",
       "18   113.0     188.09\n",
       "19     0.0      10.15\n",
       "20     0.0      10.18\n",
       "21     0.0      10.20\n",
       "22     0.0      10.22\n",
       "23     0.0      10.23"
      ]
     },
     "execution_count": 75,
     "metadata": {},
     "output_type": "execute_result"
    }
   ],
   "source": [
    "fvst = pd.DataFrame()\n",
    "fvst['real'] = test[columna].values.flatten()\n",
    "fvst['forecasts'] = Forecasts.values.flatten()\n",
    "\n",
    "fvst"
   ]
  },
  {
   "cell_type": "code",
   "execution_count": 38,
   "metadata": {
    "ExecuteTime": {
     "end_time": "2020-03-27T02:52:58.811675Z",
     "start_time": "2020-03-27T02:52:58.779117Z"
    }
   },
   "outputs": [],
   "source": [
    "new_mapes = np.abs((Forecasts - test) / test)\n",
    "new_mapes[new_mapes == inf] = 0"
   ]
  },
  {
   "cell_type": "code",
   "execution_count": 43,
   "metadata": {
    "ExecuteTime": {
     "end_time": "2020-03-27T02:54:57.189577Z",
     "start_time": "2020-03-27T02:54:57.140755Z"
    }
   },
   "outputs": [
    {
     "data": {
      "text/html": [
       "<div>\n",
       "<style scoped>\n",
       "    .dataframe tbody tr th:only-of-type {\n",
       "        vertical-align: middle;\n",
       "    }\n",
       "\n",
       "    .dataframe tbody tr th {\n",
       "        vertical-align: top;\n",
       "    }\n",
       "\n",
       "    .dataframe thead th {\n",
       "        text-align: right;\n",
       "    }\n",
       "</style>\n",
       "<table border=\"1\" class=\"dataframe\">\n",
       "  <thead>\n",
       "    <tr style=\"text-align: right;\">\n",
       "      <th></th>\n",
       "      <th>GICIS307</th>\n",
       "    </tr>\n",
       "    <tr>\n",
       "      <th>fecha_hora</th>\n",
       "      <th></th>\n",
       "    </tr>\n",
       "  </thead>\n",
       "  <tbody>\n",
       "    <tr>\n",
       "      <td>2020-03-09 00:00:00</td>\n",
       "      <td>0.000000</td>\n",
       "    </tr>\n",
       "    <tr>\n",
       "      <td>2020-03-09 01:00:00</td>\n",
       "      <td>0.000000</td>\n",
       "    </tr>\n",
       "    <tr>\n",
       "      <td>2020-03-09 02:00:00</td>\n",
       "      <td>0.000000</td>\n",
       "    </tr>\n",
       "    <tr>\n",
       "      <td>2020-03-09 03:00:00</td>\n",
       "      <td>0.000000</td>\n",
       "    </tr>\n",
       "    <tr>\n",
       "      <td>2020-03-09 04:00:00</td>\n",
       "      <td>0.000000</td>\n",
       "    </tr>\n",
       "    <tr>\n",
       "      <td>2020-03-09 05:00:00</td>\n",
       "      <td>0.000000</td>\n",
       "    </tr>\n",
       "    <tr>\n",
       "      <td>2020-03-09 06:00:00</td>\n",
       "      <td>0.000000</td>\n",
       "    </tr>\n",
       "    <tr>\n",
       "      <td>2020-03-09 07:00:00</td>\n",
       "      <td>0.205397</td>\n",
       "    </tr>\n",
       "    <tr>\n",
       "      <td>2020-03-09 08:00:00</td>\n",
       "      <td>0.199176</td>\n",
       "    </tr>\n",
       "    <tr>\n",
       "      <td>2020-03-09 09:00:00</td>\n",
       "      <td>0.111210</td>\n",
       "    </tr>\n",
       "    <tr>\n",
       "      <td>2020-03-09 10:00:00</td>\n",
       "      <td>0.147352</td>\n",
       "    </tr>\n",
       "    <tr>\n",
       "      <td>2020-03-09 11:00:00</td>\n",
       "      <td>0.075334</td>\n",
       "    </tr>\n",
       "    <tr>\n",
       "      <td>2020-03-09 12:00:00</td>\n",
       "      <td>0.131376</td>\n",
       "    </tr>\n",
       "    <tr>\n",
       "      <td>2020-03-09 13:00:00</td>\n",
       "      <td>0.115358</td>\n",
       "    </tr>\n",
       "    <tr>\n",
       "      <td>2020-03-09 14:00:00</td>\n",
       "      <td>0.029408</td>\n",
       "    </tr>\n",
       "    <tr>\n",
       "      <td>2020-03-09 15:00:00</td>\n",
       "      <td>0.133311</td>\n",
       "    </tr>\n",
       "    <tr>\n",
       "      <td>2020-03-09 16:00:00</td>\n",
       "      <td>0.052419</td>\n",
       "    </tr>\n",
       "    <tr>\n",
       "      <td>2020-03-09 17:00:00</td>\n",
       "      <td>0.072759</td>\n",
       "    </tr>\n",
       "    <tr>\n",
       "      <td>2020-03-09 18:00:00</td>\n",
       "      <td>0.664472</td>\n",
       "    </tr>\n",
       "    <tr>\n",
       "      <td>2020-03-09 19:00:00</td>\n",
       "      <td>0.000000</td>\n",
       "    </tr>\n",
       "    <tr>\n",
       "      <td>2020-03-09 20:00:00</td>\n",
       "      <td>0.000000</td>\n",
       "    </tr>\n",
       "    <tr>\n",
       "      <td>2020-03-09 21:00:00</td>\n",
       "      <td>0.000000</td>\n",
       "    </tr>\n",
       "    <tr>\n",
       "      <td>2020-03-09 22:00:00</td>\n",
       "      <td>0.000000</td>\n",
       "    </tr>\n",
       "    <tr>\n",
       "      <td>2020-03-09 23:00:00</td>\n",
       "      <td>0.000000</td>\n",
       "    </tr>\n",
       "  </tbody>\n",
       "</table>\n",
       "</div>"
      ],
      "text/plain": [
       "                     GICIS307\n",
       "fecha_hora                   \n",
       "2020-03-09 00:00:00  0.000000\n",
       "2020-03-09 01:00:00  0.000000\n",
       "2020-03-09 02:00:00  0.000000\n",
       "2020-03-09 03:00:00  0.000000\n",
       "2020-03-09 04:00:00  0.000000\n",
       "2020-03-09 05:00:00  0.000000\n",
       "2020-03-09 06:00:00  0.000000\n",
       "2020-03-09 07:00:00  0.205397\n",
       "2020-03-09 08:00:00  0.199176\n",
       "2020-03-09 09:00:00  0.111210\n",
       "2020-03-09 10:00:00  0.147352\n",
       "2020-03-09 11:00:00  0.075334\n",
       "2020-03-09 12:00:00  0.131376\n",
       "2020-03-09 13:00:00  0.115358\n",
       "2020-03-09 14:00:00  0.029408\n",
       "2020-03-09 15:00:00  0.133311\n",
       "2020-03-09 16:00:00  0.052419\n",
       "2020-03-09 17:00:00  0.072759\n",
       "2020-03-09 18:00:00  0.664472\n",
       "2020-03-09 19:00:00  0.000000\n",
       "2020-03-09 20:00:00  0.000000\n",
       "2020-03-09 21:00:00  0.000000\n",
       "2020-03-09 22:00:00  0.000000\n",
       "2020-03-09 23:00:00  0.000000"
      ]
     },
     "execution_count": 43,
     "metadata": {},
     "output_type": "execute_result"
    }
   ],
   "source": [
    "new_mapes = new_mapes.drop(['hora'], axis =1)\n",
    "new_mapes"
   ]
  },
  {
   "cell_type": "code",
   "execution_count": 49,
   "metadata": {
    "ExecuteTime": {
     "end_time": "2020-03-27T02:55:38.823355Z",
     "start_time": "2020-03-27T02:55:38.781403Z"
    }
   },
   "outputs": [
    {
     "data": {
      "text/html": [
       "<div>\n",
       "<style scoped>\n",
       "    .dataframe tbody tr th:only-of-type {\n",
       "        vertical-align: middle;\n",
       "    }\n",
       "\n",
       "    .dataframe tbody tr th {\n",
       "        vertical-align: top;\n",
       "    }\n",
       "\n",
       "    .dataframe thead th {\n",
       "        text-align: right;\n",
       "    }\n",
       "</style>\n",
       "<table border=\"1\" class=\"dataframe\">\n",
       "  <thead>\n",
       "    <tr style=\"text-align: right;\">\n",
       "      <th></th>\n",
       "      <th>GICIS307</th>\n",
       "    </tr>\n",
       "    <tr>\n",
       "      <th>fecha_hora</th>\n",
       "      <th></th>\n",
       "    </tr>\n",
       "  </thead>\n",
       "  <tbody>\n",
       "    <tr>\n",
       "      <td>2020-03-09 07:00:00</td>\n",
       "      <td>0.205397</td>\n",
       "    </tr>\n",
       "    <tr>\n",
       "      <td>2020-03-09 08:00:00</td>\n",
       "      <td>0.199176</td>\n",
       "    </tr>\n",
       "    <tr>\n",
       "      <td>2020-03-09 09:00:00</td>\n",
       "      <td>0.111210</td>\n",
       "    </tr>\n",
       "    <tr>\n",
       "      <td>2020-03-09 10:00:00</td>\n",
       "      <td>0.147352</td>\n",
       "    </tr>\n",
       "    <tr>\n",
       "      <td>2020-03-09 11:00:00</td>\n",
       "      <td>0.075334</td>\n",
       "    </tr>\n",
       "    <tr>\n",
       "      <td>2020-03-09 12:00:00</td>\n",
       "      <td>0.131376</td>\n",
       "    </tr>\n",
       "    <tr>\n",
       "      <td>2020-03-09 13:00:00</td>\n",
       "      <td>0.115358</td>\n",
       "    </tr>\n",
       "    <tr>\n",
       "      <td>2020-03-09 14:00:00</td>\n",
       "      <td>0.029408</td>\n",
       "    </tr>\n",
       "    <tr>\n",
       "      <td>2020-03-09 15:00:00</td>\n",
       "      <td>0.133311</td>\n",
       "    </tr>\n",
       "    <tr>\n",
       "      <td>2020-03-09 16:00:00</td>\n",
       "      <td>0.052419</td>\n",
       "    </tr>\n",
       "    <tr>\n",
       "      <td>2020-03-09 17:00:00</td>\n",
       "      <td>0.072759</td>\n",
       "    </tr>\n",
       "    <tr>\n",
       "      <td>2020-03-09 18:00:00</td>\n",
       "      <td>0.664472</td>\n",
       "    </tr>\n",
       "  </tbody>\n",
       "</table>\n",
       "</div>"
      ],
      "text/plain": [
       "                     GICIS307\n",
       "fecha_hora                   \n",
       "2020-03-09 07:00:00  0.205397\n",
       "2020-03-09 08:00:00  0.199176\n",
       "2020-03-09 09:00:00  0.111210\n",
       "2020-03-09 10:00:00  0.147352\n",
       "2020-03-09 11:00:00  0.075334\n",
       "2020-03-09 12:00:00  0.131376\n",
       "2020-03-09 13:00:00  0.115358\n",
       "2020-03-09 14:00:00  0.029408\n",
       "2020-03-09 15:00:00  0.133311\n",
       "2020-03-09 16:00:00  0.052419\n",
       "2020-03-09 17:00:00  0.072759\n",
       "2020-03-09 18:00:00  0.664472"
      ]
     },
     "execution_count": 49,
     "metadata": {},
     "output_type": "execute_result"
    }
   ],
   "source": [
    "new_mapes.iloc[7:19,:]"
   ]
  },
  {
   "cell_type": "code",
   "execution_count": 76,
   "metadata": {
    "ExecuteTime": {
     "end_time": "2020-03-27T03:29:15.810635Z",
     "start_time": "2020-03-27T03:29:15.797899Z"
    }
   },
   "outputs": [
    {
     "data": {
      "text/plain": [
       "GICIS307    0.161464\n",
       "dtype: float64"
      ]
     },
     "execution_count": 76,
     "metadata": {},
     "output_type": "execute_result"
    }
   ],
   "source": [
    "mea = np.mean(new_mapes.iloc[7:19,:])\n",
    "mea"
   ]
  },
  {
   "cell_type": "code",
   "execution_count": 53,
   "metadata": {
    "ExecuteTime": {
     "end_time": "2020-03-27T02:56:04.620699Z",
     "start_time": "2020-03-27T02:56:04.613062Z"
    }
   },
   "outputs": [
    {
     "data": {
      "text/plain": [
       "0.08073221619297037"
      ]
     },
     "execution_count": 53,
     "metadata": {},
     "output_type": "execute_result"
    }
   ],
   "source": [
    "np.mean(mea)"
   ]
  },
  {
   "cell_type": "code",
   "execution_count": 54,
   "metadata": {
    "ExecuteTime": {
     "end_time": "2020-03-27T02:56:06.541412Z",
     "start_time": "2020-03-27T02:56:06.504287Z"
    }
   },
   "outputs": [
    {
     "data": {
      "text/html": [
       "<div>\n",
       "<style scoped>\n",
       "    .dataframe tbody tr th:only-of-type {\n",
       "        vertical-align: middle;\n",
       "    }\n",
       "\n",
       "    .dataframe tbody tr th {\n",
       "        vertical-align: top;\n",
       "    }\n",
       "\n",
       "    .dataframe thead th {\n",
       "        text-align: right;\n",
       "    }\n",
       "</style>\n",
       "<table border=\"1\" class=\"dataframe\">\n",
       "  <thead>\n",
       "    <tr style=\"text-align: right;\">\n",
       "      <th></th>\n",
       "      <th>MAD</th>\n",
       "      <th>MAPE</th>\n",
       "      <th>PMAD</th>\n",
       "      <th>MSE</th>\n",
       "      <th>RMSE</th>\n",
       "    </tr>\n",
       "  </thead>\n",
       "  <tbody>\n",
       "  </tbody>\n",
       "</table>\n",
       "</div>"
      ],
      "text/plain": [
       "Empty DataFrame\n",
       "Columns: [MAD, MAPE, PMAD, MSE, RMSE]\n",
       "Index: []"
      ]
     },
     "execution_count": 54,
     "metadata": {},
     "output_type": "execute_result"
    }
   ],
   "source": [
    "import pandas as pd\n",
    "medidasdepresicion = ['MAD','MAPE','PMAD','MSE','RMSE']\n",
    "dfpresicion = pd.DataFrame(columns=medidasdepresicion)\n",
    "dfpresicion.MAPE = 0.2\n",
    "dfpresicion"
   ]
  },
  {
   "cell_type": "code",
   "execution_count": null,
   "metadata": {},
   "outputs": [],
   "source": []
  }
 ],
 "metadata": {
  "kernelspec": {
   "display_name": "Python 3",
   "language": "python",
   "name": "python3"
  },
  "language_info": {
   "codemirror_mode": {
    "name": "ipython",
    "version": 3
   },
   "file_extension": ".py",
   "mimetype": "text/x-python",
   "name": "python",
   "nbconvert_exporter": "python",
   "pygments_lexer": "ipython3",
   "version": "3.7.4"
  }
 },
 "nbformat": 4,
 "nbformat_minor": 2
}
