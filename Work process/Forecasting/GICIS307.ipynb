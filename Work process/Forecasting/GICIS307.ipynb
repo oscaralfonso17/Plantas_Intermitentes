{
 "cells": [
  {
   "cell_type": "code",
   "execution_count": 1,
   "metadata": {
    "ExecuteTime": {
     "end_time": "2020-04-21T19:45:12.140137Z",
     "start_time": "2020-04-21T19:45:12.130522Z"
    }
   },
   "outputs": [
    {
     "name": "stdout",
     "output_type": "stream",
     "text": [
      "Planta a Analizar:  7\n"
     ]
    }
   ],
   "source": [
    "planta = 7\n",
    "print(\"Planta a Analizar: \", planta)"
   ]
  },
  {
   "cell_type": "code",
   "execution_count": 2,
   "metadata": {
    "ExecuteTime": {
     "end_time": "2020-04-21T19:45:18.869245Z",
     "start_time": "2020-04-21T19:45:12.720619Z"
    }
   },
   "outputs": [
    {
     "data": {
      "text/html": [
       " <style> .output {display: center; align-items: center; text-align: center; justify-content: center; } </style> "
      ],
      "text/plain": [
       "<IPython.core.display.HTML object>"
      ]
     },
     "metadata": {},
     "output_type": "display_data"
    }
   ],
   "source": [
    "import pandas as pd\n",
    "import numpy as np\n",
    "import matplotlib as mpl\n",
    "import scipy.stats as st\n",
    "import seaborn as sns\n",
    "import statsmodels.api as sm\n",
    "from datetime import datetime\n",
    "import matplotlib.pyplot as plt\n",
    "from statsmodels.tsa.arima_model import ARIMA\n",
    "import pmdarima as pm\n",
    "from pmdarima.model_selection import train_test_split\n",
    "import matplotlib.pyplot as plt\n",
    "import warnings\n",
    "warnings.filterwarnings(\"ignore\")\n",
    "from statsmodels.tsa.stattools import acf\n",
    "import datetime\n",
    "from statsmodels.graphics.tsaplots import plot_acf, plot_pacf\n",
    "from sklearn.metrics import mean_squared_error\n",
    "\n",
    "from numpy import inf\n",
    "\n",
    "from IPython.display import display, HTML\n",
    "display(HTML(\"\"\" <style> .output {display: center; align-items: center; text-align: center; justify-content: center; } </style> \"\"\"))"
   ]
  },
  {
   "cell_type": "code",
   "execution_count": 3,
   "metadata": {
    "ExecuteTime": {
     "end_time": "2020-04-21T19:45:52.265885Z",
     "start_time": "2020-04-21T19:45:18.897364Z"
    }
   },
   "outputs": [],
   "source": [
    "#Importación de datos\n",
    "datos = pd.read_excel('Generación Intermitente de la GCROC 2013-2020.xlsx', header=1)"
   ]
  },
  {
   "cell_type": "code",
   "execution_count": 4,
   "metadata": {
    "ExecuteTime": {
     "end_time": "2020-04-21T19:45:53.571616Z",
     "start_time": "2020-04-21T19:45:52.282574Z"
    }
   },
   "outputs": [],
   "source": [
    "numbers = datos.hora-1\n",
    "hours = [datetime.time(num).strftime(\"%H:00:00\") for num in numbers]\n",
    "datos['fecha'] = datos['fecha'].replace(0,np.nan).ffill()\n",
    "datos['fecha'] = pd.to_datetime(datos['fecha'])\n",
    "datos['fecha'] = datos['fecha'].dt.date\n",
    "datos['fecha_hora'] = datos[\"fecha\"].astype(str) + ' ' + hours\n",
    "#LIMPIEZA DE DATOS\n",
    "datos = datos.set_index(datos['fecha_hora'])\n",
    "datos = datos[53736:]"
   ]
  },
  {
   "cell_type": "code",
   "execution_count": 5,
   "metadata": {
    "ExecuteTime": {
     "end_time": "2020-04-21T19:45:53.600917Z",
     "start_time": "2020-04-21T19:45:53.587955Z"
    }
   },
   "outputs": [],
   "source": [
    "columns = ['GICIE301', 'GICIE302','GICIE303','GICIE304','GICIE305','GICIS306', 'GICIS307','GICIS308',\n",
    "          'GICIS309','GICIS310','GICIS311','GICIS312','GICIS313','GICIS314','GICIS315','GICIS316','GICIS317',\n",
    "          'GICIS318','GICIS319','GICIS320','GICIS321','GICIS322','GICIS323','GICIS324','GICIS325','GICIS326']"
   ]
  },
  {
   "cell_type": "code",
   "execution_count": 6,
   "metadata": {
    "ExecuteTime": {
     "end_time": "2020-04-21T19:45:53.616874Z",
     "start_time": "2020-04-21T19:45:53.605847Z"
    }
   },
   "outputs": [
    {
     "data": {
      "text/plain": [
       "'GICIS307'"
      ]
     },
     "execution_count": 6,
     "metadata": {},
     "output_type": "execute_result"
    }
   ],
   "source": [
    "n_periods = 5*24\n",
    "columna = columns[planta-1]\n",
    "columna"
   ]
  },
  {
   "cell_type": "code",
   "execution_count": 7,
   "metadata": {
    "ExecuteTime": {
     "end_time": "2020-04-21T19:45:53.670962Z",
     "start_time": "2020-04-21T19:45:53.621929Z"
    },
    "scrolled": false
   },
   "outputs": [
    {
     "data": {
      "text/html": [
       "<div>\n",
       "<style scoped>\n",
       "    .dataframe tbody tr th:only-of-type {\n",
       "        vertical-align: middle;\n",
       "    }\n",
       "\n",
       "    .dataframe tbody tr th {\n",
       "        vertical-align: top;\n",
       "    }\n",
       "\n",
       "    .dataframe thead th {\n",
       "        text-align: right;\n",
       "    }\n",
       "</style>\n",
       "<table border=\"1\" class=\"dataframe\">\n",
       "  <thead>\n",
       "    <tr style=\"text-align: right;\">\n",
       "      <th></th>\n",
       "      <th>hora</th>\n",
       "      <th>GICIS307</th>\n",
       "    </tr>\n",
       "    <tr>\n",
       "      <th>fecha_hora</th>\n",
       "      <th></th>\n",
       "      <th></th>\n",
       "    </tr>\n",
       "  </thead>\n",
       "  <tbody>\n",
       "    <tr>\n",
       "      <td>2020-01-01 00:00:00</td>\n",
       "      <td>1</td>\n",
       "      <td>0.0</td>\n",
       "    </tr>\n",
       "    <tr>\n",
       "      <td>2020-01-01 01:00:00</td>\n",
       "      <td>2</td>\n",
       "      <td>0.0</td>\n",
       "    </tr>\n",
       "    <tr>\n",
       "      <td>2020-01-01 02:00:00</td>\n",
       "      <td>3</td>\n",
       "      <td>0.0</td>\n",
       "    </tr>\n",
       "    <tr>\n",
       "      <td>2020-01-01 03:00:00</td>\n",
       "      <td>4</td>\n",
       "      <td>0.0</td>\n",
       "    </tr>\n",
       "    <tr>\n",
       "      <td>2020-01-01 04:00:00</td>\n",
       "      <td>5</td>\n",
       "      <td>0.0</td>\n",
       "    </tr>\n",
       "  </tbody>\n",
       "</table>\n",
       "</div>"
      ],
      "text/plain": [
       "                     hora  GICIS307\n",
       "fecha_hora                         \n",
       "2020-01-01 00:00:00     1       0.0\n",
       "2020-01-01 01:00:00     2       0.0\n",
       "2020-01-01 02:00:00     3       0.0\n",
       "2020-01-01 03:00:00     4       0.0\n",
       "2020-01-01 04:00:00     5       0.0"
      ]
     },
     "execution_count": 7,
     "metadata": {},
     "output_type": "execute_result"
    }
   ],
   "source": [
    "df = datos[['hora',columna]]\n",
    "df[columna] = (df[columna]) # para efectos de las tranformaciones logaritmicas(eliminar el 0)\n",
    "df = df.dropna()\n",
    "df.head()"
   ]
  },
  {
   "cell_type": "code",
   "execution_count": 8,
   "metadata": {
    "ExecuteTime": {
     "end_time": "2020-04-21T19:45:53.698034Z",
     "start_time": "2020-04-21T19:45:53.678462Z"
    }
   },
   "outputs": [],
   "source": [
    "# Original Series\n",
    "df2 = df.drop(['hora'], axis=1)\n",
    "df2\n",
    "\n",
    "df2_diff = df2.diff()\n",
    "df2_diff_diff = df2.diff().diff()"
   ]
  },
  {
   "cell_type": "markdown",
   "metadata": {},
   "source": [
    "***"
   ]
  },
  {
   "cell_type": "code",
   "execution_count": 9,
   "metadata": {
    "ExecuteTime": {
     "end_time": "2020-04-21T19:45:53.742541Z",
     "start_time": "2020-04-21T19:45:53.725488Z"
    }
   },
   "outputs": [],
   "source": [
    "#Seleccion de y_train y y_test\n",
    "  \n",
    "n = 1 #numero de dias a simular\n",
    "test = (df2.iloc[-(1*24):,:])   # INFO DE TEST \n",
    "train = df2.drop(df.index[:(1*24)]) # QUITANDO TEST PARA TRAIN"
   ]
  },
  {
   "cell_type": "code",
   "execution_count": 11,
   "metadata": {
    "ExecuteTime": {
     "end_time": "2020-04-21T19:53:46.135335Z",
     "start_time": "2020-04-21T19:51:30.239612Z"
    }
   },
   "outputs": [
    {
     "name": "stdout",
     "output_type": "stream",
     "text": [
      "predicted=-9.377830, expected=285.000000\n",
      "predicted=362.803273, expected=1166.000000\n",
      "predicted=1399.230931, expected=1547.000000\n",
      "predicted=1471.057460, expected=1569.000000\n",
      "predicted=1417.366238, expected=1495.000000\n",
      "predicted=1348.184696, expected=1517.000000\n",
      "predicted=1410.614329, expected=1469.000000\n",
      "predicted=1306.055742, expected=1339.000000\n",
      "predicted=1153.058153, expected=1461.000000\n",
      "predicted=1335.322577, expected=1232.000000\n",
      "predicted=914.939775, expected=728.000000\n",
      "predicted=380.712897, expected=113.000000\n"
     ]
    },
    {
     "data": {
      "image/png": "[encoded data removed]",
      "text/plain": [
       "<Figure size 432x288 with 1 Axes>"
      ]
     },
     "metadata": {
      "needs_background": "light"
     },
     "output_type": "display_data"
    },
    {
     "data": {
      "text/plain": [
       "0.4189852118541297"
      ]
     },
     "execution_count": 11,
     "metadata": {},
     "output_type": "execute_result"
    }
   ],
   "source": [
    "history = [x for x in train.values]\n",
    "predictions = list()\n",
    "predictions.append(0)\n",
    "predictions.append(0)\n",
    "predictions.append(0)\n",
    "predictions.append(0)\n",
    "predictions.append(0)\n",
    "predictions.append(0)\n",
    "predictions.append(0)\n",
    "for t in range(7,19):\n",
    "    model = ARIMA(history, order=(8,1,2))\n",
    "    model_fit = model.fit()\n",
    "    output = model_fit.forecast()\n",
    "    yhat = output[0]\n",
    "    predictions.append(yhat)\n",
    "    obs = test.values[t]\n",
    "    history.append(obs)\n",
    "    print('predicted=%f, expected=%f' % (yhat, obs))\n",
    "predictions.append(0)\n",
    "predictions.append(0)\n",
    "predictions.append(0)\n",
    "predictions.append(0)\n",
    "predictions.append(0)\n",
    "\n",
    "# plot\n",
    "plt.plot(test)\n",
    "plt.plot(predictions, color='red')\n",
    "plt.xticks(rotation=90)\n",
    "plt.show()\n",
    "\n",
    "fvst = pd.DataFrame()\n",
    "fvst['real'] = test[columna].values.flatten()\n",
    "fvst['forecasts'] = predictions\n",
    "fvst['error'] = 0\n",
    "for i in range(len(fvst)):\n",
    "    fvst['error'][i] = np.abs((fvst['forecasts'][i]- fvst['real'][i])/(fvst['real'][i]))\n",
    "\n",
    "mea = np.mean(fvst.iloc[7:19,2])\n",
    "mea"
   ]
  },
  {
   "cell_type": "code",
   "execution_count": 12,
   "metadata": {
    "ExecuteTime": {
     "end_time": "2020-04-21T20:01:17.618898Z",
     "start_time": "2020-04-21T20:01:17.581728Z"
    }
   },
   "outputs": [
    {
     "data": {
      "text/html": [
       "<div>\n",
       "<style scoped>\n",
       "    .dataframe tbody tr th:only-of-type {\n",
       "        vertical-align: middle;\n",
       "    }\n",
       "\n",
       "    .dataframe tbody tr th {\n",
       "        vertical-align: top;\n",
       "    }\n",
       "\n",
       "    .dataframe thead th {\n",
       "        text-align: right;\n",
       "    }\n",
       "</style>\n",
       "<table border=\"1\" class=\"dataframe\">\n",
       "  <thead>\n",
       "    <tr style=\"text-align: right;\">\n",
       "      <th></th>\n",
       "      <th>real</th>\n",
       "      <th>forecasts</th>\n",
       "      <th>error</th>\n",
       "    </tr>\n",
       "  </thead>\n",
       "  <tbody>\n",
       "    <tr>\n",
       "      <td>0</td>\n",
       "      <td>0.0</td>\n",
       "      <td>0</td>\n",
       "      <td>0.000000</td>\n",
       "    </tr>\n",
       "    <tr>\n",
       "      <td>1</td>\n",
       "      <td>0.0</td>\n",
       "      <td>0</td>\n",
       "      <td>0.000000</td>\n",
       "    </tr>\n",
       "    <tr>\n",
       "      <td>2</td>\n",
       "      <td>0.0</td>\n",
       "      <td>0</td>\n",
       "      <td>0.000000</td>\n",
       "    </tr>\n",
       "    <tr>\n",
       "      <td>3</td>\n",
       "      <td>0.0</td>\n",
       "      <td>0</td>\n",
       "      <td>0.000000</td>\n",
       "    </tr>\n",
       "    <tr>\n",
       "      <td>4</td>\n",
       "      <td>0.0</td>\n",
       "      <td>0</td>\n",
       "      <td>0.000000</td>\n",
       "    </tr>\n",
       "    <tr>\n",
       "      <td>5</td>\n",
       "      <td>0.0</td>\n",
       "      <td>0</td>\n",
       "      <td>0.000000</td>\n",
       "    </tr>\n",
       "    <tr>\n",
       "      <td>6</td>\n",
       "      <td>0.0</td>\n",
       "      <td>0</td>\n",
       "      <td>0.000000</td>\n",
       "    </tr>\n",
       "    <tr>\n",
       "      <td>7</td>\n",
       "      <td>285.0</td>\n",
       "      <td>[-9.37783036788474]</td>\n",
       "      <td>1.032905</td>\n",
       "    </tr>\n",
       "    <tr>\n",
       "      <td>8</td>\n",
       "      <td>1166.0</td>\n",
       "      <td>[362.8032734029024]</td>\n",
       "      <td>0.688848</td>\n",
       "    </tr>\n",
       "    <tr>\n",
       "      <td>9</td>\n",
       "      <td>1547.0</td>\n",
       "      <td>[1399.2309307089015]</td>\n",
       "      <td>0.095520</td>\n",
       "    </tr>\n",
       "    <tr>\n",
       "      <td>10</td>\n",
       "      <td>1569.0</td>\n",
       "      <td>[1471.0574603402902]</td>\n",
       "      <td>0.062424</td>\n",
       "    </tr>\n",
       "    <tr>\n",
       "      <td>11</td>\n",
       "      <td>1495.0</td>\n",
       "      <td>[1417.3662379759123]</td>\n",
       "      <td>0.051929</td>\n",
       "    </tr>\n",
       "    <tr>\n",
       "      <td>12</td>\n",
       "      <td>1517.0</td>\n",
       "      <td>[1348.1846963401715]</td>\n",
       "      <td>0.111282</td>\n",
       "    </tr>\n",
       "    <tr>\n",
       "      <td>13</td>\n",
       "      <td>1469.0</td>\n",
       "      <td>[1410.6143288944543]</td>\n",
       "      <td>0.039745</td>\n",
       "    </tr>\n",
       "    <tr>\n",
       "      <td>14</td>\n",
       "      <td>1339.0</td>\n",
       "      <td>[1306.0557419715851]</td>\n",
       "      <td>0.024604</td>\n",
       "    </tr>\n",
       "    <tr>\n",
       "      <td>15</td>\n",
       "      <td>1461.0</td>\n",
       "      <td>[1153.058153498371]</td>\n",
       "      <td>0.210775</td>\n",
       "    </tr>\n",
       "    <tr>\n",
       "      <td>16</td>\n",
       "      <td>1232.0</td>\n",
       "      <td>[1335.3225772166084]</td>\n",
       "      <td>0.083866</td>\n",
       "    </tr>\n",
       "    <tr>\n",
       "      <td>17</td>\n",
       "      <td>728.0</td>\n",
       "      <td>[914.9397751837702]</td>\n",
       "      <td>0.256785</td>\n",
       "    </tr>\n",
       "    <tr>\n",
       "      <td>18</td>\n",
       "      <td>113.0</td>\n",
       "      <td>[380.71289712531916]</td>\n",
       "      <td>2.369141</td>\n",
       "    </tr>\n",
       "    <tr>\n",
       "      <td>19</td>\n",
       "      <td>0.0</td>\n",
       "      <td>0</td>\n",
       "      <td>0.000000</td>\n",
       "    </tr>\n",
       "    <tr>\n",
       "      <td>20</td>\n",
       "      <td>0.0</td>\n",
       "      <td>0</td>\n",
       "      <td>0.000000</td>\n",
       "    </tr>\n",
       "    <tr>\n",
       "      <td>21</td>\n",
       "      <td>0.0</td>\n",
       "      <td>0</td>\n",
       "      <td>0.000000</td>\n",
       "    </tr>\n",
       "    <tr>\n",
       "      <td>22</td>\n",
       "      <td>0.0</td>\n",
       "      <td>0</td>\n",
       "      <td>0.000000</td>\n",
       "    </tr>\n",
       "    <tr>\n",
       "      <td>23</td>\n",
       "      <td>0.0</td>\n",
       "      <td>0</td>\n",
       "      <td>0.000000</td>\n",
       "    </tr>\n",
       "  </tbody>\n",
       "</table>\n",
       "</div>"
      ],
      "text/plain": [
       "      real             forecasts     error\n",
       "0      0.0                     0  0.000000\n",
       "1      0.0                     0  0.000000\n",
       "2      0.0                     0  0.000000\n",
       "3      0.0                     0  0.000000\n",
       "4      0.0                     0  0.000000\n",
       "5      0.0                     0  0.000000\n",
       "6      0.0                     0  0.000000\n",
       "7    285.0   [-9.37783036788474]  1.032905\n",
       "8   1166.0   [362.8032734029024]  0.688848\n",
       "9   1547.0  [1399.2309307089015]  0.095520\n",
       "10  1569.0  [1471.0574603402902]  0.062424\n",
       "11  1495.0  [1417.3662379759123]  0.051929\n",
       "12  1517.0  [1348.1846963401715]  0.111282\n",
       "13  1469.0  [1410.6143288944543]  0.039745\n",
       "14  1339.0  [1306.0557419715851]  0.024604\n",
       "15  1461.0   [1153.058153498371]  0.210775\n",
       "16  1232.0  [1335.3225772166084]  0.083866\n",
       "17   728.0   [914.9397751837702]  0.256785\n",
       "18   113.0  [380.71289712531916]  2.369141\n",
       "19     0.0                     0  0.000000\n",
       "20     0.0                     0  0.000000\n",
       "21     0.0                     0  0.000000\n",
       "22     0.0                     0  0.000000\n",
       "23     0.0                     0  0.000000"
      ]
     },
     "execution_count": 12,
     "metadata": {},
     "output_type": "execute_result"
    }
   ],
   "source": [
    "fvst = fvst.fillna(0)\n",
    "fvst"
   ]
  },
  {
   "cell_type": "code",
   "execution_count": 13,
   "metadata": {
    "ExecuteTime": {
     "end_time": "2020-04-21T20:01:19.902897Z",
     "start_time": "2020-04-21T20:01:19.881681Z"
    }
   },
   "outputs": [
    {
     "data": {
      "text/plain": [
       "0.20949260592706484"
      ]
     },
     "execution_count": 13,
     "metadata": {},
     "output_type": "execute_result"
    }
   ],
   "source": [
    "fvst = fvst.fillna(0)\n",
    "np.mean(fvst.error)"
   ]
  },
  {
   "cell_type": "code",
   "execution_count": null,
   "metadata": {},
   "outputs": [],
   "source": []
  }
 ],
 "metadata": {
  "kernelspec": {
   "display_name": "Python 3",
   "language": "python",
   "name": "python3"
  },
  "language_info": {
   "codemirror_mode": {
    "name": "ipython",
    "version": 3
   },
   "file_extension": ".py",
   "mimetype": "text/x-python",
   "name": "python",
   "nbconvert_exporter": "python",
   "pygments_lexer": "ipython3",
   "version": "3.7.4"
  }
 },
 "nbformat": 4,
 "nbformat_minor": 2
}
