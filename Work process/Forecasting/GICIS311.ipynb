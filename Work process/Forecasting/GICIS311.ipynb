{
 "cells": [
  {
   "cell_type": "code",
   "execution_count": 1,
   "metadata": {
    "ExecuteTime": {
     "end_time": "2020-04-21T20:49:37.998757Z",
     "start_time": "2020-04-21T20:49:37.981697Z"
    }
   },
   "outputs": [
    {
     "name": "stdout",
     "output_type": "stream",
     "text": [
      "Planta a Analizar:  11\n"
     ]
    }
   ],
   "source": [
    "planta = 11\n",
    "print(\"Planta a Analizar: \", planta)"
   ]
  },
  {
   "cell_type": "code",
   "execution_count": 2,
   "metadata": {
    "ExecuteTime": {
     "end_time": "2020-04-21T20:49:40.735469Z",
     "start_time": "2020-04-21T20:49:38.168489Z"
    }
   },
   "outputs": [
    {
     "data": {
      "text/html": [
       " <style> .output {display: center; align-items: center; text-align: center; justify-content: center; } </style> "
      ],
      "text/plain": [
       "<IPython.core.display.HTML object>"
      ]
     },
     "metadata": {},
     "output_type": "display_data"
    }
   ],
   "source": [
    "import pandas as pd\n",
    "import numpy as np\n",
    "import matplotlib as mpl\n",
    "import scipy.stats as st\n",
    "import seaborn as sns\n",
    "import statsmodels.api as sm\n",
    "from datetime import datetime\n",
    "import matplotlib.pyplot as plt\n",
    "from statsmodels.tsa.arima_model import ARIMA\n",
    "import pmdarima as pm\n",
    "from pmdarima.model_selection import train_test_split\n",
    "import matplotlib.pyplot as plt\n",
    "import warnings\n",
    "warnings.filterwarnings(\"ignore\")\n",
    "from statsmodels.tsa.stattools import acf\n",
    "import datetime\n",
    "from statsmodels.graphics.tsaplots import plot_acf, plot_pacf\n",
    "from sklearn.metrics import mean_squared_error\n",
    "\n",
    "from numpy import inf\n",
    "\n",
    "from IPython.display import display, HTML\n",
    "display(HTML(\"\"\" <style> .output {display: center; align-items: center; text-align: center; justify-content: center; } </style> \"\"\"))"
   ]
  },
  {
   "cell_type": "code",
   "execution_count": 3,
   "metadata": {
    "ExecuteTime": {
     "end_time": "2020-04-21T20:50:05.539616Z",
     "start_time": "2020-04-21T20:49:40.742803Z"
    }
   },
   "outputs": [],
   "source": [
    "#Importación de datos\n",
    "datos = pd.read_excel('Generación Intermitente de la GCROC 2013-2020.xlsx', header=1)"
   ]
  },
  {
   "cell_type": "code",
   "execution_count": 4,
   "metadata": {
    "ExecuteTime": {
     "end_time": "2020-04-21T20:50:06.245865Z",
     "start_time": "2020-04-21T20:50:05.543002Z"
    }
   },
   "outputs": [],
   "source": [
    "numbers = datos.hora-1\n",
    "hours = [datetime.time(num).strftime(\"%H:00:00\") for num in numbers]\n",
    "datos['fecha'] = datos['fecha'].replace(0,np.nan).ffill()\n",
    "datos['fecha'] = pd.to_datetime(datos['fecha'])\n",
    "datos['fecha'] = datos['fecha'].dt.date\n",
    "datos['fecha_hora'] = datos[\"fecha\"].astype(str) + ' ' + hours\n",
    "#LIMPIEZA DE DATOS\n",
    "datos = datos.set_index(datos['fecha_hora'])\n",
    "datos = datos[53736:]"
   ]
  },
  {
   "cell_type": "code",
   "execution_count": 5,
   "metadata": {
    "ExecuteTime": {
     "end_time": "2020-04-21T20:50:06.277714Z",
     "start_time": "2020-04-21T20:50:06.251790Z"
    }
   },
   "outputs": [],
   "source": [
    "columns = ['GICIE301', 'GICIE302','GICIE303','GICIE304','GICIE305','GICIS306', 'GICIS307','GICIS308',\n",
    "          'GICIS309','GICIS310','GICIS311','GICIS312','GICIS313','GICIS314','GICIS315','GICIS316','GICIS317',\n",
    "          'GICIS318','GICIS319','GICIS320','GICIS321','GICIS322','GICIS323','GICIS324','GICIS325','GICIS326']"
   ]
  },
  {
   "cell_type": "code",
   "execution_count": 6,
   "metadata": {
    "ExecuteTime": {
     "end_time": "2020-04-21T20:50:06.328500Z",
     "start_time": "2020-04-21T20:50:06.284850Z"
    }
   },
   "outputs": [
    {
     "data": {
      "text/plain": [
       "'GICIS311'"
      ]
     },
     "execution_count": 6,
     "metadata": {},
     "output_type": "execute_result"
    }
   ],
   "source": [
    "n_periods = 5*24\n",
    "columna = columns[planta-1]\n",
    "columna"
   ]
  },
  {
   "cell_type": "code",
   "execution_count": 7,
   "metadata": {
    "ExecuteTime": {
     "end_time": "2020-04-21T20:50:06.388651Z",
     "start_time": "2020-04-21T20:50:06.333340Z"
    },
    "scrolled": false
   },
   "outputs": [
    {
     "data": {
      "text/html": [
       "<div>\n",
       "<style scoped>\n",
       "    .dataframe tbody tr th:only-of-type {\n",
       "        vertical-align: middle;\n",
       "    }\n",
       "\n",
       "    .dataframe tbody tr th {\n",
       "        vertical-align: top;\n",
       "    }\n",
       "\n",
       "    .dataframe thead th {\n",
       "        text-align: right;\n",
       "    }\n",
       "</style>\n",
       "<table border=\"1\" class=\"dataframe\">\n",
       "  <thead>\n",
       "    <tr style=\"text-align: right;\">\n",
       "      <th></th>\n",
       "      <th>hora</th>\n",
       "      <th>GICIS311</th>\n",
       "    </tr>\n",
       "    <tr>\n",
       "      <th>fecha_hora</th>\n",
       "      <th></th>\n",
       "      <th></th>\n",
       "    </tr>\n",
       "  </thead>\n",
       "  <tbody>\n",
       "    <tr>\n",
       "      <td>2020-01-01 00:00:00</td>\n",
       "      <td>1</td>\n",
       "      <td>0.0</td>\n",
       "    </tr>\n",
       "    <tr>\n",
       "      <td>2020-01-01 01:00:00</td>\n",
       "      <td>2</td>\n",
       "      <td>0.0</td>\n",
       "    </tr>\n",
       "    <tr>\n",
       "      <td>2020-01-01 02:00:00</td>\n",
       "      <td>3</td>\n",
       "      <td>0.0</td>\n",
       "    </tr>\n",
       "    <tr>\n",
       "      <td>2020-01-01 03:00:00</td>\n",
       "      <td>4</td>\n",
       "      <td>0.0</td>\n",
       "    </tr>\n",
       "    <tr>\n",
       "      <td>2020-01-01 04:00:00</td>\n",
       "      <td>5</td>\n",
       "      <td>0.0</td>\n",
       "    </tr>\n",
       "  </tbody>\n",
       "</table>\n",
       "</div>"
      ],
      "text/plain": [
       "                     hora  GICIS311\n",
       "fecha_hora                         \n",
       "2020-01-01 00:00:00     1       0.0\n",
       "2020-01-01 01:00:00     2       0.0\n",
       "2020-01-01 02:00:00     3       0.0\n",
       "2020-01-01 03:00:00     4       0.0\n",
       "2020-01-01 04:00:00     5       0.0"
      ]
     },
     "execution_count": 7,
     "metadata": {},
     "output_type": "execute_result"
    }
   ],
   "source": [
    "df = datos[['hora',columna]]\n",
    "df[columna] = (df[columna]) # para efectos de las tranformaciones logaritmicas(eliminar el 0)\n",
    "df = df.dropna()\n",
    "df.head()"
   ]
  },
  {
   "cell_type": "code",
   "execution_count": 8,
   "metadata": {
    "ExecuteTime": {
     "end_time": "2020-04-21T20:50:06.406664Z",
     "start_time": "2020-04-21T20:50:06.396105Z"
    }
   },
   "outputs": [],
   "source": [
    "# Original Series\n",
    "df2 = df.drop(['hora'], axis=1)\n",
    "df2\n",
    "\n",
    "df2_diff = df2.diff()\n",
    "df2_diff_diff = df2.diff().diff()"
   ]
  },
  {
   "cell_type": "markdown",
   "metadata": {},
   "source": [
    "***"
   ]
  },
  {
   "cell_type": "code",
   "execution_count": 9,
   "metadata": {
    "ExecuteTime": {
     "end_time": "2020-04-21T20:50:06.431511Z",
     "start_time": "2020-04-21T20:50:06.422788Z"
    }
   },
   "outputs": [],
   "source": [
    "#Seleccion de y_train y y_test\n",
    "  \n",
    "n = 1 #numero de dias a simular\n",
    "test = (df2.iloc[-(1*24):,:])   # INFO DE TEST \n",
    "train = df2.drop(df.index[:(1*24)]) # QUITANDO TEST PARA TRAIN"
   ]
  },
  {
   "cell_type": "code",
   "execution_count": 13,
   "metadata": {
    "ExecuteTime": {
     "end_time": "2020-04-21T20:53:43.610189Z",
     "start_time": "2020-04-21T20:52:17.147293Z"
    }
   },
   "outputs": [
    {
     "name": "stdout",
     "output_type": "stream",
     "text": [
      "predicted=3587.782119, expected=14926.000000\n",
      "predicted=31922.364892, expected=82932.000000\n",
      "predicted=116884.336077, expected=131301.000000\n",
      "predicted=139979.994447, expected=135999.000000\n",
      "predicted=128009.697123, expected=133700.000000\n",
      "predicted=128362.455568, expected=133643.000000\n",
      "predicted=127044.915081, expected=118410.000000\n",
      "predicted=105489.936096, expected=125860.000000\n",
      "predicted=127020.700184, expected=71779.000000\n",
      "predicted=34008.765477, expected=63717.000000\n",
      "predicted=56224.618743, expected=14290.000000\n",
      "predicted=-19356.065253, expected=1916.000000\n"
     ]
    },
    {
     "data": {
      "image/png": "[encoded data removed]",
      "text/plain": [
       "<Figure size 432x288 with 1 Axes>"
      ]
     },
     "metadata": {
      "needs_background": "light"
     },
     "output_type": "display_data"
    },
    {
     "data": {
      "text/plain": [
       "1.4252796003023445"
      ]
     },
     "execution_count": 13,
     "metadata": {},
     "output_type": "execute_result"
    }
   ],
   "source": [
    "history = [x for x in train.values]\n",
    "predictions = list()\n",
    "predictions.append(0)\n",
    "predictions.append(0)\n",
    "predictions.append(0)\n",
    "predictions.append(0)\n",
    "predictions.append(0)\n",
    "predictions.append(0)\n",
    "predictions.append(0)\n",
    "for t in range(7,19):\n",
    "    model = ARIMA(history, order=(8,1,2))\n",
    "    model_fit = model.fit(disp=0)\n",
    "    output = model_fit.forecast()\n",
    "    yhat = output[0]\n",
    "    predictions.append(yhat)\n",
    "    obs = test.values[t]\n",
    "    history.append(obs)\n",
    "    print('predicted=%f, expected=%f' % (yhat, obs))\n",
    "predictions.append(0)\n",
    "predictions.append(0)\n",
    "predictions.append(0)\n",
    "predictions.append(0)\n",
    "predictions.append(0)\n",
    "\n",
    "# plot\n",
    "plt.plot(test)\n",
    "plt.plot(predictions, color='red')\n",
    "plt.xticks(rotation=90)\n",
    "plt.show()\n",
    "\n",
    "fvst = pd.DataFrame()\n",
    "fvst['real'] = test[columna].values.flatten()\n",
    "fvst['forecasts'] = predictions\n",
    "fvst['error'] = 0\n",
    "for i in range(len(fvst)):\n",
    "    fvst['error'][i] = np.abs((fvst['forecasts'][i]- fvst['real'][i])/(fvst['real'][i]))\n",
    "\n",
    "mea = np.mean(fvst.iloc[7:19,2])\n",
    "mea"
   ]
  },
  {
   "cell_type": "code",
   "execution_count": 14,
   "metadata": {
    "ExecuteTime": {
     "end_time": "2020-04-21T20:53:43.645054Z",
     "start_time": "2020-04-21T20:53:43.619406Z"
    }
   },
   "outputs": [
    {
     "data": {
      "text/html": [
       "<div>\n",
       "<style scoped>\n",
       "    .dataframe tbody tr th:only-of-type {\n",
       "        vertical-align: middle;\n",
       "    }\n",
       "\n",
       "    .dataframe tbody tr th {\n",
       "        vertical-align: top;\n",
       "    }\n",
       "\n",
       "    .dataframe thead th {\n",
       "        text-align: right;\n",
       "    }\n",
       "</style>\n",
       "<table border=\"1\" class=\"dataframe\">\n",
       "  <thead>\n",
       "    <tr style=\"text-align: right;\">\n",
       "      <th></th>\n",
       "      <th>real</th>\n",
       "      <th>forecasts</th>\n",
       "      <th>error</th>\n",
       "    </tr>\n",
       "  </thead>\n",
       "  <tbody>\n",
       "    <tr>\n",
       "      <td>0</td>\n",
       "      <td>0.0</td>\n",
       "      <td>0</td>\n",
       "      <td>0.000000</td>\n",
       "    </tr>\n",
       "    <tr>\n",
       "      <td>1</td>\n",
       "      <td>0.0</td>\n",
       "      <td>0</td>\n",
       "      <td>0.000000</td>\n",
       "    </tr>\n",
       "    <tr>\n",
       "      <td>2</td>\n",
       "      <td>0.0</td>\n",
       "      <td>0</td>\n",
       "      <td>0.000000</td>\n",
       "    </tr>\n",
       "    <tr>\n",
       "      <td>3</td>\n",
       "      <td>0.0</td>\n",
       "      <td>0</td>\n",
       "      <td>0.000000</td>\n",
       "    </tr>\n",
       "    <tr>\n",
       "      <td>4</td>\n",
       "      <td>0.0</td>\n",
       "      <td>0</td>\n",
       "      <td>0.000000</td>\n",
       "    </tr>\n",
       "    <tr>\n",
       "      <td>5</td>\n",
       "      <td>0.0</td>\n",
       "      <td>0</td>\n",
       "      <td>0.000000</td>\n",
       "    </tr>\n",
       "    <tr>\n",
       "      <td>6</td>\n",
       "      <td>0.0</td>\n",
       "      <td>0</td>\n",
       "      <td>0.000000</td>\n",
       "    </tr>\n",
       "    <tr>\n",
       "      <td>7</td>\n",
       "      <td>14926.0</td>\n",
       "      <td>[3587.7821190189607]</td>\n",
       "      <td>0.759629</td>\n",
       "    </tr>\n",
       "    <tr>\n",
       "      <td>8</td>\n",
       "      <td>82932.0</td>\n",
       "      <td>[31922.36489227941]</td>\n",
       "      <td>0.615078</td>\n",
       "    </tr>\n",
       "    <tr>\n",
       "      <td>9</td>\n",
       "      <td>131301.0</td>\n",
       "      <td>[116884.33607704047]</td>\n",
       "      <td>0.109799</td>\n",
       "    </tr>\n",
       "    <tr>\n",
       "      <td>10</td>\n",
       "      <td>135999.0</td>\n",
       "      <td>[139979.99444730658]</td>\n",
       "      <td>0.029272</td>\n",
       "    </tr>\n",
       "    <tr>\n",
       "      <td>11</td>\n",
       "      <td>133700.0</td>\n",
       "      <td>[128009.69712334461]</td>\n",
       "      <td>0.042560</td>\n",
       "    </tr>\n",
       "    <tr>\n",
       "      <td>12</td>\n",
       "      <td>133643.0</td>\n",
       "      <td>[128362.45556761563]</td>\n",
       "      <td>0.039512</td>\n",
       "    </tr>\n",
       "    <tr>\n",
       "      <td>13</td>\n",
       "      <td>118410.0</td>\n",
       "      <td>[127044.91508054666]</td>\n",
       "      <td>0.072924</td>\n",
       "    </tr>\n",
       "    <tr>\n",
       "      <td>14</td>\n",
       "      <td>125860.0</td>\n",
       "      <td>[105489.93609578244]</td>\n",
       "      <td>0.161847</td>\n",
       "    </tr>\n",
       "    <tr>\n",
       "      <td>15</td>\n",
       "      <td>71779.0</td>\n",
       "      <td>[127020.70018442142]</td>\n",
       "      <td>0.769608</td>\n",
       "    </tr>\n",
       "    <tr>\n",
       "      <td>16</td>\n",
       "      <td>63717.0</td>\n",
       "      <td>[34008.765476895176]</td>\n",
       "      <td>0.466253</td>\n",
       "    </tr>\n",
       "    <tr>\n",
       "      <td>17</td>\n",
       "      <td>14290.0</td>\n",
       "      <td>[56224.61874264198]</td>\n",
       "      <td>2.934543</td>\n",
       "    </tr>\n",
       "    <tr>\n",
       "      <td>18</td>\n",
       "      <td>1916.0</td>\n",
       "      <td>[-19356.065253360277]</td>\n",
       "      <td>11.102331</td>\n",
       "    </tr>\n",
       "    <tr>\n",
       "      <td>19</td>\n",
       "      <td>0.0</td>\n",
       "      <td>0</td>\n",
       "      <td>0.000000</td>\n",
       "    </tr>\n",
       "    <tr>\n",
       "      <td>20</td>\n",
       "      <td>0.0</td>\n",
       "      <td>0</td>\n",
       "      <td>0.000000</td>\n",
       "    </tr>\n",
       "    <tr>\n",
       "      <td>21</td>\n",
       "      <td>0.0</td>\n",
       "      <td>0</td>\n",
       "      <td>0.000000</td>\n",
       "    </tr>\n",
       "    <tr>\n",
       "      <td>22</td>\n",
       "      <td>0.0</td>\n",
       "      <td>0</td>\n",
       "      <td>0.000000</td>\n",
       "    </tr>\n",
       "    <tr>\n",
       "      <td>23</td>\n",
       "      <td>0.0</td>\n",
       "      <td>0</td>\n",
       "      <td>0.000000</td>\n",
       "    </tr>\n",
       "  </tbody>\n",
       "</table>\n",
       "</div>"
      ],
      "text/plain": [
       "        real              forecasts      error\n",
       "0        0.0                      0   0.000000\n",
       "1        0.0                      0   0.000000\n",
       "2        0.0                      0   0.000000\n",
       "3        0.0                      0   0.000000\n",
       "4        0.0                      0   0.000000\n",
       "5        0.0                      0   0.000000\n",
       "6        0.0                      0   0.000000\n",
       "7    14926.0   [3587.7821190189607]   0.759629\n",
       "8    82932.0    [31922.36489227941]   0.615078\n",
       "9   131301.0   [116884.33607704047]   0.109799\n",
       "10  135999.0   [139979.99444730658]   0.029272\n",
       "11  133700.0   [128009.69712334461]   0.042560\n",
       "12  133643.0   [128362.45556761563]   0.039512\n",
       "13  118410.0   [127044.91508054666]   0.072924\n",
       "14  125860.0   [105489.93609578244]   0.161847\n",
       "15   71779.0   [127020.70018442142]   0.769608\n",
       "16   63717.0   [34008.765476895176]   0.466253\n",
       "17   14290.0    [56224.61874264198]   2.934543\n",
       "18    1916.0  [-19356.065253360277]  11.102331\n",
       "19       0.0                      0   0.000000\n",
       "20       0.0                      0   0.000000\n",
       "21       0.0                      0   0.000000\n",
       "22       0.0                      0   0.000000\n",
       "23       0.0                      0   0.000000"
      ]
     },
     "execution_count": 14,
     "metadata": {},
     "output_type": "execute_result"
    }
   ],
   "source": [
    "fvst = fvst.fillna(0)\n",
    "fvst"
   ]
  },
  {
   "cell_type": "code",
   "execution_count": 15,
   "metadata": {
    "ExecuteTime": {
     "end_time": "2020-04-21T20:53:43.669559Z",
     "start_time": "2020-04-21T20:53:43.657379Z"
    }
   },
   "outputs": [
    {
     "data": {
      "text/plain": [
       "0.7126398001511722"
      ]
     },
     "execution_count": 15,
     "metadata": {},
     "output_type": "execute_result"
    }
   ],
   "source": [
    "fvst = fvst.fillna(0)\n",
    "np.mean(fvst.error)"
   ]
  },
  {
   "cell_type": "code",
   "execution_count": null,
   "metadata": {},
   "outputs": [],
   "source": []
  }
 ],
 "metadata": {
  "kernelspec": {
   "display_name": "Python 3",
   "language": "python",
   "name": "python3"
  },
  "language_info": {
   "codemirror_mode": {
    "name": "ipython",
    "version": 3
   },
   "file_extension": ".py",
   "mimetype": "text/x-python",
   "name": "python",
   "nbconvert_exporter": "python",
   "pygments_lexer": "ipython3",
   "version": "3.7.4"
  }
 },
 "nbformat": 4,
 "nbformat_minor": 2
}
