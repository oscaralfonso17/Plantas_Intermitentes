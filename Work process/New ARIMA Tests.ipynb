{
 "cells": [
  {
   "cell_type": "code",
   "execution_count": 179,
   "metadata": {},
   "outputs": [],
   "source": [
    "import numpy as np,  pandas as pd\n",
    "from statsmodels.graphics.tsaplots import plot_acf, plot_pacf\n",
    "import matplotlib.pyplot as plt\n",
    "from statsmodels.tsa.arima_model import ARIMA\n",
    "import pmdarima as pm\n",
    "\n",
    "plt.rcParams.update({'figure.figsize':(9,7), 'figure.dpi':120})"
   ]
  },
  {
   "cell_type": "code",
   "execution_count": 180,
   "metadata": {},
   "outputs": [
    {
     "data": {
      "text/html": [
       "<div>\n",
       "<style scoped>\n",
       "    .dataframe tbody tr th:only-of-type {\n",
       "        vertical-align: middle;\n",
       "    }\n",
       "\n",
       "    .dataframe tbody tr th {\n",
       "        vertical-align: top;\n",
       "    }\n",
       "\n",
       "    .dataframe thead th {\n",
       "        text-align: right;\n",
       "    }\n",
       "</style>\n",
       "<table border=\"1\" class=\"dataframe\">\n",
       "  <thead>\n",
       "    <tr style=\"text-align: right;\">\n",
       "      <th></th>\n",
       "      <th>Unnamed: 0</th>\n",
       "      <th>dia_semana</th>\n",
       "      <th>fecha</th>\n",
       "      <th>hora</th>\n",
       "      <th>GICIE301</th>\n",
       "      <th>GICIE302</th>\n",
       "      <th>GICIE303</th>\n",
       "      <th>GICIE304</th>\n",
       "      <th>GICIE305</th>\n",
       "      <th>GICIS306</th>\n",
       "      <th>...</th>\n",
       "      <th>GICIS308</th>\n",
       "      <th>GICIS309</th>\n",
       "      <th>GICIS310</th>\n",
       "      <th>GICIS311</th>\n",
       "      <th>GICIS312</th>\n",
       "      <th>GICIS313</th>\n",
       "      <th>GICIS314</th>\n",
       "      <th>GICIS315</th>\n",
       "      <th>GICIS316</th>\n",
       "      <th>fecha_hora</th>\n",
       "    </tr>\n",
       "  </thead>\n",
       "  <tbody>\n",
       "    <tr>\n",
       "      <td>0</td>\n",
       "      <td>1</td>\n",
       "      <td>jueves</td>\n",
       "      <td>2013-11-14</td>\n",
       "      <td>1</td>\n",
       "      <td>0</td>\n",
       "      <td>NaN</td>\n",
       "      <td>NaN</td>\n",
       "      <td>NaN</td>\n",
       "      <td>NaN</td>\n",
       "      <td>NaN</td>\n",
       "      <td>...</td>\n",
       "      <td>NaN</td>\n",
       "      <td>NaN</td>\n",
       "      <td>NaN</td>\n",
       "      <td>NaN</td>\n",
       "      <td>NaN</td>\n",
       "      <td>NaN</td>\n",
       "      <td>NaN</td>\n",
       "      <td>NaN</td>\n",
       "      <td>NaN</td>\n",
       "      <td>2013-11-14 01:00:00</td>\n",
       "    </tr>\n",
       "    <tr>\n",
       "      <td>1</td>\n",
       "      <td>2</td>\n",
       "      <td>jueves</td>\n",
       "      <td>2013-11-14</td>\n",
       "      <td>2</td>\n",
       "      <td>0</td>\n",
       "      <td>NaN</td>\n",
       "      <td>NaN</td>\n",
       "      <td>NaN</td>\n",
       "      <td>NaN</td>\n",
       "      <td>NaN</td>\n",
       "      <td>...</td>\n",
       "      <td>NaN</td>\n",
       "      <td>NaN</td>\n",
       "      <td>NaN</td>\n",
       "      <td>NaN</td>\n",
       "      <td>NaN</td>\n",
       "      <td>NaN</td>\n",
       "      <td>NaN</td>\n",
       "      <td>NaN</td>\n",
       "      <td>NaN</td>\n",
       "      <td>2013-11-14 02:00:00</td>\n",
       "    </tr>\n",
       "    <tr>\n",
       "      <td>2</td>\n",
       "      <td>3</td>\n",
       "      <td>jueves</td>\n",
       "      <td>2013-11-14</td>\n",
       "      <td>3</td>\n",
       "      <td>0</td>\n",
       "      <td>NaN</td>\n",
       "      <td>NaN</td>\n",
       "      <td>NaN</td>\n",
       "      <td>NaN</td>\n",
       "      <td>NaN</td>\n",
       "      <td>...</td>\n",
       "      <td>NaN</td>\n",
       "      <td>NaN</td>\n",
       "      <td>NaN</td>\n",
       "      <td>NaN</td>\n",
       "      <td>NaN</td>\n",
       "      <td>NaN</td>\n",
       "      <td>NaN</td>\n",
       "      <td>NaN</td>\n",
       "      <td>NaN</td>\n",
       "      <td>2013-11-14 03:00:00</td>\n",
       "    </tr>\n",
       "    <tr>\n",
       "      <td>3</td>\n",
       "      <td>4</td>\n",
       "      <td>jueves</td>\n",
       "      <td>2013-11-14</td>\n",
       "      <td>4</td>\n",
       "      <td>0</td>\n",
       "      <td>NaN</td>\n",
       "      <td>NaN</td>\n",
       "      <td>NaN</td>\n",
       "      <td>NaN</td>\n",
       "      <td>NaN</td>\n",
       "      <td>...</td>\n",
       "      <td>NaN</td>\n",
       "      <td>NaN</td>\n",
       "      <td>NaN</td>\n",
       "      <td>NaN</td>\n",
       "      <td>NaN</td>\n",
       "      <td>NaN</td>\n",
       "      <td>NaN</td>\n",
       "      <td>NaN</td>\n",
       "      <td>NaN</td>\n",
       "      <td>2013-11-14 04:00:00</td>\n",
       "    </tr>\n",
       "    <tr>\n",
       "      <td>4</td>\n",
       "      <td>5</td>\n",
       "      <td>jueves</td>\n",
       "      <td>2013-11-14</td>\n",
       "      <td>5</td>\n",
       "      <td>0</td>\n",
       "      <td>NaN</td>\n",
       "      <td>NaN</td>\n",
       "      <td>NaN</td>\n",
       "      <td>NaN</td>\n",
       "      <td>NaN</td>\n",
       "      <td>...</td>\n",
       "      <td>NaN</td>\n",
       "      <td>NaN</td>\n",
       "      <td>NaN</td>\n",
       "      <td>NaN</td>\n",
       "      <td>NaN</td>\n",
       "      <td>NaN</td>\n",
       "      <td>NaN</td>\n",
       "      <td>NaN</td>\n",
       "      <td>NaN</td>\n",
       "      <td>2013-11-14 05:00:00</td>\n",
       "    </tr>\n",
       "  </tbody>\n",
       "</table>\n",
       "<p>5 rows × 21 columns</p>\n",
       "</div>"
      ],
      "text/plain": [
       "   Unnamed: 0 dia_semana       fecha  hora  GICIE301  GICIE302  GICIE303  \\\n",
       "0           1     jueves  2013-11-14     1         0       NaN       NaN   \n",
       "1           2     jueves  2013-11-14     2         0       NaN       NaN   \n",
       "2           3     jueves  2013-11-14     3         0       NaN       NaN   \n",
       "3           4     jueves  2013-11-14     4         0       NaN       NaN   \n",
       "4           5     jueves  2013-11-14     5         0       NaN       NaN   \n",
       "\n",
       "   GICIE304  GICIE305  GICIS306  ...  GICIS308  GICIS309  GICIS310  GICIS311  \\\n",
       "0       NaN       NaN       NaN  ...       NaN       NaN       NaN       NaN   \n",
       "1       NaN       NaN       NaN  ...       NaN       NaN       NaN       NaN   \n",
       "2       NaN       NaN       NaN  ...       NaN       NaN       NaN       NaN   \n",
       "3       NaN       NaN       NaN  ...       NaN       NaN       NaN       NaN   \n",
       "4       NaN       NaN       NaN  ...       NaN       NaN       NaN       NaN   \n",
       "\n",
       "   GICIS312  GICIS313  GICIS314  GICIS315  GICIS316           fecha_hora  \n",
       "0       NaN       NaN       NaN       NaN       NaN  2013-11-14 01:00:00  \n",
       "1       NaN       NaN       NaN       NaN       NaN  2013-11-14 02:00:00  \n",
       "2       NaN       NaN       NaN       NaN       NaN  2013-11-14 03:00:00  \n",
       "3       NaN       NaN       NaN       NaN       NaN  2013-11-14 04:00:00  \n",
       "4       NaN       NaN       NaN       NaN       NaN  2013-11-14 05:00:00  \n",
       "\n",
       "[5 rows x 21 columns]"
      ]
     },
     "execution_count": 180,
     "metadata": {},
     "output_type": "execute_result"
    }
   ],
   "source": [
    "plantas = pd.read_excel('plantas_intermitentes_clean.xlsx', header=1)\n",
    "plantas.head()"
   ]
  },
  {
   "cell_type": "code",
   "execution_count": 181,
   "metadata": {},
   "outputs": [
    {
     "data": {
      "text/html": [
       "<div>\n",
       "<style scoped>\n",
       "    .dataframe tbody tr th:only-of-type {\n",
       "        vertical-align: middle;\n",
       "    }\n",
       "\n",
       "    .dataframe tbody tr th {\n",
       "        vertical-align: top;\n",
       "    }\n",
       "\n",
       "    .dataframe thead th {\n",
       "        text-align: right;\n",
       "    }\n",
       "</style>\n",
       "<table border=\"1\" class=\"dataframe\">\n",
       "  <thead>\n",
       "    <tr style=\"text-align: right;\">\n",
       "      <th></th>\n",
       "      <th>Unnamed: 0</th>\n",
       "      <th>dia_semana</th>\n",
       "      <th>fecha</th>\n",
       "      <th>hora</th>\n",
       "      <th>GICIE301</th>\n",
       "      <th>GICIE302</th>\n",
       "      <th>GICIE303</th>\n",
       "      <th>GICIE304</th>\n",
       "      <th>GICIE305</th>\n",
       "      <th>GICIS306</th>\n",
       "      <th>...</th>\n",
       "      <th>GICIS308</th>\n",
       "      <th>GICIS309</th>\n",
       "      <th>GICIS310</th>\n",
       "      <th>GICIS311</th>\n",
       "      <th>GICIS312</th>\n",
       "      <th>GICIS313</th>\n",
       "      <th>GICIS314</th>\n",
       "      <th>GICIS315</th>\n",
       "      <th>GICIS316</th>\n",
       "      <th>fecha_hora</th>\n",
       "    </tr>\n",
       "  </thead>\n",
       "  <tbody>\n",
       "    <tr>\n",
       "      <td>46819</td>\n",
       "      <td>46820</td>\n",
       "      <td>lunes</td>\n",
       "      <td>2019-03-18</td>\n",
       "      <td>20</td>\n",
       "      <td>31368</td>\n",
       "      <td>36054.0</td>\n",
       "      <td>51098.0</td>\n",
       "      <td>80381.0</td>\n",
       "      <td>108298.0</td>\n",
       "      <td>0.0</td>\n",
       "      <td>...</td>\n",
       "      <td>0.0</td>\n",
       "      <td>1.0</td>\n",
       "      <td>0.0</td>\n",
       "      <td>0.0</td>\n",
       "      <td>0.0</td>\n",
       "      <td>0.0</td>\n",
       "      <td>0.0</td>\n",
       "      <td>0.0</td>\n",
       "      <td>0.0</td>\n",
       "      <td>2019-03-18 20:00:00</td>\n",
       "    </tr>\n",
       "    <tr>\n",
       "      <td>46820</td>\n",
       "      <td>46821</td>\n",
       "      <td>lunes</td>\n",
       "      <td>2019-03-18</td>\n",
       "      <td>21</td>\n",
       "      <td>31368</td>\n",
       "      <td>106540.0</td>\n",
       "      <td>78322.0</td>\n",
       "      <td>62865.0</td>\n",
       "      <td>91574.0</td>\n",
       "      <td>0.0</td>\n",
       "      <td>...</td>\n",
       "      <td>0.0</td>\n",
       "      <td>0.0</td>\n",
       "      <td>0.0</td>\n",
       "      <td>0.0</td>\n",
       "      <td>0.0</td>\n",
       "      <td>0.0</td>\n",
       "      <td>0.0</td>\n",
       "      <td>0.0</td>\n",
       "      <td>0.0</td>\n",
       "      <td>2019-03-18 21:00:00</td>\n",
       "    </tr>\n",
       "    <tr>\n",
       "      <td>46821</td>\n",
       "      <td>46822</td>\n",
       "      <td>lunes</td>\n",
       "      <td>2019-03-18</td>\n",
       "      <td>22</td>\n",
       "      <td>45247</td>\n",
       "      <td>103049.0</td>\n",
       "      <td>75092.0</td>\n",
       "      <td>61188.0</td>\n",
       "      <td>57110.0</td>\n",
       "      <td>0.0</td>\n",
       "      <td>...</td>\n",
       "      <td>0.0</td>\n",
       "      <td>0.0</td>\n",
       "      <td>0.0</td>\n",
       "      <td>0.0</td>\n",
       "      <td>0.0</td>\n",
       "      <td>0.0</td>\n",
       "      <td>0.0</td>\n",
       "      <td>0.0</td>\n",
       "      <td>0.0</td>\n",
       "      <td>2019-03-18 22:00:00</td>\n",
       "    </tr>\n",
       "    <tr>\n",
       "      <td>46822</td>\n",
       "      <td>46823</td>\n",
       "      <td>lunes</td>\n",
       "      <td>2019-03-18</td>\n",
       "      <td>23</td>\n",
       "      <td>25575</td>\n",
       "      <td>92652.0</td>\n",
       "      <td>80384.0</td>\n",
       "      <td>60256.0</td>\n",
       "      <td>29338.0</td>\n",
       "      <td>0.0</td>\n",
       "      <td>...</td>\n",
       "      <td>0.0</td>\n",
       "      <td>0.0</td>\n",
       "      <td>0.0</td>\n",
       "      <td>0.0</td>\n",
       "      <td>0.0</td>\n",
       "      <td>0.0</td>\n",
       "      <td>0.0</td>\n",
       "      <td>0.0</td>\n",
       "      <td>0.0</td>\n",
       "      <td>2019-03-18 23:00:00</td>\n",
       "    </tr>\n",
       "    <tr>\n",
       "      <td>46823</td>\n",
       "      <td>46824</td>\n",
       "      <td>lunes</td>\n",
       "      <td>2019-03-18</td>\n",
       "      <td>24</td>\n",
       "      <td>6344</td>\n",
       "      <td>120661.0</td>\n",
       "      <td>83692.0</td>\n",
       "      <td>35103.0</td>\n",
       "      <td>13816.0</td>\n",
       "      <td>0.0</td>\n",
       "      <td>...</td>\n",
       "      <td>0.0</td>\n",
       "      <td>0.0</td>\n",
       "      <td>0.0</td>\n",
       "      <td>0.0</td>\n",
       "      <td>0.0</td>\n",
       "      <td>0.0</td>\n",
       "      <td>0.0</td>\n",
       "      <td>0.0</td>\n",
       "      <td>0.0</td>\n",
       "      <td>2019-03-19 00:00:00</td>\n",
       "    </tr>\n",
       "  </tbody>\n",
       "</table>\n",
       "<p>5 rows × 21 columns</p>\n",
       "</div>"
      ],
      "text/plain": [
       "       Unnamed: 0 dia_semana       fecha  hora  GICIE301  GICIE302  GICIE303  \\\n",
       "46819       46820      lunes  2019-03-18    20     31368   36054.0   51098.0   \n",
       "46820       46821      lunes  2019-03-18    21     31368  106540.0   78322.0   \n",
       "46821       46822      lunes  2019-03-18    22     45247  103049.0   75092.0   \n",
       "46822       46823      lunes  2019-03-18    23     25575   92652.0   80384.0   \n",
       "46823       46824      lunes  2019-03-18    24      6344  120661.0   83692.0   \n",
       "\n",
       "       GICIE304  GICIE305  GICIS306  ...  GICIS308  GICIS309  GICIS310  \\\n",
       "46819   80381.0  108298.0       0.0  ...       0.0       1.0       0.0   \n",
       "46820   62865.0   91574.0       0.0  ...       0.0       0.0       0.0   \n",
       "46821   61188.0   57110.0       0.0  ...       0.0       0.0       0.0   \n",
       "46822   60256.0   29338.0       0.0  ...       0.0       0.0       0.0   \n",
       "46823   35103.0   13816.0       0.0  ...       0.0       0.0       0.0   \n",
       "\n",
       "       GICIS311  GICIS312  GICIS313  GICIS314  GICIS315  GICIS316  \\\n",
       "46819       0.0       0.0       0.0       0.0       0.0       0.0   \n",
       "46820       0.0       0.0       0.0       0.0       0.0       0.0   \n",
       "46821       0.0       0.0       0.0       0.0       0.0       0.0   \n",
       "46822       0.0       0.0       0.0       0.0       0.0       0.0   \n",
       "46823       0.0       0.0       0.0       0.0       0.0       0.0   \n",
       "\n",
       "                fecha_hora  \n",
       "46819  2019-03-18 20:00:00  \n",
       "46820  2019-03-18 21:00:00  \n",
       "46821  2019-03-18 22:00:00  \n",
       "46822  2019-03-18 23:00:00  \n",
       "46823  2019-03-19 00:00:00  \n",
       "\n",
       "[5 rows x 21 columns]"
      ]
     },
     "execution_count": 181,
     "metadata": {},
     "output_type": "execute_result"
    }
   ],
   "source": [
    "plantas.tail()"
   ]
  },
  {
   "cell_type": "code",
   "execution_count": 182,
   "metadata": {},
   "outputs": [
    {
     "data": {
      "text/plain": [
       "32544    0.0\n",
       "32545    0.0\n",
       "32546    0.0\n",
       "32547    0.0\n",
       "32548    0.0\n",
       "Name: GICIS306, dtype: float64"
      ]
     },
     "execution_count": 182,
     "metadata": {},
     "output_type": "execute_result"
    }
   ],
   "source": [
    "data = plantas.GICIS306.dropna()\n",
    "data.head()"
   ]
  },
  {
   "cell_type": "code",
   "execution_count": 183,
   "metadata": {},
   "outputs": [
    {
     "data": {
      "image/png": "[encoded data removed]",
      "text/plain": [
       "<Figure size 1000x500 with 2 Axes>"
      ]
     },
     "metadata": {
      "needs_background": "light"
     },
     "output_type": "display_data"
    }
   ],
   "source": [
    "# Plot\n",
    "fig, axes = plt.subplots(2, 1, figsize=(10,5), dpi=100, sharex=True)\n",
    "\n",
    "# Usual Differencing\n",
    "axes[0].plot(data[:], label='Original Series')\n",
    "axes[0].plot(data[:].diff(1), label='Usual Differencing')\n",
    "axes[0].set_title('Usual Differencing')\n",
    "axes[0].legend(loc='upper left', fontsize=10)\n",
    "\n",
    "\n",
    "# Seasinal Dei\n",
    "axes[1].plot(data[:], label='Original Series')\n",
    "axes[1].plot(data[:].diff(12), label='Seasonal Differencing', color='green')\n",
    "axes[1].set_title('Seasonal Differencing')\n",
    "plt.legend(loc='upper left', fontsize=10)\n",
    "plt.xlim(46750,46823)\n",
    "plt.show()"
   ]
  },
  {
   "cell_type": "code",
   "execution_count": 203,
   "metadata": {},
   "outputs": [
    {
     "data": {
      "text/plain": [
       "46771    0.0\n",
       "46772    0.0\n",
       "46773    0.0\n",
       "46774    0.0\n",
       "46775    0.0\n",
       "Name: GICIS306, dtype: float64"
      ]
     },
     "execution_count": 203,
     "metadata": {},
     "output_type": "execute_result"
    }
   ],
   "source": [
    "data = plantas.GICIS306.dropna()\n",
    "end = len(data)\n",
    "data = data[13500:end-]\n",
    "data.tail()"
   ]
  },
  {
   "cell_type": "code",
   "execution_count": 185,
   "metadata": {
    "scrolled": false
   },
   "outputs": [
    {
     "name": "stdout",
     "output_type": "stream",
     "text": [
      "Performing stepwise search to minimize aic\n",
      "Fit ARIMA: (1, 0, 1)x(0, 1, 1, 12) (constant=True); AIC=8371.463, BIC=8394.360, Time=2.905 seconds\n",
      "Fit ARIMA: (0, 0, 0)x(0, 1, 0, 12) (constant=True); AIC=11279.071, BIC=11288.230, Time=0.054 seconds\n",
      "Fit ARIMA: (1, 0, 0)x(1, 1, 0, 12) (constant=True); AIC=7612.100, BIC=7630.417, Time=3.736 seconds\n",
      "Near non-invertible roots for order (1, 0, 0)(1, 1, 0, 12); setting score to inf (at least one inverse root too close to the border of the unit circle: 0.999)\n",
      "Fit ARIMA: (0, 0, 1)x(0, 1, 1, 12) (constant=True); AIC=9830.723, BIC=9849.040, Time=2.412 seconds\n",
      "Near non-invertible roots for order (0, 0, 1)(0, 1, 1, 12); setting score to inf (at least one inverse root too close to the border of the unit circle: 1.000)\n",
      "Fit ARIMA: (0, 0, 0)x(0, 1, 0, 12) (constant=False); AIC=11277.072, BIC=11281.651, Time=0.038 seconds\n",
      "Fit ARIMA: (1, 0, 1)x(0, 1, 0, 12) (constant=True); AIC=9139.829, BIC=9158.146, Time=0.517 seconds\n",
      "Fit ARIMA: (1, 0, 1)x(1, 1, 1, 12) (constant=True); AIC=7888.270, BIC=7915.745, Time=7.392 seconds\n",
      "Near non-invertible roots for order (1, 0, 1)(1, 1, 1, 12); setting score to inf (at least one inverse root too close to the border of the unit circle: 1.000)\n",
      "Fit ARIMA: (1, 0, 1)x(0, 1, 2, 12) (constant=True); AIC=8175.391, BIC=8202.867, Time=9.791 seconds\n",
      "Near non-invertible roots for order (1, 0, 1)(0, 1, 2, 12); setting score to inf (at least one inverse root too close to the border of the unit circle: 1.000)\n",
      "Fit ARIMA: (1, 0, 1)x(1, 1, 0, 12) (constant=True); AIC=7574.955, BIC=7597.851, Time=7.858 seconds\n",
      "Fit ARIMA: (1, 0, 1)x(2, 1, 0, 12) (constant=True); AIC=7576.838, BIC=7604.314, Time=15.294 seconds\n",
      "Fit ARIMA: (1, 0, 1)x(2, 1, 1, 12) (constant=True); AIC=7473.750, BIC=7505.805, Time=16.396 seconds\n",
      "Near non-invertible roots for order (1, 0, 1)(2, 1, 1, 12); setting score to inf (at least one inverse root too close to the border of the unit circle: 0.997)\n",
      "Fit ARIMA: (0, 0, 1)x(1, 1, 0, 12) (constant=True); AIC=7749.804, BIC=7768.121, Time=4.181 seconds\n",
      "Fit ARIMA: (2, 0, 1)x(1, 1, 0, 12) (constant=True); AIC=7612.675, BIC=7640.151, Time=7.925 seconds\n",
      "Near non-invertible roots for order (2, 0, 1)(1, 1, 0, 12); setting score to inf (at least one inverse root too close to the border of the unit circle: 0.999)\n",
      "Fit ARIMA: (1, 0, 2)x(1, 1, 0, 12) (constant=True); AIC=7746.049, BIC=7773.525, Time=7.359 seconds\n",
      "Near non-invertible roots for order (1, 0, 2)(1, 1, 0, 12); setting score to inf (at least one inverse root too close to the border of the unit circle: 1.000)\n",
      "Fit ARIMA: (0, 0, 0)x(1, 1, 0, 12) (constant=True); AIC=7908.916, BIC=7922.654, Time=3.939 seconds\n",
      "Near non-invertible roots for order (0, 0, 0)(1, 1, 0, 12); setting score to inf (at least one inverse root too close to the border of the unit circle: 1.000)\n",
      "Fit ARIMA: (0, 0, 2)x(1, 1, 0, 12) (constant=True); AIC=7614.312, BIC=7637.208, Time=5.388 seconds\n",
      "Fit ARIMA: (2, 0, 0)x(1, 1, 0, 12) (constant=True); AIC=7557.880, BIC=7580.776, Time=3.942 seconds\n",
      "Near non-invertible roots for order (2, 0, 0)(1, 1, 0, 12); setting score to inf (at least one inverse root too close to the border of the unit circle: 0.999)\n",
      "Fit ARIMA: (2, 0, 2)x(1, 1, 0, 12) (constant=True); AIC=7921.538, BIC=7953.593, Time=9.790 seconds\n",
      "Near non-invertible roots for order (2, 0, 2)(1, 1, 0, 12); setting score to inf (at least one inverse root too close to the border of the unit circle: 1.000)\n",
      "Total fit time: 108.935 seconds\n"
     ]
    }
   ],
   "source": [
    "import pmdarima as pm\n",
    "\n",
    "# Seasonal - fit stepwise auto-ARIMA\n",
    "smodel_06 = pm.auto_arima(data, start_p=1, start_q=1,\n",
    "                         test='adf',\n",
    "                         max_p=2, max_q=2, m=12,\n",
    "                         start_P=0, seasonal=True,\n",
    "                         d=None, D=1, trace=True,\n",
    "                         error_action='ignore',  \n",
    "                         suppress_warnings=True, \n",
    "                         stepwise=True)"
   ]
  },
  {
   "cell_type": "code",
   "execution_count": 186,
   "metadata": {},
   "outputs": [
    {
     "data": {
      "text/html": [
       "<table class=\"simpletable\">\n",
       "<caption>SARIMAX Results</caption>\n",
       "<tr>\n",
       "  <th>Dep. Variable:</th>                  <td>y</td>               <th>  No. Observations:  </th>    <td>732</td>   \n",
       "</tr>\n",
       "<tr>\n",
       "  <th>Model:</th>           <td>SARIMAX(1, 0, 1)x(2, 1, 1, 12)</td> <th>  Log Likelihood     </th> <td>-3729.875</td>\n",
       "</tr>\n",
       "<tr>\n",
       "  <th>Date:</th>                   <td>Sun, 08 Mar 2020</td>        <th>  AIC                </th> <td>7473.750</td> \n",
       "</tr>\n",
       "<tr>\n",
       "  <th>Time:</th>                       <td>22:42:55</td>            <th>  BIC                </th> <td>7505.805</td> \n",
       "</tr>\n",
       "<tr>\n",
       "  <th>Sample:</th>                         <td>0</td>               <th>  HQIC               </th> <td>7486.125</td> \n",
       "</tr>\n",
       "<tr>\n",
       "  <th></th>                             <td> - 732</td>             <th>                     </th>     <td> </td>    \n",
       "</tr>\n",
       "<tr>\n",
       "  <th>Covariance Type:</th>               <td>opg</td>              <th>                     </th>     <td> </td>    \n",
       "</tr>\n",
       "</table>\n",
       "<table class=\"simpletable\">\n",
       "<tr>\n",
       "      <td></td>         <th>coef</th>     <th>std err</th>      <th>z</th>      <th>P>|z|</th>  <th>[0.025</th>    <th>0.975]</th>  \n",
       "</tr>\n",
       "<tr>\n",
       "  <th>intercept</th> <td>   -1.4009</td> <td>    2.585</td> <td>   -0.542</td> <td> 0.588</td> <td>   -6.468</td> <td>    3.667</td>\n",
       "</tr>\n",
       "<tr>\n",
       "  <th>ar.L1</th>     <td>    0.7872</td> <td>    0.020</td> <td>   38.847</td> <td> 0.000</td> <td>    0.747</td> <td>    0.827</td>\n",
       "</tr>\n",
       "<tr>\n",
       "  <th>ma.L1</th>     <td>   -0.2540</td> <td>    0.026</td> <td>   -9.720</td> <td> 0.000</td> <td>   -0.305</td> <td>   -0.203</td>\n",
       "</tr>\n",
       "<tr>\n",
       "  <th>ar.S.L12</th>  <td>   -1.6180</td> <td>    0.027</td> <td>  -59.426</td> <td> 0.000</td> <td>   -1.671</td> <td>   -1.565</td>\n",
       "</tr>\n",
       "<tr>\n",
       "  <th>ar.S.L24</th>  <td>   -0.6180</td> <td>    0.027</td> <td>  -22.745</td> <td> 0.000</td> <td>   -0.671</td> <td>   -0.565</td>\n",
       "</tr>\n",
       "<tr>\n",
       "  <th>ma.S.L12</th>  <td>    0.9599</td> <td>    0.024</td> <td>   40.354</td> <td> 0.000</td> <td>    0.913</td> <td>    1.007</td>\n",
       "</tr>\n",
       "<tr>\n",
       "  <th>sigma2</th>    <td> 1694.3869</td> <td>   37.837</td> <td>   44.781</td> <td> 0.000</td> <td> 1620.227</td> <td> 1768.546</td>\n",
       "</tr>\n",
       "</table>\n",
       "<table class=\"simpletable\">\n",
       "<tr>\n",
       "  <th>Ljung-Box (Q):</th>          <td>176.32</td> <th>  Jarque-Bera (JB):  </th> <td>11750.08</td>\n",
       "</tr>\n",
       "<tr>\n",
       "  <th>Prob(Q):</th>                 <td>0.00</td>  <th>  Prob(JB):          </th>   <td>0.00</td>  \n",
       "</tr>\n",
       "<tr>\n",
       "  <th>Heteroskedasticity (H):</th>  <td>1.57</td>  <th>  Skew:              </th>   <td>-0.71</td> \n",
       "</tr>\n",
       "<tr>\n",
       "  <th>Prob(H) (two-sided):</th>     <td>0.00</td>  <th>  Kurtosis:          </th>   <td>22.74</td> \n",
       "</tr>\n",
       "</table><br/><br/>Warnings:<br/>[1] Covariance matrix calculated using the outer product of gradients (complex-step)."
      ],
      "text/plain": [
       "<class 'statsmodels.iolib.summary.Summary'>\n",
       "\"\"\"\n",
       "                                     SARIMAX Results                                      \n",
       "==========================================================================================\n",
       "Dep. Variable:                                  y   No. Observations:                  732\n",
       "Model:             SARIMAX(1, 0, 1)x(2, 1, 1, 12)   Log Likelihood               -3729.875\n",
       "Date:                            Sun, 08 Mar 2020   AIC                           7473.750\n",
       "Time:                                    22:42:55   BIC                           7505.805\n",
       "Sample:                                         0   HQIC                          7486.125\n",
       "                                            - 732                                         \n",
       "Covariance Type:                              opg                                         \n",
       "==============================================================================\n",
       "                 coef    std err          z      P>|z|      [0.025      0.975]\n",
       "------------------------------------------------------------------------------\n",
       "intercept     -1.4009      2.585     -0.542      0.588      -6.468       3.667\n",
       "ar.L1          0.7872      0.020     38.847      0.000       0.747       0.827\n",
       "ma.L1         -0.2540      0.026     -9.720      0.000      -0.305      -0.203\n",
       "ar.S.L12      -1.6180      0.027    -59.426      0.000      -1.671      -1.565\n",
       "ar.S.L24      -0.6180      0.027    -22.745      0.000      -0.671      -0.565\n",
       "ma.S.L12       0.9599      0.024     40.354      0.000       0.913       1.007\n",
       "sigma2      1694.3869     37.837     44.781      0.000    1620.227    1768.546\n",
       "===================================================================================\n",
       "Ljung-Box (Q):                      176.32   Jarque-Bera (JB):             11750.08\n",
       "Prob(Q):                              0.00   Prob(JB):                         0.00\n",
       "Heteroskedasticity (H):               1.57   Skew:                            -0.71\n",
       "Prob(H) (two-sided):                  0.00   Kurtosis:                        22.74\n",
       "===================================================================================\n",
       "\n",
       "Warnings:\n",
       "[1] Covariance matrix calculated using the outer product of gradients (complex-step).\n",
       "\"\"\""
      ]
     },
     "execution_count": 186,
     "metadata": {},
     "output_type": "execute_result"
    }
   ],
   "source": [
    "smodel_06.summary()"
   ]
  },
  {
   "cell_type": "code",
   "execution_count": 204,
   "metadata": {
    "scrolled": false
   },
   "outputs": [],
   "source": [
    "n_periods = 24\n",
    "fitted, confint = smodel_06.predict(n_periods=n_periods, return_conf_int=True)\n",
    "index_of_fc = np.arange(len(data), len(data)+n_periods)\n",
    "\n",
    "# make series for plotting purpose\n",
    "fitted_series = pd.Series(fitted, index=index_of_fc)\n",
    "lower_series = pd.Series(confint[:, 0], index=index_of_fc)\n",
    "upper_series = pd.Series(confint[:, 1], index=index_of_fc)"
   ]
  },
  {
   "cell_type": "code",
   "execution_count": 205,
   "metadata": {},
   "outputs": [
    {
     "data": {
      "text/plain": [
       "(46044    890.0\n",
       " 46045    868.0\n",
       " 46046    762.0\n",
       " 46047    635.0\n",
       " 46048    418.0\n",
       "          ...  \n",
       " 46771      0.0\n",
       " 46772      0.0\n",
       " 46773      0.0\n",
       " 46774      0.0\n",
       " 46775      0.0\n",
       " Name: GICIS306, Length: 732, dtype: float64, 732      9.728850\n",
       " 733    -13.883905\n",
       " 734    -16.466096\n",
       " 735    -18.054096\n",
       " 736    -15.479433\n",
       " 737      4.919556\n",
       " 738      7.417620\n",
       " 739     59.572610\n",
       " 740    248.281489\n",
       " 741    467.072692\n",
       " 742    654.745433\n",
       " 743    723.664947\n",
       " 744    811.168963\n",
       " 745    770.802666\n",
       " 746    698.560745\n",
       " 747    590.375295\n",
       " 748    393.936019\n",
       " 749    192.515261\n",
       " 750     18.970179\n",
       " 751     -2.491812\n",
       " 752    -18.999997\n",
       " 753    -32.688045\n",
       " 754    -37.339434\n",
       " 755    -40.668080\n",
       " dtype: float64)"
      ]
     },
     "execution_count": 205,
     "metadata": {},
     "output_type": "execute_result"
    }
   ],
   "source": [
    "data, fitted_series"
   ]
  },
  {
   "cell_type": "code",
   "execution_count": 206,
   "metadata": {},
   "outputs": [],
   "source": [
    "data = plantas.GICIS306.dropna()\n",
    "data = data[13500:]"
   ]
  },
  {
   "cell_type": "code",
   "execution_count": 208,
   "metadata": {
    "scrolled": false
   },
   "outputs": [
    {
     "data": {
      "image/png": "[encoded data removed]",
      "text/plain": [
       "<Figure size 1080x840 with 1 Axes>"
      ]
     },
     "metadata": {
      "needs_background": "light"
     },
     "output_type": "display_data"
    }
   ],
   "source": [
    "# Plot\n",
    "data.index = np.arange(0,780)\n",
    "plt.plot(data,'o-',color='r')\n",
    "plt.plot(fitted_series,'o', color='darkgreen')\n",
    "plt.title(\"SARIMA GICIS306\")\n",
    "plt.xlim(700)\n",
    "plt.show()"
   ]
  },
  {
   "cell_type": "code",
   "execution_count": 191,
   "metadata": {
    "scrolled": true
   },
   "outputs": [],
   "source": [
    "data.index = np.arange(0,len(data))"
   ]
  },
  {
   "cell_type": "code",
   "execution_count": 192,
   "metadata": {},
   "outputs": [
    {
     "data": {
      "text/plain": [
       "0       0.0\n",
       "1       0.0\n",
       "2       0.0\n",
       "3       0.0\n",
       "4       0.0\n",
       "5       0.0\n",
       "6       0.0\n",
       "7     108.0\n",
       "8     403.0\n",
       "9     622.0\n",
       "10    824.0\n",
       "11    899.0\n",
       "12    906.0\n",
       "13    917.0\n",
       "14    422.0\n",
       "15    614.0\n",
       "16    293.0\n",
       "17     96.0\n",
       "18     12.0\n",
       "19      0.0\n",
       "20      0.0\n",
       "21      0.0\n",
       "22      0.0\n",
       "23      0.0\n",
       "Name: GICIS306, dtype: float64"
      ]
     },
     "execution_count": 192,
     "metadata": {},
     "output_type": "execute_result"
    }
   ],
   "source": [
    "data = data[-24:]\n",
    "data.index = np.arange(0,24)\n",
    "data"
   ]
  },
  {
   "cell_type": "code",
   "execution_count": 193,
   "metadata": {},
   "outputs": [
    {
     "data": {
      "text/plain": [
       "0       9.728850\n",
       "1     -13.883905\n",
       "2     -16.466096\n",
       "3     -18.054096\n",
       "4     -15.479433\n",
       "5       4.919556\n",
       "6       7.417620\n",
       "7      59.572610\n",
       "8     248.281489\n",
       "9     467.072692\n",
       "10    654.745433\n",
       "11    723.664947\n",
       "12    811.168963\n",
       "13    770.802666\n",
       "14    698.560745\n",
       "15    590.375295\n",
       "16    393.936019\n",
       "17    192.515261\n",
       "18     18.970179\n",
       "19     -2.491812\n",
       "20    -18.999997\n",
       "21    -32.688045\n",
       "22    -37.339434\n",
       "23    -40.668080\n",
       "dtype: float64"
      ]
     },
     "execution_count": 193,
     "metadata": {},
     "output_type": "execute_result"
    }
   ],
   "source": [
    "fitted_series.index = np.arange(0,24)\n",
    "fitted_series"
   ]
  },
  {
   "cell_type": "code",
   "execution_count": 196,
   "metadata": {},
   "outputs": [
    {
     "data": {
      "text/plain": [
       "0          inf\n",
       "1          inf\n",
       "2          inf\n",
       "3          inf\n",
       "4          inf\n",
       "5          inf\n",
       "6          inf\n",
       "7     0.448402\n",
       "8     0.383917\n",
       "9     0.249079\n",
       "10    0.205406\n",
       "11    0.195033\n",
       "12    0.104670\n",
       "13    0.159430\n",
       "14    0.655357\n",
       "15    0.038477\n",
       "16    0.344492\n",
       "17    1.005367\n",
       "18    0.580848\n",
       "19         inf\n",
       "20         inf\n",
       "21         inf\n",
       "22         inf\n",
       "23         inf\n",
       "dtype: float64"
      ]
     },
     "execution_count": 196,
     "metadata": {},
     "output_type": "execute_result"
    }
   ],
   "source": [
    "per = np.abs((fitted_series-data)/data)\n",
    "per"
   ]
  },
  {
   "cell_type": "code",
   "execution_count": 197,
   "metadata": {},
   "outputs": [
    {
     "data": {
      "text/plain": [
       "0.3642065385406131"
      ]
     },
     "execution_count": 197,
     "metadata": {},
     "output_type": "execute_result"
    }
   ],
   "source": [
    "np.mean(per[7:19])"
   ]
  },
  {
   "cell_type": "code",
   "execution_count": null,
   "metadata": {},
   "outputs": [],
   "source": []
  }
 ],
 "metadata": {
  "kernelspec": {
   "display_name": "Python 3",
   "language": "python",
   "name": "python3"
  },
  "language_info": {
   "codemirror_mode": {
    "name": "ipython",
    "version": 3
   },
   "file_extension": ".py",
   "mimetype": "text/x-python",
   "name": "python",
   "nbconvert_exporter": "python",
   "pygments_lexer": "ipython3",
   "version": "3.7.4"
  }
 },
 "nbformat": 4,
 "nbformat_minor": 2
}
