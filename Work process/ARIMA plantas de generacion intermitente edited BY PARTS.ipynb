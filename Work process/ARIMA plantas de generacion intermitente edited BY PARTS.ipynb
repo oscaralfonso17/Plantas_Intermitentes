{
 "cells": [
  {
   "cell_type": "code",
   "execution_count": 173,
   "metadata": {
    "ExecuteTime": {
     "end_time": "2020-03-21T19:07:56.919171Z",
     "start_time": "2020-03-21T19:07:56.902461Z"
    }
   },
   "outputs": [
    {
     "data": {
      "text/html": [
       " <style> .output {display: center; align-items: left; text-align: center; justify-content: center; } </style> "
      ],
      "text/plain": [
       "<IPython.core.display.HTML object>"
      ]
     },
     "metadata": {},
     "output_type": "display_data"
    }
   ],
   "source": [
    "import pandas as pd\n",
    "import numpy as np\n",
    "import matplotlib as mpl\n",
    "import scipy.stats as st\n",
    "import seaborn as sns\n",
    "import statsmodels.api as sm\n",
    "from datetime import datetime\n",
    "import matplotlib.pyplot as plt\n",
    "from statsmodels.tsa.arima_model import ARIMA\n",
    "import pmdarima as pm\n",
    "from pmdarima.model_selection import train_test_split\n",
    "import matplotlib.pyplot as plt\n",
    "import warnings\n",
    "warnings.filterwarnings(\"ignore\")\n",
    "from statsmodels.tsa.stattools import acf\n",
    "import datetime\n",
    "\n",
    "from numpy import inf\n",
    "\n",
    "from IPython.display import display, HTML\n",
    "display(HTML(\"\"\" <style> .output {display: center; align-items: left; text-align: center; justify-content: center; } </style> \"\"\"))"
   ]
  },
  {
   "cell_type": "code",
   "execution_count": 191,
   "metadata": {
    "ExecuteTime": {
     "end_time": "2020-03-21T19:15:17.153996Z",
     "start_time": "2020-03-21T19:14:09.358794Z"
    }
   },
   "outputs": [
    {
     "data": {
      "text/html": [
       "<div>\n",
       "<style scoped>\n",
       "    .dataframe tbody tr th:only-of-type {\n",
       "        vertical-align: middle;\n",
       "    }\n",
       "\n",
       "    .dataframe tbody tr th {\n",
       "        vertical-align: top;\n",
       "    }\n",
       "\n",
       "    .dataframe thead th {\n",
       "        text-align: right;\n",
       "    }\n",
       "</style>\n",
       "<table border=\"1\" class=\"dataframe\">\n",
       "  <thead>\n",
       "    <tr style=\"text-align: right;\">\n",
       "      <th></th>\n",
       "      <th>Unnamed: 0</th>\n",
       "      <th>dia de la semana</th>\n",
       "      <th>fecha</th>\n",
       "      <th>hora</th>\n",
       "      <th>GICIE301</th>\n",
       "      <th>GICIE302</th>\n",
       "      <th>GICIE303</th>\n",
       "      <th>GICIE304</th>\n",
       "      <th>GICIE305</th>\n",
       "      <th>GICIS306</th>\n",
       "      <th>...</th>\n",
       "      <th>GICIS318</th>\n",
       "      <th>GICIS319</th>\n",
       "      <th>GICIS320</th>\n",
       "      <th>GICIS321</th>\n",
       "      <th>GICIS322</th>\n",
       "      <th>GICIS323</th>\n",
       "      <th>GICIS324</th>\n",
       "      <th>GICIS325</th>\n",
       "      <th>GICIS326</th>\n",
       "      <th>fecha_hora</th>\n",
       "    </tr>\n",
       "  </thead>\n",
       "  <tbody>\n",
       "    <tr>\n",
       "      <td>0</td>\n",
       "      <td>NaN</td>\n",
       "      <td>Jueves</td>\n",
       "      <td>2013-11-14</td>\n",
       "      <td>1</td>\n",
       "      <td>0.0</td>\n",
       "      <td>NaN</td>\n",
       "      <td>NaN</td>\n",
       "      <td>NaN</td>\n",
       "      <td>NaN</td>\n",
       "      <td>NaN</td>\n",
       "      <td>...</td>\n",
       "      <td>NaN</td>\n",
       "      <td>NaN</td>\n",
       "      <td>NaN</td>\n",
       "      <td>NaN</td>\n",
       "      <td>NaN</td>\n",
       "      <td>NaN</td>\n",
       "      <td>NaN</td>\n",
       "      <td>NaN</td>\n",
       "      <td>NaN</td>\n",
       "      <td>2013-11-14 00:00</td>\n",
       "    </tr>\n",
       "    <tr>\n",
       "      <td>1</td>\n",
       "      <td>NaN</td>\n",
       "      <td>NaN</td>\n",
       "      <td>2013-11-14</td>\n",
       "      <td>2</td>\n",
       "      <td>0.0</td>\n",
       "      <td>NaN</td>\n",
       "      <td>NaN</td>\n",
       "      <td>NaN</td>\n",
       "      <td>NaN</td>\n",
       "      <td>NaN</td>\n",
       "      <td>...</td>\n",
       "      <td>NaN</td>\n",
       "      <td>NaN</td>\n",
       "      <td>NaN</td>\n",
       "      <td>NaN</td>\n",
       "      <td>NaN</td>\n",
       "      <td>NaN</td>\n",
       "      <td>NaN</td>\n",
       "      <td>NaN</td>\n",
       "      <td>NaN</td>\n",
       "      <td>2013-11-14 01:00</td>\n",
       "    </tr>\n",
       "    <tr>\n",
       "      <td>2</td>\n",
       "      <td>NaN</td>\n",
       "      <td>NaN</td>\n",
       "      <td>2013-11-14</td>\n",
       "      <td>3</td>\n",
       "      <td>0.0</td>\n",
       "      <td>NaN</td>\n",
       "      <td>NaN</td>\n",
       "      <td>NaN</td>\n",
       "      <td>NaN</td>\n",
       "      <td>NaN</td>\n",
       "      <td>...</td>\n",
       "      <td>NaN</td>\n",
       "      <td>NaN</td>\n",
       "      <td>NaN</td>\n",
       "      <td>NaN</td>\n",
       "      <td>NaN</td>\n",
       "      <td>NaN</td>\n",
       "      <td>NaN</td>\n",
       "      <td>NaN</td>\n",
       "      <td>NaN</td>\n",
       "      <td>2013-11-14 02:00</td>\n",
       "    </tr>\n",
       "    <tr>\n",
       "      <td>3</td>\n",
       "      <td>NaN</td>\n",
       "      <td>NaN</td>\n",
       "      <td>2013-11-14</td>\n",
       "      <td>4</td>\n",
       "      <td>0.0</td>\n",
       "      <td>NaN</td>\n",
       "      <td>NaN</td>\n",
       "      <td>NaN</td>\n",
       "      <td>NaN</td>\n",
       "      <td>NaN</td>\n",
       "      <td>...</td>\n",
       "      <td>NaN</td>\n",
       "      <td>NaN</td>\n",
       "      <td>NaN</td>\n",
       "      <td>NaN</td>\n",
       "      <td>NaN</td>\n",
       "      <td>NaN</td>\n",
       "      <td>NaN</td>\n",
       "      <td>NaN</td>\n",
       "      <td>NaN</td>\n",
       "      <td>2013-11-14 03:00</td>\n",
       "    </tr>\n",
       "    <tr>\n",
       "      <td>4</td>\n",
       "      <td>NaN</td>\n",
       "      <td>NaN</td>\n",
       "      <td>2013-11-14</td>\n",
       "      <td>5</td>\n",
       "      <td>0.0</td>\n",
       "      <td>NaN</td>\n",
       "      <td>NaN</td>\n",
       "      <td>NaN</td>\n",
       "      <td>NaN</td>\n",
       "      <td>NaN</td>\n",
       "      <td>...</td>\n",
       "      <td>NaN</td>\n",
       "      <td>NaN</td>\n",
       "      <td>NaN</td>\n",
       "      <td>NaN</td>\n",
       "      <td>NaN</td>\n",
       "      <td>NaN</td>\n",
       "      <td>NaN</td>\n",
       "      <td>NaN</td>\n",
       "      <td>NaN</td>\n",
       "      <td>2013-11-14 04:00</td>\n",
       "    </tr>\n",
       "  </tbody>\n",
       "</table>\n",
       "<p>5 rows × 31 columns</p>\n",
       "</div>"
      ],
      "text/plain": [
       "   Unnamed: 0 dia de la semana       fecha  hora  GICIE301  GICIE302  \\\n",
       "0         NaN           Jueves  2013-11-14     1       0.0       NaN   \n",
       "1         NaN              NaN  2013-11-14     2       0.0       NaN   \n",
       "2         NaN              NaN  2013-11-14     3       0.0       NaN   \n",
       "3         NaN              NaN  2013-11-14     4       0.0       NaN   \n",
       "4         NaN              NaN  2013-11-14     5       0.0       NaN   \n",
       "\n",
       "   GICIE303  GICIE304  GICIE305  GICIS306  ...  GICIS318  GICIS319  GICIS320  \\\n",
       "0       NaN       NaN       NaN       NaN  ...       NaN       NaN       NaN   \n",
       "1       NaN       NaN       NaN       NaN  ...       NaN       NaN       NaN   \n",
       "2       NaN       NaN       NaN       NaN  ...       NaN       NaN       NaN   \n",
       "3       NaN       NaN       NaN       NaN  ...       NaN       NaN       NaN   \n",
       "4       NaN       NaN       NaN       NaN  ...       NaN       NaN       NaN   \n",
       "\n",
       "   GICIS321  GICIS322  GICIS323  GICIS324  GICIS325  GICIS326  \\\n",
       "0       NaN       NaN       NaN       NaN       NaN       NaN   \n",
       "1       NaN       NaN       NaN       NaN       NaN       NaN   \n",
       "2       NaN       NaN       NaN       NaN       NaN       NaN   \n",
       "3       NaN       NaN       NaN       NaN       NaN       NaN   \n",
       "4       NaN       NaN       NaN       NaN       NaN       NaN   \n",
       "\n",
       "         fecha_hora  \n",
       "0  2013-11-14 00:00  \n",
       "1  2013-11-14 01:00  \n",
       "2  2013-11-14 02:00  \n",
       "3  2013-11-14 03:00  \n",
       "4  2013-11-14 04:00  \n",
       "\n",
       "[5 rows x 31 columns]"
      ]
     },
     "execution_count": 191,
     "metadata": {},
     "output_type": "execute_result"
    }
   ],
   "source": [
    "#Importación de datos\n",
    "datos = pd.read_excel('Generación Intermitente de la GCROC 2013-2020.xlsx', header=1)\n",
    "\n",
    "numbers = datos.hora-1\n",
    "hours = [datetime.time(num).strftime(\"%H:00\") for num in numbers]\n",
    "datos['fecha'] = datos['fecha'].replace(0,np.nan).ffill()\n",
    "datos['fecha'] = pd.to_datetime(datos['fecha'])\n",
    "datos['fecha'] = datos['fecha'].dt.date\n",
    "datos['fecha_hora'] = datos[\"fecha\"].astype(str) + ' ' + hours\n",
    "datos.head()"
   ]
  },
  {
   "cell_type": "code",
   "execution_count": 192,
   "metadata": {
    "ExecuteTime": {
     "end_time": "2020-03-21T19:15:17.444560Z",
     "start_time": "2020-03-21T19:15:17.163316Z"
    }
   },
   "outputs": [
    {
     "data": {
      "text/html": [
       "<div>\n",
       "<style scoped>\n",
       "    .dataframe tbody tr th:only-of-type {\n",
       "        vertical-align: middle;\n",
       "    }\n",
       "\n",
       "    .dataframe tbody tr th {\n",
       "        vertical-align: top;\n",
       "    }\n",
       "\n",
       "    .dataframe thead th {\n",
       "        text-align: right;\n",
       "    }\n",
       "</style>\n",
       "<table border=\"1\" class=\"dataframe\">\n",
       "  <thead>\n",
       "    <tr style=\"text-align: right;\">\n",
       "      <th></th>\n",
       "      <th>Unnamed: 0</th>\n",
       "      <th>dia de la semana</th>\n",
       "      <th>fecha</th>\n",
       "      <th>hora</th>\n",
       "      <th>GICIE301</th>\n",
       "      <th>GICIE302</th>\n",
       "      <th>GICIE303</th>\n",
       "      <th>GICIE304</th>\n",
       "      <th>GICIE305</th>\n",
       "      <th>GICIS306</th>\n",
       "      <th>...</th>\n",
       "      <th>GICIS318</th>\n",
       "      <th>GICIS319</th>\n",
       "      <th>GICIS320</th>\n",
       "      <th>GICIS321</th>\n",
       "      <th>GICIS322</th>\n",
       "      <th>GICIS323</th>\n",
       "      <th>GICIS324</th>\n",
       "      <th>GICIS325</th>\n",
       "      <th>GICIS326</th>\n",
       "      <th>fecha_hora</th>\n",
       "    </tr>\n",
       "  </thead>\n",
       "  <tbody>\n",
       "    <tr>\n",
       "      <td>55387</td>\n",
       "      <td>NaN</td>\n",
       "      <td>NaN</td>\n",
       "      <td>2020-03-09</td>\n",
       "      <td>20</td>\n",
       "      <td>12140.0</td>\n",
       "      <td>6879.0</td>\n",
       "      <td>26607.0</td>\n",
       "      <td>19358.0</td>\n",
       "      <td>10983.0</td>\n",
       "      <td>0.0</td>\n",
       "      <td>...</td>\n",
       "      <td>0.0</td>\n",
       "      <td>0.0</td>\n",
       "      <td>0.0</td>\n",
       "      <td>0.0</td>\n",
       "      <td>0.0</td>\n",
       "      <td>0.0</td>\n",
       "      <td>0.0</td>\n",
       "      <td>0.0</td>\n",
       "      <td>0.0</td>\n",
       "      <td>2020-03-09 19:00</td>\n",
       "    </tr>\n",
       "    <tr>\n",
       "      <td>55388</td>\n",
       "      <td>NaN</td>\n",
       "      <td>NaN</td>\n",
       "      <td>2020-03-09</td>\n",
       "      <td>21</td>\n",
       "      <td>4313.0</td>\n",
       "      <td>31473.0</td>\n",
       "      <td>14942.0</td>\n",
       "      <td>3029.0</td>\n",
       "      <td>15129.0</td>\n",
       "      <td>0.0</td>\n",
       "      <td>...</td>\n",
       "      <td>0.0</td>\n",
       "      <td>0.0</td>\n",
       "      <td>0.0</td>\n",
       "      <td>0.0</td>\n",
       "      <td>0.0</td>\n",
       "      <td>0.0</td>\n",
       "      <td>0.0</td>\n",
       "      <td>0.0</td>\n",
       "      <td>0.0</td>\n",
       "      <td>2020-03-09 20:00</td>\n",
       "    </tr>\n",
       "    <tr>\n",
       "      <td>55389</td>\n",
       "      <td>NaN</td>\n",
       "      <td>NaN</td>\n",
       "      <td>2020-03-09</td>\n",
       "      <td>22</td>\n",
       "      <td>98.0</td>\n",
       "      <td>54796.0</td>\n",
       "      <td>33875.0</td>\n",
       "      <td>22778.0</td>\n",
       "      <td>8490.0</td>\n",
       "      <td>0.0</td>\n",
       "      <td>...</td>\n",
       "      <td>0.0</td>\n",
       "      <td>0.0</td>\n",
       "      <td>0.0</td>\n",
       "      <td>0.0</td>\n",
       "      <td>0.0</td>\n",
       "      <td>0.0</td>\n",
       "      <td>0.0</td>\n",
       "      <td>0.0</td>\n",
       "      <td>0.0</td>\n",
       "      <td>2020-03-09 21:00</td>\n",
       "    </tr>\n",
       "    <tr>\n",
       "      <td>55390</td>\n",
       "      <td>NaN</td>\n",
       "      <td>NaN</td>\n",
       "      <td>2020-03-09</td>\n",
       "      <td>23</td>\n",
       "      <td>803.0</td>\n",
       "      <td>57081.0</td>\n",
       "      <td>34073.0</td>\n",
       "      <td>36240.0</td>\n",
       "      <td>16482.0</td>\n",
       "      <td>0.0</td>\n",
       "      <td>...</td>\n",
       "      <td>0.0</td>\n",
       "      <td>0.0</td>\n",
       "      <td>0.0</td>\n",
       "      <td>0.0</td>\n",
       "      <td>0.0</td>\n",
       "      <td>0.0</td>\n",
       "      <td>0.0</td>\n",
       "      <td>0.0</td>\n",
       "      <td>0.0</td>\n",
       "      <td>2020-03-09 22:00</td>\n",
       "    </tr>\n",
       "    <tr>\n",
       "      <td>55391</td>\n",
       "      <td>NaN</td>\n",
       "      <td>NaN</td>\n",
       "      <td>2020-03-09</td>\n",
       "      <td>24</td>\n",
       "      <td>7594.0</td>\n",
       "      <td>56351.0</td>\n",
       "      <td>39697.0</td>\n",
       "      <td>45519.0</td>\n",
       "      <td>22479.0</td>\n",
       "      <td>0.0</td>\n",
       "      <td>...</td>\n",
       "      <td>0.0</td>\n",
       "      <td>0.0</td>\n",
       "      <td>0.0</td>\n",
       "      <td>0.0</td>\n",
       "      <td>0.0</td>\n",
       "      <td>0.0</td>\n",
       "      <td>0.0</td>\n",
       "      <td>0.0</td>\n",
       "      <td>0.0</td>\n",
       "      <td>2020-03-09 23:00</td>\n",
       "    </tr>\n",
       "  </tbody>\n",
       "</table>\n",
       "<p>5 rows × 31 columns</p>\n",
       "</div>"
      ],
      "text/plain": [
       "       Unnamed: 0 dia de la semana       fecha  hora  GICIE301  GICIE302  \\\n",
       "55387         NaN              NaN  2020-03-09    20   12140.0    6879.0   \n",
       "55388         NaN              NaN  2020-03-09    21    4313.0   31473.0   \n",
       "55389         NaN              NaN  2020-03-09    22      98.0   54796.0   \n",
       "55390         NaN              NaN  2020-03-09    23     803.0   57081.0   \n",
       "55391         NaN              NaN  2020-03-09    24    7594.0   56351.0   \n",
       "\n",
       "       GICIE303  GICIE304  GICIE305  GICIS306  ...  GICIS318  GICIS319  \\\n",
       "55387   26607.0   19358.0   10983.0       0.0  ...       0.0       0.0   \n",
       "55388   14942.0    3029.0   15129.0       0.0  ...       0.0       0.0   \n",
       "55389   33875.0   22778.0    8490.0       0.0  ...       0.0       0.0   \n",
       "55390   34073.0   36240.0   16482.0       0.0  ...       0.0       0.0   \n",
       "55391   39697.0   45519.0   22479.0       0.0  ...       0.0       0.0   \n",
       "\n",
       "       GICIS320  GICIS321  GICIS322  GICIS323  GICIS324  GICIS325  GICIS326  \\\n",
       "55387       0.0       0.0       0.0       0.0       0.0       0.0       0.0   \n",
       "55388       0.0       0.0       0.0       0.0       0.0       0.0       0.0   \n",
       "55389       0.0       0.0       0.0       0.0       0.0       0.0       0.0   \n",
       "55390       0.0       0.0       0.0       0.0       0.0       0.0       0.0   \n",
       "55391       0.0       0.0       0.0       0.0       0.0       0.0       0.0   \n",
       "\n",
       "             fecha_hora  \n",
       "55387  2020-03-09 19:00  \n",
       "55388  2020-03-09 20:00  \n",
       "55389  2020-03-09 21:00  \n",
       "55390  2020-03-09 22:00  \n",
       "55391  2020-03-09 23:00  \n",
       "\n",
       "[5 rows x 31 columns]"
      ]
     },
     "execution_count": 192,
     "metadata": {},
     "output_type": "execute_result"
    }
   ],
   "source": [
    "datos.tail()"
   ]
  },
  {
   "cell_type": "code",
   "execution_count": 193,
   "metadata": {
    "ExecuteTime": {
     "end_time": "2020-03-21T19:15:17.948662Z",
     "start_time": "2020-03-21T19:15:17.457400Z"
    },
    "scrolled": true
   },
   "outputs": [
    {
     "data": {
      "text/html": [
       "<div>\n",
       "<style scoped>\n",
       "    .dataframe tbody tr th:only-of-type {\n",
       "        vertical-align: middle;\n",
       "    }\n",
       "\n",
       "    .dataframe tbody tr th {\n",
       "        vertical-align: top;\n",
       "    }\n",
       "\n",
       "    .dataframe thead th {\n",
       "        text-align: right;\n",
       "    }\n",
       "</style>\n",
       "<table border=\"1\" class=\"dataframe\">\n",
       "  <thead>\n",
       "    <tr style=\"text-align: right;\">\n",
       "      <th></th>\n",
       "      <th>Unnamed: 0</th>\n",
       "      <th>dia de la semana</th>\n",
       "      <th>fecha</th>\n",
       "      <th>hora</th>\n",
       "      <th>GICIE301</th>\n",
       "      <th>GICIE302</th>\n",
       "      <th>GICIE303</th>\n",
       "      <th>GICIE304</th>\n",
       "      <th>GICIE305</th>\n",
       "      <th>GICIS306</th>\n",
       "      <th>...</th>\n",
       "      <th>GICIS318</th>\n",
       "      <th>GICIS319</th>\n",
       "      <th>GICIS320</th>\n",
       "      <th>GICIS321</th>\n",
       "      <th>GICIS322</th>\n",
       "      <th>GICIS323</th>\n",
       "      <th>GICIS324</th>\n",
       "      <th>GICIS325</th>\n",
       "      <th>GICIS326</th>\n",
       "      <th>fecha_hora</th>\n",
       "    </tr>\n",
       "    <tr>\n",
       "      <th>fecha_hora</th>\n",
       "      <th></th>\n",
       "      <th></th>\n",
       "      <th></th>\n",
       "      <th></th>\n",
       "      <th></th>\n",
       "      <th></th>\n",
       "      <th></th>\n",
       "      <th></th>\n",
       "      <th></th>\n",
       "      <th></th>\n",
       "      <th></th>\n",
       "      <th></th>\n",
       "      <th></th>\n",
       "      <th></th>\n",
       "      <th></th>\n",
       "      <th></th>\n",
       "      <th></th>\n",
       "      <th></th>\n",
       "      <th></th>\n",
       "      <th></th>\n",
       "      <th></th>\n",
       "    </tr>\n",
       "  </thead>\n",
       "  <tbody>\n",
       "    <tr>\n",
       "      <td>2019-01-01 00:00</td>\n",
       "      <td>NaN</td>\n",
       "      <td>Martes</td>\n",
       "      <td>2019-01-01</td>\n",
       "      <td>1</td>\n",
       "      <td>989.0</td>\n",
       "      <td>59570.0</td>\n",
       "      <td>76442.0</td>\n",
       "      <td>2672.0</td>\n",
       "      <td>75567.0</td>\n",
       "      <td>0.0</td>\n",
       "      <td>...</td>\n",
       "      <td>NaN</td>\n",
       "      <td>NaN</td>\n",
       "      <td>NaN</td>\n",
       "      <td>NaN</td>\n",
       "      <td>NaN</td>\n",
       "      <td>NaN</td>\n",
       "      <td>NaN</td>\n",
       "      <td>NaN</td>\n",
       "      <td>NaN</td>\n",
       "      <td>2019-01-01 00:00</td>\n",
       "    </tr>\n",
       "    <tr>\n",
       "      <td>2019-01-01 01:00</td>\n",
       "      <td>NaN</td>\n",
       "      <td>NaN</td>\n",
       "      <td>2019-01-01</td>\n",
       "      <td>2</td>\n",
       "      <td>316.0</td>\n",
       "      <td>30907.0</td>\n",
       "      <td>44403.0</td>\n",
       "      <td>1729.0</td>\n",
       "      <td>62964.0</td>\n",
       "      <td>0.0</td>\n",
       "      <td>...</td>\n",
       "      <td>NaN</td>\n",
       "      <td>NaN</td>\n",
       "      <td>NaN</td>\n",
       "      <td>NaN</td>\n",
       "      <td>NaN</td>\n",
       "      <td>NaN</td>\n",
       "      <td>NaN</td>\n",
       "      <td>NaN</td>\n",
       "      <td>NaN</td>\n",
       "      <td>2019-01-01 01:00</td>\n",
       "    </tr>\n",
       "    <tr>\n",
       "      <td>2019-01-01 02:00</td>\n",
       "      <td>NaN</td>\n",
       "      <td>NaN</td>\n",
       "      <td>2019-01-01</td>\n",
       "      <td>3</td>\n",
       "      <td>906.0</td>\n",
       "      <td>15816.0</td>\n",
       "      <td>61611.0</td>\n",
       "      <td>1225.0</td>\n",
       "      <td>58392.0</td>\n",
       "      <td>0.0</td>\n",
       "      <td>...</td>\n",
       "      <td>NaN</td>\n",
       "      <td>NaN</td>\n",
       "      <td>NaN</td>\n",
       "      <td>NaN</td>\n",
       "      <td>NaN</td>\n",
       "      <td>NaN</td>\n",
       "      <td>NaN</td>\n",
       "      <td>NaN</td>\n",
       "      <td>NaN</td>\n",
       "      <td>2019-01-01 02:00</td>\n",
       "    </tr>\n",
       "    <tr>\n",
       "      <td>2019-01-01 03:00</td>\n",
       "      <td>NaN</td>\n",
       "      <td>NaN</td>\n",
       "      <td>2019-01-01</td>\n",
       "      <td>4</td>\n",
       "      <td>3404.0</td>\n",
       "      <td>17314.0</td>\n",
       "      <td>59586.0</td>\n",
       "      <td>4105.0</td>\n",
       "      <td>72198.0</td>\n",
       "      <td>0.0</td>\n",
       "      <td>...</td>\n",
       "      <td>NaN</td>\n",
       "      <td>NaN</td>\n",
       "      <td>NaN</td>\n",
       "      <td>NaN</td>\n",
       "      <td>NaN</td>\n",
       "      <td>NaN</td>\n",
       "      <td>NaN</td>\n",
       "      <td>NaN</td>\n",
       "      <td>NaN</td>\n",
       "      <td>2019-01-01 03:00</td>\n",
       "    </tr>\n",
       "    <tr>\n",
       "      <td>2019-01-01 04:00</td>\n",
       "      <td>NaN</td>\n",
       "      <td>NaN</td>\n",
       "      <td>2019-01-01</td>\n",
       "      <td>5</td>\n",
       "      <td>1530.0</td>\n",
       "      <td>14027.0</td>\n",
       "      <td>46828.0</td>\n",
       "      <td>3710.0</td>\n",
       "      <td>66754.0</td>\n",
       "      <td>0.0</td>\n",
       "      <td>...</td>\n",
       "      <td>NaN</td>\n",
       "      <td>NaN</td>\n",
       "      <td>NaN</td>\n",
       "      <td>NaN</td>\n",
       "      <td>NaN</td>\n",
       "      <td>NaN</td>\n",
       "      <td>NaN</td>\n",
       "      <td>NaN</td>\n",
       "      <td>NaN</td>\n",
       "      <td>2019-01-01 04:00</td>\n",
       "    </tr>\n",
       "    <tr>\n",
       "      <td>...</td>\n",
       "      <td>...</td>\n",
       "      <td>...</td>\n",
       "      <td>...</td>\n",
       "      <td>...</td>\n",
       "      <td>...</td>\n",
       "      <td>...</td>\n",
       "      <td>...</td>\n",
       "      <td>...</td>\n",
       "      <td>...</td>\n",
       "      <td>...</td>\n",
       "      <td>...</td>\n",
       "      <td>...</td>\n",
       "      <td>...</td>\n",
       "      <td>...</td>\n",
       "      <td>...</td>\n",
       "      <td>...</td>\n",
       "      <td>...</td>\n",
       "      <td>...</td>\n",
       "      <td>...</td>\n",
       "      <td>...</td>\n",
       "      <td>...</td>\n",
       "    </tr>\n",
       "    <tr>\n",
       "      <td>2020-03-09 19:00</td>\n",
       "      <td>NaN</td>\n",
       "      <td>NaN</td>\n",
       "      <td>2020-03-09</td>\n",
       "      <td>20</td>\n",
       "      <td>12140.0</td>\n",
       "      <td>6879.0</td>\n",
       "      <td>26607.0</td>\n",
       "      <td>19358.0</td>\n",
       "      <td>10983.0</td>\n",
       "      <td>0.0</td>\n",
       "      <td>...</td>\n",
       "      <td>0.0</td>\n",
       "      <td>0.0</td>\n",
       "      <td>0.0</td>\n",
       "      <td>0.0</td>\n",
       "      <td>0.0</td>\n",
       "      <td>0.0</td>\n",
       "      <td>0.0</td>\n",
       "      <td>0.0</td>\n",
       "      <td>0.0</td>\n",
       "      <td>2020-03-09 19:00</td>\n",
       "    </tr>\n",
       "    <tr>\n",
       "      <td>2020-03-09 20:00</td>\n",
       "      <td>NaN</td>\n",
       "      <td>NaN</td>\n",
       "      <td>2020-03-09</td>\n",
       "      <td>21</td>\n",
       "      <td>4313.0</td>\n",
       "      <td>31473.0</td>\n",
       "      <td>14942.0</td>\n",
       "      <td>3029.0</td>\n",
       "      <td>15129.0</td>\n",
       "      <td>0.0</td>\n",
       "      <td>...</td>\n",
       "      <td>0.0</td>\n",
       "      <td>0.0</td>\n",
       "      <td>0.0</td>\n",
       "      <td>0.0</td>\n",
       "      <td>0.0</td>\n",
       "      <td>0.0</td>\n",
       "      <td>0.0</td>\n",
       "      <td>0.0</td>\n",
       "      <td>0.0</td>\n",
       "      <td>2020-03-09 20:00</td>\n",
       "    </tr>\n",
       "    <tr>\n",
       "      <td>2020-03-09 21:00</td>\n",
       "      <td>NaN</td>\n",
       "      <td>NaN</td>\n",
       "      <td>2020-03-09</td>\n",
       "      <td>22</td>\n",
       "      <td>98.0</td>\n",
       "      <td>54796.0</td>\n",
       "      <td>33875.0</td>\n",
       "      <td>22778.0</td>\n",
       "      <td>8490.0</td>\n",
       "      <td>0.0</td>\n",
       "      <td>...</td>\n",
       "      <td>0.0</td>\n",
       "      <td>0.0</td>\n",
       "      <td>0.0</td>\n",
       "      <td>0.0</td>\n",
       "      <td>0.0</td>\n",
       "      <td>0.0</td>\n",
       "      <td>0.0</td>\n",
       "      <td>0.0</td>\n",
       "      <td>0.0</td>\n",
       "      <td>2020-03-09 21:00</td>\n",
       "    </tr>\n",
       "    <tr>\n",
       "      <td>2020-03-09 22:00</td>\n",
       "      <td>NaN</td>\n",
       "      <td>NaN</td>\n",
       "      <td>2020-03-09</td>\n",
       "      <td>23</td>\n",
       "      <td>803.0</td>\n",
       "      <td>57081.0</td>\n",
       "      <td>34073.0</td>\n",
       "      <td>36240.0</td>\n",
       "      <td>16482.0</td>\n",
       "      <td>0.0</td>\n",
       "      <td>...</td>\n",
       "      <td>0.0</td>\n",
       "      <td>0.0</td>\n",
       "      <td>0.0</td>\n",
       "      <td>0.0</td>\n",
       "      <td>0.0</td>\n",
       "      <td>0.0</td>\n",
       "      <td>0.0</td>\n",
       "      <td>0.0</td>\n",
       "      <td>0.0</td>\n",
       "      <td>2020-03-09 22:00</td>\n",
       "    </tr>\n",
       "    <tr>\n",
       "      <td>2020-03-09 23:00</td>\n",
       "      <td>NaN</td>\n",
       "      <td>NaN</td>\n",
       "      <td>2020-03-09</td>\n",
       "      <td>24</td>\n",
       "      <td>7594.0</td>\n",
       "      <td>56351.0</td>\n",
       "      <td>39697.0</td>\n",
       "      <td>45519.0</td>\n",
       "      <td>22479.0</td>\n",
       "      <td>0.0</td>\n",
       "      <td>...</td>\n",
       "      <td>0.0</td>\n",
       "      <td>0.0</td>\n",
       "      <td>0.0</td>\n",
       "      <td>0.0</td>\n",
       "      <td>0.0</td>\n",
       "      <td>0.0</td>\n",
       "      <td>0.0</td>\n",
       "      <td>0.0</td>\n",
       "      <td>0.0</td>\n",
       "      <td>2020-03-09 23:00</td>\n",
       "    </tr>\n",
       "  </tbody>\n",
       "</table>\n",
       "<p>10416 rows × 31 columns</p>\n",
       "</div>"
      ],
      "text/plain": [
       "                  Unnamed: 0 dia de la semana       fecha  hora  GICIE301  \\\n",
       "fecha_hora                                                                  \n",
       "2019-01-01 00:00         NaN           Martes  2019-01-01     1     989.0   \n",
       "2019-01-01 01:00         NaN              NaN  2019-01-01     2     316.0   \n",
       "2019-01-01 02:00         NaN              NaN  2019-01-01     3     906.0   \n",
       "2019-01-01 03:00         NaN              NaN  2019-01-01     4    3404.0   \n",
       "2019-01-01 04:00         NaN              NaN  2019-01-01     5    1530.0   \n",
       "...                      ...              ...         ...   ...       ...   \n",
       "2020-03-09 19:00         NaN              NaN  2020-03-09    20   12140.0   \n",
       "2020-03-09 20:00         NaN              NaN  2020-03-09    21    4313.0   \n",
       "2020-03-09 21:00         NaN              NaN  2020-03-09    22      98.0   \n",
       "2020-03-09 22:00         NaN              NaN  2020-03-09    23     803.0   \n",
       "2020-03-09 23:00         NaN              NaN  2020-03-09    24    7594.0   \n",
       "\n",
       "                  GICIE302  GICIE303  GICIE304  GICIE305  GICIS306  ...  \\\n",
       "fecha_hora                                                          ...   \n",
       "2019-01-01 00:00   59570.0   76442.0    2672.0   75567.0       0.0  ...   \n",
       "2019-01-01 01:00   30907.0   44403.0    1729.0   62964.0       0.0  ...   \n",
       "2019-01-01 02:00   15816.0   61611.0    1225.0   58392.0       0.0  ...   \n",
       "2019-01-01 03:00   17314.0   59586.0    4105.0   72198.0       0.0  ...   \n",
       "2019-01-01 04:00   14027.0   46828.0    3710.0   66754.0       0.0  ...   \n",
       "...                    ...       ...       ...       ...       ...  ...   \n",
       "2020-03-09 19:00    6879.0   26607.0   19358.0   10983.0       0.0  ...   \n",
       "2020-03-09 20:00   31473.0   14942.0    3029.0   15129.0       0.0  ...   \n",
       "2020-03-09 21:00   54796.0   33875.0   22778.0    8490.0       0.0  ...   \n",
       "2020-03-09 22:00   57081.0   34073.0   36240.0   16482.0       0.0  ...   \n",
       "2020-03-09 23:00   56351.0   39697.0   45519.0   22479.0       0.0  ...   \n",
       "\n",
       "                  GICIS318  GICIS319  GICIS320  GICIS321  GICIS322  GICIS323  \\\n",
       "fecha_hora                                                                     \n",
       "2019-01-01 00:00       NaN       NaN       NaN       NaN       NaN       NaN   \n",
       "2019-01-01 01:00       NaN       NaN       NaN       NaN       NaN       NaN   \n",
       "2019-01-01 02:00       NaN       NaN       NaN       NaN       NaN       NaN   \n",
       "2019-01-01 03:00       NaN       NaN       NaN       NaN       NaN       NaN   \n",
       "2019-01-01 04:00       NaN       NaN       NaN       NaN       NaN       NaN   \n",
       "...                    ...       ...       ...       ...       ...       ...   \n",
       "2020-03-09 19:00       0.0       0.0       0.0       0.0       0.0       0.0   \n",
       "2020-03-09 20:00       0.0       0.0       0.0       0.0       0.0       0.0   \n",
       "2020-03-09 21:00       0.0       0.0       0.0       0.0       0.0       0.0   \n",
       "2020-03-09 22:00       0.0       0.0       0.0       0.0       0.0       0.0   \n",
       "2020-03-09 23:00       0.0       0.0       0.0       0.0       0.0       0.0   \n",
       "\n",
       "                  GICIS324  GICIS325  GICIS326        fecha_hora  \n",
       "fecha_hora                                                        \n",
       "2019-01-01 00:00       NaN       NaN       NaN  2019-01-01 00:00  \n",
       "2019-01-01 01:00       NaN       NaN       NaN  2019-01-01 01:00  \n",
       "2019-01-01 02:00       NaN       NaN       NaN  2019-01-01 02:00  \n",
       "2019-01-01 03:00       NaN       NaN       NaN  2019-01-01 03:00  \n",
       "2019-01-01 04:00       NaN       NaN       NaN  2019-01-01 04:00  \n",
       "...                    ...       ...       ...               ...  \n",
       "2020-03-09 19:00       0.0       0.0       0.0  2020-03-09 19:00  \n",
       "2020-03-09 20:00       0.0       0.0       0.0  2020-03-09 20:00  \n",
       "2020-03-09 21:00       0.0       0.0       0.0  2020-03-09 21:00  \n",
       "2020-03-09 22:00       0.0       0.0       0.0  2020-03-09 22:00  \n",
       "2020-03-09 23:00       0.0       0.0       0.0  2020-03-09 23:00  \n",
       "\n",
       "[10416 rows x 31 columns]"
      ]
     },
     "execution_count": 193,
     "metadata": {},
     "output_type": "execute_result"
    }
   ],
   "source": [
    "#LIMPIEZA DE DATOS\n",
    "datos = datos.set_index(datos['fecha_hora'])\n",
    "datos = datos[44976:]\n",
    "datos"
   ]
  },
  {
   "cell_type": "code",
   "execution_count": 196,
   "metadata": {
    "ExecuteTime": {
     "end_time": "2020-03-21T19:15:25.952320Z",
     "start_time": "2020-03-21T19:15:25.944467Z"
    }
   },
   "outputs": [
    {
     "data": {
      "text/plain": [
       "16"
      ]
     },
     "execution_count": 196,
     "metadata": {},
     "output_type": "execute_result"
    }
   ],
   "source": [
    "columns = ['GICIE301','GICIE302', 'GICIE303', 'GICIE304', 'GICIE305', 'GICIS306', 'GICIS307','GICIS308', \n",
    "           'GICIS309', 'GICIS310', 'GICIS311', 'GICIS312', 'GICIS313','GICIS314', 'GICIS315', 'GICIS316']\n",
    "len(columns)"
   ]
  },
  {
   "cell_type": "code",
   "execution_count": 197,
   "metadata": {
    "ExecuteTime": {
     "end_time": "2020-03-21T19:15:27.001915Z",
     "start_time": "2020-03-21T19:15:26.437819Z"
    }
   },
   "outputs": [
    {
     "data": {
      "image/png": "[encoded data removed]",
      "text/plain": [
       "<Figure size 432x288 with 1 Axes>"
      ]
     },
     "metadata": {
      "needs_background": "light"
     },
     "output_type": "display_data"
    }
   ],
   "source": [
    "plt.plot(datos['GICIS306'][-1-5*24:])\n",
    "plt.xticks([0,24,48,72,96,120],rotation=45)\n",
    "plt.show()"
   ]
  },
  {
   "cell_type": "code",
   "execution_count": 198,
   "metadata": {
    "ExecuteTime": {
     "end_time": "2020-03-21T19:15:29.208879Z",
     "start_time": "2020-03-21T19:15:29.204327Z"
    }
   },
   "outputs": [],
   "source": [
    "n_periods = 5*24"
   ]
  },
  {
   "cell_type": "code",
   "execution_count": 199,
   "metadata": {
    "ExecuteTime": {
     "end_time": "2020-03-21T19:15:29.526584Z",
     "start_time": "2020-03-21T19:15:29.520416Z"
    }
   },
   "outputs": [
    {
     "data": {
      "text/plain": [
       "'GICIS306'"
      ]
     },
     "execution_count": 199,
     "metadata": {},
     "output_type": "execute_result"
    }
   ],
   "source": [
    "columna = columns[5]\n",
    "columna"
   ]
  },
  {
   "cell_type": "code",
   "execution_count": 200,
   "metadata": {
    "ExecuteTime": {
     "end_time": "2020-03-21T19:15:29.845343Z",
     "start_time": "2020-03-21T19:15:29.840574Z"
    }
   },
   "outputs": [],
   "source": [
    "def mape(forecast, actual):\n",
    "    return np.mean(np.abs((forecast - actual)/actual))  # MAPE"
   ]
  },
  {
   "cell_type": "code",
   "execution_count": 201,
   "metadata": {
    "ExecuteTime": {
     "end_time": "2020-03-21T19:15:30.747100Z",
     "start_time": "2020-03-21T19:15:30.737495Z"
    }
   },
   "outputs": [],
   "source": [
    "def AIC_accuracy(train,test):\n",
    "    fcc = []\n",
    "    for i in range(1,25):\n",
    "        \n",
    "        data = train['Hora '+str(i)].dropna()\n",
    "        model = pm.auto_arima(data.values, start_p=1, start_q=1,\n",
    "                          test='adf',       # use adftest to find optimal 'd'\n",
    "                          max_p=5, max_q=5, # maximum p and q\n",
    "                          m=12,              # frequency of series\n",
    "                          d=None,           # let model determine 'd'\n",
    "                          seasonal=True,   # No Seasonality\n",
    "                          start_P=0, \n",
    "                          D=0, \n",
    "                          trace=False,\n",
    "                          error_action='ignore',  \n",
    "                          suppress_warnings=True, \n",
    "                          stepwise=True)\n",
    "        #model.fit(data.values)\n",
    "        #print(model)\n",
    "        #model.plot_diagnostics(figsize=(7,5))\n",
    "        #plt.show()\n",
    "        # Predicción\n",
    "        fc, confint = model.predict(n_periods=n_periods, return_conf_int=True)\n",
    "        fcc.append(fc)\n",
    "    return(fcc, model)"
   ]
  },
  {
   "cell_type": "code",
   "execution_count": 202,
   "metadata": {
    "ExecuteTime": {
     "end_time": "2020-03-21T19:15:32.019748Z",
     "start_time": "2020-03-21T19:15:31.986825Z"
    }
   },
   "outputs": [
    {
     "data": {
      "text/html": [
       "<div>\n",
       "<style scoped>\n",
       "    .dataframe tbody tr th:only-of-type {\n",
       "        vertical-align: middle;\n",
       "    }\n",
       "\n",
       "    .dataframe tbody tr th {\n",
       "        vertical-align: top;\n",
       "    }\n",
       "\n",
       "    .dataframe thead th {\n",
       "        text-align: right;\n",
       "    }\n",
       "</style>\n",
       "<table border=\"1\" class=\"dataframe\">\n",
       "  <thead>\n",
       "    <tr style=\"text-align: right;\">\n",
       "      <th></th>\n",
       "      <th>fecha_hora</th>\n",
       "      <th>GICIS306</th>\n",
       "    </tr>\n",
       "    <tr>\n",
       "      <th>fecha_hora</th>\n",
       "      <th></th>\n",
       "      <th></th>\n",
       "    </tr>\n",
       "  </thead>\n",
       "  <tbody>\n",
       "    <tr>\n",
       "      <td>2019-01-01 00:00</td>\n",
       "      <td>2019-01-01 00:00</td>\n",
       "      <td>0.0</td>\n",
       "    </tr>\n",
       "    <tr>\n",
       "      <td>2019-01-01 01:00</td>\n",
       "      <td>2019-01-01 01:00</td>\n",
       "      <td>0.0</td>\n",
       "    </tr>\n",
       "    <tr>\n",
       "      <td>2019-01-01 02:00</td>\n",
       "      <td>2019-01-01 02:00</td>\n",
       "      <td>0.0</td>\n",
       "    </tr>\n",
       "    <tr>\n",
       "      <td>2019-01-01 03:00</td>\n",
       "      <td>2019-01-01 03:00</td>\n",
       "      <td>0.0</td>\n",
       "    </tr>\n",
       "    <tr>\n",
       "      <td>2019-01-01 04:00</td>\n",
       "      <td>2019-01-01 04:00</td>\n",
       "      <td>0.0</td>\n",
       "    </tr>\n",
       "    <tr>\n",
       "      <td>...</td>\n",
       "      <td>...</td>\n",
       "      <td>...</td>\n",
       "    </tr>\n",
       "    <tr>\n",
       "      <td>2020-03-09 19:00</td>\n",
       "      <td>2020-03-09 19:00</td>\n",
       "      <td>0.0</td>\n",
       "    </tr>\n",
       "    <tr>\n",
       "      <td>2020-03-09 20:00</td>\n",
       "      <td>2020-03-09 20:00</td>\n",
       "      <td>0.0</td>\n",
       "    </tr>\n",
       "    <tr>\n",
       "      <td>2020-03-09 21:00</td>\n",
       "      <td>2020-03-09 21:00</td>\n",
       "      <td>0.0</td>\n",
       "    </tr>\n",
       "    <tr>\n",
       "      <td>2020-03-09 22:00</td>\n",
       "      <td>2020-03-09 22:00</td>\n",
       "      <td>0.0</td>\n",
       "    </tr>\n",
       "    <tr>\n",
       "      <td>2020-03-09 23:00</td>\n",
       "      <td>2020-03-09 23:00</td>\n",
       "      <td>0.0</td>\n",
       "    </tr>\n",
       "  </tbody>\n",
       "</table>\n",
       "<p>10416 rows × 2 columns</p>\n",
       "</div>"
      ],
      "text/plain": [
       "                        fecha_hora  GICIS306\n",
       "fecha_hora                                  \n",
       "2019-01-01 00:00  2019-01-01 00:00       0.0\n",
       "2019-01-01 01:00  2019-01-01 01:00       0.0\n",
       "2019-01-01 02:00  2019-01-01 02:00       0.0\n",
       "2019-01-01 03:00  2019-01-01 03:00       0.0\n",
       "2019-01-01 04:00  2019-01-01 04:00       0.0\n",
       "...                            ...       ...\n",
       "2020-03-09 19:00  2020-03-09 19:00       0.0\n",
       "2020-03-09 20:00  2020-03-09 20:00       0.0\n",
       "2020-03-09 21:00  2020-03-09 21:00       0.0\n",
       "2020-03-09 22:00  2020-03-09 22:00       0.0\n",
       "2020-03-09 23:00  2020-03-09 23:00       0.0\n",
       "\n",
       "[10416 rows x 2 columns]"
      ]
     },
     "execution_count": 202,
     "metadata": {},
     "output_type": "execute_result"
    }
   ],
   "source": [
    "    data2 = datos[['fecha_hora',columna]]\n",
    "    #data2 = data2.dropna()\n",
    "    data2"
   ]
  },
  {
   "cell_type": "markdown",
   "metadata": {},
   "source": [
    "***"
   ]
  },
  {
   "cell_type": "code",
   "execution_count": 217,
   "metadata": {
    "ExecuteTime": {
     "end_time": "2020-03-21T19:36:17.231417Z",
     "start_time": "2020-03-21T19:36:17.215173Z"
    },
    "code_folding": []
   },
   "outputs": [
    {
     "data": {
      "text/plain": [
       "'2019-01-01 10:00'"
      ]
     },
     "execution_count": 217,
     "metadata": {},
     "output_type": "execute_result"
    }
   ],
   "source": [
    "    #Se separará por hora del día, ya que cada hora se comporta diferente.\n",
    "    i =10\n",
    "    xhr = pd.DataFrame() ; log = pd.DataFrame() ; rends = pd.DataFrame() ; rlogs = pd.DataFrame()\n",
    "    ano,dia,hora= str(data2.index[i])[0:4], str(data2.index[i])[5:7] ,str(data2.index[i])[8:10]\n",
    "    ano, dia, hora\n",
    "    data2.index[i]"
   ]
  },
  {
   "cell_type": "code",
   "execution_count": 212,
   "metadata": {
    "ExecuteTime": {
     "end_time": "2020-03-21T19:31:46.091456Z",
     "start_time": "2020-03-21T19:27:27.747534Z"
    }
   },
   "outputs": [],
   "source": [
    "    #El siguiente ciclo 'for' crea un DataFrame acomodado por horas, de cada planta de generación.\n",
    "    for i in range(1,25):\n",
    "        hrs = [data2.iloc[j][1] for j in range(len(data2)) if data2.iloc[j][0] == i ] #pd.Series()\n",
    "        xhr['Hora '+str(i)] = hrs\n",
    "    log = xhr"
   ]
  },
  {
   "cell_type": "code",
   "execution_count": 214,
   "metadata": {
    "ExecuteTime": {
     "end_time": "2020-03-21T19:32:42.781071Z",
     "start_time": "2020-03-21T19:32:42.764832Z"
    }
   },
   "outputs": [
    {
     "data": {
      "text/html": [
       "<div>\n",
       "<style scoped>\n",
       "    .dataframe tbody tr th:only-of-type {\n",
       "        vertical-align: middle;\n",
       "    }\n",
       "\n",
       "    .dataframe tbody tr th {\n",
       "        vertical-align: top;\n",
       "    }\n",
       "\n",
       "    .dataframe thead th {\n",
       "        text-align: right;\n",
       "    }\n",
       "</style>\n",
       "<table border=\"1\" class=\"dataframe\">\n",
       "  <thead>\n",
       "    <tr style=\"text-align: right;\">\n",
       "      <th></th>\n",
       "      <th>Hora 1</th>\n",
       "      <th>Hora 2</th>\n",
       "      <th>Hora 3</th>\n",
       "      <th>Hora 4</th>\n",
       "      <th>Hora 5</th>\n",
       "      <th>Hora 6</th>\n",
       "      <th>Hora 7</th>\n",
       "      <th>Hora 8</th>\n",
       "      <th>Hora 9</th>\n",
       "      <th>Hora 10</th>\n",
       "      <th>...</th>\n",
       "      <th>Hora 16</th>\n",
       "      <th>Hora 17</th>\n",
       "      <th>Hora 18</th>\n",
       "      <th>Hora 19</th>\n",
       "      <th>Hora 20</th>\n",
       "      <th>Hora 21</th>\n",
       "      <th>Hora 22</th>\n",
       "      <th>Hora 23</th>\n",
       "      <th>Hora 24</th>\n",
       "      <th>Hora 0</th>\n",
       "    </tr>\n",
       "  </thead>\n",
       "  <tbody>\n",
       "  </tbody>\n",
       "</table>\n",
       "<p>0 rows × 25 columns</p>\n",
       "</div>"
      ],
      "text/plain": [
       "Empty DataFrame\n",
       "Columns: [Hora 1, Hora 2, Hora 3, Hora 4, Hora 5, Hora 6, Hora 7, Hora 8, Hora 9, Hora 10, Hora 11, Hora 12, Hora 13, Hora 14, Hora 15, Hora 16, Hora 17, Hora 18, Hora 19, Hora 20, Hora 21, Hora 22, Hora 23, Hora 24, Hora 0]\n",
       "Index: []\n",
       "\n",
       "[0 rows x 25 columns]"
      ]
     },
     "execution_count": 214,
     "metadata": {},
     "output_type": "execute_result"
    }
   ],
   "source": [
    "xhr"
   ]
  },
  {
   "cell_type": "code",
   "execution_count": 213,
   "metadata": {
    "ExecuteTime": {
     "end_time": "2020-03-21T19:31:46.239920Z",
     "start_time": "2020-03-21T19:31:46.112415Z"
    }
   },
   "outputs": [
    {
     "ename": "ValueError",
     "evalue": "Length mismatch: Expected 0 rows, received array of length 1",
     "output_type": "error",
     "traceback": [
      "\u001b[0;31m---------------------------------------------------------------------------\u001b[0m",
      "\u001b[0;31mValueError\u001b[0m                                Traceback (most recent call last)",
      "\u001b[0;32m<ipython-input-213-24fe7bd10527>\u001b[0m in \u001b[0;36m<module>\u001b[0;34m\u001b[0m\n\u001b[1;32m      1\u001b[0m \u001b[0;31m#Se le cambia el index a los DataFrame creados, por las fechas que son.\u001b[0m\u001b[0;34m\u001b[0m\u001b[0;34m\u001b[0m\u001b[0;34m\u001b[0m\u001b[0m\n\u001b[0;32m----> 2\u001b[0;31m \u001b[0mxhr\u001b[0m \u001b[0;34m=\u001b[0m \u001b[0mxhr\u001b[0m\u001b[0;34m.\u001b[0m\u001b[0mset_index\u001b[0m\u001b[0;34m(\u001b[0m\u001b[0mpd\u001b[0m\u001b[0;34m.\u001b[0m\u001b[0mdate_range\u001b[0m\u001b[0;34m(\u001b[0m\u001b[0mstart\u001b[0m\u001b[0;34m=\u001b[0m\u001b[0mdatos\u001b[0m\u001b[0;34m[\u001b[0m\u001b[0;34m'hora'\u001b[0m\u001b[0;34m]\u001b[0m\u001b[0;34m[\u001b[0m\u001b[0;36m0\u001b[0m\u001b[0;34m]\u001b[0m\u001b[0;34m,\u001b[0m\u001b[0mend\u001b[0m\u001b[0;34m=\u001b[0m\u001b[0mdatos\u001b[0m\u001b[0;34m[\u001b[0m\u001b[0;34m'hora'\u001b[0m\u001b[0;34m]\u001b[0m\u001b[0;34m[\u001b[0m\u001b[0;34m-\u001b[0m\u001b[0;36m1\u001b[0m\u001b[0;34m]\u001b[0m\u001b[0;34m,\u001b[0m\u001b[0mfreq\u001b[0m\u001b[0;34m=\u001b[0m\u001b[0;34m'd'\u001b[0m\u001b[0;34m)\u001b[0m\u001b[0;34m)\u001b[0m\u001b[0;34m\u001b[0m\u001b[0;34m\u001b[0m\u001b[0m\n\u001b[0m\u001b[1;32m      3\u001b[0m \u001b[0mxhr\u001b[0m\u001b[0;34m\u001b[0m\u001b[0;34m\u001b[0m\u001b[0m\n",
      "\u001b[0;32m~/opt/anaconda3/lib/python3.7/site-packages/pandas/core/frame.py\u001b[0m in \u001b[0;36mset_index\u001b[0;34m(self, keys, drop, append, inplace, verify_integrity)\u001b[0m\n\u001b[1;32m   4440\u001b[0m                     \u001b[0;34m\"Length mismatch: Expected {len_self} rows, \"\u001b[0m\u001b[0;34m\u001b[0m\u001b[0;34m\u001b[0m\u001b[0m\n\u001b[1;32m   4441\u001b[0m                     \"received array of length {len_col}\".format(\n\u001b[0;32m-> 4442\u001b[0;31m                         \u001b[0mlen_self\u001b[0m\u001b[0;34m=\u001b[0m\u001b[0mlen\u001b[0m\u001b[0;34m(\u001b[0m\u001b[0mself\u001b[0m\u001b[0;34m)\u001b[0m\u001b[0;34m,\u001b[0m \u001b[0mlen_col\u001b[0m\u001b[0;34m=\u001b[0m\u001b[0mlen\u001b[0m\u001b[0;34m(\u001b[0m\u001b[0marrays\u001b[0m\u001b[0;34m[\u001b[0m\u001b[0;34m-\u001b[0m\u001b[0;36m1\u001b[0m\u001b[0;34m]\u001b[0m\u001b[0;34m)\u001b[0m\u001b[0;34m\u001b[0m\u001b[0;34m\u001b[0m\u001b[0m\n\u001b[0m\u001b[1;32m   4443\u001b[0m                     )\n\u001b[1;32m   4444\u001b[0m                 )\n",
      "\u001b[0;31mValueError\u001b[0m: Length mismatch: Expected 0 rows, received array of length 1"
     ]
    }
   ],
   "source": [
    "    #Se le cambia el index a los DataFrame creados, por las fechas que son.\n",
    "    xhr = xhr.set_index(pd.date_range(start=datos['hora'][0],end=datos['hora'][-1],freq='d'))\n",
    "    xhr"
   ]
  },
  {
   "cell_type": "code",
   "execution_count": null,
   "metadata": {
    "ExecuteTime": {
     "end_time": "2020-03-21T19:13:24.739675Z",
     "start_time": "2020-03-21T19:08:05.425Z"
    }
   },
   "outputs": [],
   "source": [
    "    #Seleccion de y_train y y_test\n",
    "    test = (xhr.iloc[-5:,:])   # INFO DE TEST\n",
    "    train = log.drop(log.index[1945:]) # QUITANDO TEST PARA TRAIN"
   ]
  },
  {
   "cell_type": "code",
   "execution_count": null,
   "metadata": {
    "ExecuteTime": {
     "end_time": "2020-03-21T19:13:24.745362Z",
     "start_time": "2020-03-21T19:08:05.724Z"
    }
   },
   "outputs": [],
   "source": [
    "train, test"
   ]
  },
  {
   "cell_type": "code",
   "execution_count": null,
   "metadata": {
    "ExecuteTime": {
     "end_time": "2020-03-21T19:13:24.750642Z",
     "start_time": "2020-03-21T19:08:05.942Z"
    }
   },
   "outputs": [],
   "source": [
    "    fcc = []\n",
    "\n",
    "    #MODELO ARIMA\n",
    "    for i in range(1,25):\n",
    "        y_train = train['Hora '+str(i)].dropna()\n",
    "        \n",
    "        model = pm.auto_arima(y_train.values, start_p=1, start_q=1,\n",
    "            test='adf',       # use adftest to find optimal 'd'\n",
    "            max_p=4, max_q=4, # maximum p and q\n",
    "            m=12,              # frequency of series\n",
    "            d=None,           # let model determine 'd'\n",
    "            seasonal=True,    # No Seasonality\n",
    "            stepwise=True)   \n",
    "\n",
    "        model.fit(y_train.values)\n",
    "        #print(model)\n",
    "        #model.plot_diagnostics(figsize=(7,5))\n",
    "        #plt.show()\n",
    "            \n",
    "        # Predicción\n",
    "        fc, confint = model.predict(n_periods=len(test), return_conf_int=True)\n",
    "        fcc.append(fc)\n",
    "        \n",
    "    fc, model = AIC_accuracy(train,test)"
   ]
  },
  {
   "cell_type": "code",
   "execution_count": null,
   "metadata": {
    "ExecuteTime": {
     "end_time": "2020-03-21T19:13:24.755648Z",
     "start_time": "2020-03-21T19:08:06.056Z"
    }
   },
   "outputs": [],
   "source": [
    "model.summary()"
   ]
  },
  {
   "cell_type": "code",
   "execution_count": null,
   "metadata": {
    "ExecuteTime": {
     "end_time": "2020-03-21T19:13:24.760699Z",
     "start_time": "2020-03-21T19:08:06.260Z"
    }
   },
   "outputs": [],
   "source": [
    "fc"
   ]
  },
  {
   "cell_type": "code",
   "execution_count": null,
   "metadata": {
    "ExecuteTime": {
     "end_time": "2020-03-21T19:13:24.768316Z",
     "start_time": "2020-03-21T19:08:06.639Z"
    }
   },
   "outputs": [],
   "source": [
    "fcc"
   ]
  },
  {
   "cell_type": "code",
   "execution_count": null,
   "metadata": {
    "ExecuteTime": {
     "end_time": "2020-03-21T19:13:24.773901Z",
     "start_time": "2020-03-21T19:08:06.899Z"
    }
   },
   "outputs": [],
   "source": [
    "    mapes = [mape(fcc[i-1], (test['Hora '+str(i)])) for i in range(1,25)]\n",
    "    mapes = pd.DataFrame(mapes).dropna()\n",
    "    mapes[mapes == inf] = 0\n",
    "    mape_promedio = np.mean(mapes)"
   ]
  },
  {
   "cell_type": "code",
   "execution_count": null,
   "metadata": {
    "ExecuteTime": {
     "end_time": "2020-03-21T19:13:24.779582Z",
     "start_time": "2020-03-21T19:08:07.076Z"
    }
   },
   "outputs": [],
   "source": [
    "    dias = []\n",
    "    for j in range(0,5):\n",
    "        dias.append([([ fc[i][j] for i in range(len(fc))])][0])\n",
    "    pronostico = pd.DataFrame(np.concatenate(dias))\n",
    "    pronostico = pronostico.set_index(pd.date_range(pd.datetime(2019,3,14),periods=len(pronostico),freq='H'))\n",
    "    pronostico.index = pronostico.index.map(str)"
   ]
  },
  {
   "cell_type": "code",
   "execution_count": null,
   "metadata": {
    "ExecuteTime": {
     "end_time": "2020-03-21T19:13:24.785223Z",
     "start_time": "2020-03-21T19:08:07.279Z"
    }
   },
   "outputs": [],
   "source": [
    "    arange_dates = []\n",
    "    arange_no = []\n",
    "    arange = datos[columna][-1-19*24:].index\n",
    "    for i in range(0,len(arange),48):\n",
    "        arange_dates.append(arange[i])\n",
    "        arange_no.append(i)\n",
    "\n",
    "    plt.figure(figsize=(12,5), dpi=100)\n",
    "    plt.plot(datos[columna][-1-19*24:], 'o-', label = 'Datos Reales')\n",
    "    plt.plot(pronostico, 'o--', label='pronostico',color ='r')\n",
    "    plt.title('Predicción vs Reales 5 dias '+columna)\n",
    "    plt.xticks(arange_no,arange_dates,rotation = 45)\n",
    "    plt.legend(loc='upper left', fontsize=8)\n",
    "    plt.show()\n",
    "    \n",
    "    print(mape_promedio)\n",
    "    #print(fc)\n",
    "    #print(model)"
   ]
  },
  {
   "cell_type": "code",
   "execution_count": null,
   "metadata": {
    "ExecuteTime": {
     "end_time": "2020-03-21T19:13:24.791442Z",
     "start_time": "2020-03-21T19:08:07.888Z"
    }
   },
   "outputs": [],
   "source": [
    "Forecasts = pd.DataFrame(fcc).dropna().T"
   ]
  },
  {
   "cell_type": "code",
   "execution_count": null,
   "metadata": {
    "ExecuteTime": {
     "end_time": "2020-03-21T19:13:24.799825Z",
     "start_time": "2020-03-21T19:08:08.395Z"
    }
   },
   "outputs": [],
   "source": [
    "Forecasts.index = test.index\n",
    "Forecasts.columns = test.columns\n",
    "round(Forecasts,2)"
   ]
  },
  {
   "cell_type": "code",
   "execution_count": null,
   "metadata": {
    "ExecuteTime": {
     "end_time": "2020-03-21T19:13:24.806217Z",
     "start_time": "2020-03-21T19:08:08.580Z"
    }
   },
   "outputs": [],
   "source": [
    "test"
   ]
  },
  {
   "cell_type": "code",
   "execution_count": null,
   "metadata": {
    "ExecuteTime": {
     "end_time": "2020-03-21T19:13:24.812746Z",
     "start_time": "2020-03-21T19:08:08.740Z"
    }
   },
   "outputs": [],
   "source": [
    "new_mapes = np.abs((Forecasts - test) / test)\n",
    "new_mapes[new_mapes == inf] = 0"
   ]
  },
  {
   "cell_type": "code",
   "execution_count": null,
   "metadata": {
    "ExecuteTime": {
     "end_time": "2020-03-21T19:13:24.822017Z",
     "start_time": "2020-03-21T19:08:08.899Z"
    }
   },
   "outputs": [],
   "source": [
    "new_mapes"
   ]
  },
  {
   "cell_type": "code",
   "execution_count": null,
   "metadata": {
    "ExecuteTime": {
     "end_time": "2020-03-21T19:13:24.826433Z",
     "start_time": "2020-03-21T19:08:09.092Z"
    }
   },
   "outputs": [],
   "source": [
    "new_mapes[[ 'Hora 8', 'Hora 9', 'Hora 10',\n",
    "                           'Hora 11', 'Hora 12','Hora 13', 'Hora 14', 'Hora 15',\n",
    "                          'Hora 16', 'Hora 17', 'Hora 18', 'Hora 19']]"
   ]
  },
  {
   "cell_type": "code",
   "execution_count": null,
   "metadata": {
    "ExecuteTime": {
     "end_time": "2020-03-21T19:13:24.831994Z",
     "start_time": "2020-03-21T19:08:09.830Z"
    }
   },
   "outputs": [],
   "source": [
    "np.mean(new_mapes)"
   ]
  },
  {
   "cell_type": "code",
   "execution_count": null,
   "metadata": {
    "ExecuteTime": {
     "end_time": "2020-03-21T15:51:56.035498Z",
     "start_time": "2020-03-21T15:50:24.687Z"
    }
   },
   "outputs": [],
   "source": [
    "np.mean(np.mean(new_mapes[['Hora 8', 'Hora 9', 'Hora 10',\n",
    "                           'Hora 11', 'Hora 12','Hora 13', 'Hora 14', 'Hora 15',\n",
    "                          'Hora 16', 'Hora 17', 'Hora 18', 'Hora 19']]))"
   ]
  },
  {
   "cell_type": "code",
   "execution_count": null,
   "metadata": {},
   "outputs": [],
   "source": []
  },
  {
   "cell_type": "code",
   "execution_count": null,
   "metadata": {},
   "outputs": [],
   "source": []
  },
  {
   "cell_type": "code",
   "execution_count": null,
   "metadata": {},
   "outputs": [],
   "source": []
  },
  {
   "cell_type": "code",
   "execution_count": null,
   "metadata": {},
   "outputs": [],
   "source": []
  }
 ],
 "metadata": {
  "kernelspec": {
   "display_name": "Python 3",
   "language": "python",
   "name": "python3"
  },
  "language_info": {
   "codemirror_mode": {
    "name": "ipython",
    "version": 3
   },
   "file_extension": ".py",
   "mimetype": "text/x-python",
   "name": "python",
   "nbconvert_exporter": "python",
   "pygments_lexer": "ipython3",
   "version": "3.7.4"
  }
 },
 "nbformat": 4,
 "nbformat_minor": 2
}
