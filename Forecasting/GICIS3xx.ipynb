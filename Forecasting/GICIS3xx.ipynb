{
 "cells": [
  {
   "cell_type": "code",
   "execution_count": 1,
   "metadata": {
    "ExecuteTime": {
     "end_time": "2020-04-25T15:16:41.784120Z",
     "start_time": "2020-04-25T15:16:41.731442Z"
    }
   },
   "outputs": [
    {
     "name": "stdout",
     "output_type": "stream",
     "text": [
      "Planta a Analizar:  12\n"
     ]
    }
   ],
   "source": [
    "planta = 12\n",
    "print(\"Planta a Analizar: \", planta)"
   ]
  },
  {
   "cell_type": "code",
   "execution_count": 2,
   "metadata": {
    "ExecuteTime": {
     "end_time": "2020-04-25T15:16:44.404156Z",
     "start_time": "2020-04-25T15:16:41.788499Z"
    }
   },
   "outputs": [
    {
     "data": {
      "text/html": [
       " <style> .output {display: center; align-items: center; text-align: center; justify-content: center; } </style> "
      ],
      "text/plain": [
       "<IPython.core.display.HTML object>"
      ]
     },
     "metadata": {},
     "output_type": "display_data"
    }
   ],
   "source": [
    "import pandas as pd\n",
    "import numpy as np\n",
    "import matplotlib as mpl\n",
    "import scipy.stats as st\n",
    "import seaborn as sns\n",
    "import statsmodels.api as sm\n",
    "from datetime import datetime\n",
    "import matplotlib.pyplot as plt\n",
    "from statsmodels.tsa.arima_model import ARIMA\n",
    "import pmdarima as pm\n",
    "from pmdarima.model_selection import train_test_split\n",
    "import matplotlib.pyplot as plt\n",
    "import warnings\n",
    "warnings.filterwarnings(\"ignore\")\n",
    "from statsmodels.tsa.stattools import acf\n",
    "import datetime\n",
    "from statsmodels.graphics.tsaplots import plot_acf, plot_pacf\n",
    "from sklearn.metrics import mean_squared_error\n",
    "\n",
    "from numpy import inf\n",
    "\n",
    "from IPython.display import display, HTML\n",
    "display(HTML(\"\"\" <style> .output {display: center; align-items: center; text-align: center; justify-content: center; } </style> \"\"\"))"
   ]
  },
  {
   "cell_type": "code",
   "execution_count": 3,
   "metadata": {
    "ExecuteTime": {
     "end_time": "2020-04-25T15:16:57.576485Z",
     "start_time": "2020-04-25T15:16:44.415292Z"
    }
   },
   "outputs": [],
   "source": [
    "#Importación de datos\n",
    "datos = pd.read_excel('Generación Intermitente de la GCROC 2013-2020.xlsx', header=1)"
   ]
  },
  {
   "cell_type": "code",
   "execution_count": 4,
   "metadata": {
    "ExecuteTime": {
     "end_time": "2020-04-25T15:16:58.160488Z",
     "start_time": "2020-04-25T15:16:57.579142Z"
    }
   },
   "outputs": [],
   "source": [
    "numbers = datos.hora-1\n",
    "hours = [datetime.time(num).strftime(\"%H:00:00\") for num in numbers]\n",
    "datos['fecha'] = datos['fecha'].replace(0,np.nan).ffill()\n",
    "datos['fecha'] = pd.to_datetime(datos['fecha'])\n",
    "datos['fecha'] = datos['fecha'].dt.date\n",
    "datos['fecha_hora'] = datos[\"fecha\"].astype(str) + ' ' + hours\n",
    "#LIMPIEZA DE DATOS\n",
    "datos = datos.set_index(datos['fecha_hora'])\n",
    "datos = datos[53736:]"
   ]
  },
  {
   "cell_type": "code",
   "execution_count": 5,
   "metadata": {
    "ExecuteTime": {
     "end_time": "2020-04-25T15:16:58.169069Z",
     "start_time": "2020-04-25T15:16:58.162194Z"
    }
   },
   "outputs": [],
   "source": [
    "columns = ['GICIE301', 'GICIE302','GICIE303','GICIE304','GICIE305','GICIS306', 'GICIS307','GICIS308',\n",
    "          'GICIS309','GICIS310','GICIS311','GICIS312','GICIS313','GICIS314','GICIS315','GICIS316','GICIS317',\n",
    "          'GICIS318','GICIS319','GICIS320','GICIS321','GICIS322','GICIS323','GICIS324','GICIS325','GICIS326']"
   ]
  },
  {
   "cell_type": "code",
   "execution_count": 6,
   "metadata": {
    "ExecuteTime": {
     "end_time": "2020-04-25T15:16:58.189080Z",
     "start_time": "2020-04-25T15:16:58.176578Z"
    }
   },
   "outputs": [
    {
     "data": {
      "text/plain": [
       "'GICIS312'"
      ]
     },
     "execution_count": 6,
     "metadata": {},
     "output_type": "execute_result"
    }
   ],
   "source": [
    "n_periods = 5*24\n",
    "columna = columns[planta-1]\n",
    "columna"
   ]
  },
  {
   "cell_type": "code",
   "execution_count": 7,
   "metadata": {
    "ExecuteTime": {
     "end_time": "2020-04-25T15:16:58.217937Z",
     "start_time": "2020-04-25T15:16:58.199612Z"
    },
    "scrolled": false
   },
   "outputs": [
    {
     "data": {
      "text/html": [
       "<div>\n",
       "<style scoped>\n",
       "    .dataframe tbody tr th:only-of-type {\n",
       "        vertical-align: middle;\n",
       "    }\n",
       "\n",
       "    .dataframe tbody tr th {\n",
       "        vertical-align: top;\n",
       "    }\n",
       "\n",
       "    .dataframe thead th {\n",
       "        text-align: right;\n",
       "    }\n",
       "</style>\n",
       "<table border=\"1\" class=\"dataframe\">\n",
       "  <thead>\n",
       "    <tr style=\"text-align: right;\">\n",
       "      <th></th>\n",
       "      <th>hora</th>\n",
       "      <th>GICIS312</th>\n",
       "    </tr>\n",
       "    <tr>\n",
       "      <th>fecha_hora</th>\n",
       "      <th></th>\n",
       "      <th></th>\n",
       "    </tr>\n",
       "  </thead>\n",
       "  <tbody>\n",
       "    <tr>\n",
       "      <td>2020-01-01 00:00:00</td>\n",
       "      <td>1</td>\n",
       "      <td>0.0</td>\n",
       "    </tr>\n",
       "    <tr>\n",
       "      <td>2020-01-01 01:00:00</td>\n",
       "      <td>2</td>\n",
       "      <td>0.0</td>\n",
       "    </tr>\n",
       "    <tr>\n",
       "      <td>2020-01-01 02:00:00</td>\n",
       "      <td>3</td>\n",
       "      <td>0.0</td>\n",
       "    </tr>\n",
       "    <tr>\n",
       "      <td>2020-01-01 03:00:00</td>\n",
       "      <td>4</td>\n",
       "      <td>0.0</td>\n",
       "    </tr>\n",
       "    <tr>\n",
       "      <td>2020-01-01 04:00:00</td>\n",
       "      <td>5</td>\n",
       "      <td>0.0</td>\n",
       "    </tr>\n",
       "  </tbody>\n",
       "</table>\n",
       "</div>"
      ],
      "text/plain": [
       "                     hora  GICIS312\n",
       "fecha_hora                         \n",
       "2020-01-01 00:00:00     1       0.0\n",
       "2020-01-01 01:00:00     2       0.0\n",
       "2020-01-01 02:00:00     3       0.0\n",
       "2020-01-01 03:00:00     4       0.0\n",
       "2020-01-01 04:00:00     5       0.0"
      ]
     },
     "execution_count": 7,
     "metadata": {},
     "output_type": "execute_result"
    }
   ],
   "source": [
    "df = datos[['hora',columna]]\n",
    "df[columna] = (df[columna]) # para efectos de las tranformaciones logaritmicas(eliminar el 0)\n",
    "df = df.dropna()\n",
    "df.head()"
   ]
  },
  {
   "cell_type": "code",
   "execution_count": 8,
   "metadata": {
    "ExecuteTime": {
     "end_time": "2020-04-25T15:16:58.235292Z",
     "start_time": "2020-04-25T15:16:58.222842Z"
    }
   },
   "outputs": [],
   "source": [
    "# Original Series\n",
    "df2 = df.drop(['hora'], axis=1)\n",
    "df2\n",
    "\n",
    "df2_diff = df2.diff()\n",
    "df2_diff_diff = df2.diff().diff()"
   ]
  },
  {
   "cell_type": "markdown",
   "metadata": {},
   "source": [
    "***"
   ]
  },
  {
   "cell_type": "code",
   "execution_count": 9,
   "metadata": {
    "ExecuteTime": {
     "end_time": "2020-04-25T15:16:58.249031Z",
     "start_time": "2020-04-25T15:16:58.239943Z"
    }
   },
   "outputs": [],
   "source": [
    "#Seleccion de y_train y y_test\n",
    "  \n",
    "n = 1 #numero de dias a simular\n",
    "test = (df2.iloc[-(1*24):,:])   # INFO DE TEST (n DIAS)\n",
    "train = df2.drop(df.index[:(1*24)]) # QUITANDO TEST PARA TRAIN"
   ]
  },
  {
   "cell_type": "code",
   "execution_count": 12,
   "metadata": {
    "ExecuteTime": {
     "end_time": "2020-04-25T15:29:13.854226Z",
     "start_time": "2020-04-25T15:26:53.190819Z"
    }
   },
   "outputs": [
    {
     "data": {
      "image/png": "[encoded data removed]",
      "text/plain": [
       "<Figure size 576x432 with 1 Axes>"
      ]
     },
     "metadata": {
      "needs_background": "light"
     },
     "output_type": "display_data"
    },
    {
     "data": {
      "text/plain": [
       "0.42678667694023015"
      ]
     },
     "execution_count": 12,
     "metadata": {},
     "output_type": "execute_result"
    }
   ],
   "source": [
    "history = [x for x in train.values]\n",
    "predictions = list()\n",
    "\n",
    "for t in range(0,24):\n",
    "    model = ARIMA(history, order=(8,1,2))\n",
    "    model_fit = model.fit()\n",
    "    output = model_fit.forecast()\n",
    "    yhat = output[0]\n",
    "    predictions.append(yhat)\n",
    "    obs = test.values[t]\n",
    "    history.append(obs)\n",
    "\n",
    "for i in range(0,len(test)):\n",
    "    if test.iloc[i].values == 0:\n",
    "        predictions[i] = 0\n",
    "    if predictions[i] < 0:\n",
    "        predictions[i] = 0\n",
    "\n",
    "# plot\n",
    "plt.subplots(figsize=(8,6))\n",
    "plt.plot(test)\n",
    "plt.plot(predictions, color='red')\n",
    "plt.xticks(rotation=90)\n",
    "plt.show()\n",
    "\n",
    "fvst = pd.DataFrame()\n",
    "fvst['real'] = test[columna].values.flatten()\n",
    "fvst['forecasts'] = predictions\n",
    "fvst['error'] = 0\n",
    "\n",
    "for i in range(len(fvst)):\n",
    "    fvst['error'][i] = np.abs((fvst['forecasts'][i]- fvst['real'][i])/(fvst['real'][i]))\n",
    "\n",
    "mea = np.mean(fvst.iloc[7:19,2])\n",
    "mea"
   ]
  },
  {
   "cell_type": "code",
   "execution_count": 11,
   "metadata": {
    "ExecuteTime": {
     "end_time": "2020-04-25T15:21:59.121002Z",
     "start_time": "2020-04-25T15:21:59.075083Z"
    }
   },
   "outputs": [
    {
     "name": "stdout",
     "output_type": "stream",
     "text": [
      "0.5591816737127216\n"
     ]
    },
    {
     "data": {
      "text/html": [
       "<div>\n",
       "<style scoped>\n",
       "    .dataframe tbody tr th:only-of-type {\n",
       "        vertical-align: middle;\n",
       "    }\n",
       "\n",
       "    .dataframe tbody tr th {\n",
       "        vertical-align: top;\n",
       "    }\n",
       "\n",
       "    .dataframe thead th {\n",
       "        text-align: right;\n",
       "    }\n",
       "</style>\n",
       "<table border=\"1\" class=\"dataframe\">\n",
       "  <thead>\n",
       "    <tr style=\"text-align: right;\">\n",
       "      <th></th>\n",
       "      <th>real</th>\n",
       "      <th>forecasts</th>\n",
       "      <th>error</th>\n",
       "    </tr>\n",
       "  </thead>\n",
       "  <tbody>\n",
       "    <tr>\n",
       "      <td>0</td>\n",
       "      <td>0.0</td>\n",
       "      <td>0</td>\n",
       "      <td>0.000000</td>\n",
       "    </tr>\n",
       "    <tr>\n",
       "      <td>1</td>\n",
       "      <td>0.0</td>\n",
       "      <td>0</td>\n",
       "      <td>0.000000</td>\n",
       "    </tr>\n",
       "    <tr>\n",
       "      <td>2</td>\n",
       "      <td>0.0</td>\n",
       "      <td>0</td>\n",
       "      <td>0.000000</td>\n",
       "    </tr>\n",
       "    <tr>\n",
       "      <td>3</td>\n",
       "      <td>0.0</td>\n",
       "      <td>0</td>\n",
       "      <td>0.000000</td>\n",
       "    </tr>\n",
       "    <tr>\n",
       "      <td>4</td>\n",
       "      <td>0.0</td>\n",
       "      <td>0</td>\n",
       "      <td>0.000000</td>\n",
       "    </tr>\n",
       "    <tr>\n",
       "      <td>5</td>\n",
       "      <td>0.0</td>\n",
       "      <td>0</td>\n",
       "      <td>0.000000</td>\n",
       "    </tr>\n",
       "    <tr>\n",
       "      <td>6</td>\n",
       "      <td>0.0</td>\n",
       "      <td>0</td>\n",
       "      <td>0.000000</td>\n",
       "    </tr>\n",
       "    <tr>\n",
       "      <td>7</td>\n",
       "      <td>14626.0</td>\n",
       "      <td>[12042.678419798596]</td>\n",
       "      <td>0.176625</td>\n",
       "    </tr>\n",
       "    <tr>\n",
       "      <td>8</td>\n",
       "      <td>79019.0</td>\n",
       "      <td>[31681.64460454204]</td>\n",
       "      <td>0.599063</td>\n",
       "    </tr>\n",
       "    <tr>\n",
       "      <td>9</td>\n",
       "      <td>122379.0</td>\n",
       "      <td>[109095.8189381962]</td>\n",
       "      <td>0.108541</td>\n",
       "    </tr>\n",
       "    <tr>\n",
       "      <td>10</td>\n",
       "      <td>126773.0</td>\n",
       "      <td>[128955.71157499167]</td>\n",
       "      <td>0.017217</td>\n",
       "    </tr>\n",
       "    <tr>\n",
       "      <td>11</td>\n",
       "      <td>125443.0</td>\n",
       "      <td>[119373.25331712337]</td>\n",
       "      <td>0.048386</td>\n",
       "    </tr>\n",
       "    <tr>\n",
       "      <td>12</td>\n",
       "      <td>123656.0</td>\n",
       "      <td>[120067.12606856324]</td>\n",
       "      <td>0.029023</td>\n",
       "    </tr>\n",
       "    <tr>\n",
       "      <td>13</td>\n",
       "      <td>113466.0</td>\n",
       "      <td>[116334.77587008866]</td>\n",
       "      <td>0.025283</td>\n",
       "    </tr>\n",
       "    <tr>\n",
       "      <td>14</td>\n",
       "      <td>116149.0</td>\n",
       "      <td>[102886.04876753665]</td>\n",
       "      <td>0.114189</td>\n",
       "    </tr>\n",
       "    <tr>\n",
       "      <td>15</td>\n",
       "      <td>76887.0</td>\n",
       "      <td>[113319.88897569264]</td>\n",
       "      <td>0.473850</td>\n",
       "    </tr>\n",
       "    <tr>\n",
       "      <td>16</td>\n",
       "      <td>60175.0</td>\n",
       "      <td>[48025.39625418116]</td>\n",
       "      <td>0.201905</td>\n",
       "    </tr>\n",
       "    <tr>\n",
       "      <td>17</td>\n",
       "      <td>13644.0</td>\n",
       "      <td>[45398.45847914529]</td>\n",
       "      <td>2.327357</td>\n",
       "    </tr>\n",
       "    <tr>\n",
       "      <td>18</td>\n",
       "      <td>1857.0</td>\n",
       "      <td>[-15411.094525092492]</td>\n",
       "      <td>9.298920</td>\n",
       "    </tr>\n",
       "    <tr>\n",
       "      <td>19</td>\n",
       "      <td>0.0</td>\n",
       "      <td>0</td>\n",
       "      <td>0.000000</td>\n",
       "    </tr>\n",
       "    <tr>\n",
       "      <td>20</td>\n",
       "      <td>0.0</td>\n",
       "      <td>0</td>\n",
       "      <td>0.000000</td>\n",
       "    </tr>\n",
       "    <tr>\n",
       "      <td>21</td>\n",
       "      <td>0.0</td>\n",
       "      <td>0</td>\n",
       "      <td>0.000000</td>\n",
       "    </tr>\n",
       "    <tr>\n",
       "      <td>22</td>\n",
       "      <td>0.0</td>\n",
       "      <td>0</td>\n",
       "      <td>0.000000</td>\n",
       "    </tr>\n",
       "    <tr>\n",
       "      <td>23</td>\n",
       "      <td>0.0</td>\n",
       "      <td>0</td>\n",
       "      <td>0.000000</td>\n",
       "    </tr>\n",
       "  </tbody>\n",
       "</table>\n",
       "</div>"
      ],
      "text/plain": [
       "        real              forecasts     error\n",
       "0        0.0                      0  0.000000\n",
       "1        0.0                      0  0.000000\n",
       "2        0.0                      0  0.000000\n",
       "3        0.0                      0  0.000000\n",
       "4        0.0                      0  0.000000\n",
       "5        0.0                      0  0.000000\n",
       "6        0.0                      0  0.000000\n",
       "7    14626.0   [12042.678419798596]  0.176625\n",
       "8    79019.0    [31681.64460454204]  0.599063\n",
       "9   122379.0    [109095.8189381962]  0.108541\n",
       "10  126773.0   [128955.71157499167]  0.017217\n",
       "11  125443.0   [119373.25331712337]  0.048386\n",
       "12  123656.0   [120067.12606856324]  0.029023\n",
       "13  113466.0   [116334.77587008866]  0.025283\n",
       "14  116149.0   [102886.04876753665]  0.114189\n",
       "15   76887.0   [113319.88897569264]  0.473850\n",
       "16   60175.0    [48025.39625418116]  0.201905\n",
       "17   13644.0    [45398.45847914529]  2.327357\n",
       "18    1857.0  [-15411.094525092492]  9.298920\n",
       "19       0.0                      0  0.000000\n",
       "20       0.0                      0  0.000000\n",
       "21       0.0                      0  0.000000\n",
       "22       0.0                      0  0.000000\n",
       "23       0.0                      0  0.000000"
      ]
     },
     "execution_count": 11,
     "metadata": {},
     "output_type": "execute_result"
    }
   ],
   "source": [
    "fvst = fvst.fillna(0)\n",
    "print(np.mean(fvst.error))\n",
    "fvst"
   ]
  },
  {
   "cell_type": "code",
   "execution_count": null,
   "metadata": {},
   "outputs": [],
   "source": []
  }
 ],
 "metadata": {
  "kernelspec": {
   "display_name": "Python 3",
   "language": "python",
   "name": "python3"
  },
  "language_info": {
   "codemirror_mode": {
    "name": "ipython",
    "version": 3
   },
   "file_extension": ".py",
   "mimetype": "text/x-python",
   "name": "python",
   "nbconvert_exporter": "python",
   "pygments_lexer": "ipython3",
   "version": "3.7.4"
  }
 },
 "nbformat": 4,
 "nbformat_minor": 2
}
