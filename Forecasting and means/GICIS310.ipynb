{
 "cells": [
  {
   "cell_type": "code",
   "execution_count": 1,
   "metadata": {
    "ExecuteTime": {
     "end_time": "2020-05-03T03:12:52.366029Z",
     "start_time": "2020-05-03T03:12:52.358357Z"
    }
   },
   "outputs": [
    {
     "name": "stdout",
     "output_type": "stream",
     "text": [
      "Planta a Analizar:  10\n"
     ]
    }
   ],
   "source": [
    "planta = 10\n",
    "print(\"Planta a Analizar: \", planta)"
   ]
  },
  {
   "cell_type": "code",
   "execution_count": 14,
   "metadata": {
    "ExecuteTime": {
     "end_time": "2020-05-03T03:13:50.898906Z",
     "start_time": "2020-05-03T03:13:50.785317Z"
    }
   },
   "outputs": [
    {
     "data": {
      "text/html": [
       " <style> .output {display: center; align-items: center; text-align: center; justify-content: center; } </style> "
      ],
      "text/plain": [
       "<IPython.core.display.HTML object>"
      ]
     },
     "metadata": {},
     "output_type": "display_data"
    }
   ],
   "source": [
    "import pandas as pd\n",
    "import numpy as np\n",
    "import matplotlib as mpl\n",
    "import scipy.stats as st\n",
    "import seaborn as sns\n",
    "import statsmodels.api as sm\n",
    "from datetime import datetime\n",
    "import matplotlib.pyplot as plt\n",
    "from statsmodels.tsa.arima_model import ARIMA\n",
    "import pmdarima as pm\n",
    "from pmdarima.model_selection import train_test_split\n",
    "import matplotlib.pyplot as plt\n",
    "import warnings\n",
    "warnings.filterwarnings(\"ignore\")\n",
    "from statsmodels.tsa.stattools import acf\n",
    "import datetime\n",
    "from statsmodels.graphics.tsaplots import plot_acf, plot_pacf\n",
    "from sklearn.metrics import mean_squared_error\n",
    "\n",
    "from numpy import inf\n",
    "\n",
    "from IPython.display import display, HTML\n",
    "display(HTML(\"\"\" <style> .output {display: center; align-items: center; text-align: center; justify-content: center; } </style> \"\"\"))"
   ]
  },
  {
   "cell_type": "code",
   "execution_count": 15,
   "metadata": {
    "ExecuteTime": {
     "end_time": "2020-05-03T03:14:18.158243Z",
     "start_time": "2020-05-03T03:13:50.907763Z"
    }
   },
   "outputs": [],
   "source": [
    "#Importación de datos\n",
    "datos = pd.read_excel('Generación Intermitente de la GCROC 2013-2020.xlsx', header=1)"
   ]
  },
  {
   "cell_type": "code",
   "execution_count": 16,
   "metadata": {
    "ExecuteTime": {
     "end_time": "2020-05-03T03:14:19.365216Z",
     "start_time": "2020-05-03T03:14:18.163749Z"
    }
   },
   "outputs": [],
   "source": [
    "numbers = datos.hora-1\n",
    "hours = [datetime.time(num).strftime(\"%H:00:00\") for num in numbers]\n",
    "datos['fecha'] = datos['fecha'].replace(0,np.nan).ffill()\n",
    "datos['fecha'] = pd.to_datetime(datos['fecha'])\n",
    "datos['fecha'] = datos['fecha'].dt.date\n",
    "datos['fecha_hora'] = datos[\"fecha\"].astype(str) + ' ' + hours\n",
    "#LIMPIEZA DE DATOS\n",
    "datos = datos.set_index(datos['fecha_hora'])\n",
    "datos = datos.loc['2020-01-01 00:00:00':]\n",
    "\n",
    "# datos = datos.drop(datos.index[-24:])"
   ]
  },
  {
   "cell_type": "code",
   "execution_count": 17,
   "metadata": {
    "ExecuteTime": {
     "end_time": "2020-05-03T03:14:19.379053Z",
     "start_time": "2020-05-03T03:14:19.370246Z"
    }
   },
   "outputs": [],
   "source": [
    "columns = ['GICIE301', 'GICIE302','GICIE303','GICIE304','GICIE305','GICIS306', 'GICIS307','GICIS308',\n",
    "          'GICIS309','GICIS310','GICIS311','GICIS312','GICIS313','GICIS314','GICIS315','GICIS316','GICIS317',\n",
    "          'GICIS318','GICIS319','GICIS320','GICIS321','GICIS322','GICIS323','GICIS324','GICIS325','GICIS326']"
   ]
  },
  {
   "cell_type": "code",
   "execution_count": 18,
   "metadata": {
    "ExecuteTime": {
     "end_time": "2020-05-03T03:14:19.538160Z",
     "start_time": "2020-05-03T03:14:19.519727Z"
    }
   },
   "outputs": [
    {
     "data": {
      "text/plain": [
       "'GICIS310'"
      ]
     },
     "execution_count": 18,
     "metadata": {},
     "output_type": "execute_result"
    }
   ],
   "source": [
    "n_periods = 5*24\n",
    "columna = columns[planta-1]\n",
    "columna"
   ]
  },
  {
   "cell_type": "code",
   "execution_count": 19,
   "metadata": {
    "ExecuteTime": {
     "end_time": "2020-05-03T03:14:19.583013Z",
     "start_time": "2020-05-03T03:14:19.545974Z"
    },
    "scrolled": false
   },
   "outputs": [
    {
     "data": {
      "text/html": [
       "<div>\n",
       "<style scoped>\n",
       "    .dataframe tbody tr th:only-of-type {\n",
       "        vertical-align: middle;\n",
       "    }\n",
       "\n",
       "    .dataframe tbody tr th {\n",
       "        vertical-align: top;\n",
       "    }\n",
       "\n",
       "    .dataframe thead th {\n",
       "        text-align: right;\n",
       "    }\n",
       "</style>\n",
       "<table border=\"1\" class=\"dataframe\">\n",
       "  <thead>\n",
       "    <tr style=\"text-align: right;\">\n",
       "      <th></th>\n",
       "      <th>hora</th>\n",
       "      <th>GICIS310</th>\n",
       "    </tr>\n",
       "    <tr>\n",
       "      <th>fecha_hora</th>\n",
       "      <th></th>\n",
       "      <th></th>\n",
       "    </tr>\n",
       "  </thead>\n",
       "  <tbody>\n",
       "    <tr>\n",
       "      <td>2020-01-01 00:00:00</td>\n",
       "      <td>1</td>\n",
       "      <td>0.0</td>\n",
       "    </tr>\n",
       "    <tr>\n",
       "      <td>2020-01-01 01:00:00</td>\n",
       "      <td>2</td>\n",
       "      <td>0.0</td>\n",
       "    </tr>\n",
       "    <tr>\n",
       "      <td>2020-01-01 02:00:00</td>\n",
       "      <td>3</td>\n",
       "      <td>0.0</td>\n",
       "    </tr>\n",
       "    <tr>\n",
       "      <td>2020-01-01 03:00:00</td>\n",
       "      <td>4</td>\n",
       "      <td>0.0</td>\n",
       "    </tr>\n",
       "    <tr>\n",
       "      <td>2020-01-01 04:00:00</td>\n",
       "      <td>5</td>\n",
       "      <td>0.0</td>\n",
       "    </tr>\n",
       "  </tbody>\n",
       "</table>\n",
       "</div>"
      ],
      "text/plain": [
       "                     hora  GICIS310\n",
       "fecha_hora                         \n",
       "2020-01-01 00:00:00     1       0.0\n",
       "2020-01-01 01:00:00     2       0.0\n",
       "2020-01-01 02:00:00     3       0.0\n",
       "2020-01-01 03:00:00     4       0.0\n",
       "2020-01-01 04:00:00     5       0.0"
      ]
     },
     "execution_count": 19,
     "metadata": {},
     "output_type": "execute_result"
    }
   ],
   "source": [
    "df = datos[['hora',columna]]\n",
    "df[columna] = (df[columna]) # para efectos de las tranformaciones logaritmicas(eliminar el 0)\n",
    "df = df.dropna()\n",
    "df.head()"
   ]
  },
  {
   "cell_type": "code",
   "execution_count": 20,
   "metadata": {
    "ExecuteTime": {
     "end_time": "2020-05-03T03:14:19.617822Z",
     "start_time": "2020-05-03T03:14:19.595614Z"
    }
   },
   "outputs": [
    {
     "data": {
      "text/html": [
       "<div>\n",
       "<style scoped>\n",
       "    .dataframe tbody tr th:only-of-type {\n",
       "        vertical-align: middle;\n",
       "    }\n",
       "\n",
       "    .dataframe tbody tr th {\n",
       "        vertical-align: top;\n",
       "    }\n",
       "\n",
       "    .dataframe thead th {\n",
       "        text-align: right;\n",
       "    }\n",
       "</style>\n",
       "<table border=\"1\" class=\"dataframe\">\n",
       "  <thead>\n",
       "    <tr style=\"text-align: right;\">\n",
       "      <th></th>\n",
       "      <th>GICIS310</th>\n",
       "    </tr>\n",
       "    <tr>\n",
       "      <th>fecha_hora</th>\n",
       "      <th></th>\n",
       "    </tr>\n",
       "  </thead>\n",
       "  <tbody>\n",
       "    <tr>\n",
       "      <td>2020-01-01 00:00:00</td>\n",
       "      <td>0.0</td>\n",
       "    </tr>\n",
       "    <tr>\n",
       "      <td>2020-01-01 01:00:00</td>\n",
       "      <td>0.0</td>\n",
       "    </tr>\n",
       "    <tr>\n",
       "      <td>2020-01-01 02:00:00</td>\n",
       "      <td>0.0</td>\n",
       "    </tr>\n",
       "    <tr>\n",
       "      <td>2020-01-01 03:00:00</td>\n",
       "      <td>0.0</td>\n",
       "    </tr>\n",
       "    <tr>\n",
       "      <td>2020-01-01 04:00:00</td>\n",
       "      <td>0.0</td>\n",
       "    </tr>\n",
       "    <tr>\n",
       "      <td>...</td>\n",
       "      <td>...</td>\n",
       "    </tr>\n",
       "    <tr>\n",
       "      <td>2020-03-09 19:00:00</td>\n",
       "      <td>0.0</td>\n",
       "    </tr>\n",
       "    <tr>\n",
       "      <td>2020-03-09 20:00:00</td>\n",
       "      <td>0.0</td>\n",
       "    </tr>\n",
       "    <tr>\n",
       "      <td>2020-03-09 21:00:00</td>\n",
       "      <td>0.0</td>\n",
       "    </tr>\n",
       "    <tr>\n",
       "      <td>2020-03-09 22:00:00</td>\n",
       "      <td>0.0</td>\n",
       "    </tr>\n",
       "    <tr>\n",
       "      <td>2020-03-09 23:00:00</td>\n",
       "      <td>0.0</td>\n",
       "    </tr>\n",
       "  </tbody>\n",
       "</table>\n",
       "<p>1656 rows × 1 columns</p>\n",
       "</div>"
      ],
      "text/plain": [
       "                     GICIS310\n",
       "fecha_hora                   \n",
       "2020-01-01 00:00:00       0.0\n",
       "2020-01-01 01:00:00       0.0\n",
       "2020-01-01 02:00:00       0.0\n",
       "2020-01-01 03:00:00       0.0\n",
       "2020-01-01 04:00:00       0.0\n",
       "...                       ...\n",
       "2020-03-09 19:00:00       0.0\n",
       "2020-03-09 20:00:00       0.0\n",
       "2020-03-09 21:00:00       0.0\n",
       "2020-03-09 22:00:00       0.0\n",
       "2020-03-09 23:00:00       0.0\n",
       "\n",
       "[1656 rows x 1 columns]"
      ]
     },
     "execution_count": 20,
     "metadata": {},
     "output_type": "execute_result"
    }
   ],
   "source": [
    "df2 = df.drop(['hora'], axis=1)\n",
    "df2"
   ]
  },
  {
   "cell_type": "markdown",
   "metadata": {},
   "source": [
    "***"
   ]
  },
  {
   "cell_type": "code",
   "execution_count": 21,
   "metadata": {
    "ExecuteTime": {
     "end_time": "2020-05-03T03:14:19.637718Z",
     "start_time": "2020-05-03T03:14:19.626924Z"
    }
   },
   "outputs": [],
   "source": [
    "#Seleccion de y_train y y_test\n",
    "  \n",
    "n = 1 #numero de dias a simular\n",
    "test = (df.iloc[-(1*24):,:])   # INFO DE TEST (n DIAS)\n",
    "train = df.drop(df.index[:(1*24)]) # QUITANDO TEST PARA TRAIN"
   ]
  },
  {
   "cell_type": "code",
   "execution_count": 22,
   "metadata": {
    "ExecuteTime": {
     "end_time": "2020-05-03T03:14:19.688192Z",
     "start_time": "2020-05-03T03:14:19.655718Z"
    },
    "scrolled": true
   },
   "outputs": [
    {
     "data": {
      "text/html": [
       "<div>\n",
       "<style scoped>\n",
       "    .dataframe tbody tr th:only-of-type {\n",
       "        vertical-align: middle;\n",
       "    }\n",
       "\n",
       "    .dataframe tbody tr th {\n",
       "        vertical-align: top;\n",
       "    }\n",
       "\n",
       "    .dataframe thead th {\n",
       "        text-align: right;\n",
       "    }\n",
       "</style>\n",
       "<table border=\"1\" class=\"dataframe\">\n",
       "  <thead>\n",
       "    <tr style=\"text-align: right;\">\n",
       "      <th></th>\n",
       "      <th>hora</th>\n",
       "      <th>GICIS310</th>\n",
       "    </tr>\n",
       "    <tr>\n",
       "      <th>fecha_hora</th>\n",
       "      <th></th>\n",
       "      <th></th>\n",
       "    </tr>\n",
       "  </thead>\n",
       "  <tbody>\n",
       "    <tr>\n",
       "      <td>2020-01-02 00:00:00</td>\n",
       "      <td>1</td>\n",
       "      <td>0.0</td>\n",
       "    </tr>\n",
       "    <tr>\n",
       "      <td>2020-01-02 01:00:00</td>\n",
       "      <td>2</td>\n",
       "      <td>0.0</td>\n",
       "    </tr>\n",
       "    <tr>\n",
       "      <td>2020-01-02 02:00:00</td>\n",
       "      <td>3</td>\n",
       "      <td>0.0</td>\n",
       "    </tr>\n",
       "    <tr>\n",
       "      <td>2020-01-02 03:00:00</td>\n",
       "      <td>4</td>\n",
       "      <td>0.0</td>\n",
       "    </tr>\n",
       "    <tr>\n",
       "      <td>2020-01-02 04:00:00</td>\n",
       "      <td>5</td>\n",
       "      <td>0.0</td>\n",
       "    </tr>\n",
       "    <tr>\n",
       "      <td>...</td>\n",
       "      <td>...</td>\n",
       "      <td>...</td>\n",
       "    </tr>\n",
       "    <tr>\n",
       "      <td>2020-03-09 19:00:00</td>\n",
       "      <td>20</td>\n",
       "      <td>0.0</td>\n",
       "    </tr>\n",
       "    <tr>\n",
       "      <td>2020-03-09 20:00:00</td>\n",
       "      <td>21</td>\n",
       "      <td>0.0</td>\n",
       "    </tr>\n",
       "    <tr>\n",
       "      <td>2020-03-09 21:00:00</td>\n",
       "      <td>22</td>\n",
       "      <td>0.0</td>\n",
       "    </tr>\n",
       "    <tr>\n",
       "      <td>2020-03-09 22:00:00</td>\n",
       "      <td>23</td>\n",
       "      <td>0.0</td>\n",
       "    </tr>\n",
       "    <tr>\n",
       "      <td>2020-03-09 23:00:00</td>\n",
       "      <td>24</td>\n",
       "      <td>0.0</td>\n",
       "    </tr>\n",
       "  </tbody>\n",
       "</table>\n",
       "<p>1632 rows × 2 columns</p>\n",
       "</div>"
      ],
      "text/plain": [
       "                     hora  GICIS310\n",
       "fecha_hora                         \n",
       "2020-01-02 00:00:00     1       0.0\n",
       "2020-01-02 01:00:00     2       0.0\n",
       "2020-01-02 02:00:00     3       0.0\n",
       "2020-01-02 03:00:00     4       0.0\n",
       "2020-01-02 04:00:00     5       0.0\n",
       "...                   ...       ...\n",
       "2020-03-09 19:00:00    20       0.0\n",
       "2020-03-09 20:00:00    21       0.0\n",
       "2020-03-09 21:00:00    22       0.0\n",
       "2020-03-09 22:00:00    23       0.0\n",
       "2020-03-09 23:00:00    24       0.0\n",
       "\n",
       "[1632 rows x 2 columns]"
      ]
     },
     "execution_count": 22,
     "metadata": {},
     "output_type": "execute_result"
    }
   ],
   "source": [
    "train"
   ]
  },
  {
   "cell_type": "code",
   "execution_count": 23,
   "metadata": {
    "ExecuteTime": {
     "end_time": "2020-05-03T03:14:19.720292Z",
     "start_time": "2020-05-03T03:14:19.703169Z"
    }
   },
   "outputs": [
    {
     "data": {
      "text/plain": [
       "hora        7.0\n",
       "GICIS310    0.0\n",
       "Name: 2020-01-02 06:00:00, dtype: float64"
      ]
     },
     "execution_count": 23,
     "metadata": {},
     "output_type": "execute_result"
    }
   ],
   "source": [
    "train.iloc[6]"
   ]
  },
  {
   "cell_type": "code",
   "execution_count": 24,
   "metadata": {
    "ExecuteTime": {
     "end_time": "2020-05-03T03:14:19.802107Z",
     "start_time": "2020-05-03T03:14:19.784871Z"
    },
    "scrolled": true
   },
   "outputs": [
    {
     "data": {
      "text/html": [
       "<div>\n",
       "<style scoped>\n",
       "    .dataframe tbody tr th:only-of-type {\n",
       "        vertical-align: middle;\n",
       "    }\n",
       "\n",
       "    .dataframe tbody tr th {\n",
       "        vertical-align: top;\n",
       "    }\n",
       "\n",
       "    .dataframe thead th {\n",
       "        text-align: right;\n",
       "    }\n",
       "</style>\n",
       "<table border=\"1\" class=\"dataframe\">\n",
       "  <thead>\n",
       "    <tr style=\"text-align: right;\">\n",
       "      <th></th>\n",
       "      <th>hora</th>\n",
       "      <th>GICIS310</th>\n",
       "    </tr>\n",
       "    <tr>\n",
       "      <th>fecha_hora</th>\n",
       "      <th></th>\n",
       "      <th></th>\n",
       "    </tr>\n",
       "  </thead>\n",
       "  <tbody>\n",
       "    <tr>\n",
       "      <td>2020-03-09 00:00:00</td>\n",
       "      <td>1</td>\n",
       "      <td>0.0</td>\n",
       "    </tr>\n",
       "    <tr>\n",
       "      <td>2020-03-09 01:00:00</td>\n",
       "      <td>2</td>\n",
       "      <td>0.0</td>\n",
       "    </tr>\n",
       "    <tr>\n",
       "      <td>2020-03-09 02:00:00</td>\n",
       "      <td>3</td>\n",
       "      <td>0.0</td>\n",
       "    </tr>\n",
       "    <tr>\n",
       "      <td>2020-03-09 03:00:00</td>\n",
       "      <td>4</td>\n",
       "      <td>0.0</td>\n",
       "    </tr>\n",
       "    <tr>\n",
       "      <td>2020-03-09 04:00:00</td>\n",
       "      <td>5</td>\n",
       "      <td>0.0</td>\n",
       "    </tr>\n",
       "    <tr>\n",
       "      <td>2020-03-09 05:00:00</td>\n",
       "      <td>6</td>\n",
       "      <td>0.0</td>\n",
       "    </tr>\n",
       "    <tr>\n",
       "      <td>2020-03-09 06:00:00</td>\n",
       "      <td>7</td>\n",
       "      <td>0.0</td>\n",
       "    </tr>\n",
       "    <tr>\n",
       "      <td>2020-03-09 07:00:00</td>\n",
       "      <td>8</td>\n",
       "      <td>4871.0</td>\n",
       "    </tr>\n",
       "    <tr>\n",
       "      <td>2020-03-09 08:00:00</td>\n",
       "      <td>9</td>\n",
       "      <td>35284.0</td>\n",
       "    </tr>\n",
       "    <tr>\n",
       "      <td>2020-03-09 09:00:00</td>\n",
       "      <td>10</td>\n",
       "      <td>102803.0</td>\n",
       "    </tr>\n",
       "    <tr>\n",
       "      <td>2020-03-09 10:00:00</td>\n",
       "      <td>11</td>\n",
       "      <td>169574.0</td>\n",
       "    </tr>\n",
       "    <tr>\n",
       "      <td>2020-03-09 11:00:00</td>\n",
       "      <td>12</td>\n",
       "      <td>167916.0</td>\n",
       "    </tr>\n",
       "    <tr>\n",
       "      <td>2020-03-09 12:00:00</td>\n",
       "      <td>13</td>\n",
       "      <td>164215.0</td>\n",
       "    </tr>\n",
       "    <tr>\n",
       "      <td>2020-03-09 13:00:00</td>\n",
       "      <td>14</td>\n",
       "      <td>153332.0</td>\n",
       "    </tr>\n",
       "    <tr>\n",
       "      <td>2020-03-09 14:00:00</td>\n",
       "      <td>15</td>\n",
       "      <td>92871.0</td>\n",
       "    </tr>\n",
       "    <tr>\n",
       "      <td>2020-03-09 15:00:00</td>\n",
       "      <td>16</td>\n",
       "      <td>52542.0</td>\n",
       "    </tr>\n",
       "    <tr>\n",
       "      <td>2020-03-09 16:00:00</td>\n",
       "      <td>17</td>\n",
       "      <td>35075.0</td>\n",
       "    </tr>\n",
       "    <tr>\n",
       "      <td>2020-03-09 17:00:00</td>\n",
       "      <td>18</td>\n",
       "      <td>11967.0</td>\n",
       "    </tr>\n",
       "    <tr>\n",
       "      <td>2020-03-09 18:00:00</td>\n",
       "      <td>19</td>\n",
       "      <td>815.0</td>\n",
       "    </tr>\n",
       "    <tr>\n",
       "      <td>2020-03-09 19:00:00</td>\n",
       "      <td>20</td>\n",
       "      <td>0.0</td>\n",
       "    </tr>\n",
       "    <tr>\n",
       "      <td>2020-03-09 20:00:00</td>\n",
       "      <td>21</td>\n",
       "      <td>0.0</td>\n",
       "    </tr>\n",
       "    <tr>\n",
       "      <td>2020-03-09 21:00:00</td>\n",
       "      <td>22</td>\n",
       "      <td>0.0</td>\n",
       "    </tr>\n",
       "    <tr>\n",
       "      <td>2020-03-09 22:00:00</td>\n",
       "      <td>23</td>\n",
       "      <td>0.0</td>\n",
       "    </tr>\n",
       "    <tr>\n",
       "      <td>2020-03-09 23:00:00</td>\n",
       "      <td>24</td>\n",
       "      <td>0.0</td>\n",
       "    </tr>\n",
       "  </tbody>\n",
       "</table>\n",
       "</div>"
      ],
      "text/plain": [
       "                     hora  GICIS310\n",
       "fecha_hora                         \n",
       "2020-03-09 00:00:00     1       0.0\n",
       "2020-03-09 01:00:00     2       0.0\n",
       "2020-03-09 02:00:00     3       0.0\n",
       "2020-03-09 03:00:00     4       0.0\n",
       "2020-03-09 04:00:00     5       0.0\n",
       "2020-03-09 05:00:00     6       0.0\n",
       "2020-03-09 06:00:00     7       0.0\n",
       "2020-03-09 07:00:00     8    4871.0\n",
       "2020-03-09 08:00:00     9   35284.0\n",
       "2020-03-09 09:00:00    10  102803.0\n",
       "2020-03-09 10:00:00    11  169574.0\n",
       "2020-03-09 11:00:00    12  167916.0\n",
       "2020-03-09 12:00:00    13  164215.0\n",
       "2020-03-09 13:00:00    14  153332.0\n",
       "2020-03-09 14:00:00    15   92871.0\n",
       "2020-03-09 15:00:00    16   52542.0\n",
       "2020-03-09 16:00:00    17   35075.0\n",
       "2020-03-09 17:00:00    18   11967.0\n",
       "2020-03-09 18:00:00    19     815.0\n",
       "2020-03-09 19:00:00    20       0.0\n",
       "2020-03-09 20:00:00    21       0.0\n",
       "2020-03-09 21:00:00    22       0.0\n",
       "2020-03-09 22:00:00    23       0.0\n",
       "2020-03-09 23:00:00    24       0.0"
      ]
     },
     "execution_count": 24,
     "metadata": {},
     "output_type": "execute_result"
    }
   ],
   "source": [
    "test"
   ]
  },
  {
   "cell_type": "code",
   "execution_count": 25,
   "metadata": {
    "ExecuteTime": {
     "end_time": "2020-05-03T03:14:37.345407Z",
     "start_time": "2020-05-03T03:14:19.816906Z"
    }
   },
   "outputs": [
    {
     "data": {
      "text/html": [
       "<div>\n",
       "<style scoped>\n",
       "    .dataframe tbody tr th:only-of-type {\n",
       "        vertical-align: middle;\n",
       "    }\n",
       "\n",
       "    .dataframe tbody tr th {\n",
       "        vertical-align: top;\n",
       "    }\n",
       "\n",
       "    .dataframe thead th {\n",
       "        text-align: right;\n",
       "    }\n",
       "</style>\n",
       "<table border=\"1\" class=\"dataframe\">\n",
       "  <thead>\n",
       "    <tr style=\"text-align: right;\">\n",
       "      <th></th>\n",
       "      <th>Hora 1</th>\n",
       "      <th>Hora 2</th>\n",
       "      <th>Hora 3</th>\n",
       "      <th>Hora 4</th>\n",
       "      <th>Hora 5</th>\n",
       "      <th>Hora 6</th>\n",
       "      <th>Hora 7</th>\n",
       "      <th>Hora 8</th>\n",
       "      <th>Hora 9</th>\n",
       "      <th>Hora 10</th>\n",
       "      <th>...</th>\n",
       "      <th>Hora 15</th>\n",
       "      <th>Hora 16</th>\n",
       "      <th>Hora 17</th>\n",
       "      <th>Hora 18</th>\n",
       "      <th>Hora 19</th>\n",
       "      <th>Hora 20</th>\n",
       "      <th>Hora 21</th>\n",
       "      <th>Hora 22</th>\n",
       "      <th>Hora 23</th>\n",
       "      <th>Hora 24</th>\n",
       "    </tr>\n",
       "  </thead>\n",
       "  <tbody>\n",
       "    <tr>\n",
       "      <td>0</td>\n",
       "      <td>0.0</td>\n",
       "      <td>0.0</td>\n",
       "      <td>0.0</td>\n",
       "      <td>0.0</td>\n",
       "      <td>0.0</td>\n",
       "      <td>0.0</td>\n",
       "      <td>0.0</td>\n",
       "      <td>2403.0</td>\n",
       "      <td>30931.0</td>\n",
       "      <td>51031.0</td>\n",
       "      <td>...</td>\n",
       "      <td>28993.0</td>\n",
       "      <td>40522.0</td>\n",
       "      <td>44691.0</td>\n",
       "      <td>21024.0</td>\n",
       "      <td>0.0</td>\n",
       "      <td>0.0</td>\n",
       "      <td>0.0</td>\n",
       "      <td>0.0</td>\n",
       "      <td>0.0</td>\n",
       "      <td>0.0</td>\n",
       "    </tr>\n",
       "    <tr>\n",
       "      <td>1</td>\n",
       "      <td>0.0</td>\n",
       "      <td>0.0</td>\n",
       "      <td>0.0</td>\n",
       "      <td>0.0</td>\n",
       "      <td>0.0</td>\n",
       "      <td>0.0</td>\n",
       "      <td>0.0</td>\n",
       "      <td>1634.0</td>\n",
       "      <td>20859.0</td>\n",
       "      <td>96697.0</td>\n",
       "      <td>...</td>\n",
       "      <td>169403.0</td>\n",
       "      <td>161089.0</td>\n",
       "      <td>135627.0</td>\n",
       "      <td>50070.0</td>\n",
       "      <td>221.0</td>\n",
       "      <td>0.0</td>\n",
       "      <td>0.0</td>\n",
       "      <td>0.0</td>\n",
       "      <td>0.0</td>\n",
       "      <td>0.0</td>\n",
       "    </tr>\n",
       "    <tr>\n",
       "      <td>2</td>\n",
       "      <td>0.0</td>\n",
       "      <td>0.0</td>\n",
       "      <td>0.0</td>\n",
       "      <td>0.0</td>\n",
       "      <td>0.0</td>\n",
       "      <td>0.0</td>\n",
       "      <td>0.0</td>\n",
       "      <td>3719.0</td>\n",
       "      <td>70255.0</td>\n",
       "      <td>150542.0</td>\n",
       "      <td>...</td>\n",
       "      <td>161474.0</td>\n",
       "      <td>158000.0</td>\n",
       "      <td>159785.0</td>\n",
       "      <td>63209.0</td>\n",
       "      <td>9.0</td>\n",
       "      <td>0.0</td>\n",
       "      <td>0.0</td>\n",
       "      <td>0.0</td>\n",
       "      <td>0.0</td>\n",
       "      <td>0.0</td>\n",
       "    </tr>\n",
       "    <tr>\n",
       "      <td>3</td>\n",
       "      <td>0.0</td>\n",
       "      <td>0.0</td>\n",
       "      <td>0.0</td>\n",
       "      <td>0.0</td>\n",
       "      <td>0.0</td>\n",
       "      <td>0.0</td>\n",
       "      <td>0.0</td>\n",
       "      <td>2755.0</td>\n",
       "      <td>87139.0</td>\n",
       "      <td>167037.0</td>\n",
       "      <td>...</td>\n",
       "      <td>170347.0</td>\n",
       "      <td>170349.0</td>\n",
       "      <td>152041.0</td>\n",
       "      <td>56573.0</td>\n",
       "      <td>14.0</td>\n",
       "      <td>0.0</td>\n",
       "      <td>0.0</td>\n",
       "      <td>0.0</td>\n",
       "      <td>0.0</td>\n",
       "      <td>0.0</td>\n",
       "    </tr>\n",
       "    <tr>\n",
       "      <td>4</td>\n",
       "      <td>0.0</td>\n",
       "      <td>0.0</td>\n",
       "      <td>0.0</td>\n",
       "      <td>0.0</td>\n",
       "      <td>0.0</td>\n",
       "      <td>0.0</td>\n",
       "      <td>0.0</td>\n",
       "      <td>2878.0</td>\n",
       "      <td>95572.0</td>\n",
       "      <td>166998.0</td>\n",
       "      <td>...</td>\n",
       "      <td>164169.0</td>\n",
       "      <td>164228.0</td>\n",
       "      <td>137294.0</td>\n",
       "      <td>35821.0</td>\n",
       "      <td>288.0</td>\n",
       "      <td>0.0</td>\n",
       "      <td>0.0</td>\n",
       "      <td>0.0</td>\n",
       "      <td>0.0</td>\n",
       "      <td>0.0</td>\n",
       "    </tr>\n",
       "    <tr>\n",
       "      <td>...</td>\n",
       "      <td>...</td>\n",
       "      <td>...</td>\n",
       "      <td>...</td>\n",
       "      <td>...</td>\n",
       "      <td>...</td>\n",
       "      <td>...</td>\n",
       "      <td>...</td>\n",
       "      <td>...</td>\n",
       "      <td>...</td>\n",
       "      <td>...</td>\n",
       "      <td>...</td>\n",
       "      <td>...</td>\n",
       "      <td>...</td>\n",
       "      <td>...</td>\n",
       "      <td>...</td>\n",
       "      <td>...</td>\n",
       "      <td>...</td>\n",
       "      <td>...</td>\n",
       "      <td>...</td>\n",
       "      <td>...</td>\n",
       "      <td>...</td>\n",
       "    </tr>\n",
       "    <tr>\n",
       "      <td>62</td>\n",
       "      <td>0.0</td>\n",
       "      <td>0.0</td>\n",
       "      <td>0.0</td>\n",
       "      <td>0.0</td>\n",
       "      <td>0.0</td>\n",
       "      <td>0.0</td>\n",
       "      <td>0.0</td>\n",
       "      <td>8694.0</td>\n",
       "      <td>127151.0</td>\n",
       "      <td>107181.0</td>\n",
       "      <td>...</td>\n",
       "      <td>151624.0</td>\n",
       "      <td>139047.0</td>\n",
       "      <td>60696.0</td>\n",
       "      <td>21379.0</td>\n",
       "      <td>3092.0</td>\n",
       "      <td>0.0</td>\n",
       "      <td>0.0</td>\n",
       "      <td>0.0</td>\n",
       "      <td>0.0</td>\n",
       "      <td>0.0</td>\n",
       "    </tr>\n",
       "    <tr>\n",
       "      <td>63</td>\n",
       "      <td>0.0</td>\n",
       "      <td>0.0</td>\n",
       "      <td>0.0</td>\n",
       "      <td>0.0</td>\n",
       "      <td>0.0</td>\n",
       "      <td>0.0</td>\n",
       "      <td>0.0</td>\n",
       "      <td>30126.0</td>\n",
       "      <td>58942.0</td>\n",
       "      <td>88105.0</td>\n",
       "      <td>...</td>\n",
       "      <td>141396.0</td>\n",
       "      <td>118999.0</td>\n",
       "      <td>156110.0</td>\n",
       "      <td>90413.0</td>\n",
       "      <td>9813.0</td>\n",
       "      <td>0.0</td>\n",
       "      <td>0.0</td>\n",
       "      <td>0.0</td>\n",
       "      <td>0.0</td>\n",
       "      <td>0.0</td>\n",
       "    </tr>\n",
       "    <tr>\n",
       "      <td>64</td>\n",
       "      <td>0.0</td>\n",
       "      <td>0.0</td>\n",
       "      <td>0.0</td>\n",
       "      <td>0.0</td>\n",
       "      <td>0.0</td>\n",
       "      <td>0.0</td>\n",
       "      <td>0.0</td>\n",
       "      <td>3985.0</td>\n",
       "      <td>16470.0</td>\n",
       "      <td>22338.0</td>\n",
       "      <td>...</td>\n",
       "      <td>88699.0</td>\n",
       "      <td>89298.0</td>\n",
       "      <td>63377.0</td>\n",
       "      <td>60849.0</td>\n",
       "      <td>11701.0</td>\n",
       "      <td>0.0</td>\n",
       "      <td>0.0</td>\n",
       "      <td>0.0</td>\n",
       "      <td>0.0</td>\n",
       "      <td>0.0</td>\n",
       "    </tr>\n",
       "    <tr>\n",
       "      <td>65</td>\n",
       "      <td>0.0</td>\n",
       "      <td>0.0</td>\n",
       "      <td>0.0</td>\n",
       "      <td>0.0</td>\n",
       "      <td>0.0</td>\n",
       "      <td>0.0</td>\n",
       "      <td>0.0</td>\n",
       "      <td>8504.0</td>\n",
       "      <td>104374.0</td>\n",
       "      <td>168679.0</td>\n",
       "      <td>...</td>\n",
       "      <td>162871.0</td>\n",
       "      <td>123516.0</td>\n",
       "      <td>63158.0</td>\n",
       "      <td>41801.0</td>\n",
       "      <td>4875.0</td>\n",
       "      <td>0.0</td>\n",
       "      <td>0.0</td>\n",
       "      <td>0.0</td>\n",
       "      <td>0.0</td>\n",
       "      <td>0.0</td>\n",
       "    </tr>\n",
       "    <tr>\n",
       "      <td>66</td>\n",
       "      <td>0.0</td>\n",
       "      <td>0.0</td>\n",
       "      <td>0.0</td>\n",
       "      <td>0.0</td>\n",
       "      <td>0.0</td>\n",
       "      <td>0.0</td>\n",
       "      <td>0.0</td>\n",
       "      <td>5087.0</td>\n",
       "      <td>44782.0</td>\n",
       "      <td>93972.0</td>\n",
       "      <td>...</td>\n",
       "      <td>94065.0</td>\n",
       "      <td>68454.0</td>\n",
       "      <td>61830.0</td>\n",
       "      <td>54398.0</td>\n",
       "      <td>18493.0</td>\n",
       "      <td>0.0</td>\n",
       "      <td>0.0</td>\n",
       "      <td>0.0</td>\n",
       "      <td>0.0</td>\n",
       "      <td>0.0</td>\n",
       "    </tr>\n",
       "  </tbody>\n",
       "</table>\n",
       "<p>67 rows × 24 columns</p>\n",
       "</div>"
      ],
      "text/plain": [
       "    Hora 1  Hora 2  Hora 3  Hora 4  Hora 5  Hora 6  Hora 7   Hora 8    Hora 9  \\\n",
       "0      0.0     0.0     0.0     0.0     0.0     0.0     0.0   2403.0   30931.0   \n",
       "1      0.0     0.0     0.0     0.0     0.0     0.0     0.0   1634.0   20859.0   \n",
       "2      0.0     0.0     0.0     0.0     0.0     0.0     0.0   3719.0   70255.0   \n",
       "3      0.0     0.0     0.0     0.0     0.0     0.0     0.0   2755.0   87139.0   \n",
       "4      0.0     0.0     0.0     0.0     0.0     0.0     0.0   2878.0   95572.0   \n",
       "..     ...     ...     ...     ...     ...     ...     ...      ...       ...   \n",
       "62     0.0     0.0     0.0     0.0     0.0     0.0     0.0   8694.0  127151.0   \n",
       "63     0.0     0.0     0.0     0.0     0.0     0.0     0.0  30126.0   58942.0   \n",
       "64     0.0     0.0     0.0     0.0     0.0     0.0     0.0   3985.0   16470.0   \n",
       "65     0.0     0.0     0.0     0.0     0.0     0.0     0.0   8504.0  104374.0   \n",
       "66     0.0     0.0     0.0     0.0     0.0     0.0     0.0   5087.0   44782.0   \n",
       "\n",
       "     Hora 10  ...   Hora 15   Hora 16   Hora 17  Hora 18  Hora 19  Hora 20  \\\n",
       "0    51031.0  ...   28993.0   40522.0   44691.0  21024.0      0.0      0.0   \n",
       "1    96697.0  ...  169403.0  161089.0  135627.0  50070.0    221.0      0.0   \n",
       "2   150542.0  ...  161474.0  158000.0  159785.0  63209.0      9.0      0.0   \n",
       "3   167037.0  ...  170347.0  170349.0  152041.0  56573.0     14.0      0.0   \n",
       "4   166998.0  ...  164169.0  164228.0  137294.0  35821.0    288.0      0.0   \n",
       "..       ...  ...       ...       ...       ...      ...      ...      ...   \n",
       "62  107181.0  ...  151624.0  139047.0   60696.0  21379.0   3092.0      0.0   \n",
       "63   88105.0  ...  141396.0  118999.0  156110.0  90413.0   9813.0      0.0   \n",
       "64   22338.0  ...   88699.0   89298.0   63377.0  60849.0  11701.0      0.0   \n",
       "65  168679.0  ...  162871.0  123516.0   63158.0  41801.0   4875.0      0.0   \n",
       "66   93972.0  ...   94065.0   68454.0   61830.0  54398.0  18493.0      0.0   \n",
       "\n",
       "    Hora 21  Hora 22  Hora 23  Hora 24  \n",
       "0       0.0      0.0      0.0      0.0  \n",
       "1       0.0      0.0      0.0      0.0  \n",
       "2       0.0      0.0      0.0      0.0  \n",
       "3       0.0      0.0      0.0      0.0  \n",
       "4       0.0      0.0      0.0      0.0  \n",
       "..      ...      ...      ...      ...  \n",
       "62      0.0      0.0      0.0      0.0  \n",
       "63      0.0      0.0      0.0      0.0  \n",
       "64      0.0      0.0      0.0      0.0  \n",
       "65      0.0      0.0      0.0      0.0  \n",
       "66      0.0      0.0      0.0      0.0  \n",
       "\n",
       "[67 rows x 24 columns]"
      ]
     },
     "execution_count": 25,
     "metadata": {},
     "output_type": "execute_result"
    }
   ],
   "source": [
    "xhr = pd.DataFrame()\n",
    "for i in range(0,24):\n",
    "    hrs = [train.iloc[j][1] for j in range(0,len(train)) if train.iloc[j][0] == i+1 ] #pd.Series()\n",
    "    xhr['Hora '+str(i+1)] = hrs\n",
    "xhr = xhr.drop([xhr.index[-1]])\n",
    "xhr"
   ]
  },
  {
   "cell_type": "code",
   "execution_count": 26,
   "metadata": {
    "ExecuteTime": {
     "end_time": "2020-05-03T03:14:37.356868Z",
     "start_time": "2020-05-03T03:14:37.350581Z"
    }
   },
   "outputs": [],
   "source": [
    "train = train.drop(['hora'], axis=1)\n",
    "test = test.drop(['hora'], axis=1)"
   ]
  },
  {
   "cell_type": "markdown",
   "metadata": {},
   "source": [
    "*** \n",
    "# Modelo ARIMA"
   ]
  },
  {
   "cell_type": "code",
   "execution_count": 27,
   "metadata": {
    "ExecuteTime": {
     "end_time": "2020-05-03T03:25:33.321503Z",
     "start_time": "2020-05-03T03:14:37.359606Z"
    }
   },
   "outputs": [
    {
     "data": {
      "image/png": "[encoded data removed]",
      "text/plain": [
       "<Figure size 576x432 with 1 Axes>"
      ]
     },
     "metadata": {
      "needs_background": "light"
     },
     "output_type": "display_data"
    }
   ],
   "source": [
    "history = [x for x in train.values]\n",
    "predictions = []\n",
    "\n",
    "for t in range(0,24):\n",
    "    model = ARIMA(history, order=(8,1,2))\n",
    "    model_fit = model.fit()\n",
    "    output = model_fit.forecast()\n",
    "    yhat = output[0]\n",
    "    predictions.append(yhat)\n",
    "    obs = test.values[t]\n",
    "    history.append(obs)\n",
    "\n",
    "for i in range(0,len(test)): # SUPUESTO 1: SI NO HUBO PRODUCCIÓN UN DÍA ANTES, NO HABRÁ ESE DÍA. \n",
    "    if test.iloc[i].values == 0:\n",
    "        predictions[i] = 0\n",
    "    if predictions[i] < 0:\n",
    "        predictions[i] = 0\n",
    "        \n",
    "# plot\n",
    "plt.subplots(figsize=(8,6))\n",
    "plt.plot(test)\n",
    "plt.plot(predictions, color='red')\n",
    "plt.xticks(rotation=90)\n",
    "plt.show()"
   ]
  },
  {
   "cell_type": "code",
   "execution_count": 28,
   "metadata": {
    "ExecuteTime": {
     "end_time": "2020-05-03T03:25:33.368432Z",
     "start_time": "2020-05-03T03:25:33.325431Z"
    }
   },
   "outputs": [
    {
     "data": {
      "text/plain": [
       "0.56905835829637"
      ]
     },
     "execution_count": 28,
     "metadata": {},
     "output_type": "execute_result"
    }
   ],
   "source": [
    "fvst = pd.DataFrame()\n",
    "fvst['real'] = test[columna].values.flatten()\n",
    "fvst['forecasts'] = 0\n",
    "for i in range(len(fvst)):\n",
    "    if predictions[i] == 0:\n",
    "        fvst['forecasts'][i] = predictions[i]\n",
    "    else:\n",
    "        fvst['forecasts'][i] = predictions[i].item()\n",
    "fvst['error'] = 0\n",
    "\n",
    "for i in range(len(fvst)):\n",
    "    fvst['error'][i] = np.abs((fvst['forecasts'][i]- fvst['real'][i])/(fvst['real'][i]))\n",
    "\n",
    "mea = np.mean(fvst.iloc[7:19,2])\n",
    "mea"
   ]
  },
  {
   "cell_type": "code",
   "execution_count": 29,
   "metadata": {
    "ExecuteTime": {
     "end_time": "2020-05-03T03:25:33.412770Z",
     "start_time": "2020-05-03T03:25:33.373152Z"
    }
   },
   "outputs": [
    {
     "name": "stdout",
     "output_type": "stream",
     "text": [
      "0.284529179148185\n"
     ]
    },
    {
     "data": {
      "text/html": [
       "<div>\n",
       "<style scoped>\n",
       "    .dataframe tbody tr th:only-of-type {\n",
       "        vertical-align: middle;\n",
       "    }\n",
       "\n",
       "    .dataframe tbody tr th {\n",
       "        vertical-align: top;\n",
       "    }\n",
       "\n",
       "    .dataframe thead th {\n",
       "        text-align: right;\n",
       "    }\n",
       "</style>\n",
       "<table border=\"1\" class=\"dataframe\">\n",
       "  <thead>\n",
       "    <tr style=\"text-align: right;\">\n",
       "      <th></th>\n",
       "      <th>real</th>\n",
       "      <th>forecasts</th>\n",
       "      <th>error</th>\n",
       "    </tr>\n",
       "  </thead>\n",
       "  <tbody>\n",
       "    <tr>\n",
       "      <td>0</td>\n",
       "      <td>0.0</td>\n",
       "      <td>0</td>\n",
       "      <td>0.000000</td>\n",
       "    </tr>\n",
       "    <tr>\n",
       "      <td>1</td>\n",
       "      <td>0.0</td>\n",
       "      <td>0</td>\n",
       "      <td>0.000000</td>\n",
       "    </tr>\n",
       "    <tr>\n",
       "      <td>2</td>\n",
       "      <td>0.0</td>\n",
       "      <td>0</td>\n",
       "      <td>0.000000</td>\n",
       "    </tr>\n",
       "    <tr>\n",
       "      <td>3</td>\n",
       "      <td>0.0</td>\n",
       "      <td>0</td>\n",
       "      <td>0.000000</td>\n",
       "    </tr>\n",
       "    <tr>\n",
       "      <td>4</td>\n",
       "      <td>0.0</td>\n",
       "      <td>0</td>\n",
       "      <td>0.000000</td>\n",
       "    </tr>\n",
       "    <tr>\n",
       "      <td>5</td>\n",
       "      <td>0.0</td>\n",
       "      <td>0</td>\n",
       "      <td>0.000000</td>\n",
       "    </tr>\n",
       "    <tr>\n",
       "      <td>6</td>\n",
       "      <td>0.0</td>\n",
       "      <td>0</td>\n",
       "      <td>0.000000</td>\n",
       "    </tr>\n",
       "    <tr>\n",
       "      <td>7</td>\n",
       "      <td>4871.0</td>\n",
       "      <td>18805</td>\n",
       "      <td>2.860604</td>\n",
       "    </tr>\n",
       "    <tr>\n",
       "      <td>8</td>\n",
       "      <td>35284.0</td>\n",
       "      <td>25383</td>\n",
       "      <td>0.280609</td>\n",
       "    </tr>\n",
       "    <tr>\n",
       "      <td>9</td>\n",
       "      <td>102803.0</td>\n",
       "      <td>60520</td>\n",
       "      <td>0.411301</td>\n",
       "    </tr>\n",
       "    <tr>\n",
       "      <td>10</td>\n",
       "      <td>169574.0</td>\n",
       "      <td>128463</td>\n",
       "      <td>0.242437</td>\n",
       "    </tr>\n",
       "    <tr>\n",
       "      <td>11</td>\n",
       "      <td>167916.0</td>\n",
       "      <td>179254</td>\n",
       "      <td>0.067522</td>\n",
       "    </tr>\n",
       "    <tr>\n",
       "      <td>12</td>\n",
       "      <td>164215.0</td>\n",
       "      <td>149156</td>\n",
       "      <td>0.091703</td>\n",
       "    </tr>\n",
       "    <tr>\n",
       "      <td>13</td>\n",
       "      <td>153332.0</td>\n",
       "      <td>149529</td>\n",
       "      <td>0.024802</td>\n",
       "    </tr>\n",
       "    <tr>\n",
       "      <td>14</td>\n",
       "      <td>92871.0</td>\n",
       "      <td>131596</td>\n",
       "      <td>0.416976</td>\n",
       "    </tr>\n",
       "    <tr>\n",
       "      <td>15</td>\n",
       "      <td>52542.0</td>\n",
       "      <td>59707</td>\n",
       "      <td>0.136367</td>\n",
       "    </tr>\n",
       "    <tr>\n",
       "      <td>16</td>\n",
       "      <td>35075.0</td>\n",
       "      <td>37721</td>\n",
       "      <td>0.075438</td>\n",
       "    </tr>\n",
       "    <tr>\n",
       "      <td>17</td>\n",
       "      <td>11967.0</td>\n",
       "      <td>26578</td>\n",
       "      <td>1.220941</td>\n",
       "    </tr>\n",
       "    <tr>\n",
       "      <td>18</td>\n",
       "      <td>815.0</td>\n",
       "      <td>0</td>\n",
       "      <td>1.000000</td>\n",
       "    </tr>\n",
       "    <tr>\n",
       "      <td>19</td>\n",
       "      <td>0.0</td>\n",
       "      <td>0</td>\n",
       "      <td>0.000000</td>\n",
       "    </tr>\n",
       "    <tr>\n",
       "      <td>20</td>\n",
       "      <td>0.0</td>\n",
       "      <td>0</td>\n",
       "      <td>0.000000</td>\n",
       "    </tr>\n",
       "    <tr>\n",
       "      <td>21</td>\n",
       "      <td>0.0</td>\n",
       "      <td>0</td>\n",
       "      <td>0.000000</td>\n",
       "    </tr>\n",
       "    <tr>\n",
       "      <td>22</td>\n",
       "      <td>0.0</td>\n",
       "      <td>0</td>\n",
       "      <td>0.000000</td>\n",
       "    </tr>\n",
       "    <tr>\n",
       "      <td>23</td>\n",
       "      <td>0.0</td>\n",
       "      <td>0</td>\n",
       "      <td>0.000000</td>\n",
       "    </tr>\n",
       "  </tbody>\n",
       "</table>\n",
       "</div>"
      ],
      "text/plain": [
       "        real  forecasts     error\n",
       "0        0.0          0  0.000000\n",
       "1        0.0          0  0.000000\n",
       "2        0.0          0  0.000000\n",
       "3        0.0          0  0.000000\n",
       "4        0.0          0  0.000000\n",
       "5        0.0          0  0.000000\n",
       "6        0.0          0  0.000000\n",
       "7     4871.0      18805  2.860604\n",
       "8    35284.0      25383  0.280609\n",
       "9   102803.0      60520  0.411301\n",
       "10  169574.0     128463  0.242437\n",
       "11  167916.0     179254  0.067522\n",
       "12  164215.0     149156  0.091703\n",
       "13  153332.0     149529  0.024802\n",
       "14   92871.0     131596  0.416976\n",
       "15   52542.0      59707  0.136367\n",
       "16   35075.0      37721  0.075438\n",
       "17   11967.0      26578  1.220941\n",
       "18     815.0          0  1.000000\n",
       "19       0.0          0  0.000000\n",
       "20       0.0          0  0.000000\n",
       "21       0.0          0  0.000000\n",
       "22       0.0          0  0.000000\n",
       "23       0.0          0  0.000000"
      ]
     },
     "execution_count": 29,
     "metadata": {},
     "output_type": "execute_result"
    }
   ],
   "source": [
    "fvst = fvst.fillna(0)\n",
    "print(np.mean(fvst.error))\n",
    "fvst"
   ]
  },
  {
   "cell_type": "code",
   "execution_count": 30,
   "metadata": {
    "ExecuteTime": {
     "end_time": "2020-05-03T03:25:33.438275Z",
     "start_time": "2020-05-03T03:25:33.423242Z"
    }
   },
   "outputs": [
    {
     "data": {
      "text/plain": [
       "0.024769360362768784"
      ]
     },
     "execution_count": 30,
     "metadata": {},
     "output_type": "execute_result"
    }
   ],
   "source": [
    "np.abs((sum(fvst['forecasts']) - sum(fvst['real']))/sum(fvst['real']))"
   ]
  },
  {
   "cell_type": "markdown",
   "metadata": {},
   "source": [
    "# Tomando promedios anteriores:"
   ]
  },
  {
   "cell_type": "markdown",
   "metadata": {},
   "source": [
    "# Cambiando 7 8 y 9:"
   ]
  },
  {
   "cell_type": "code",
   "execution_count": 31,
   "metadata": {
    "ExecuteTime": {
     "end_time": "2020-05-03T03:25:33.461865Z",
     "start_time": "2020-05-03T03:25:33.447047Z"
    }
   },
   "outputs": [
    {
     "data": {
      "text/plain": [
       "18805"
      ]
     },
     "execution_count": 31,
     "metadata": {},
     "output_type": "execute_result"
    }
   ],
   "source": [
    "fvst.iloc[7,1]"
   ]
  },
  {
   "cell_type": "code",
   "execution_count": 32,
   "metadata": {
    "ExecuteTime": {
     "end_time": "2020-05-03T03:25:33.514546Z",
     "start_time": "2020-05-03T03:25:33.473148Z"
    }
   },
   "outputs": [
    {
     "data": {
      "text/plain": [
       "60    27983.0\n",
       "61    22891.0\n",
       "62     8694.0\n",
       "63    30126.0\n",
       "64     3985.0\n",
       "65     8504.0\n",
       "66     5087.0\n",
       "Name: Hora 8, dtype: float64"
      ]
     },
     "execution_count": 32,
     "metadata": {},
     "output_type": "execute_result"
    }
   ],
   "source": [
    "xhr['Hora 8'][-7:]"
   ]
  },
  {
   "cell_type": "code",
   "execution_count": 33,
   "metadata": {
    "ExecuteTime": {
     "end_time": "2020-05-03T03:25:33.659401Z",
     "start_time": "2020-05-03T03:25:33.555062Z"
    }
   },
   "outputs": [
    {
     "data": {
      "text/html": [
       "<div>\n",
       "<style scoped>\n",
       "    .dataframe tbody tr th:only-of-type {\n",
       "        vertical-align: middle;\n",
       "    }\n",
       "\n",
       "    .dataframe tbody tr th {\n",
       "        vertical-align: top;\n",
       "    }\n",
       "\n",
       "    .dataframe thead th {\n",
       "        text-align: right;\n",
       "    }\n",
       "</style>\n",
       "<table border=\"1\" class=\"dataframe\">\n",
       "  <thead>\n",
       "    <tr style=\"text-align: right;\">\n",
       "      <th></th>\n",
       "      <th>real</th>\n",
       "      <th>forecasts</th>\n",
       "      <th>error</th>\n",
       "    </tr>\n",
       "  </thead>\n",
       "  <tbody>\n",
       "    <tr>\n",
       "      <td>0</td>\n",
       "      <td>0.0</td>\n",
       "      <td>0.000000</td>\n",
       "      <td>0.000000</td>\n",
       "    </tr>\n",
       "    <tr>\n",
       "      <td>1</td>\n",
       "      <td>0.0</td>\n",
       "      <td>0.000000</td>\n",
       "      <td>0.000000</td>\n",
       "    </tr>\n",
       "    <tr>\n",
       "      <td>2</td>\n",
       "      <td>0.0</td>\n",
       "      <td>0.000000</td>\n",
       "      <td>0.000000</td>\n",
       "    </tr>\n",
       "    <tr>\n",
       "      <td>3</td>\n",
       "      <td>0.0</td>\n",
       "      <td>0.000000</td>\n",
       "      <td>0.000000</td>\n",
       "    </tr>\n",
       "    <tr>\n",
       "      <td>4</td>\n",
       "      <td>0.0</td>\n",
       "      <td>0.000000</td>\n",
       "      <td>0.000000</td>\n",
       "    </tr>\n",
       "    <tr>\n",
       "      <td>5</td>\n",
       "      <td>0.0</td>\n",
       "      <td>0.000000</td>\n",
       "      <td>0.000000</td>\n",
       "    </tr>\n",
       "    <tr>\n",
       "      <td>6</td>\n",
       "      <td>0.0</td>\n",
       "      <td>0.000000</td>\n",
       "      <td>0.000000</td>\n",
       "    </tr>\n",
       "    <tr>\n",
       "      <td>7</td>\n",
       "      <td>4871.0</td>\n",
       "      <td>15324.285714</td>\n",
       "      <td>2.146025</td>\n",
       "    </tr>\n",
       "    <tr>\n",
       "      <td>8</td>\n",
       "      <td>35284.0</td>\n",
       "      <td>92792.285714</td>\n",
       "      <td>1.629869</td>\n",
       "    </tr>\n",
       "    <tr>\n",
       "      <td>9</td>\n",
       "      <td>102803.0</td>\n",
       "      <td>117020.571429</td>\n",
       "      <td>0.138299</td>\n",
       "    </tr>\n",
       "    <tr>\n",
       "      <td>10</td>\n",
       "      <td>169574.0</td>\n",
       "      <td>128463.000000</td>\n",
       "      <td>0.242437</td>\n",
       "    </tr>\n",
       "    <tr>\n",
       "      <td>11</td>\n",
       "      <td>167916.0</td>\n",
       "      <td>179254.000000</td>\n",
       "      <td>0.067522</td>\n",
       "    </tr>\n",
       "    <tr>\n",
       "      <td>12</td>\n",
       "      <td>164215.0</td>\n",
       "      <td>149156.000000</td>\n",
       "      <td>0.091703</td>\n",
       "    </tr>\n",
       "    <tr>\n",
       "      <td>13</td>\n",
       "      <td>153332.0</td>\n",
       "      <td>149529.000000</td>\n",
       "      <td>0.024802</td>\n",
       "    </tr>\n",
       "    <tr>\n",
       "      <td>14</td>\n",
       "      <td>92871.0</td>\n",
       "      <td>131596.000000</td>\n",
       "      <td>0.416976</td>\n",
       "    </tr>\n",
       "    <tr>\n",
       "      <td>15</td>\n",
       "      <td>52542.0</td>\n",
       "      <td>59707.000000</td>\n",
       "      <td>0.136367</td>\n",
       "    </tr>\n",
       "    <tr>\n",
       "      <td>16</td>\n",
       "      <td>35075.0</td>\n",
       "      <td>37721.000000</td>\n",
       "      <td>0.075438</td>\n",
       "    </tr>\n",
       "    <tr>\n",
       "      <td>17</td>\n",
       "      <td>11967.0</td>\n",
       "      <td>26578.000000</td>\n",
       "      <td>1.220941</td>\n",
       "    </tr>\n",
       "    <tr>\n",
       "      <td>18</td>\n",
       "      <td>815.0</td>\n",
       "      <td>0.000000</td>\n",
       "      <td>1.000000</td>\n",
       "    </tr>\n",
       "    <tr>\n",
       "      <td>19</td>\n",
       "      <td>0.0</td>\n",
       "      <td>0.000000</td>\n",
       "      <td>0.000000</td>\n",
       "    </tr>\n",
       "    <tr>\n",
       "      <td>20</td>\n",
       "      <td>0.0</td>\n",
       "      <td>0.000000</td>\n",
       "      <td>0.000000</td>\n",
       "    </tr>\n",
       "    <tr>\n",
       "      <td>21</td>\n",
       "      <td>0.0</td>\n",
       "      <td>0.000000</td>\n",
       "      <td>0.000000</td>\n",
       "    </tr>\n",
       "    <tr>\n",
       "      <td>22</td>\n",
       "      <td>0.0</td>\n",
       "      <td>0.000000</td>\n",
       "      <td>0.000000</td>\n",
       "    </tr>\n",
       "    <tr>\n",
       "      <td>23</td>\n",
       "      <td>0.0</td>\n",
       "      <td>0.000000</td>\n",
       "      <td>0.000000</td>\n",
       "    </tr>\n",
       "  </tbody>\n",
       "</table>\n",
       "</div>"
      ],
      "text/plain": [
       "        real      forecasts     error\n",
       "0        0.0       0.000000  0.000000\n",
       "1        0.0       0.000000  0.000000\n",
       "2        0.0       0.000000  0.000000\n",
       "3        0.0       0.000000  0.000000\n",
       "4        0.0       0.000000  0.000000\n",
       "5        0.0       0.000000  0.000000\n",
       "6        0.0       0.000000  0.000000\n",
       "7     4871.0   15324.285714  2.146025\n",
       "8    35284.0   92792.285714  1.629869\n",
       "9   102803.0  117020.571429  0.138299\n",
       "10  169574.0  128463.000000  0.242437\n",
       "11  167916.0  179254.000000  0.067522\n",
       "12  164215.0  149156.000000  0.091703\n",
       "13  153332.0  149529.000000  0.024802\n",
       "14   92871.0  131596.000000  0.416976\n",
       "15   52542.0   59707.000000  0.136367\n",
       "16   35075.0   37721.000000  0.075438\n",
       "17   11967.0   26578.000000  1.220941\n",
       "18     815.0       0.000000  1.000000\n",
       "19       0.0       0.000000  0.000000\n",
       "20       0.0       0.000000  0.000000\n",
       "21       0.0       0.000000  0.000000\n",
       "22       0.0       0.000000  0.000000\n",
       "23       0.0       0.000000  0.000000"
      ]
     },
     "execution_count": 33,
     "metadata": {},
     "output_type": "execute_result"
    }
   ],
   "source": [
    "fvst.iloc[7,1] = np.mean(xhr['Hora 8'][-7:])\n",
    "fvst.iloc[8,1] = np.mean(xhr['Hora 9'][-7:])\n",
    "fvst.iloc[9,1] = np.mean(xhr['Hora 10'][-7:])\n",
    "\n",
    "for i in range(len(fvst)):\n",
    "    fvst['error'][i] = np.abs((fvst['forecasts'][i]- fvst['real'][i])/(fvst['real'][i]))\n",
    "\n",
    "fvst = fvst.fillna(0)\n",
    "fvst"
   ]
  },
  {
   "cell_type": "code",
   "execution_count": 34,
   "metadata": {
    "ExecuteTime": {
     "end_time": "2020-05-03T03:25:33.688150Z",
     "start_time": "2020-05-03T03:25:33.670720Z"
    }
   },
   "outputs": [
    {
     "data": {
      "text/plain": [
       "0.5991982624029232"
      ]
     },
     "execution_count": 34,
     "metadata": {},
     "output_type": "execute_result"
    }
   ],
   "source": [
    "mea = np.mean(fvst.iloc[7:19,2])\n",
    "mea"
   ]
  },
  {
   "cell_type": "code",
   "execution_count": 35,
   "metadata": {
    "ExecuteTime": {
     "end_time": "2020-05-03T03:25:33.708623Z",
     "start_time": "2020-05-03T03:25:33.693240Z"
    }
   },
   "outputs": [
    {
     "data": {
      "text/plain": [
       "0.09672100079912306"
      ]
     },
     "execution_count": 35,
     "metadata": {},
     "output_type": "execute_result"
    }
   ],
   "source": [
    "np.abs((sum(fvst['forecasts']) - sum(fvst['real']))/sum(fvst['real']))"
   ]
  },
  {
   "cell_type": "markdown",
   "metadata": {},
   "source": [
    "## Cambiando Hora 17, 18 y 19:"
   ]
  },
  {
   "cell_type": "code",
   "execution_count": 36,
   "metadata": {
    "ExecuteTime": {
     "end_time": "2020-05-03T03:25:33.763380Z",
     "start_time": "2020-05-03T03:25:33.723314Z"
    }
   },
   "outputs": [
    {
     "data": {
      "text/html": [
       "<div>\n",
       "<style scoped>\n",
       "    .dataframe tbody tr th:only-of-type {\n",
       "        vertical-align: middle;\n",
       "    }\n",
       "\n",
       "    .dataframe tbody tr th {\n",
       "        vertical-align: top;\n",
       "    }\n",
       "\n",
       "    .dataframe thead th {\n",
       "        text-align: right;\n",
       "    }\n",
       "</style>\n",
       "<table border=\"1\" class=\"dataframe\">\n",
       "  <thead>\n",
       "    <tr style=\"text-align: right;\">\n",
       "      <th></th>\n",
       "      <th>real</th>\n",
       "      <th>forecasts</th>\n",
       "      <th>error</th>\n",
       "    </tr>\n",
       "  </thead>\n",
       "  <tbody>\n",
       "    <tr>\n",
       "      <td>0</td>\n",
       "      <td>0.0</td>\n",
       "      <td>0.000000</td>\n",
       "      <td>0.000000</td>\n",
       "    </tr>\n",
       "    <tr>\n",
       "      <td>1</td>\n",
       "      <td>0.0</td>\n",
       "      <td>0.000000</td>\n",
       "      <td>0.000000</td>\n",
       "    </tr>\n",
       "    <tr>\n",
       "      <td>2</td>\n",
       "      <td>0.0</td>\n",
       "      <td>0.000000</td>\n",
       "      <td>0.000000</td>\n",
       "    </tr>\n",
       "    <tr>\n",
       "      <td>3</td>\n",
       "      <td>0.0</td>\n",
       "      <td>0.000000</td>\n",
       "      <td>0.000000</td>\n",
       "    </tr>\n",
       "    <tr>\n",
       "      <td>4</td>\n",
       "      <td>0.0</td>\n",
       "      <td>0.000000</td>\n",
       "      <td>0.000000</td>\n",
       "    </tr>\n",
       "    <tr>\n",
       "      <td>5</td>\n",
       "      <td>0.0</td>\n",
       "      <td>0.000000</td>\n",
       "      <td>0.000000</td>\n",
       "    </tr>\n",
       "    <tr>\n",
       "      <td>6</td>\n",
       "      <td>0.0</td>\n",
       "      <td>0.000000</td>\n",
       "      <td>0.000000</td>\n",
       "    </tr>\n",
       "    <tr>\n",
       "      <td>7</td>\n",
       "      <td>4871.0</td>\n",
       "      <td>15324.285714</td>\n",
       "      <td>2.146025</td>\n",
       "    </tr>\n",
       "    <tr>\n",
       "      <td>8</td>\n",
       "      <td>35284.0</td>\n",
       "      <td>92792.285714</td>\n",
       "      <td>1.629869</td>\n",
       "    </tr>\n",
       "    <tr>\n",
       "      <td>9</td>\n",
       "      <td>102803.0</td>\n",
       "      <td>117020.571429</td>\n",
       "      <td>0.138299</td>\n",
       "    </tr>\n",
       "    <tr>\n",
       "      <td>10</td>\n",
       "      <td>169574.0</td>\n",
       "      <td>128463.000000</td>\n",
       "      <td>0.242437</td>\n",
       "    </tr>\n",
       "    <tr>\n",
       "      <td>11</td>\n",
       "      <td>167916.0</td>\n",
       "      <td>179254.000000</td>\n",
       "      <td>0.067522</td>\n",
       "    </tr>\n",
       "    <tr>\n",
       "      <td>12</td>\n",
       "      <td>164215.0</td>\n",
       "      <td>149156.000000</td>\n",
       "      <td>0.091703</td>\n",
       "    </tr>\n",
       "    <tr>\n",
       "      <td>13</td>\n",
       "      <td>153332.0</td>\n",
       "      <td>149529.000000</td>\n",
       "      <td>0.024802</td>\n",
       "    </tr>\n",
       "    <tr>\n",
       "      <td>14</td>\n",
       "      <td>92871.0</td>\n",
       "      <td>131596.000000</td>\n",
       "      <td>0.416976</td>\n",
       "    </tr>\n",
       "    <tr>\n",
       "      <td>15</td>\n",
       "      <td>52542.0</td>\n",
       "      <td>59707.000000</td>\n",
       "      <td>0.136367</td>\n",
       "    </tr>\n",
       "    <tr>\n",
       "      <td>16</td>\n",
       "      <td>35075.0</td>\n",
       "      <td>88171.714286</td>\n",
       "      <td>1.513805</td>\n",
       "    </tr>\n",
       "    <tr>\n",
       "      <td>17</td>\n",
       "      <td>11967.0</td>\n",
       "      <td>63701.857143</td>\n",
       "      <td>4.323127</td>\n",
       "    </tr>\n",
       "    <tr>\n",
       "      <td>18</td>\n",
       "      <td>815.0</td>\n",
       "      <td>10500.714286</td>\n",
       "      <td>11.884312</td>\n",
       "    </tr>\n",
       "    <tr>\n",
       "      <td>19</td>\n",
       "      <td>0.0</td>\n",
       "      <td>0.000000</td>\n",
       "      <td>0.000000</td>\n",
       "    </tr>\n",
       "    <tr>\n",
       "      <td>20</td>\n",
       "      <td>0.0</td>\n",
       "      <td>0.000000</td>\n",
       "      <td>0.000000</td>\n",
       "    </tr>\n",
       "    <tr>\n",
       "      <td>21</td>\n",
       "      <td>0.0</td>\n",
       "      <td>0.000000</td>\n",
       "      <td>0.000000</td>\n",
       "    </tr>\n",
       "    <tr>\n",
       "      <td>22</td>\n",
       "      <td>0.0</td>\n",
       "      <td>0.000000</td>\n",
       "      <td>0.000000</td>\n",
       "    </tr>\n",
       "    <tr>\n",
       "      <td>23</td>\n",
       "      <td>0.0</td>\n",
       "      <td>0.000000</td>\n",
       "      <td>0.000000</td>\n",
       "    </tr>\n",
       "  </tbody>\n",
       "</table>\n",
       "</div>"
      ],
      "text/plain": [
       "        real      forecasts      error\n",
       "0        0.0       0.000000   0.000000\n",
       "1        0.0       0.000000   0.000000\n",
       "2        0.0       0.000000   0.000000\n",
       "3        0.0       0.000000   0.000000\n",
       "4        0.0       0.000000   0.000000\n",
       "5        0.0       0.000000   0.000000\n",
       "6        0.0       0.000000   0.000000\n",
       "7     4871.0   15324.285714   2.146025\n",
       "8    35284.0   92792.285714   1.629869\n",
       "9   102803.0  117020.571429   0.138299\n",
       "10  169574.0  128463.000000   0.242437\n",
       "11  167916.0  179254.000000   0.067522\n",
       "12  164215.0  149156.000000   0.091703\n",
       "13  153332.0  149529.000000   0.024802\n",
       "14   92871.0  131596.000000   0.416976\n",
       "15   52542.0   59707.000000   0.136367\n",
       "16   35075.0   88171.714286   1.513805\n",
       "17   11967.0   63701.857143   4.323127\n",
       "18     815.0   10500.714286  11.884312\n",
       "19       0.0       0.000000   0.000000\n",
       "20       0.0       0.000000   0.000000\n",
       "21       0.0       0.000000   0.000000\n",
       "22       0.0       0.000000   0.000000\n",
       "23       0.0       0.000000   0.000000"
      ]
     },
     "execution_count": 36,
     "metadata": {},
     "output_type": "execute_result"
    }
   ],
   "source": [
    "fvst.iloc[16,1] = np.mean(xhr['Hora 17'][-7:])\n",
    "fvst.iloc[17,1] = np.mean(xhr['Hora 18'][-7:])\n",
    "fvst.iloc[18,1] = np.mean(xhr['Hora 19'][-7:])\n",
    "\n",
    "for i in range(len(fvst)):\n",
    "    fvst['error'][i] = np.abs((fvst['forecasts'][i]- fvst['real'][i])/(fvst['real'][i]))\n",
    "\n",
    "fvst = fvst.fillna(0)\n",
    "fvst"
   ]
  },
  {
   "cell_type": "code",
   "execution_count": 37,
   "metadata": {
    "ExecuteTime": {
     "end_time": "2020-05-03T03:25:33.778919Z",
     "start_time": "2020-05-03T03:25:33.769434Z"
    }
   },
   "outputs": [
    {
     "data": {
      "text/plain": [
       "1.884603641143465"
      ]
     },
     "execution_count": 37,
     "metadata": {},
     "output_type": "execute_result"
    }
   ],
   "source": [
    "mea = np.mean(fvst.iloc[7:19,2])\n",
    "mea"
   ]
  },
  {
   "cell_type": "code",
   "execution_count": 38,
   "metadata": {
    "ExecuteTime": {
     "end_time": "2020-05-03T03:25:33.795172Z",
     "start_time": "2020-05-03T03:25:33.784481Z"
    }
   },
   "outputs": [
    {
     "data": {
      "text/plain": [
       "0.1956605232419468"
      ]
     },
     "execution_count": 38,
     "metadata": {},
     "output_type": "execute_result"
    }
   ],
   "source": [
    "np.abs((sum(fvst['forecasts']) - sum(fvst['real']))/sum(fvst['real']))"
   ]
  },
  {
   "cell_type": "code",
   "execution_count": null,
   "metadata": {},
   "outputs": [],
   "source": []
  }
 ],
 "metadata": {
  "kernelspec": {
   "display_name": "Python 3",
   "language": "python",
   "name": "python3"
  },
  "language_info": {
   "codemirror_mode": {
    "name": "ipython",
    "version": 3
   },
   "file_extension": ".py",
   "mimetype": "text/x-python",
   "name": "python",
   "nbconvert_exporter": "python",
   "pygments_lexer": "ipython3",
   "version": "3.7.4"
  }
 },
 "nbformat": 4,
 "nbformat_minor": 2
}
