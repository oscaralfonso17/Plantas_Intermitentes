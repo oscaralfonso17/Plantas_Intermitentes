{
 "cells": [
  {
   "cell_type": "code",
   "execution_count": 1,
   "metadata": {
    "ExecuteTime": {
     "end_time": "2020-05-03T02:20:19.339278Z",
     "start_time": "2020-05-03T02:20:19.315917Z"
    }
   },
   "outputs": [
    {
     "name": "stdout",
     "output_type": "stream",
     "text": [
      "Planta a Analizar:  9\n"
     ]
    }
   ],
   "source": [
    "planta = 9\n",
    "print(\"Planta a Analizar: \", planta)"
   ]
  },
  {
   "cell_type": "code",
   "execution_count": 2,
   "metadata": {
    "ExecuteTime": {
     "end_time": "2020-05-03T02:20:21.684508Z",
     "start_time": "2020-05-03T02:20:19.344297Z"
    }
   },
   "outputs": [
    {
     "data": {
      "text/html": [
       " <style> .output {display: center; align-items: center; text-align: center; justify-content: center; } </style> "
      ],
      "text/plain": [
       "<IPython.core.display.HTML object>"
      ]
     },
     "metadata": {},
     "output_type": "display_data"
    }
   ],
   "source": [
    "import pandas as pd\n",
    "import numpy as np\n",
    "import matplotlib as mpl\n",
    "import scipy.stats as st\n",
    "import seaborn as sns\n",
    "import statsmodels.api as sm\n",
    "from datetime import datetime\n",
    "import matplotlib.pyplot as plt\n",
    "from statsmodels.tsa.arima_model import ARIMA\n",
    "import pmdarima as pm\n",
    "from pmdarima.model_selection import train_test_split\n",
    "import matplotlib.pyplot as plt\n",
    "import warnings\n",
    "warnings.filterwarnings(\"ignore\")\n",
    "from statsmodels.tsa.stattools import acf\n",
    "import datetime\n",
    "from statsmodels.graphics.tsaplots import plot_acf, plot_pacf\n",
    "from sklearn.metrics import mean_squared_error\n",
    "\n",
    "from numpy import inf\n",
    "\n",
    "from IPython.display import display, HTML\n",
    "display(HTML(\"\"\" <style> .output {display: center; align-items: center; text-align: center; justify-content: center; } </style> \"\"\"))"
   ]
  },
  {
   "cell_type": "code",
   "execution_count": 56,
   "metadata": {
    "ExecuteTime": {
     "end_time": "2020-05-03T02:39:41.936277Z",
     "start_time": "2020-05-03T02:39:31.474631Z"
    }
   },
   "outputs": [],
   "source": [
    "#Importación de datos\n",
    "datos = pd.read_excel('Generación Intermitente de la GCROC 2013-2020.xlsx', header=1)"
   ]
  },
  {
   "cell_type": "code",
   "execution_count": 58,
   "metadata": {
    "ExecuteTime": {
     "end_time": "2020-05-03T02:48:23.597336Z",
     "start_time": "2020-05-03T02:48:23.566703Z"
    }
   },
   "outputs": [],
   "source": [
    "numbers = datos.hora-1\n",
    "hours = [datetime.time(num).strftime(\"%H:00:00\") for num in numbers]\n",
    "datos['fecha'] = datos['fecha'].replace(0,np.nan).ffill()\n",
    "datos['fecha'] = pd.to_datetime(datos['fecha'])\n",
    "datos['fecha'] = datos['fecha'].dt.date\n",
    "datos['fecha_hora'] = datos[\"fecha\"].astype(str) + ' ' + hours\n",
    "#LIMPIEZA DE DATOS\n",
    "datos = datos.set_index(datos['fecha_hora'])\n",
    "datos = datos.loc['2020-01-01 00:00:00':]\n",
    "\n",
    "datos = datos.drop(datos.index[-24:])"
   ]
  },
  {
   "cell_type": "code",
   "execution_count": 59,
   "metadata": {
    "ExecuteTime": {
     "end_time": "2020-05-03T02:48:23.988562Z",
     "start_time": "2020-05-03T02:48:23.981761Z"
    }
   },
   "outputs": [],
   "source": [
    "columns = ['GICIE301', 'GICIE302','GICIE303','GICIE304','GICIE305','GICIS306', 'GICIS307','GICIS308',\n",
    "          'GICIS309','GICIS310','GICIS311','GICIS312','GICIS313','GICIS314','GICIS315','GICIS316','GICIS317',\n",
    "          'GICIS318','GICIS319','GICIS320','GICIS321','GICIS322','GICIS323','GICIS324','GICIS325','GICIS326']"
   ]
  },
  {
   "cell_type": "code",
   "execution_count": 60,
   "metadata": {
    "ExecuteTime": {
     "end_time": "2020-05-03T02:48:24.341119Z",
     "start_time": "2020-05-03T02:48:24.332794Z"
    }
   },
   "outputs": [
    {
     "data": {
      "text/plain": [
       "'GICIS309'"
      ]
     },
     "execution_count": 60,
     "metadata": {},
     "output_type": "execute_result"
    }
   ],
   "source": [
    "n_periods = 5*24\n",
    "columna = columns[planta-1]\n",
    "columna"
   ]
  },
  {
   "cell_type": "code",
   "execution_count": 61,
   "metadata": {
    "ExecuteTime": {
     "end_time": "2020-05-03T02:48:24.611606Z",
     "start_time": "2020-05-03T02:48:24.593906Z"
    },
    "scrolled": false
   },
   "outputs": [
    {
     "data": {
      "text/html": [
       "<div>\n",
       "<style scoped>\n",
       "    .dataframe tbody tr th:only-of-type {\n",
       "        vertical-align: middle;\n",
       "    }\n",
       "\n",
       "    .dataframe tbody tr th {\n",
       "        vertical-align: top;\n",
       "    }\n",
       "\n",
       "    .dataframe thead th {\n",
       "        text-align: right;\n",
       "    }\n",
       "</style>\n",
       "<table border=\"1\" class=\"dataframe\">\n",
       "  <thead>\n",
       "    <tr style=\"text-align: right;\">\n",
       "      <th></th>\n",
       "      <th>hora</th>\n",
       "      <th>GICIS309</th>\n",
       "    </tr>\n",
       "    <tr>\n",
       "      <th>fecha_hora</th>\n",
       "      <th></th>\n",
       "      <th></th>\n",
       "    </tr>\n",
       "  </thead>\n",
       "  <tbody>\n",
       "    <tr>\n",
       "      <td>2020-01-01 00:00:00</td>\n",
       "      <td>1</td>\n",
       "      <td>0.0</td>\n",
       "    </tr>\n",
       "    <tr>\n",
       "      <td>2020-01-01 01:00:00</td>\n",
       "      <td>2</td>\n",
       "      <td>0.0</td>\n",
       "    </tr>\n",
       "    <tr>\n",
       "      <td>2020-01-01 02:00:00</td>\n",
       "      <td>3</td>\n",
       "      <td>0.0</td>\n",
       "    </tr>\n",
       "    <tr>\n",
       "      <td>2020-01-01 03:00:00</td>\n",
       "      <td>4</td>\n",
       "      <td>0.0</td>\n",
       "    </tr>\n",
       "    <tr>\n",
       "      <td>2020-01-01 04:00:00</td>\n",
       "      <td>5</td>\n",
       "      <td>0.0</td>\n",
       "    </tr>\n",
       "  </tbody>\n",
       "</table>\n",
       "</div>"
      ],
      "text/plain": [
       "                     hora  GICIS309\n",
       "fecha_hora                         \n",
       "2020-01-01 00:00:00     1       0.0\n",
       "2020-01-01 01:00:00     2       0.0\n",
       "2020-01-01 02:00:00     3       0.0\n",
       "2020-01-01 03:00:00     4       0.0\n",
       "2020-01-01 04:00:00     5       0.0"
      ]
     },
     "execution_count": 61,
     "metadata": {},
     "output_type": "execute_result"
    }
   ],
   "source": [
    "df = datos[['hora',columna]]\n",
    "df[columna] = (df[columna]) # para efectos de las tranformaciones logaritmicas(eliminar el 0)\n",
    "df = df.dropna()\n",
    "df.head()"
   ]
  },
  {
   "cell_type": "code",
   "execution_count": 62,
   "metadata": {
    "ExecuteTime": {
     "end_time": "2020-05-03T02:48:24.976870Z",
     "start_time": "2020-05-03T02:48:24.962224Z"
    }
   },
   "outputs": [
    {
     "data": {
      "text/html": [
       "<div>\n",
       "<style scoped>\n",
       "    .dataframe tbody tr th:only-of-type {\n",
       "        vertical-align: middle;\n",
       "    }\n",
       "\n",
       "    .dataframe tbody tr th {\n",
       "        vertical-align: top;\n",
       "    }\n",
       "\n",
       "    .dataframe thead th {\n",
       "        text-align: right;\n",
       "    }\n",
       "</style>\n",
       "<table border=\"1\" class=\"dataframe\">\n",
       "  <thead>\n",
       "    <tr style=\"text-align: right;\">\n",
       "      <th></th>\n",
       "      <th>GICIS309</th>\n",
       "    </tr>\n",
       "    <tr>\n",
       "      <th>fecha_hora</th>\n",
       "      <th></th>\n",
       "    </tr>\n",
       "  </thead>\n",
       "  <tbody>\n",
       "    <tr>\n",
       "      <td>2020-01-01 00:00:00</td>\n",
       "      <td>0.0</td>\n",
       "    </tr>\n",
       "    <tr>\n",
       "      <td>2020-01-01 01:00:00</td>\n",
       "      <td>0.0</td>\n",
       "    </tr>\n",
       "    <tr>\n",
       "      <td>2020-01-01 02:00:00</td>\n",
       "      <td>0.0</td>\n",
       "    </tr>\n",
       "    <tr>\n",
       "      <td>2020-01-01 03:00:00</td>\n",
       "      <td>0.0</td>\n",
       "    </tr>\n",
       "    <tr>\n",
       "      <td>2020-01-01 04:00:00</td>\n",
       "      <td>0.0</td>\n",
       "    </tr>\n",
       "    <tr>\n",
       "      <td>...</td>\n",
       "      <td>...</td>\n",
       "    </tr>\n",
       "    <tr>\n",
       "      <td>2020-03-07 19:00:00</td>\n",
       "      <td>44.0</td>\n",
       "    </tr>\n",
       "    <tr>\n",
       "      <td>2020-03-07 20:00:00</td>\n",
       "      <td>44.0</td>\n",
       "    </tr>\n",
       "    <tr>\n",
       "      <td>2020-03-07 21:00:00</td>\n",
       "      <td>44.0</td>\n",
       "    </tr>\n",
       "    <tr>\n",
       "      <td>2020-03-07 22:00:00</td>\n",
       "      <td>44.0</td>\n",
       "    </tr>\n",
       "    <tr>\n",
       "      <td>2020-03-07 23:00:00</td>\n",
       "      <td>44.0</td>\n",
       "    </tr>\n",
       "  </tbody>\n",
       "</table>\n",
       "<p>1608 rows × 1 columns</p>\n",
       "</div>"
      ],
      "text/plain": [
       "                     GICIS309\n",
       "fecha_hora                   \n",
       "2020-01-01 00:00:00       0.0\n",
       "2020-01-01 01:00:00       0.0\n",
       "2020-01-01 02:00:00       0.0\n",
       "2020-01-01 03:00:00       0.0\n",
       "2020-01-01 04:00:00       0.0\n",
       "...                       ...\n",
       "2020-03-07 19:00:00      44.0\n",
       "2020-03-07 20:00:00      44.0\n",
       "2020-03-07 21:00:00      44.0\n",
       "2020-03-07 22:00:00      44.0\n",
       "2020-03-07 23:00:00      44.0\n",
       "\n",
       "[1608 rows x 1 columns]"
      ]
     },
     "execution_count": 62,
     "metadata": {},
     "output_type": "execute_result"
    }
   ],
   "source": [
    "df2 = df.drop(['hora'], axis=1)\n",
    "df2"
   ]
  },
  {
   "cell_type": "markdown",
   "metadata": {},
   "source": [
    "***"
   ]
  },
  {
   "cell_type": "code",
   "execution_count": 63,
   "metadata": {
    "ExecuteTime": {
     "end_time": "2020-05-03T02:48:25.379687Z",
     "start_time": "2020-05-03T02:48:25.369050Z"
    }
   },
   "outputs": [],
   "source": [
    "#Seleccion de y_train y y_test\n",
    "  \n",
    "n = 1 #numero de dias a simular\n",
    "test = (df.iloc[-(1*24):,:])   # INFO DE TEST (n DIAS)\n",
    "train = df.drop(df.index[:(1*24)]) # QUITANDO TEST PARA TRAIN"
   ]
  },
  {
   "cell_type": "code",
   "execution_count": 64,
   "metadata": {
    "ExecuteTime": {
     "end_time": "2020-05-03T02:48:25.442373Z",
     "start_time": "2020-05-03T02:48:25.423764Z"
    },
    "scrolled": true
   },
   "outputs": [
    {
     "data": {
      "text/html": [
       "<div>\n",
       "<style scoped>\n",
       "    .dataframe tbody tr th:only-of-type {\n",
       "        vertical-align: middle;\n",
       "    }\n",
       "\n",
       "    .dataframe tbody tr th {\n",
       "        vertical-align: top;\n",
       "    }\n",
       "\n",
       "    .dataframe thead th {\n",
       "        text-align: right;\n",
       "    }\n",
       "</style>\n",
       "<table border=\"1\" class=\"dataframe\">\n",
       "  <thead>\n",
       "    <tr style=\"text-align: right;\">\n",
       "      <th></th>\n",
       "      <th>hora</th>\n",
       "      <th>GICIS309</th>\n",
       "    </tr>\n",
       "    <tr>\n",
       "      <th>fecha_hora</th>\n",
       "      <th></th>\n",
       "      <th></th>\n",
       "    </tr>\n",
       "  </thead>\n",
       "  <tbody>\n",
       "    <tr>\n",
       "      <td>2020-01-02 00:00:00</td>\n",
       "      <td>1</td>\n",
       "      <td>0.0</td>\n",
       "    </tr>\n",
       "    <tr>\n",
       "      <td>2020-01-02 01:00:00</td>\n",
       "      <td>2</td>\n",
       "      <td>0.0</td>\n",
       "    </tr>\n",
       "    <tr>\n",
       "      <td>2020-01-02 02:00:00</td>\n",
       "      <td>3</td>\n",
       "      <td>0.0</td>\n",
       "    </tr>\n",
       "    <tr>\n",
       "      <td>2020-01-02 03:00:00</td>\n",
       "      <td>4</td>\n",
       "      <td>0.0</td>\n",
       "    </tr>\n",
       "    <tr>\n",
       "      <td>2020-01-02 04:00:00</td>\n",
       "      <td>5</td>\n",
       "      <td>0.0</td>\n",
       "    </tr>\n",
       "    <tr>\n",
       "      <td>...</td>\n",
       "      <td>...</td>\n",
       "      <td>...</td>\n",
       "    </tr>\n",
       "    <tr>\n",
       "      <td>2020-03-07 19:00:00</td>\n",
       "      <td>20</td>\n",
       "      <td>44.0</td>\n",
       "    </tr>\n",
       "    <tr>\n",
       "      <td>2020-03-07 20:00:00</td>\n",
       "      <td>21</td>\n",
       "      <td>44.0</td>\n",
       "    </tr>\n",
       "    <tr>\n",
       "      <td>2020-03-07 21:00:00</td>\n",
       "      <td>22</td>\n",
       "      <td>44.0</td>\n",
       "    </tr>\n",
       "    <tr>\n",
       "      <td>2020-03-07 22:00:00</td>\n",
       "      <td>23</td>\n",
       "      <td>44.0</td>\n",
       "    </tr>\n",
       "    <tr>\n",
       "      <td>2020-03-07 23:00:00</td>\n",
       "      <td>24</td>\n",
       "      <td>44.0</td>\n",
       "    </tr>\n",
       "  </tbody>\n",
       "</table>\n",
       "<p>1584 rows × 2 columns</p>\n",
       "</div>"
      ],
      "text/plain": [
       "                     hora  GICIS309\n",
       "fecha_hora                         \n",
       "2020-01-02 00:00:00     1       0.0\n",
       "2020-01-02 01:00:00     2       0.0\n",
       "2020-01-02 02:00:00     3       0.0\n",
       "2020-01-02 03:00:00     4       0.0\n",
       "2020-01-02 04:00:00     5       0.0\n",
       "...                   ...       ...\n",
       "2020-03-07 19:00:00    20      44.0\n",
       "2020-03-07 20:00:00    21      44.0\n",
       "2020-03-07 21:00:00    22      44.0\n",
       "2020-03-07 22:00:00    23      44.0\n",
       "2020-03-07 23:00:00    24      44.0\n",
       "\n",
       "[1584 rows x 2 columns]"
      ]
     },
     "execution_count": 64,
     "metadata": {},
     "output_type": "execute_result"
    }
   ],
   "source": [
    "train"
   ]
  },
  {
   "cell_type": "code",
   "execution_count": 65,
   "metadata": {
    "ExecuteTime": {
     "end_time": "2020-05-03T02:48:25.789945Z",
     "start_time": "2020-05-03T02:48:25.780918Z"
    }
   },
   "outputs": [
    {
     "data": {
      "text/plain": [
       "hora        7.0\n",
       "GICIS309    0.0\n",
       "Name: 2020-01-02 06:00:00, dtype: float64"
      ]
     },
     "execution_count": 65,
     "metadata": {},
     "output_type": "execute_result"
    }
   ],
   "source": [
    "train.iloc[6]"
   ]
  },
  {
   "cell_type": "code",
   "execution_count": 66,
   "metadata": {
    "ExecuteTime": {
     "end_time": "2020-05-03T02:48:25.839404Z",
     "start_time": "2020-05-03T02:48:25.827171Z"
    },
    "scrolled": true
   },
   "outputs": [
    {
     "data": {
      "text/html": [
       "<div>\n",
       "<style scoped>\n",
       "    .dataframe tbody tr th:only-of-type {\n",
       "        vertical-align: middle;\n",
       "    }\n",
       "\n",
       "    .dataframe tbody tr th {\n",
       "        vertical-align: top;\n",
       "    }\n",
       "\n",
       "    .dataframe thead th {\n",
       "        text-align: right;\n",
       "    }\n",
       "</style>\n",
       "<table border=\"1\" class=\"dataframe\">\n",
       "  <thead>\n",
       "    <tr style=\"text-align: right;\">\n",
       "      <th></th>\n",
       "      <th>hora</th>\n",
       "      <th>GICIS309</th>\n",
       "    </tr>\n",
       "    <tr>\n",
       "      <th>fecha_hora</th>\n",
       "      <th></th>\n",
       "      <th></th>\n",
       "    </tr>\n",
       "  </thead>\n",
       "  <tbody>\n",
       "    <tr>\n",
       "      <td>2020-03-07 00:00:00</td>\n",
       "      <td>1</td>\n",
       "      <td>40.0</td>\n",
       "    </tr>\n",
       "    <tr>\n",
       "      <td>2020-03-07 01:00:00</td>\n",
       "      <td>2</td>\n",
       "      <td>40.0</td>\n",
       "    </tr>\n",
       "    <tr>\n",
       "      <td>2020-03-07 02:00:00</td>\n",
       "      <td>3</td>\n",
       "      <td>20.0</td>\n",
       "    </tr>\n",
       "    <tr>\n",
       "      <td>2020-03-07 03:00:00</td>\n",
       "      <td>4</td>\n",
       "      <td>0.0</td>\n",
       "    </tr>\n",
       "    <tr>\n",
       "      <td>2020-03-07 04:00:00</td>\n",
       "      <td>5</td>\n",
       "      <td>0.0</td>\n",
       "    </tr>\n",
       "    <tr>\n",
       "      <td>2020-03-07 05:00:00</td>\n",
       "      <td>6</td>\n",
       "      <td>0.0</td>\n",
       "    </tr>\n",
       "    <tr>\n",
       "      <td>2020-03-07 06:00:00</td>\n",
       "      <td>7</td>\n",
       "      <td>0.0</td>\n",
       "    </tr>\n",
       "    <tr>\n",
       "      <td>2020-03-07 07:00:00</td>\n",
       "      <td>8</td>\n",
       "      <td>483.0</td>\n",
       "    </tr>\n",
       "    <tr>\n",
       "      <td>2020-03-07 08:00:00</td>\n",
       "      <td>9</td>\n",
       "      <td>3312.0</td>\n",
       "    </tr>\n",
       "    <tr>\n",
       "      <td>2020-03-07 09:00:00</td>\n",
       "      <td>10</td>\n",
       "      <td>4590.0</td>\n",
       "    </tr>\n",
       "    <tr>\n",
       "      <td>2020-03-07 10:00:00</td>\n",
       "      <td>11</td>\n",
       "      <td>5533.0</td>\n",
       "    </tr>\n",
       "    <tr>\n",
       "      <td>2020-03-07 11:00:00</td>\n",
       "      <td>12</td>\n",
       "      <td>9922.0</td>\n",
       "    </tr>\n",
       "    <tr>\n",
       "      <td>2020-03-07 12:00:00</td>\n",
       "      <td>13</td>\n",
       "      <td>10323.0</td>\n",
       "    </tr>\n",
       "    <tr>\n",
       "      <td>2020-03-07 13:00:00</td>\n",
       "      <td>14</td>\n",
       "      <td>7155.0</td>\n",
       "    </tr>\n",
       "    <tr>\n",
       "      <td>2020-03-07 14:00:00</td>\n",
       "      <td>15</td>\n",
       "      <td>6574.0</td>\n",
       "    </tr>\n",
       "    <tr>\n",
       "      <td>2020-03-07 15:00:00</td>\n",
       "      <td>16</td>\n",
       "      <td>9176.0</td>\n",
       "    </tr>\n",
       "    <tr>\n",
       "      <td>2020-03-07 16:00:00</td>\n",
       "      <td>17</td>\n",
       "      <td>6691.0</td>\n",
       "    </tr>\n",
       "    <tr>\n",
       "      <td>2020-03-07 17:00:00</td>\n",
       "      <td>18</td>\n",
       "      <td>2148.0</td>\n",
       "    </tr>\n",
       "    <tr>\n",
       "      <td>2020-03-07 18:00:00</td>\n",
       "      <td>19</td>\n",
       "      <td>412.0</td>\n",
       "    </tr>\n",
       "    <tr>\n",
       "      <td>2020-03-07 19:00:00</td>\n",
       "      <td>20</td>\n",
       "      <td>44.0</td>\n",
       "    </tr>\n",
       "    <tr>\n",
       "      <td>2020-03-07 20:00:00</td>\n",
       "      <td>21</td>\n",
       "      <td>44.0</td>\n",
       "    </tr>\n",
       "    <tr>\n",
       "      <td>2020-03-07 21:00:00</td>\n",
       "      <td>22</td>\n",
       "      <td>44.0</td>\n",
       "    </tr>\n",
       "    <tr>\n",
       "      <td>2020-03-07 22:00:00</td>\n",
       "      <td>23</td>\n",
       "      <td>44.0</td>\n",
       "    </tr>\n",
       "    <tr>\n",
       "      <td>2020-03-07 23:00:00</td>\n",
       "      <td>24</td>\n",
       "      <td>44.0</td>\n",
       "    </tr>\n",
       "  </tbody>\n",
       "</table>\n",
       "</div>"
      ],
      "text/plain": [
       "                     hora  GICIS309\n",
       "fecha_hora                         \n",
       "2020-03-07 00:00:00     1      40.0\n",
       "2020-03-07 01:00:00     2      40.0\n",
       "2020-03-07 02:00:00     3      20.0\n",
       "2020-03-07 03:00:00     4       0.0\n",
       "2020-03-07 04:00:00     5       0.0\n",
       "2020-03-07 05:00:00     6       0.0\n",
       "2020-03-07 06:00:00     7       0.0\n",
       "2020-03-07 07:00:00     8     483.0\n",
       "2020-03-07 08:00:00     9    3312.0\n",
       "2020-03-07 09:00:00    10    4590.0\n",
       "2020-03-07 10:00:00    11    5533.0\n",
       "2020-03-07 11:00:00    12    9922.0\n",
       "2020-03-07 12:00:00    13   10323.0\n",
       "2020-03-07 13:00:00    14    7155.0\n",
       "2020-03-07 14:00:00    15    6574.0\n",
       "2020-03-07 15:00:00    16    9176.0\n",
       "2020-03-07 16:00:00    17    6691.0\n",
       "2020-03-07 17:00:00    18    2148.0\n",
       "2020-03-07 18:00:00    19     412.0\n",
       "2020-03-07 19:00:00    20      44.0\n",
       "2020-03-07 20:00:00    21      44.0\n",
       "2020-03-07 21:00:00    22      44.0\n",
       "2020-03-07 22:00:00    23      44.0\n",
       "2020-03-07 23:00:00    24      44.0"
      ]
     },
     "execution_count": 66,
     "metadata": {},
     "output_type": "execute_result"
    }
   ],
   "source": [
    "test"
   ]
  },
  {
   "cell_type": "code",
   "execution_count": 67,
   "metadata": {
    "ExecuteTime": {
     "end_time": "2020-05-03T02:48:32.896838Z",
     "start_time": "2020-05-03T02:48:26.190706Z"
    }
   },
   "outputs": [
    {
     "data": {
      "text/html": [
       "<div>\n",
       "<style scoped>\n",
       "    .dataframe tbody tr th:only-of-type {\n",
       "        vertical-align: middle;\n",
       "    }\n",
       "\n",
       "    .dataframe tbody tr th {\n",
       "        vertical-align: top;\n",
       "    }\n",
       "\n",
       "    .dataframe thead th {\n",
       "        text-align: right;\n",
       "    }\n",
       "</style>\n",
       "<table border=\"1\" class=\"dataframe\">\n",
       "  <thead>\n",
       "    <tr style=\"text-align: right;\">\n",
       "      <th></th>\n",
       "      <th>Hora 1</th>\n",
       "      <th>Hora 2</th>\n",
       "      <th>Hora 3</th>\n",
       "      <th>Hora 4</th>\n",
       "      <th>Hora 5</th>\n",
       "      <th>Hora 6</th>\n",
       "      <th>Hora 7</th>\n",
       "      <th>Hora 8</th>\n",
       "      <th>Hora 9</th>\n",
       "      <th>Hora 10</th>\n",
       "      <th>...</th>\n",
       "      <th>Hora 15</th>\n",
       "      <th>Hora 16</th>\n",
       "      <th>Hora 17</th>\n",
       "      <th>Hora 18</th>\n",
       "      <th>Hora 19</th>\n",
       "      <th>Hora 20</th>\n",
       "      <th>Hora 21</th>\n",
       "      <th>Hora 22</th>\n",
       "      <th>Hora 23</th>\n",
       "      <th>Hora 24</th>\n",
       "    </tr>\n",
       "  </thead>\n",
       "  <tbody>\n",
       "    <tr>\n",
       "      <td>0</td>\n",
       "      <td>0.0</td>\n",
       "      <td>0.0</td>\n",
       "      <td>0.0</td>\n",
       "      <td>0.0</td>\n",
       "      <td>0.0</td>\n",
       "      <td>0.0</td>\n",
       "      <td>0.0</td>\n",
       "      <td>0.0</td>\n",
       "      <td>1126.0</td>\n",
       "      <td>1135.0</td>\n",
       "      <td>...</td>\n",
       "      <td>10386.0</td>\n",
       "      <td>9339.0</td>\n",
       "      <td>6533.0</td>\n",
       "      <td>1822.0</td>\n",
       "      <td>120.0</td>\n",
       "      <td>0.0</td>\n",
       "      <td>0.0</td>\n",
       "      <td>0.0</td>\n",
       "      <td>0.0</td>\n",
       "      <td>0.0</td>\n",
       "    </tr>\n",
       "    <tr>\n",
       "      <td>1</td>\n",
       "      <td>0.0</td>\n",
       "      <td>0.0</td>\n",
       "      <td>0.0</td>\n",
       "      <td>0.0</td>\n",
       "      <td>0.0</td>\n",
       "      <td>0.0</td>\n",
       "      <td>0.0</td>\n",
       "      <td>0.0</td>\n",
       "      <td>1452.0</td>\n",
       "      <td>6446.0</td>\n",
       "      <td>...</td>\n",
       "      <td>10314.0</td>\n",
       "      <td>9188.0</td>\n",
       "      <td>6631.0</td>\n",
       "      <td>1962.0</td>\n",
       "      <td>109.0</td>\n",
       "      <td>0.0</td>\n",
       "      <td>0.0</td>\n",
       "      <td>0.0</td>\n",
       "      <td>0.0</td>\n",
       "      <td>0.0</td>\n",
       "    </tr>\n",
       "    <tr>\n",
       "      <td>2</td>\n",
       "      <td>0.0</td>\n",
       "      <td>0.0</td>\n",
       "      <td>0.0</td>\n",
       "      <td>0.0</td>\n",
       "      <td>0.0</td>\n",
       "      <td>0.0</td>\n",
       "      <td>0.0</td>\n",
       "      <td>60.0</td>\n",
       "      <td>1594.0</td>\n",
       "      <td>5912.0</td>\n",
       "      <td>...</td>\n",
       "      <td>10258.0</td>\n",
       "      <td>9201.0</td>\n",
       "      <td>6045.0</td>\n",
       "      <td>1914.0</td>\n",
       "      <td>95.0</td>\n",
       "      <td>46.0</td>\n",
       "      <td>46.0</td>\n",
       "      <td>46.0</td>\n",
       "      <td>46.0</td>\n",
       "      <td>46.0</td>\n",
       "    </tr>\n",
       "    <tr>\n",
       "      <td>3</td>\n",
       "      <td>46.0</td>\n",
       "      <td>24.0</td>\n",
       "      <td>0.0</td>\n",
       "      <td>0.0</td>\n",
       "      <td>0.0</td>\n",
       "      <td>0.0</td>\n",
       "      <td>0.0</td>\n",
       "      <td>11.0</td>\n",
       "      <td>1452.0</td>\n",
       "      <td>6828.0</td>\n",
       "      <td>...</td>\n",
       "      <td>10397.0</td>\n",
       "      <td>9155.0</td>\n",
       "      <td>6526.0</td>\n",
       "      <td>1975.0</td>\n",
       "      <td>101.0</td>\n",
       "      <td>44.0</td>\n",
       "      <td>44.0</td>\n",
       "      <td>44.0</td>\n",
       "      <td>44.0</td>\n",
       "      <td>44.0</td>\n",
       "    </tr>\n",
       "    <tr>\n",
       "      <td>4</td>\n",
       "      <td>44.0</td>\n",
       "      <td>36.0</td>\n",
       "      <td>0.0</td>\n",
       "      <td>0.0</td>\n",
       "      <td>0.0</td>\n",
       "      <td>0.0</td>\n",
       "      <td>0.0</td>\n",
       "      <td>20.0</td>\n",
       "      <td>1370.0</td>\n",
       "      <td>6594.0</td>\n",
       "      <td>...</td>\n",
       "      <td>10276.0</td>\n",
       "      <td>9086.0</td>\n",
       "      <td>6554.0</td>\n",
       "      <td>1949.0</td>\n",
       "      <td>119.0</td>\n",
       "      <td>56.0</td>\n",
       "      <td>56.0</td>\n",
       "      <td>56.0</td>\n",
       "      <td>56.0</td>\n",
       "      <td>56.0</td>\n",
       "    </tr>\n",
       "    <tr>\n",
       "      <td>...</td>\n",
       "      <td>...</td>\n",
       "      <td>...</td>\n",
       "      <td>...</td>\n",
       "      <td>...</td>\n",
       "      <td>...</td>\n",
       "      <td>...</td>\n",
       "      <td>...</td>\n",
       "      <td>...</td>\n",
       "      <td>...</td>\n",
       "      <td>...</td>\n",
       "      <td>...</td>\n",
       "      <td>...</td>\n",
       "      <td>...</td>\n",
       "      <td>...</td>\n",
       "      <td>...</td>\n",
       "      <td>...</td>\n",
       "      <td>...</td>\n",
       "      <td>...</td>\n",
       "      <td>...</td>\n",
       "      <td>...</td>\n",
       "      <td>...</td>\n",
       "    </tr>\n",
       "    <tr>\n",
       "      <td>60</td>\n",
       "      <td>0.0</td>\n",
       "      <td>0.0</td>\n",
       "      <td>0.0</td>\n",
       "      <td>0.0</td>\n",
       "      <td>0.0</td>\n",
       "      <td>0.0</td>\n",
       "      <td>0.0</td>\n",
       "      <td>383.0</td>\n",
       "      <td>4167.0</td>\n",
       "      <td>7600.0</td>\n",
       "      <td>...</td>\n",
       "      <td>10243.0</td>\n",
       "      <td>9422.0</td>\n",
       "      <td>7561.0</td>\n",
       "      <td>4160.0</td>\n",
       "      <td>826.0</td>\n",
       "      <td>18.0</td>\n",
       "      <td>18.0</td>\n",
       "      <td>18.0</td>\n",
       "      <td>18.0</td>\n",
       "      <td>18.0</td>\n",
       "    </tr>\n",
       "    <tr>\n",
       "      <td>61</td>\n",
       "      <td>0.0</td>\n",
       "      <td>0.0</td>\n",
       "      <td>0.0</td>\n",
       "      <td>0.0</td>\n",
       "      <td>0.0</td>\n",
       "      <td>0.0</td>\n",
       "      <td>0.0</td>\n",
       "      <td>1108.0</td>\n",
       "      <td>4143.0</td>\n",
       "      <td>7867.0</td>\n",
       "      <td>...</td>\n",
       "      <td>10317.0</td>\n",
       "      <td>9158.0</td>\n",
       "      <td>6834.0</td>\n",
       "      <td>4149.0</td>\n",
       "      <td>976.0</td>\n",
       "      <td>0.0</td>\n",
       "      <td>0.0</td>\n",
       "      <td>0.0</td>\n",
       "      <td>0.0</td>\n",
       "      <td>0.0</td>\n",
       "    </tr>\n",
       "    <tr>\n",
       "      <td>62</td>\n",
       "      <td>8.0</td>\n",
       "      <td>8.0</td>\n",
       "      <td>8.0</td>\n",
       "      <td>0.0</td>\n",
       "      <td>0.0</td>\n",
       "      <td>0.0</td>\n",
       "      <td>0.0</td>\n",
       "      <td>462.0</td>\n",
       "      <td>3990.0</td>\n",
       "      <td>7819.0</td>\n",
       "      <td>...</td>\n",
       "      <td>8200.0</td>\n",
       "      <td>6892.0</td>\n",
       "      <td>3366.0</td>\n",
       "      <td>2369.0</td>\n",
       "      <td>545.0</td>\n",
       "      <td>24.0</td>\n",
       "      <td>24.0</td>\n",
       "      <td>24.0</td>\n",
       "      <td>24.0</td>\n",
       "      <td>24.0</td>\n",
       "    </tr>\n",
       "    <tr>\n",
       "      <td>63</td>\n",
       "      <td>0.0</td>\n",
       "      <td>0.0</td>\n",
       "      <td>0.0</td>\n",
       "      <td>0.0</td>\n",
       "      <td>0.0</td>\n",
       "      <td>0.0</td>\n",
       "      <td>0.0</td>\n",
       "      <td>471.0</td>\n",
       "      <td>2869.0</td>\n",
       "      <td>5638.0</td>\n",
       "      <td>...</td>\n",
       "      <td>9765.0</td>\n",
       "      <td>7900.0</td>\n",
       "      <td>6890.0</td>\n",
       "      <td>3451.0</td>\n",
       "      <td>968.0</td>\n",
       "      <td>0.0</td>\n",
       "      <td>0.0</td>\n",
       "      <td>0.0</td>\n",
       "      <td>0.0</td>\n",
       "      <td>0.0</td>\n",
       "    </tr>\n",
       "    <tr>\n",
       "      <td>64</td>\n",
       "      <td>37.0</td>\n",
       "      <td>37.0</td>\n",
       "      <td>28.0</td>\n",
       "      <td>0.0</td>\n",
       "      <td>0.0</td>\n",
       "      <td>0.0</td>\n",
       "      <td>0.0</td>\n",
       "      <td>477.0</td>\n",
       "      <td>2390.0</td>\n",
       "      <td>7153.0</td>\n",
       "      <td>...</td>\n",
       "      <td>9180.0</td>\n",
       "      <td>5175.0</td>\n",
       "      <td>4259.0</td>\n",
       "      <td>2138.0</td>\n",
       "      <td>436.0</td>\n",
       "      <td>40.0</td>\n",
       "      <td>40.0</td>\n",
       "      <td>40.0</td>\n",
       "      <td>40.0</td>\n",
       "      <td>40.0</td>\n",
       "    </tr>\n",
       "  </tbody>\n",
       "</table>\n",
       "<p>65 rows × 24 columns</p>\n",
       "</div>"
      ],
      "text/plain": [
       "    Hora 1  Hora 2  Hora 3  Hora 4  Hora 5  Hora 6  Hora 7  Hora 8  Hora 9  \\\n",
       "0      0.0     0.0     0.0     0.0     0.0     0.0     0.0     0.0  1126.0   \n",
       "1      0.0     0.0     0.0     0.0     0.0     0.0     0.0     0.0  1452.0   \n",
       "2      0.0     0.0     0.0     0.0     0.0     0.0     0.0    60.0  1594.0   \n",
       "3     46.0    24.0     0.0     0.0     0.0     0.0     0.0    11.0  1452.0   \n",
       "4     44.0    36.0     0.0     0.0     0.0     0.0     0.0    20.0  1370.0   \n",
       "..     ...     ...     ...     ...     ...     ...     ...     ...     ...   \n",
       "60     0.0     0.0     0.0     0.0     0.0     0.0     0.0   383.0  4167.0   \n",
       "61     0.0     0.0     0.0     0.0     0.0     0.0     0.0  1108.0  4143.0   \n",
       "62     8.0     8.0     8.0     0.0     0.0     0.0     0.0   462.0  3990.0   \n",
       "63     0.0     0.0     0.0     0.0     0.0     0.0     0.0   471.0  2869.0   \n",
       "64    37.0    37.0    28.0     0.0     0.0     0.0     0.0   477.0  2390.0   \n",
       "\n",
       "    Hora 10  ...  Hora 15  Hora 16  Hora 17  Hora 18  Hora 19  Hora 20  \\\n",
       "0    1135.0  ...  10386.0   9339.0   6533.0   1822.0    120.0      0.0   \n",
       "1    6446.0  ...  10314.0   9188.0   6631.0   1962.0    109.0      0.0   \n",
       "2    5912.0  ...  10258.0   9201.0   6045.0   1914.0     95.0     46.0   \n",
       "3    6828.0  ...  10397.0   9155.0   6526.0   1975.0    101.0     44.0   \n",
       "4    6594.0  ...  10276.0   9086.0   6554.0   1949.0    119.0     56.0   \n",
       "..      ...  ...      ...      ...      ...      ...      ...      ...   \n",
       "60   7600.0  ...  10243.0   9422.0   7561.0   4160.0    826.0     18.0   \n",
       "61   7867.0  ...  10317.0   9158.0   6834.0   4149.0    976.0      0.0   \n",
       "62   7819.0  ...   8200.0   6892.0   3366.0   2369.0    545.0     24.0   \n",
       "63   5638.0  ...   9765.0   7900.0   6890.0   3451.0    968.0      0.0   \n",
       "64   7153.0  ...   9180.0   5175.0   4259.0   2138.0    436.0     40.0   \n",
       "\n",
       "    Hora 21  Hora 22  Hora 23  Hora 24  \n",
       "0       0.0      0.0      0.0      0.0  \n",
       "1       0.0      0.0      0.0      0.0  \n",
       "2      46.0     46.0     46.0     46.0  \n",
       "3      44.0     44.0     44.0     44.0  \n",
       "4      56.0     56.0     56.0     56.0  \n",
       "..      ...      ...      ...      ...  \n",
       "60     18.0     18.0     18.0     18.0  \n",
       "61      0.0      0.0      0.0      0.0  \n",
       "62     24.0     24.0     24.0     24.0  \n",
       "63      0.0      0.0      0.0      0.0  \n",
       "64     40.0     40.0     40.0     40.0  \n",
       "\n",
       "[65 rows x 24 columns]"
      ]
     },
     "execution_count": 67,
     "metadata": {},
     "output_type": "execute_result"
    }
   ],
   "source": [
    "xhr = pd.DataFrame()\n",
    "for i in range(0,24):\n",
    "    hrs = [train.iloc[j][1] for j in range(0,len(train)) if train.iloc[j][0] == i+1 ] #pd.Series()\n",
    "    xhr['Hora '+str(i+1)] = hrs\n",
    "xhr = xhr.drop([xhr.index[-1]])\n",
    "xhr"
   ]
  },
  {
   "cell_type": "code",
   "execution_count": 68,
   "metadata": {
    "ExecuteTime": {
     "end_time": "2020-05-03T02:48:32.915115Z",
     "start_time": "2020-05-03T02:48:32.904339Z"
    }
   },
   "outputs": [],
   "source": [
    "train = train.drop(['hora'], axis=1)\n",
    "test = test.drop(['hora'], axis=1)"
   ]
  },
  {
   "cell_type": "markdown",
   "metadata": {},
   "source": [
    "*** \n",
    "# Modelo ARIMA"
   ]
  },
  {
   "cell_type": "code",
   "execution_count": 81,
   "metadata": {
    "ExecuteTime": {
     "end_time": "2020-05-03T03:03:07.807194Z",
     "start_time": "2020-05-03T03:01:33.295320Z"
    }
   },
   "outputs": [
    {
     "data": {
      "image/png": "[encoded data removed]",
      "text/plain": [
       "<Figure size 576x432 with 1 Axes>"
      ]
     },
     "metadata": {
      "needs_background": "light"
     },
     "output_type": "display_data"
    }
   ],
   "source": [
    "history = [x for x in train.values]\n",
    "predictions = []\n",
    "\n",
    "for t in range(0,24):\n",
    "    model = ARIMA(history, order=(8,1,2))\n",
    "    model_fit = model.fit()\n",
    "    output = model_fit.forecast()\n",
    "    yhat = output[0]\n",
    "    predictions.append(yhat)\n",
    "    obs = test.values[t]\n",
    "    history.append(obs)\n",
    "\n",
    "for i in range(0,len(test)): # SUPUESTO 1: SI NO HUBO PRODUCCIÓN UN DÍA ANTES, NO HABRÁ ESE DÍA. \n",
    "    if test.iloc[i].values == 0:\n",
    "        predictions[i] = 0\n",
    "    if predictions[i] < 0:\n",
    "        predictions[i] = 0\n",
    "        \n",
    "# plot\n",
    "plt.subplots(figsize=(8,6))\n",
    "plt.plot(test)\n",
    "plt.plot(predictions, color='red')\n",
    "plt.xticks(rotation=90)\n",
    "plt.show()"
   ]
  },
  {
   "cell_type": "code",
   "execution_count": 93,
   "metadata": {
    "ExecuteTime": {
     "end_time": "2020-05-03T03:10:41.371781Z",
     "start_time": "2020-05-03T03:10:41.323549Z"
    }
   },
   "outputs": [
    {
     "data": {
      "text/plain": [
       "0.41217225859051937"
      ]
     },
     "execution_count": 93,
     "metadata": {},
     "output_type": "execute_result"
    }
   ],
   "source": [
    "fvst = pd.DataFrame()\n",
    "fvst['real'] = test[columna].values.flatten()\n",
    "fvst['forecasts'] = 0\n",
    "for i in range(len(fvst)):\n",
    "    if predictions[i] == 0:\n",
    "        fvst['forecasts'][i] = predictions[i]\n",
    "    else:\n",
    "        fvst['forecasts'][i] = predictions[i].item()\n",
    "fvst['error'] = 0\n",
    "\n",
    "for i in range(len(fvst)):\n",
    "    fvst['error'][i] = np.abs((fvst['forecasts'][i]- fvst['real'][i])/(fvst['real'][i]))\n",
    "\n",
    "mea = np.mean(fvst.iloc[7:19,2])\n",
    "mea"
   ]
  },
  {
   "cell_type": "code",
   "execution_count": 94,
   "metadata": {
    "ExecuteTime": {
     "end_time": "2020-05-03T03:10:41.641961Z",
     "start_time": "2020-05-03T03:10:41.611021Z"
    }
   },
   "outputs": [
    {
     "name": "stdout",
     "output_type": "stream",
     "text": [
      "3.432411886871018\n"
     ]
    },
    {
     "data": {
      "text/html": [
       "<div>\n",
       "<style scoped>\n",
       "    .dataframe tbody tr th:only-of-type {\n",
       "        vertical-align: middle;\n",
       "    }\n",
       "\n",
       "    .dataframe tbody tr th {\n",
       "        vertical-align: top;\n",
       "    }\n",
       "\n",
       "    .dataframe thead th {\n",
       "        text-align: right;\n",
       "    }\n",
       "</style>\n",
       "<table border=\"1\" class=\"dataframe\">\n",
       "  <thead>\n",
       "    <tr style=\"text-align: right;\">\n",
       "      <th></th>\n",
       "      <th>real</th>\n",
       "      <th>forecasts</th>\n",
       "      <th>error</th>\n",
       "    </tr>\n",
       "  </thead>\n",
       "  <tbody>\n",
       "    <tr>\n",
       "      <td>0</td>\n",
       "      <td>40.0</td>\n",
       "      <td>650</td>\n",
       "      <td>15.000000</td>\n",
       "    </tr>\n",
       "    <tr>\n",
       "      <td>1</td>\n",
       "      <td>40.0</td>\n",
       "      <td>638</td>\n",
       "      <td>14.000000</td>\n",
       "    </tr>\n",
       "    <tr>\n",
       "      <td>2</td>\n",
       "      <td>20.0</td>\n",
       "      <td>703</td>\n",
       "      <td>34.000000</td>\n",
       "    </tr>\n",
       "    <tr>\n",
       "      <td>3</td>\n",
       "      <td>0.0</td>\n",
       "      <td>0</td>\n",
       "      <td>0.000000</td>\n",
       "    </tr>\n",
       "    <tr>\n",
       "      <td>4</td>\n",
       "      <td>0.0</td>\n",
       "      <td>0</td>\n",
       "      <td>0.000000</td>\n",
       "    </tr>\n",
       "    <tr>\n",
       "      <td>5</td>\n",
       "      <td>0.0</td>\n",
       "      <td>0</td>\n",
       "      <td>0.000000</td>\n",
       "    </tr>\n",
       "    <tr>\n",
       "      <td>6</td>\n",
       "      <td>0.0</td>\n",
       "      <td>0</td>\n",
       "      <td>0.000000</td>\n",
       "    </tr>\n",
       "    <tr>\n",
       "      <td>7</td>\n",
       "      <td>483.0</td>\n",
       "      <td>604</td>\n",
       "      <td>0.250518</td>\n",
       "    </tr>\n",
       "    <tr>\n",
       "      <td>8</td>\n",
       "      <td>3312.0</td>\n",
       "      <td>1343</td>\n",
       "      <td>0.594505</td>\n",
       "    </tr>\n",
       "    <tr>\n",
       "      <td>9</td>\n",
       "      <td>4590.0</td>\n",
       "      <td>5128</td>\n",
       "      <td>0.117211</td>\n",
       "    </tr>\n",
       "    <tr>\n",
       "      <td>10</td>\n",
       "      <td>5533.0</td>\n",
       "      <td>5321</td>\n",
       "      <td>0.038316</td>\n",
       "    </tr>\n",
       "    <tr>\n",
       "      <td>11</td>\n",
       "      <td>9922.0</td>\n",
       "      <td>5983</td>\n",
       "      <td>0.396997</td>\n",
       "    </tr>\n",
       "    <tr>\n",
       "      <td>12</td>\n",
       "      <td>10323.0</td>\n",
       "      <td>11906</td>\n",
       "      <td>0.153347</td>\n",
       "    </tr>\n",
       "    <tr>\n",
       "      <td>13</td>\n",
       "      <td>7155.0</td>\n",
       "      <td>9792</td>\n",
       "      <td>0.368553</td>\n",
       "    </tr>\n",
       "    <tr>\n",
       "      <td>14</td>\n",
       "      <td>6574.0</td>\n",
       "      <td>4906</td>\n",
       "      <td>0.253727</td>\n",
       "    </tr>\n",
       "    <tr>\n",
       "      <td>15</td>\n",
       "      <td>9176.0</td>\n",
       "      <td>5960</td>\n",
       "      <td>0.350480</td>\n",
       "    </tr>\n",
       "    <tr>\n",
       "      <td>16</td>\n",
       "      <td>6691.0</td>\n",
       "      <td>9751</td>\n",
       "      <td>0.457331</td>\n",
       "    </tr>\n",
       "    <tr>\n",
       "      <td>17</td>\n",
       "      <td>2148.0</td>\n",
       "      <td>4221</td>\n",
       "      <td>0.965084</td>\n",
       "    </tr>\n",
       "    <tr>\n",
       "      <td>18</td>\n",
       "      <td>412.0</td>\n",
       "      <td>0</td>\n",
       "      <td>1.000000</td>\n",
       "    </tr>\n",
       "    <tr>\n",
       "      <td>19</td>\n",
       "      <td>44.0</td>\n",
       "      <td>0</td>\n",
       "      <td>1.000000</td>\n",
       "    </tr>\n",
       "    <tr>\n",
       "      <td>20</td>\n",
       "      <td>44.0</td>\n",
       "      <td>0</td>\n",
       "      <td>1.000000</td>\n",
       "    </tr>\n",
       "    <tr>\n",
       "      <td>21</td>\n",
       "      <td>44.0</td>\n",
       "      <td>0</td>\n",
       "      <td>1.000000</td>\n",
       "    </tr>\n",
       "    <tr>\n",
       "      <td>22</td>\n",
       "      <td>44.0</td>\n",
       "      <td>211</td>\n",
       "      <td>3.795455</td>\n",
       "    </tr>\n",
       "    <tr>\n",
       "      <td>23</td>\n",
       "      <td>44.0</td>\n",
       "      <td>380</td>\n",
       "      <td>7.636364</td>\n",
       "    </tr>\n",
       "  </tbody>\n",
       "</table>\n",
       "</div>"
      ],
      "text/plain": [
       "       real  forecasts      error\n",
       "0      40.0        650  15.000000\n",
       "1      40.0        638  14.000000\n",
       "2      20.0        703  34.000000\n",
       "3       0.0          0   0.000000\n",
       "4       0.0          0   0.000000\n",
       "5       0.0          0   0.000000\n",
       "6       0.0          0   0.000000\n",
       "7     483.0        604   0.250518\n",
       "8    3312.0       1343   0.594505\n",
       "9    4590.0       5128   0.117211\n",
       "10   5533.0       5321   0.038316\n",
       "11   9922.0       5983   0.396997\n",
       "12  10323.0      11906   0.153347\n",
       "13   7155.0       9792   0.368553\n",
       "14   6574.0       4906   0.253727\n",
       "15   9176.0       5960   0.350480\n",
       "16   6691.0       9751   0.457331\n",
       "17   2148.0       4221   0.965084\n",
       "18    412.0          0   1.000000\n",
       "19     44.0          0   1.000000\n",
       "20     44.0          0   1.000000\n",
       "21     44.0          0   1.000000\n",
       "22     44.0        211   3.795455\n",
       "23     44.0        380   7.636364"
      ]
     },
     "execution_count": 94,
     "metadata": {},
     "output_type": "execute_result"
    }
   ],
   "source": [
    "fvst = fvst.fillna(0)\n",
    "print(np.mean(fvst.error))\n",
    "fvst"
   ]
  },
  {
   "cell_type": "code",
   "execution_count": 95,
   "metadata": {
    "ExecuteTime": {
     "end_time": "2020-05-03T03:10:42.237855Z",
     "start_time": "2020-05-03T03:10:42.187896Z"
    }
   },
   "outputs": [
    {
     "data": {
      "text/plain": [
       "0.012875343267455994"
      ]
     },
     "execution_count": 95,
     "metadata": {},
     "output_type": "execute_result"
    }
   ],
   "source": [
    "np.abs((sum(fvst['forecasts']) - sum(fvst['real']))/sum(fvst['real']))"
   ]
  },
  {
   "cell_type": "markdown",
   "metadata": {},
   "source": [
    "# Tomando promedios anteriores:"
   ]
  },
  {
   "cell_type": "markdown",
   "metadata": {},
   "source": [
    "# Cambiando 7 8 y 9:"
   ]
  },
  {
   "cell_type": "code",
   "execution_count": 96,
   "metadata": {
    "ExecuteTime": {
     "end_time": "2020-05-03T03:10:42.573331Z",
     "start_time": "2020-05-03T03:10:42.562241Z"
    }
   },
   "outputs": [
    {
     "data": {
      "text/plain": [
       "604"
      ]
     },
     "execution_count": 96,
     "metadata": {},
     "output_type": "execute_result"
    }
   ],
   "source": [
    "fvst.iloc[7,1]"
   ]
  },
  {
   "cell_type": "code",
   "execution_count": 97,
   "metadata": {
    "ExecuteTime": {
     "end_time": "2020-05-03T03:10:42.771223Z",
     "start_time": "2020-05-03T03:10:42.760063Z"
    }
   },
   "outputs": [
    {
     "data": {
      "text/plain": [
       "58     734.0\n",
       "59     318.0\n",
       "60     383.0\n",
       "61    1108.0\n",
       "62     462.0\n",
       "63     471.0\n",
       "64     477.0\n",
       "Name: Hora 8, dtype: float64"
      ]
     },
     "execution_count": 97,
     "metadata": {},
     "output_type": "execute_result"
    }
   ],
   "source": [
    "xhr['Hora 8'][-7:]"
   ]
  },
  {
   "cell_type": "code",
   "execution_count": 98,
   "metadata": {
    "ExecuteTime": {
     "end_time": "2020-05-03T03:10:43.005625Z",
     "start_time": "2020-05-03T03:10:42.961846Z"
    }
   },
   "outputs": [
    {
     "data": {
      "text/html": [
       "<div>\n",
       "<style scoped>\n",
       "    .dataframe tbody tr th:only-of-type {\n",
       "        vertical-align: middle;\n",
       "    }\n",
       "\n",
       "    .dataframe tbody tr th {\n",
       "        vertical-align: top;\n",
       "    }\n",
       "\n",
       "    .dataframe thead th {\n",
       "        text-align: right;\n",
       "    }\n",
       "</style>\n",
       "<table border=\"1\" class=\"dataframe\">\n",
       "  <thead>\n",
       "    <tr style=\"text-align: right;\">\n",
       "      <th></th>\n",
       "      <th>real</th>\n",
       "      <th>forecasts</th>\n",
       "      <th>error</th>\n",
       "    </tr>\n",
       "  </thead>\n",
       "  <tbody>\n",
       "    <tr>\n",
       "      <td>0</td>\n",
       "      <td>40.0</td>\n",
       "      <td>650.000000</td>\n",
       "      <td>15.250000</td>\n",
       "    </tr>\n",
       "    <tr>\n",
       "      <td>1</td>\n",
       "      <td>40.0</td>\n",
       "      <td>638.000000</td>\n",
       "      <td>14.950000</td>\n",
       "    </tr>\n",
       "    <tr>\n",
       "      <td>2</td>\n",
       "      <td>20.0</td>\n",
       "      <td>703.000000</td>\n",
       "      <td>34.150000</td>\n",
       "    </tr>\n",
       "    <tr>\n",
       "      <td>3</td>\n",
       "      <td>0.0</td>\n",
       "      <td>0.000000</td>\n",
       "      <td>0.000000</td>\n",
       "    </tr>\n",
       "    <tr>\n",
       "      <td>4</td>\n",
       "      <td>0.0</td>\n",
       "      <td>0.000000</td>\n",
       "      <td>0.000000</td>\n",
       "    </tr>\n",
       "    <tr>\n",
       "      <td>5</td>\n",
       "      <td>0.0</td>\n",
       "      <td>0.000000</td>\n",
       "      <td>0.000000</td>\n",
       "    </tr>\n",
       "    <tr>\n",
       "      <td>6</td>\n",
       "      <td>0.0</td>\n",
       "      <td>0.000000</td>\n",
       "      <td>0.000000</td>\n",
       "    </tr>\n",
       "    <tr>\n",
       "      <td>7</td>\n",
       "      <td>483.0</td>\n",
       "      <td>564.714286</td>\n",
       "      <td>0.169181</td>\n",
       "    </tr>\n",
       "    <tr>\n",
       "      <td>8</td>\n",
       "      <td>3312.0</td>\n",
       "      <td>3591.000000</td>\n",
       "      <td>0.084239</td>\n",
       "    </tr>\n",
       "    <tr>\n",
       "      <td>9</td>\n",
       "      <td>4590.0</td>\n",
       "      <td>7239.000000</td>\n",
       "      <td>0.577124</td>\n",
       "    </tr>\n",
       "    <tr>\n",
       "      <td>10</td>\n",
       "      <td>5533.0</td>\n",
       "      <td>5321.000000</td>\n",
       "      <td>0.038316</td>\n",
       "    </tr>\n",
       "    <tr>\n",
       "      <td>11</td>\n",
       "      <td>9922.0</td>\n",
       "      <td>5983.000000</td>\n",
       "      <td>0.396997</td>\n",
       "    </tr>\n",
       "    <tr>\n",
       "      <td>12</td>\n",
       "      <td>10323.0</td>\n",
       "      <td>11906.000000</td>\n",
       "      <td>0.153347</td>\n",
       "    </tr>\n",
       "    <tr>\n",
       "      <td>13</td>\n",
       "      <td>7155.0</td>\n",
       "      <td>9792.000000</td>\n",
       "      <td>0.368553</td>\n",
       "    </tr>\n",
       "    <tr>\n",
       "      <td>14</td>\n",
       "      <td>6574.0</td>\n",
       "      <td>4906.000000</td>\n",
       "      <td>0.253727</td>\n",
       "    </tr>\n",
       "    <tr>\n",
       "      <td>15</td>\n",
       "      <td>9176.0</td>\n",
       "      <td>5960.000000</td>\n",
       "      <td>0.350480</td>\n",
       "    </tr>\n",
       "    <tr>\n",
       "      <td>16</td>\n",
       "      <td>6691.0</td>\n",
       "      <td>9751.000000</td>\n",
       "      <td>0.457331</td>\n",
       "    </tr>\n",
       "    <tr>\n",
       "      <td>17</td>\n",
       "      <td>2148.0</td>\n",
       "      <td>4221.000000</td>\n",
       "      <td>0.965084</td>\n",
       "    </tr>\n",
       "    <tr>\n",
       "      <td>18</td>\n",
       "      <td>412.0</td>\n",
       "      <td>0.000000</td>\n",
       "      <td>1.000000</td>\n",
       "    </tr>\n",
       "    <tr>\n",
       "      <td>19</td>\n",
       "      <td>44.0</td>\n",
       "      <td>0.000000</td>\n",
       "      <td>1.000000</td>\n",
       "    </tr>\n",
       "    <tr>\n",
       "      <td>20</td>\n",
       "      <td>44.0</td>\n",
       "      <td>0.000000</td>\n",
       "      <td>1.000000</td>\n",
       "    </tr>\n",
       "    <tr>\n",
       "      <td>21</td>\n",
       "      <td>44.0</td>\n",
       "      <td>0.000000</td>\n",
       "      <td>1.000000</td>\n",
       "    </tr>\n",
       "    <tr>\n",
       "      <td>22</td>\n",
       "      <td>44.0</td>\n",
       "      <td>211.000000</td>\n",
       "      <td>3.795455</td>\n",
       "    </tr>\n",
       "    <tr>\n",
       "      <td>23</td>\n",
       "      <td>44.0</td>\n",
       "      <td>380.000000</td>\n",
       "      <td>7.636364</td>\n",
       "    </tr>\n",
       "  </tbody>\n",
       "</table>\n",
       "</div>"
      ],
      "text/plain": [
       "       real     forecasts      error\n",
       "0      40.0    650.000000  15.250000\n",
       "1      40.0    638.000000  14.950000\n",
       "2      20.0    703.000000  34.150000\n",
       "3       0.0      0.000000   0.000000\n",
       "4       0.0      0.000000   0.000000\n",
       "5       0.0      0.000000   0.000000\n",
       "6       0.0      0.000000   0.000000\n",
       "7     483.0    564.714286   0.169181\n",
       "8    3312.0   3591.000000   0.084239\n",
       "9    4590.0   7239.000000   0.577124\n",
       "10   5533.0   5321.000000   0.038316\n",
       "11   9922.0   5983.000000   0.396997\n",
       "12  10323.0  11906.000000   0.153347\n",
       "13   7155.0   9792.000000   0.368553\n",
       "14   6574.0   4906.000000   0.253727\n",
       "15   9176.0   5960.000000   0.350480\n",
       "16   6691.0   9751.000000   0.457331\n",
       "17   2148.0   4221.000000   0.965084\n",
       "18    412.0      0.000000   1.000000\n",
       "19     44.0      0.000000   1.000000\n",
       "20     44.0      0.000000   1.000000\n",
       "21     44.0      0.000000   1.000000\n",
       "22     44.0    211.000000   3.795455\n",
       "23     44.0    380.000000   7.636364"
      ]
     },
     "execution_count": 98,
     "metadata": {},
     "output_type": "execute_result"
    }
   ],
   "source": [
    "fvst.iloc[7,1] = np.mean(xhr['Hora 8'][-7:])\n",
    "fvst.iloc[8,1] = np.mean(xhr['Hora 9'][-7:])\n",
    "fvst.iloc[9,1] = np.mean(xhr['Hora 10'][-7:])\n",
    "\n",
    "for i in range(len(fvst)):\n",
    "    fvst['error'][i] = np.abs((fvst['forecasts'][i]- fvst['real'][i])/(fvst['real'][i]))\n",
    "\n",
    "fvst = fvst.fillna(0)\n",
    "fvst"
   ]
  },
  {
   "cell_type": "code",
   "execution_count": 99,
   "metadata": {
    "ExecuteTime": {
     "end_time": "2020-05-03T03:10:43.525915Z",
     "start_time": "2020-05-03T03:10:43.511593Z"
    }
   },
   "outputs": [
    {
     "data": {
      "text/plain": [
       "0.4011981145045435"
      ]
     },
     "execution_count": 99,
     "metadata": {},
     "output_type": "execute_result"
    }
   ],
   "source": [
    "mea = np.mean(fvst.iloc[7:19,2])\n",
    "mea"
   ]
  },
  {
   "cell_type": "code",
   "execution_count": 100,
   "metadata": {
    "ExecuteTime": {
     "end_time": "2020-05-03T03:10:43.577699Z",
     "start_time": "2020-05-03T03:10:43.564442Z"
    }
   },
   "outputs": [
    {
     "data": {
      "text/plain": [
       "0.0776979589386739"
      ]
     },
     "execution_count": 100,
     "metadata": {},
     "output_type": "execute_result"
    }
   ],
   "source": [
    "np.abs((sum(fvst['forecasts']) - sum(fvst['real']))/sum(fvst['real']))"
   ]
  },
  {
   "cell_type": "markdown",
   "metadata": {},
   "source": [
    "## Cambiando Hora 17, 18 y 19:"
   ]
  },
  {
   "cell_type": "code",
   "execution_count": 101,
   "metadata": {
    "ExecuteTime": {
     "end_time": "2020-05-03T03:10:44.359572Z",
     "start_time": "2020-05-03T03:10:44.327353Z"
    }
   },
   "outputs": [
    {
     "data": {
      "text/html": [
       "<div>\n",
       "<style scoped>\n",
       "    .dataframe tbody tr th:only-of-type {\n",
       "        vertical-align: middle;\n",
       "    }\n",
       "\n",
       "    .dataframe tbody tr th {\n",
       "        vertical-align: top;\n",
       "    }\n",
       "\n",
       "    .dataframe thead th {\n",
       "        text-align: right;\n",
       "    }\n",
       "</style>\n",
       "<table border=\"1\" class=\"dataframe\">\n",
       "  <thead>\n",
       "    <tr style=\"text-align: right;\">\n",
       "      <th></th>\n",
       "      <th>real</th>\n",
       "      <th>forecasts</th>\n",
       "      <th>error</th>\n",
       "    </tr>\n",
       "  </thead>\n",
       "  <tbody>\n",
       "    <tr>\n",
       "      <td>0</td>\n",
       "      <td>40.0</td>\n",
       "      <td>650.000000</td>\n",
       "      <td>15.250000</td>\n",
       "    </tr>\n",
       "    <tr>\n",
       "      <td>1</td>\n",
       "      <td>40.0</td>\n",
       "      <td>638.000000</td>\n",
       "      <td>14.950000</td>\n",
       "    </tr>\n",
       "    <tr>\n",
       "      <td>2</td>\n",
       "      <td>20.0</td>\n",
       "      <td>703.000000</td>\n",
       "      <td>34.150000</td>\n",
       "    </tr>\n",
       "    <tr>\n",
       "      <td>3</td>\n",
       "      <td>0.0</td>\n",
       "      <td>0.000000</td>\n",
       "      <td>0.000000</td>\n",
       "    </tr>\n",
       "    <tr>\n",
       "      <td>4</td>\n",
       "      <td>0.0</td>\n",
       "      <td>0.000000</td>\n",
       "      <td>0.000000</td>\n",
       "    </tr>\n",
       "    <tr>\n",
       "      <td>5</td>\n",
       "      <td>0.0</td>\n",
       "      <td>0.000000</td>\n",
       "      <td>0.000000</td>\n",
       "    </tr>\n",
       "    <tr>\n",
       "      <td>6</td>\n",
       "      <td>0.0</td>\n",
       "      <td>0.000000</td>\n",
       "      <td>0.000000</td>\n",
       "    </tr>\n",
       "    <tr>\n",
       "      <td>7</td>\n",
       "      <td>483.0</td>\n",
       "      <td>564.714286</td>\n",
       "      <td>0.169181</td>\n",
       "    </tr>\n",
       "    <tr>\n",
       "      <td>8</td>\n",
       "      <td>3312.0</td>\n",
       "      <td>3591.000000</td>\n",
       "      <td>0.084239</td>\n",
       "    </tr>\n",
       "    <tr>\n",
       "      <td>9</td>\n",
       "      <td>4590.0</td>\n",
       "      <td>7239.000000</td>\n",
       "      <td>0.577124</td>\n",
       "    </tr>\n",
       "    <tr>\n",
       "      <td>10</td>\n",
       "      <td>5533.0</td>\n",
       "      <td>5321.000000</td>\n",
       "      <td>0.038316</td>\n",
       "    </tr>\n",
       "    <tr>\n",
       "      <td>11</td>\n",
       "      <td>9922.0</td>\n",
       "      <td>5983.000000</td>\n",
       "      <td>0.396997</td>\n",
       "    </tr>\n",
       "    <tr>\n",
       "      <td>12</td>\n",
       "      <td>10323.0</td>\n",
       "      <td>11906.000000</td>\n",
       "      <td>0.153347</td>\n",
       "    </tr>\n",
       "    <tr>\n",
       "      <td>13</td>\n",
       "      <td>7155.0</td>\n",
       "      <td>9792.000000</td>\n",
       "      <td>0.368553</td>\n",
       "    </tr>\n",
       "    <tr>\n",
       "      <td>14</td>\n",
       "      <td>6574.0</td>\n",
       "      <td>4906.000000</td>\n",
       "      <td>0.253727</td>\n",
       "    </tr>\n",
       "    <tr>\n",
       "      <td>15</td>\n",
       "      <td>9176.0</td>\n",
       "      <td>5960.000000</td>\n",
       "      <td>0.350480</td>\n",
       "    </tr>\n",
       "    <tr>\n",
       "      <td>16</td>\n",
       "      <td>6691.0</td>\n",
       "      <td>6178.714286</td>\n",
       "      <td>0.076563</td>\n",
       "    </tr>\n",
       "    <tr>\n",
       "      <td>17</td>\n",
       "      <td>2148.0</td>\n",
       "      <td>3436.285714</td>\n",
       "      <td>0.599761</td>\n",
       "    </tr>\n",
       "    <tr>\n",
       "      <td>18</td>\n",
       "      <td>412.0</td>\n",
       "      <td>779.000000</td>\n",
       "      <td>0.890777</td>\n",
       "    </tr>\n",
       "    <tr>\n",
       "      <td>19</td>\n",
       "      <td>44.0</td>\n",
       "      <td>0.000000</td>\n",
       "      <td>1.000000</td>\n",
       "    </tr>\n",
       "    <tr>\n",
       "      <td>20</td>\n",
       "      <td>44.0</td>\n",
       "      <td>0.000000</td>\n",
       "      <td>1.000000</td>\n",
       "    </tr>\n",
       "    <tr>\n",
       "      <td>21</td>\n",
       "      <td>44.0</td>\n",
       "      <td>0.000000</td>\n",
       "      <td>1.000000</td>\n",
       "    </tr>\n",
       "    <tr>\n",
       "      <td>22</td>\n",
       "      <td>44.0</td>\n",
       "      <td>211.000000</td>\n",
       "      <td>3.795455</td>\n",
       "    </tr>\n",
       "    <tr>\n",
       "      <td>23</td>\n",
       "      <td>44.0</td>\n",
       "      <td>380.000000</td>\n",
       "      <td>7.636364</td>\n",
       "    </tr>\n",
       "  </tbody>\n",
       "</table>\n",
       "</div>"
      ],
      "text/plain": [
       "       real     forecasts      error\n",
       "0      40.0    650.000000  15.250000\n",
       "1      40.0    638.000000  14.950000\n",
       "2      20.0    703.000000  34.150000\n",
       "3       0.0      0.000000   0.000000\n",
       "4       0.0      0.000000   0.000000\n",
       "5       0.0      0.000000   0.000000\n",
       "6       0.0      0.000000   0.000000\n",
       "7     483.0    564.714286   0.169181\n",
       "8    3312.0   3591.000000   0.084239\n",
       "9    4590.0   7239.000000   0.577124\n",
       "10   5533.0   5321.000000   0.038316\n",
       "11   9922.0   5983.000000   0.396997\n",
       "12  10323.0  11906.000000   0.153347\n",
       "13   7155.0   9792.000000   0.368553\n",
       "14   6574.0   4906.000000   0.253727\n",
       "15   9176.0   5960.000000   0.350480\n",
       "16   6691.0   6178.714286   0.076563\n",
       "17   2148.0   3436.285714   0.599761\n",
       "18    412.0    779.000000   0.890777\n",
       "19     44.0      0.000000   1.000000\n",
       "20     44.0      0.000000   1.000000\n",
       "21     44.0      0.000000   1.000000\n",
       "22     44.0    211.000000   3.795455\n",
       "23     44.0    380.000000   7.636364"
      ]
     },
     "execution_count": 101,
     "metadata": {},
     "output_type": "execute_result"
    }
   ],
   "source": [
    "fvst.iloc[16,1] = np.mean(xhr['Hora 17'][-7:])\n",
    "fvst.iloc[17,1] = np.mean(xhr['Hora 18'][-7:])\n",
    "fvst.iloc[18,1] = np.mean(xhr['Hora 19'][-7:])\n",
    "\n",
    "for i in range(len(fvst)):\n",
    "    fvst['error'][i] = np.abs((fvst['forecasts'][i]- fvst['real'][i])/(fvst['real'][i]))\n",
    "\n",
    "fvst = fvst.fillna(0)\n",
    "fvst"
   ]
  },
  {
   "cell_type": "code",
   "execution_count": 102,
   "metadata": {
    "ExecuteTime": {
     "end_time": "2020-05-03T03:10:44.936647Z",
     "start_time": "2020-05-03T03:10:44.927417Z"
    }
   },
   "outputs": [
    {
     "data": {
      "text/plain": [
       "0.32992195889693726"
      ]
     },
     "execution_count": 102,
     "metadata": {},
     "output_type": "execute_result"
    }
   ],
   "source": [
    "mea = np.mean(fvst.iloc[7:19,2])\n",
    "mea"
   ]
  },
  {
   "cell_type": "code",
   "execution_count": 103,
   "metadata": {
    "ExecuteTime": {
     "end_time": "2020-05-03T03:10:45.602003Z",
     "start_time": "2020-05-03T03:10:45.591769Z"
    }
   },
   "outputs": [
    {
     "data": {
      "text/plain": [
       "0.02400567664152058"
      ]
     },
     "execution_count": 103,
     "metadata": {},
     "output_type": "execute_result"
    }
   ],
   "source": [
    "np.abs((sum(fvst['forecasts']) - sum(fvst['real']))/sum(fvst['real']))"
   ]
  },
  {
   "cell_type": "code",
   "execution_count": null,
   "metadata": {},
   "outputs": [],
   "source": []
  }
 ],
 "metadata": {
  "kernelspec": {
   "display_name": "Python 3",
   "language": "python",
   "name": "python3"
  },
  "language_info": {
   "codemirror_mode": {
    "name": "ipython",
    "version": 3
   },
   "file_extension": ".py",
   "mimetype": "text/x-python",
   "name": "python",
   "nbconvert_exporter": "python",
   "pygments_lexer": "ipython3",
   "version": "3.7.4"
  }
 },
 "nbformat": 4,
 "nbformat_minor": 2
}
