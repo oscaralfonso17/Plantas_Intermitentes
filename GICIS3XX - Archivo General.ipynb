{
 "cells": [
  {
   "cell_type": "code",
   "execution_count": 8,
   "metadata": {
    "ExecuteTime": {
     "end_time": "2020-05-10T17:57:15.738005Z",
     "start_time": "2020-05-10T17:57:14.583342Z"
    }
   },
   "outputs": [
    {
     "name": "stdout",
     "output_type": "stream",
     "text": [
      "8\n",
      "Planta a Analizar:  8\n"
     ]
    }
   ],
   "source": [
    "planta = int(input())\n",
    "print(\"Planta a Analizar: \", planta)"
   ]
  },
  {
   "cell_type": "code",
   "execution_count": 9,
   "metadata": {
    "ExecuteTime": {
     "end_time": "2020-05-10T17:57:16.114342Z",
     "start_time": "2020-05-10T17:57:16.079858Z"
    }
   },
   "outputs": [
    {
     "data": {
      "text/html": [
       " <style> .output {display: center; align-items: center; text-align: center; justify-content: center; } </style> "
      ],
      "text/plain": [
       "<IPython.core.display.HTML object>"
      ]
     },
     "metadata": {},
     "output_type": "display_data"
    }
   ],
   "source": [
    "import pandas as pd\n",
    "import numpy as np\n",
    "import matplotlib as mpl\n",
    "import scipy.stats as st\n",
    "import seaborn as sns\n",
    "import statsmodels.api as sm\n",
    "from datetime import datetime\n",
    "import matplotlib.pyplot as plt\n",
    "from statsmodels.tsa.arima_model import ARIMA\n",
    "import pmdarima as pm\n",
    "from pmdarima.model_selection import train_test_split\n",
    "import matplotlib.pyplot as plt\n",
    "import warnings\n",
    "warnings.filterwarnings(\"ignore\")\n",
    "from statsmodels.tsa.stattools import acf\n",
    "import datetime\n",
    "from statsmodels.graphics.tsaplots import plot_acf, plot_pacf\n",
    "from sklearn.metrics import mean_squared_error\n",
    "\n",
    "from numpy import inf\n",
    "\n",
    "from IPython.display import display, HTML\n",
    "display(HTML(\"\"\" <style> .output {display: center; align-items: center; text-align: center; justify-content: center; } </style> \"\"\"))"
   ]
  },
  {
   "cell_type": "code",
   "execution_count": 10,
   "metadata": {
    "ExecuteTime": {
     "end_time": "2020-05-10T17:57:27.624181Z",
     "start_time": "2020-05-10T17:57:16.288085Z"
    }
   },
   "outputs": [],
   "source": [
    "#Importación de datos\n",
    "datos = pd.read_excel('Generación Intermitente de la GCROC 2013-2020.xlsx', header=1)"
   ]
  },
  {
   "cell_type": "code",
   "execution_count": 11,
   "metadata": {
    "ExecuteTime": {
     "end_time": "2020-05-10T17:57:28.048282Z",
     "start_time": "2020-05-10T17:57:27.626933Z"
    }
   },
   "outputs": [],
   "source": [
    "numbers = datos.hora-1\n",
    "hours = [datetime.time(num).strftime(\"%H:00:00\") for num in numbers]\n",
    "datos['fecha'] = datos['fecha'].replace(0,np.nan).ffill()\n",
    "datos['fecha'] = pd.to_datetime(datos['fecha'])\n",
    "datos['fecha'] = datos['fecha'].dt.date\n",
    "datos['fecha_hora'] = datos[\"fecha\"].astype(str) + ' ' + hours\n",
    "#LIMPIEZA DE DATOS\n",
    "datos = datos.set_index(datos['fecha_hora'])\n",
    "datos = datos.loc['2020-01-01 00:00:00':]"
   ]
  },
  {
   "cell_type": "code",
   "execution_count": 12,
   "metadata": {
    "ExecuteTime": {
     "end_time": "2020-05-10T17:57:28.061570Z",
     "start_time": "2020-05-10T17:57:28.051890Z"
    }
   },
   "outputs": [
    {
     "data": {
      "text/plain": [
       "datetime.date(2020, 3, 10)"
      ]
     },
     "execution_count": 12,
     "metadata": {},
     "output_type": "execute_result"
    }
   ],
   "source": [
    "fecha = datos.fecha[-1]\n",
    "fecha_sig = fecha +datetime.timedelta(days=1)\n",
    "fecha_sig"
   ]
  },
  {
   "cell_type": "code",
   "execution_count": 13,
   "metadata": {
    "ExecuteTime": {
     "end_time": "2020-05-10T17:57:28.074017Z",
     "start_time": "2020-05-10T17:57:28.067451Z"
    }
   },
   "outputs": [],
   "source": [
    "columns = ['GICIE301', 'GICIE302','GICIE303','GICIE304','GICIE305','GICIS306', 'GICIS307','GICIS308',\n",
    "          'GICIS309','GICIS310','GICIS311','GICIS312','GICIS313','GICIS314','GICIS315','GICIS316','GICIS317',\n",
    "          'GICIS318','GICIS319','GICIS320','GICIS321','GICIS322','GICIS323','GICIS324','GICIS325','GICIS326']"
   ]
  },
  {
   "cell_type": "code",
   "execution_count": 14,
   "metadata": {
    "ExecuteTime": {
     "end_time": "2020-05-10T17:57:28.096837Z",
     "start_time": "2020-05-10T17:57:28.080904Z"
    }
   },
   "outputs": [
    {
     "data": {
      "text/plain": [
       "'GICIS308'"
      ]
     },
     "execution_count": 14,
     "metadata": {},
     "output_type": "execute_result"
    }
   ],
   "source": [
    "n_periods = 5*24\n",
    "columna = columns[planta-1]\n",
    "columna"
   ]
  },
  {
   "cell_type": "code",
   "execution_count": 15,
   "metadata": {
    "ExecuteTime": {
     "end_time": "2020-05-10T17:57:30.480089Z",
     "start_time": "2020-05-10T17:57:30.464676Z"
    }
   },
   "outputs": [],
   "source": [
    "pred = pd.DataFrame(index = [fecha_sig]*24, columns = ['hora', columna])\n",
    "pred.hora = [i for i in range(len(pred))]\n",
    "numbers_pred = pred.hora\n",
    "hours_pred = [datetime.time(num).strftime(\"%H:00:00\") for num in numbers_pred]\n",
    "pred['fecha_hora'] = pred.index.astype(str) + ' ' + hours_pred\n",
    "pred = pred.set_index(pred['fecha_hora'])\n",
    "pred = pred.drop('fecha_hora', axis=1)"
   ]
  },
  {
   "cell_type": "code",
   "execution_count": 16,
   "metadata": {
    "ExecuteTime": {
     "end_time": "2020-05-10T17:57:30.852181Z",
     "start_time": "2020-05-10T17:57:30.800453Z"
    },
    "scrolled": false
   },
   "outputs": [
    {
     "data": {
      "text/html": [
       "<div>\n",
       "<style scoped>\n",
       "    .dataframe tbody tr th:only-of-type {\n",
       "        vertical-align: middle;\n",
       "    }\n",
       "\n",
       "    .dataframe tbody tr th {\n",
       "        vertical-align: top;\n",
       "    }\n",
       "\n",
       "    .dataframe thead th {\n",
       "        text-align: right;\n",
       "    }\n",
       "</style>\n",
       "<table border=\"1\" class=\"dataframe\">\n",
       "  <thead>\n",
       "    <tr style=\"text-align: right;\">\n",
       "      <th></th>\n",
       "      <th>hora</th>\n",
       "      <th>GICIS308</th>\n",
       "    </tr>\n",
       "    <tr>\n",
       "      <th>fecha_hora</th>\n",
       "      <th></th>\n",
       "      <th></th>\n",
       "    </tr>\n",
       "  </thead>\n",
       "  <tbody>\n",
       "    <tr>\n",
       "      <td>2020-01-01 00:00:00</td>\n",
       "      <td>1</td>\n",
       "      <td>0.0</td>\n",
       "    </tr>\n",
       "    <tr>\n",
       "      <td>2020-01-01 01:00:00</td>\n",
       "      <td>2</td>\n",
       "      <td>0.0</td>\n",
       "    </tr>\n",
       "    <tr>\n",
       "      <td>2020-01-01 02:00:00</td>\n",
       "      <td>3</td>\n",
       "      <td>0.0</td>\n",
       "    </tr>\n",
       "    <tr>\n",
       "      <td>2020-01-01 03:00:00</td>\n",
       "      <td>4</td>\n",
       "      <td>0.0</td>\n",
       "    </tr>\n",
       "    <tr>\n",
       "      <td>2020-01-01 04:00:00</td>\n",
       "      <td>5</td>\n",
       "      <td>0.0</td>\n",
       "    </tr>\n",
       "  </tbody>\n",
       "</table>\n",
       "</div>"
      ],
      "text/plain": [
       "                     hora  GICIS308\n",
       "fecha_hora                         \n",
       "2020-01-01 00:00:00     1       0.0\n",
       "2020-01-01 01:00:00     2       0.0\n",
       "2020-01-01 02:00:00     3       0.0\n",
       "2020-01-01 03:00:00     4       0.0\n",
       "2020-01-01 04:00:00     5       0.0"
      ]
     },
     "execution_count": 16,
     "metadata": {},
     "output_type": "execute_result"
    }
   ],
   "source": [
    "df = datos[['hora',columna]]\n",
    "df[columna] = (df[columna]) # para efectos de las tranformaciones logaritmicas(eliminar el 0)\n",
    "df = df.dropna()\n",
    "df.head()"
   ]
  },
  {
   "cell_type": "code",
   "execution_count": 17,
   "metadata": {
    "ExecuteTime": {
     "end_time": "2020-05-10T17:57:31.256272Z",
     "start_time": "2020-05-10T17:57:31.240874Z"
    }
   },
   "outputs": [
    {
     "data": {
      "text/html": [
       "<div>\n",
       "<style scoped>\n",
       "    .dataframe tbody tr th:only-of-type {\n",
       "        vertical-align: middle;\n",
       "    }\n",
       "\n",
       "    .dataframe tbody tr th {\n",
       "        vertical-align: top;\n",
       "    }\n",
       "\n",
       "    .dataframe thead th {\n",
       "        text-align: right;\n",
       "    }\n",
       "</style>\n",
       "<table border=\"1\" class=\"dataframe\">\n",
       "  <thead>\n",
       "    <tr style=\"text-align: right;\">\n",
       "      <th></th>\n",
       "      <th>GICIS308</th>\n",
       "    </tr>\n",
       "    <tr>\n",
       "      <th>fecha_hora</th>\n",
       "      <th></th>\n",
       "    </tr>\n",
       "  </thead>\n",
       "  <tbody>\n",
       "    <tr>\n",
       "      <td>2020-01-01 00:00:00</td>\n",
       "      <td>0.0</td>\n",
       "    </tr>\n",
       "    <tr>\n",
       "      <td>2020-01-01 01:00:00</td>\n",
       "      <td>0.0</td>\n",
       "    </tr>\n",
       "    <tr>\n",
       "      <td>2020-01-01 02:00:00</td>\n",
       "      <td>0.0</td>\n",
       "    </tr>\n",
       "    <tr>\n",
       "      <td>2020-01-01 03:00:00</td>\n",
       "      <td>0.0</td>\n",
       "    </tr>\n",
       "    <tr>\n",
       "      <td>2020-01-01 04:00:00</td>\n",
       "      <td>0.0</td>\n",
       "    </tr>\n",
       "    <tr>\n",
       "      <td>...</td>\n",
       "      <td>...</td>\n",
       "    </tr>\n",
       "    <tr>\n",
       "      <td>2020-03-09 19:00:00</td>\n",
       "      <td>0.0</td>\n",
       "    </tr>\n",
       "    <tr>\n",
       "      <td>2020-03-09 20:00:00</td>\n",
       "      <td>0.0</td>\n",
       "    </tr>\n",
       "    <tr>\n",
       "      <td>2020-03-09 21:00:00</td>\n",
       "      <td>0.0</td>\n",
       "    </tr>\n",
       "    <tr>\n",
       "      <td>2020-03-09 22:00:00</td>\n",
       "      <td>0.0</td>\n",
       "    </tr>\n",
       "    <tr>\n",
       "      <td>2020-03-09 23:00:00</td>\n",
       "      <td>0.0</td>\n",
       "    </tr>\n",
       "  </tbody>\n",
       "</table>\n",
       "<p>1656 rows × 1 columns</p>\n",
       "</div>"
      ],
      "text/plain": [
       "                     GICIS308\n",
       "fecha_hora                   \n",
       "2020-01-01 00:00:00       0.0\n",
       "2020-01-01 01:00:00       0.0\n",
       "2020-01-01 02:00:00       0.0\n",
       "2020-01-01 03:00:00       0.0\n",
       "2020-01-01 04:00:00       0.0\n",
       "...                       ...\n",
       "2020-03-09 19:00:00       0.0\n",
       "2020-03-09 20:00:00       0.0\n",
       "2020-03-09 21:00:00       0.0\n",
       "2020-03-09 22:00:00       0.0\n",
       "2020-03-09 23:00:00       0.0\n",
       "\n",
       "[1656 rows x 1 columns]"
      ]
     },
     "execution_count": 17,
     "metadata": {},
     "output_type": "execute_result"
    }
   ],
   "source": [
    "df2 = df.drop(['hora'], axis=1)\n",
    "df2"
   ]
  },
  {
   "cell_type": "markdown",
   "metadata": {},
   "source": [
    "***"
   ]
  },
  {
   "cell_type": "code",
   "execution_count": 18,
   "metadata": {
    "ExecuteTime": {
     "end_time": "2020-05-10T17:57:32.082488Z",
     "start_time": "2020-05-10T17:57:32.076323Z"
    }
   },
   "outputs": [],
   "source": [
    "#Seleccion de y_train y y_test\n",
    "  \n",
    "n = 1 #numero de dias a simular\n",
    "\n",
    "train = df\n",
    "last_day = (df.iloc[-(1*24):,:])"
   ]
  },
  {
   "cell_type": "code",
   "execution_count": 19,
   "metadata": {
    "ExecuteTime": {
     "end_time": "2020-05-10T17:57:32.286604Z",
     "start_time": "2020-05-10T17:57:32.275053Z"
    }
   },
   "outputs": [
    {
     "data": {
      "text/plain": [
       "datetime.date(2020, 3, 10)"
      ]
     },
     "execution_count": 19,
     "metadata": {},
     "output_type": "execute_result"
    }
   ],
   "source": [
    "datos.fecha[-1] +datetime.timedelta(days=1)"
   ]
  },
  {
   "cell_type": "code",
   "execution_count": 20,
   "metadata": {
    "ExecuteTime": {
     "end_time": "2020-05-10T17:57:32.472529Z",
     "start_time": "2020-05-10T17:57:32.456970Z"
    },
    "scrolled": true
   },
   "outputs": [
    {
     "data": {
      "text/html": [
       "<div>\n",
       "<style scoped>\n",
       "    .dataframe tbody tr th:only-of-type {\n",
       "        vertical-align: middle;\n",
       "    }\n",
       "\n",
       "    .dataframe tbody tr th {\n",
       "        vertical-align: top;\n",
       "    }\n",
       "\n",
       "    .dataframe thead th {\n",
       "        text-align: right;\n",
       "    }\n",
       "</style>\n",
       "<table border=\"1\" class=\"dataframe\">\n",
       "  <thead>\n",
       "    <tr style=\"text-align: right;\">\n",
       "      <th></th>\n",
       "      <th>hora</th>\n",
       "      <th>GICIS308</th>\n",
       "    </tr>\n",
       "    <tr>\n",
       "      <th>fecha_hora</th>\n",
       "      <th></th>\n",
       "      <th></th>\n",
       "    </tr>\n",
       "  </thead>\n",
       "  <tbody>\n",
       "    <tr>\n",
       "      <td>2020-01-01 00:00:00</td>\n",
       "      <td>1</td>\n",
       "      <td>0.0</td>\n",
       "    </tr>\n",
       "    <tr>\n",
       "      <td>2020-01-01 01:00:00</td>\n",
       "      <td>2</td>\n",
       "      <td>0.0</td>\n",
       "    </tr>\n",
       "    <tr>\n",
       "      <td>2020-01-01 02:00:00</td>\n",
       "      <td>3</td>\n",
       "      <td>0.0</td>\n",
       "    </tr>\n",
       "    <tr>\n",
       "      <td>2020-01-01 03:00:00</td>\n",
       "      <td>4</td>\n",
       "      <td>0.0</td>\n",
       "    </tr>\n",
       "    <tr>\n",
       "      <td>2020-01-01 04:00:00</td>\n",
       "      <td>5</td>\n",
       "      <td>0.0</td>\n",
       "    </tr>\n",
       "    <tr>\n",
       "      <td>...</td>\n",
       "      <td>...</td>\n",
       "      <td>...</td>\n",
       "    </tr>\n",
       "    <tr>\n",
       "      <td>2020-03-09 19:00:00</td>\n",
       "      <td>20</td>\n",
       "      <td>0.0</td>\n",
       "    </tr>\n",
       "    <tr>\n",
       "      <td>2020-03-09 20:00:00</td>\n",
       "      <td>21</td>\n",
       "      <td>0.0</td>\n",
       "    </tr>\n",
       "    <tr>\n",
       "      <td>2020-03-09 21:00:00</td>\n",
       "      <td>22</td>\n",
       "      <td>0.0</td>\n",
       "    </tr>\n",
       "    <tr>\n",
       "      <td>2020-03-09 22:00:00</td>\n",
       "      <td>23</td>\n",
       "      <td>0.0</td>\n",
       "    </tr>\n",
       "    <tr>\n",
       "      <td>2020-03-09 23:00:00</td>\n",
       "      <td>24</td>\n",
       "      <td>0.0</td>\n",
       "    </tr>\n",
       "  </tbody>\n",
       "</table>\n",
       "<p>1656 rows × 2 columns</p>\n",
       "</div>"
      ],
      "text/plain": [
       "                     hora  GICIS308\n",
       "fecha_hora                         \n",
       "2020-01-01 00:00:00     1       0.0\n",
       "2020-01-01 01:00:00     2       0.0\n",
       "2020-01-01 02:00:00     3       0.0\n",
       "2020-01-01 03:00:00     4       0.0\n",
       "2020-01-01 04:00:00     5       0.0\n",
       "...                   ...       ...\n",
       "2020-03-09 19:00:00    20       0.0\n",
       "2020-03-09 20:00:00    21       0.0\n",
       "2020-03-09 21:00:00    22       0.0\n",
       "2020-03-09 22:00:00    23       0.0\n",
       "2020-03-09 23:00:00    24       0.0\n",
       "\n",
       "[1656 rows x 2 columns]"
      ]
     },
     "execution_count": 20,
     "metadata": {},
     "output_type": "execute_result"
    }
   ],
   "source": [
    "train"
   ]
  },
  {
   "cell_type": "code",
   "execution_count": 21,
   "metadata": {
    "ExecuteTime": {
     "end_time": "2020-05-10T17:57:32.631670Z",
     "start_time": "2020-05-10T17:57:32.616756Z"
    },
    "scrolled": true
   },
   "outputs": [
    {
     "data": {
      "text/html": [
       "<div>\n",
       "<style scoped>\n",
       "    .dataframe tbody tr th:only-of-type {\n",
       "        vertical-align: middle;\n",
       "    }\n",
       "\n",
       "    .dataframe tbody tr th {\n",
       "        vertical-align: top;\n",
       "    }\n",
       "\n",
       "    .dataframe thead th {\n",
       "        text-align: right;\n",
       "    }\n",
       "</style>\n",
       "<table border=\"1\" class=\"dataframe\">\n",
       "  <thead>\n",
       "    <tr style=\"text-align: right;\">\n",
       "      <th></th>\n",
       "      <th>hora</th>\n",
       "      <th>GICIS308</th>\n",
       "    </tr>\n",
       "    <tr>\n",
       "      <th>fecha_hora</th>\n",
       "      <th></th>\n",
       "      <th></th>\n",
       "    </tr>\n",
       "  </thead>\n",
       "  <tbody>\n",
       "    <tr>\n",
       "      <td>2020-03-09 00:00:00</td>\n",
       "      <td>1</td>\n",
       "      <td>0.0</td>\n",
       "    </tr>\n",
       "    <tr>\n",
       "      <td>2020-03-09 01:00:00</td>\n",
       "      <td>2</td>\n",
       "      <td>0.0</td>\n",
       "    </tr>\n",
       "    <tr>\n",
       "      <td>2020-03-09 02:00:00</td>\n",
       "      <td>3</td>\n",
       "      <td>0.0</td>\n",
       "    </tr>\n",
       "    <tr>\n",
       "      <td>2020-03-09 03:00:00</td>\n",
       "      <td>4</td>\n",
       "      <td>0.0</td>\n",
       "    </tr>\n",
       "    <tr>\n",
       "      <td>2020-03-09 04:00:00</td>\n",
       "      <td>5</td>\n",
       "      <td>0.0</td>\n",
       "    </tr>\n",
       "    <tr>\n",
       "      <td>2020-03-09 05:00:00</td>\n",
       "      <td>6</td>\n",
       "      <td>0.0</td>\n",
       "    </tr>\n",
       "    <tr>\n",
       "      <td>2020-03-09 06:00:00</td>\n",
       "      <td>7</td>\n",
       "      <td>0.0</td>\n",
       "    </tr>\n",
       "    <tr>\n",
       "      <td>2020-03-09 07:00:00</td>\n",
       "      <td>8</td>\n",
       "      <td>26712.0</td>\n",
       "    </tr>\n",
       "    <tr>\n",
       "      <td>2020-03-09 08:00:00</td>\n",
       "      <td>9</td>\n",
       "      <td>67768.0</td>\n",
       "    </tr>\n",
       "    <tr>\n",
       "      <td>2020-03-09 09:00:00</td>\n",
       "      <td>10</td>\n",
       "      <td>114971.0</td>\n",
       "    </tr>\n",
       "    <tr>\n",
       "      <td>2020-03-09 10:00:00</td>\n",
       "      <td>11</td>\n",
       "      <td>159410.0</td>\n",
       "    </tr>\n",
       "    <tr>\n",
       "      <td>2020-03-09 11:00:00</td>\n",
       "      <td>12</td>\n",
       "      <td>182024.0</td>\n",
       "    </tr>\n",
       "    <tr>\n",
       "      <td>2020-03-09 12:00:00</td>\n",
       "      <td>13</td>\n",
       "      <td>181452.0</td>\n",
       "    </tr>\n",
       "    <tr>\n",
       "      <td>2020-03-09 13:00:00</td>\n",
       "      <td>14</td>\n",
       "      <td>182154.0</td>\n",
       "    </tr>\n",
       "    <tr>\n",
       "      <td>2020-03-09 14:00:00</td>\n",
       "      <td>15</td>\n",
       "      <td>175778.0</td>\n",
       "    </tr>\n",
       "    <tr>\n",
       "      <td>2020-03-09 15:00:00</td>\n",
       "      <td>16</td>\n",
       "      <td>147703.0</td>\n",
       "    </tr>\n",
       "    <tr>\n",
       "      <td>2020-03-09 16:00:00</td>\n",
       "      <td>17</td>\n",
       "      <td>121666.0</td>\n",
       "    </tr>\n",
       "    <tr>\n",
       "      <td>2020-03-09 17:00:00</td>\n",
       "      <td>18</td>\n",
       "      <td>50923.0</td>\n",
       "    </tr>\n",
       "    <tr>\n",
       "      <td>2020-03-09 18:00:00</td>\n",
       "      <td>19</td>\n",
       "      <td>4694.0</td>\n",
       "    </tr>\n",
       "    <tr>\n",
       "      <td>2020-03-09 19:00:00</td>\n",
       "      <td>20</td>\n",
       "      <td>0.0</td>\n",
       "    </tr>\n",
       "    <tr>\n",
       "      <td>2020-03-09 20:00:00</td>\n",
       "      <td>21</td>\n",
       "      <td>0.0</td>\n",
       "    </tr>\n",
       "    <tr>\n",
       "      <td>2020-03-09 21:00:00</td>\n",
       "      <td>22</td>\n",
       "      <td>0.0</td>\n",
       "    </tr>\n",
       "    <tr>\n",
       "      <td>2020-03-09 22:00:00</td>\n",
       "      <td>23</td>\n",
       "      <td>0.0</td>\n",
       "    </tr>\n",
       "    <tr>\n",
       "      <td>2020-03-09 23:00:00</td>\n",
       "      <td>24</td>\n",
       "      <td>0.0</td>\n",
       "    </tr>\n",
       "  </tbody>\n",
       "</table>\n",
       "</div>"
      ],
      "text/plain": [
       "                     hora  GICIS308\n",
       "fecha_hora                         \n",
       "2020-03-09 00:00:00     1       0.0\n",
       "2020-03-09 01:00:00     2       0.0\n",
       "2020-03-09 02:00:00     3       0.0\n",
       "2020-03-09 03:00:00     4       0.0\n",
       "2020-03-09 04:00:00     5       0.0\n",
       "2020-03-09 05:00:00     6       0.0\n",
       "2020-03-09 06:00:00     7       0.0\n",
       "2020-03-09 07:00:00     8   26712.0\n",
       "2020-03-09 08:00:00     9   67768.0\n",
       "2020-03-09 09:00:00    10  114971.0\n",
       "2020-03-09 10:00:00    11  159410.0\n",
       "2020-03-09 11:00:00    12  182024.0\n",
       "2020-03-09 12:00:00    13  181452.0\n",
       "2020-03-09 13:00:00    14  182154.0\n",
       "2020-03-09 14:00:00    15  175778.0\n",
       "2020-03-09 15:00:00    16  147703.0\n",
       "2020-03-09 16:00:00    17  121666.0\n",
       "2020-03-09 17:00:00    18   50923.0\n",
       "2020-03-09 18:00:00    19    4694.0\n",
       "2020-03-09 19:00:00    20       0.0\n",
       "2020-03-09 20:00:00    21       0.0\n",
       "2020-03-09 21:00:00    22       0.0\n",
       "2020-03-09 22:00:00    23       0.0\n",
       "2020-03-09 23:00:00    24       0.0"
      ]
     },
     "execution_count": 21,
     "metadata": {},
     "output_type": "execute_result"
    }
   ],
   "source": [
    "last_day"
   ]
  },
  {
   "cell_type": "code",
   "execution_count": 22,
   "metadata": {
    "ExecuteTime": {
     "end_time": "2020-05-10T17:57:40.185019Z",
     "start_time": "2020-05-10T17:57:32.781380Z"
    }
   },
   "outputs": [
    {
     "data": {
      "text/html": [
       "<div>\n",
       "<style scoped>\n",
       "    .dataframe tbody tr th:only-of-type {\n",
       "        vertical-align: middle;\n",
       "    }\n",
       "\n",
       "    .dataframe tbody tr th {\n",
       "        vertical-align: top;\n",
       "    }\n",
       "\n",
       "    .dataframe thead th {\n",
       "        text-align: right;\n",
       "    }\n",
       "</style>\n",
       "<table border=\"1\" class=\"dataframe\">\n",
       "  <thead>\n",
       "    <tr style=\"text-align: right;\">\n",
       "      <th></th>\n",
       "      <th>Hora 1</th>\n",
       "      <th>Hora 2</th>\n",
       "      <th>Hora 3</th>\n",
       "      <th>Hora 4</th>\n",
       "      <th>Hora 5</th>\n",
       "      <th>Hora 6</th>\n",
       "      <th>Hora 7</th>\n",
       "      <th>Hora 8</th>\n",
       "      <th>Hora 9</th>\n",
       "      <th>Hora 10</th>\n",
       "      <th>...</th>\n",
       "      <th>Hora 15</th>\n",
       "      <th>Hora 16</th>\n",
       "      <th>Hora 17</th>\n",
       "      <th>Hora 18</th>\n",
       "      <th>Hora 19</th>\n",
       "      <th>Hora 20</th>\n",
       "      <th>Hora 21</th>\n",
       "      <th>Hora 22</th>\n",
       "      <th>Hora 23</th>\n",
       "      <th>Hora 24</th>\n",
       "    </tr>\n",
       "  </thead>\n",
       "  <tbody>\n",
       "    <tr>\n",
       "      <td>0</td>\n",
       "      <td>0.0</td>\n",
       "      <td>0.0</td>\n",
       "      <td>0.0</td>\n",
       "      <td>0.0</td>\n",
       "      <td>0.0</td>\n",
       "      <td>0.0</td>\n",
       "      <td>0.0</td>\n",
       "      <td>7085.0</td>\n",
       "      <td>45051.0</td>\n",
       "      <td>79479.0</td>\n",
       "      <td>...</td>\n",
       "      <td>106961.0</td>\n",
       "      <td>109104.0</td>\n",
       "      <td>34213.0</td>\n",
       "      <td>11120.0</td>\n",
       "      <td>0.0</td>\n",
       "      <td>0.0</td>\n",
       "      <td>0.0</td>\n",
       "      <td>0.0</td>\n",
       "      <td>0.0</td>\n",
       "      <td>0.0</td>\n",
       "    </tr>\n",
       "    <tr>\n",
       "      <td>1</td>\n",
       "      <td>0.0</td>\n",
       "      <td>0.0</td>\n",
       "      <td>0.0</td>\n",
       "      <td>0.0</td>\n",
       "      <td>0.0</td>\n",
       "      <td>0.0</td>\n",
       "      <td>0.0</td>\n",
       "      <td>2367.0</td>\n",
       "      <td>62729.0</td>\n",
       "      <td>147661.0</td>\n",
       "      <td>...</td>\n",
       "      <td>73419.0</td>\n",
       "      <td>55922.0</td>\n",
       "      <td>34326.0</td>\n",
       "      <td>8477.0</td>\n",
       "      <td>0.0</td>\n",
       "      <td>0.0</td>\n",
       "      <td>0.0</td>\n",
       "      <td>0.0</td>\n",
       "      <td>0.0</td>\n",
       "      <td>0.0</td>\n",
       "    </tr>\n",
       "    <tr>\n",
       "      <td>2</td>\n",
       "      <td>0.0</td>\n",
       "      <td>0.0</td>\n",
       "      <td>0.0</td>\n",
       "      <td>0.0</td>\n",
       "      <td>0.0</td>\n",
       "      <td>0.0</td>\n",
       "      <td>0.0</td>\n",
       "      <td>5030.0</td>\n",
       "      <td>91837.0</td>\n",
       "      <td>138926.0</td>\n",
       "      <td>...</td>\n",
       "      <td>134381.0</td>\n",
       "      <td>94770.0</td>\n",
       "      <td>55123.0</td>\n",
       "      <td>21358.0</td>\n",
       "      <td>0.0</td>\n",
       "      <td>0.0</td>\n",
       "      <td>0.0</td>\n",
       "      <td>0.0</td>\n",
       "      <td>0.0</td>\n",
       "      <td>0.0</td>\n",
       "    </tr>\n",
       "    <tr>\n",
       "      <td>3</td>\n",
       "      <td>0.0</td>\n",
       "      <td>0.0</td>\n",
       "      <td>0.0</td>\n",
       "      <td>0.0</td>\n",
       "      <td>0.0</td>\n",
       "      <td>0.0</td>\n",
       "      <td>0.0</td>\n",
       "      <td>3582.0</td>\n",
       "      <td>85916.0</td>\n",
       "      <td>139596.0</td>\n",
       "      <td>...</td>\n",
       "      <td>168822.0</td>\n",
       "      <td>160385.0</td>\n",
       "      <td>123843.0</td>\n",
       "      <td>38263.0</td>\n",
       "      <td>0.0</td>\n",
       "      <td>0.0</td>\n",
       "      <td>0.0</td>\n",
       "      <td>0.0</td>\n",
       "      <td>0.0</td>\n",
       "      <td>0.0</td>\n",
       "    </tr>\n",
       "    <tr>\n",
       "      <td>4</td>\n",
       "      <td>0.0</td>\n",
       "      <td>0.0</td>\n",
       "      <td>0.0</td>\n",
       "      <td>0.0</td>\n",
       "      <td>0.0</td>\n",
       "      <td>0.0</td>\n",
       "      <td>0.0</td>\n",
       "      <td>12824.0</td>\n",
       "      <td>101219.0</td>\n",
       "      <td>160770.0</td>\n",
       "      <td>...</td>\n",
       "      <td>160558.0</td>\n",
       "      <td>155001.0</td>\n",
       "      <td>119618.0</td>\n",
       "      <td>41874.0</td>\n",
       "      <td>16.0</td>\n",
       "      <td>0.0</td>\n",
       "      <td>0.0</td>\n",
       "      <td>0.0</td>\n",
       "      <td>0.0</td>\n",
       "      <td>0.0</td>\n",
       "    </tr>\n",
       "    <tr>\n",
       "      <td>...</td>\n",
       "      <td>...</td>\n",
       "      <td>...</td>\n",
       "      <td>...</td>\n",
       "      <td>...</td>\n",
       "      <td>...</td>\n",
       "      <td>...</td>\n",
       "      <td>...</td>\n",
       "      <td>...</td>\n",
       "      <td>...</td>\n",
       "      <td>...</td>\n",
       "      <td>...</td>\n",
       "      <td>...</td>\n",
       "      <td>...</td>\n",
       "      <td>...</td>\n",
       "      <td>...</td>\n",
       "      <td>...</td>\n",
       "      <td>...</td>\n",
       "      <td>...</td>\n",
       "      <td>...</td>\n",
       "      <td>...</td>\n",
       "      <td>...</td>\n",
       "    </tr>\n",
       "    <tr>\n",
       "      <td>63</td>\n",
       "      <td>0.0</td>\n",
       "      <td>0.0</td>\n",
       "      <td>0.0</td>\n",
       "      <td>0.0</td>\n",
       "      <td>0.0</td>\n",
       "      <td>0.0</td>\n",
       "      <td>0.0</td>\n",
       "      <td>7034.0</td>\n",
       "      <td>66424.0</td>\n",
       "      <td>153224.0</td>\n",
       "      <td>...</td>\n",
       "      <td>153790.0</td>\n",
       "      <td>142680.0</td>\n",
       "      <td>103318.0</td>\n",
       "      <td>39128.0</td>\n",
       "      <td>5181.0</td>\n",
       "      <td>0.0</td>\n",
       "      <td>0.0</td>\n",
       "      <td>0.0</td>\n",
       "      <td>0.0</td>\n",
       "      <td>0.0</td>\n",
       "    </tr>\n",
       "    <tr>\n",
       "      <td>64</td>\n",
       "      <td>0.0</td>\n",
       "      <td>0.0</td>\n",
       "      <td>0.0</td>\n",
       "      <td>0.0</td>\n",
       "      <td>0.0</td>\n",
       "      <td>0.0</td>\n",
       "      <td>0.0</td>\n",
       "      <td>23096.0</td>\n",
       "      <td>107789.0</td>\n",
       "      <td>127503.0</td>\n",
       "      <td>...</td>\n",
       "      <td>154571.0</td>\n",
       "      <td>167446.0</td>\n",
       "      <td>152278.0</td>\n",
       "      <td>115386.0</td>\n",
       "      <td>7756.0</td>\n",
       "      <td>0.0</td>\n",
       "      <td>0.0</td>\n",
       "      <td>0.0</td>\n",
       "      <td>0.0</td>\n",
       "      <td>0.0</td>\n",
       "    </tr>\n",
       "    <tr>\n",
       "      <td>65</td>\n",
       "      <td>0.0</td>\n",
       "      <td>0.0</td>\n",
       "      <td>0.0</td>\n",
       "      <td>0.0</td>\n",
       "      <td>0.0</td>\n",
       "      <td>0.0</td>\n",
       "      <td>0.0</td>\n",
       "      <td>1710.0</td>\n",
       "      <td>9021.0</td>\n",
       "      <td>16079.0</td>\n",
       "      <td>...</td>\n",
       "      <td>120826.0</td>\n",
       "      <td>111442.0</td>\n",
       "      <td>88106.0</td>\n",
       "      <td>34580.0</td>\n",
       "      <td>6543.0</td>\n",
       "      <td>0.0</td>\n",
       "      <td>0.0</td>\n",
       "      <td>0.0</td>\n",
       "      <td>0.0</td>\n",
       "      <td>0.0</td>\n",
       "    </tr>\n",
       "    <tr>\n",
       "      <td>66</td>\n",
       "      <td>0.0</td>\n",
       "      <td>0.0</td>\n",
       "      <td>0.0</td>\n",
       "      <td>0.0</td>\n",
       "      <td>0.0</td>\n",
       "      <td>0.0</td>\n",
       "      <td>0.0</td>\n",
       "      <td>7793.0</td>\n",
       "      <td>36312.0</td>\n",
       "      <td>86809.0</td>\n",
       "      <td>...</td>\n",
       "      <td>181540.0</td>\n",
       "      <td>181196.0</td>\n",
       "      <td>165138.0</td>\n",
       "      <td>97748.0</td>\n",
       "      <td>6251.0</td>\n",
       "      <td>0.0</td>\n",
       "      <td>0.0</td>\n",
       "      <td>0.0</td>\n",
       "      <td>0.0</td>\n",
       "      <td>0.0</td>\n",
       "    </tr>\n",
       "    <tr>\n",
       "      <td>67</td>\n",
       "      <td>0.0</td>\n",
       "      <td>0.0</td>\n",
       "      <td>0.0</td>\n",
       "      <td>0.0</td>\n",
       "      <td>0.0</td>\n",
       "      <td>0.0</td>\n",
       "      <td>0.0</td>\n",
       "      <td>18451.0</td>\n",
       "      <td>22538.0</td>\n",
       "      <td>81821.0</td>\n",
       "      <td>...</td>\n",
       "      <td>160542.0</td>\n",
       "      <td>106243.0</td>\n",
       "      <td>53054.0</td>\n",
       "      <td>44504.0</td>\n",
       "      <td>14167.0</td>\n",
       "      <td>0.0</td>\n",
       "      <td>0.0</td>\n",
       "      <td>0.0</td>\n",
       "      <td>0.0</td>\n",
       "      <td>0.0</td>\n",
       "    </tr>\n",
       "  </tbody>\n",
       "</table>\n",
       "<p>68 rows × 24 columns</p>\n",
       "</div>"
      ],
      "text/plain": [
       "    Hora 1  Hora 2  Hora 3  Hora 4  Hora 5  Hora 6  Hora 7   Hora 8    Hora 9  \\\n",
       "0      0.0     0.0     0.0     0.0     0.0     0.0     0.0   7085.0   45051.0   \n",
       "1      0.0     0.0     0.0     0.0     0.0     0.0     0.0   2367.0   62729.0   \n",
       "2      0.0     0.0     0.0     0.0     0.0     0.0     0.0   5030.0   91837.0   \n",
       "3      0.0     0.0     0.0     0.0     0.0     0.0     0.0   3582.0   85916.0   \n",
       "4      0.0     0.0     0.0     0.0     0.0     0.0     0.0  12824.0  101219.0   \n",
       "..     ...     ...     ...     ...     ...     ...     ...      ...       ...   \n",
       "63     0.0     0.0     0.0     0.0     0.0     0.0     0.0   7034.0   66424.0   \n",
       "64     0.0     0.0     0.0     0.0     0.0     0.0     0.0  23096.0  107789.0   \n",
       "65     0.0     0.0     0.0     0.0     0.0     0.0     0.0   1710.0    9021.0   \n",
       "66     0.0     0.0     0.0     0.0     0.0     0.0     0.0   7793.0   36312.0   \n",
       "67     0.0     0.0     0.0     0.0     0.0     0.0     0.0  18451.0   22538.0   \n",
       "\n",
       "     Hora 10  ...   Hora 15   Hora 16   Hora 17   Hora 18  Hora 19  Hora 20  \\\n",
       "0    79479.0  ...  106961.0  109104.0   34213.0   11120.0      0.0      0.0   \n",
       "1   147661.0  ...   73419.0   55922.0   34326.0    8477.0      0.0      0.0   \n",
       "2   138926.0  ...  134381.0   94770.0   55123.0   21358.0      0.0      0.0   \n",
       "3   139596.0  ...  168822.0  160385.0  123843.0   38263.0      0.0      0.0   \n",
       "4   160770.0  ...  160558.0  155001.0  119618.0   41874.0     16.0      0.0   \n",
       "..       ...  ...       ...       ...       ...       ...      ...      ...   \n",
       "63  153224.0  ...  153790.0  142680.0  103318.0   39128.0   5181.0      0.0   \n",
       "64  127503.0  ...  154571.0  167446.0  152278.0  115386.0   7756.0      0.0   \n",
       "65   16079.0  ...  120826.0  111442.0   88106.0   34580.0   6543.0      0.0   \n",
       "66   86809.0  ...  181540.0  181196.0  165138.0   97748.0   6251.0      0.0   \n",
       "67   81821.0  ...  160542.0  106243.0   53054.0   44504.0  14167.0      0.0   \n",
       "\n",
       "    Hora 21  Hora 22  Hora 23  Hora 24  \n",
       "0       0.0      0.0      0.0      0.0  \n",
       "1       0.0      0.0      0.0      0.0  \n",
       "2       0.0      0.0      0.0      0.0  \n",
       "3       0.0      0.0      0.0      0.0  \n",
       "4       0.0      0.0      0.0      0.0  \n",
       "..      ...      ...      ...      ...  \n",
       "63      0.0      0.0      0.0      0.0  \n",
       "64      0.0      0.0      0.0      0.0  \n",
       "65      0.0      0.0      0.0      0.0  \n",
       "66      0.0      0.0      0.0      0.0  \n",
       "67      0.0      0.0      0.0      0.0  \n",
       "\n",
       "[68 rows x 24 columns]"
      ]
     },
     "execution_count": 22,
     "metadata": {},
     "output_type": "execute_result"
    }
   ],
   "source": [
    "xhr = pd.DataFrame()\n",
    "for i in range(0,24):\n",
    "    hrs = [train.iloc[j][1] for j in range(0,len(train)) if train.iloc[j][0] == i+1 ] #pd.Series()\n",
    "    xhr['Hora '+str(i+1)] = hrs\n",
    "xhr = xhr.drop([xhr.index[-1]])\n",
    "xhr"
   ]
  },
  {
   "cell_type": "code",
   "execution_count": 23,
   "metadata": {
    "ExecuteTime": {
     "end_time": "2020-05-10T17:57:40.196682Z",
     "start_time": "2020-05-10T17:57:40.187482Z"
    }
   },
   "outputs": [],
   "source": [
    "train = train.drop(['hora'], axis=1)\n",
    "last_day = last_day.drop(['hora'], axis=1)"
   ]
  },
  {
   "cell_type": "code",
   "execution_count": 24,
   "metadata": {
    "ExecuteTime": {
     "end_time": "2020-05-10T17:57:40.229457Z",
     "start_time": "2020-05-10T17:57:40.213215Z"
    }
   },
   "outputs": [
    {
     "data": {
      "text/plain": [
       "24"
      ]
     },
     "execution_count": 24,
     "metadata": {},
     "output_type": "execute_result"
    }
   ],
   "source": [
    "len(last_day)"
   ]
  },
  {
   "cell_type": "markdown",
   "metadata": {},
   "source": [
    "*** \n",
    "# Modelo ARIMA"
   ]
  },
  {
   "cell_type": "code",
   "execution_count": 25,
   "metadata": {
    "ExecuteTime": {
     "end_time": "2020-05-10T18:01:27.135650Z",
     "start_time": "2020-05-10T17:57:40.237106Z"
    },
    "scrolled": true
   },
   "outputs": [],
   "source": [
    "history = [x for x in train.values]\n",
    "predictions = []\n",
    "\n",
    "for t in range(0,24):\n",
    "    model = ARIMA(history, order=(8,1,2))\n",
    "    model_fit = model.fit()\n",
    "    output = model_fit.forecast()\n",
    "    yhat = output[0]\n",
    "    predictions.append(yhat)\n",
    "    obs = last_day.values[t]\n",
    "    history.append(obs)"
   ]
  },
  {
   "cell_type": "code",
   "execution_count": 26,
   "metadata": {
    "ExecuteTime": {
     "end_time": "2020-05-10T18:01:27.145074Z",
     "start_time": "2020-05-10T18:01:27.137595Z"
    }
   },
   "outputs": [
    {
     "data": {
      "text/plain": [
       "24"
      ]
     },
     "execution_count": 26,
     "metadata": {},
     "output_type": "execute_result"
    }
   ],
   "source": [
    "len(predictions)"
   ]
  },
  {
   "cell_type": "code",
   "execution_count": 27,
   "metadata": {
    "ExecuteTime": {
     "end_time": "2020-05-10T18:01:27.167614Z",
     "start_time": "2020-05-10T18:01:27.151425Z"
    }
   },
   "outputs": [],
   "source": [
    "for i in range(0,len(last_day)): # SUPUESTO 1: SI NO HUBO PRODUCCIÓN UN DÍA ANTES, NO HABRÁ ESE DÍA. \n",
    "    if last_day.iloc[i].values == 0:\n",
    "        predictions[i] = 0"
   ]
  },
  {
   "cell_type": "code",
   "execution_count": 28,
   "metadata": {
    "ExecuteTime": {
     "end_time": "2020-05-10T18:01:27.201775Z",
     "start_time": "2020-05-10T18:01:27.171264Z"
    }
   },
   "outputs": [
    {
     "data": {
      "text/html": [
       "<div>\n",
       "<style scoped>\n",
       "    .dataframe tbody tr th:only-of-type {\n",
       "        vertical-align: middle;\n",
       "    }\n",
       "\n",
       "    .dataframe tbody tr th {\n",
       "        vertical-align: top;\n",
       "    }\n",
       "\n",
       "    .dataframe thead th {\n",
       "        text-align: right;\n",
       "    }\n",
       "</style>\n",
       "<table border=\"1\" class=\"dataframe\">\n",
       "  <thead>\n",
       "    <tr style=\"text-align: right;\">\n",
       "      <th></th>\n",
       "      <th>GICIS308</th>\n",
       "    </tr>\n",
       "    <tr>\n",
       "      <th>fecha_hora</th>\n",
       "      <th></th>\n",
       "    </tr>\n",
       "  </thead>\n",
       "  <tbody>\n",
       "    <tr>\n",
       "      <td>2020-03-09 00:00:00</td>\n",
       "      <td>0.0</td>\n",
       "    </tr>\n",
       "    <tr>\n",
       "      <td>2020-03-09 01:00:00</td>\n",
       "      <td>0.0</td>\n",
       "    </tr>\n",
       "    <tr>\n",
       "      <td>2020-03-09 02:00:00</td>\n",
       "      <td>0.0</td>\n",
       "    </tr>\n",
       "    <tr>\n",
       "      <td>2020-03-09 03:00:00</td>\n",
       "      <td>0.0</td>\n",
       "    </tr>\n",
       "    <tr>\n",
       "      <td>2020-03-09 04:00:00</td>\n",
       "      <td>0.0</td>\n",
       "    </tr>\n",
       "    <tr>\n",
       "      <td>2020-03-09 05:00:00</td>\n",
       "      <td>0.0</td>\n",
       "    </tr>\n",
       "    <tr>\n",
       "      <td>2020-03-09 06:00:00</td>\n",
       "      <td>0.0</td>\n",
       "    </tr>\n",
       "    <tr>\n",
       "      <td>2020-03-09 07:00:00</td>\n",
       "      <td>26712.0</td>\n",
       "    </tr>\n",
       "    <tr>\n",
       "      <td>2020-03-09 08:00:00</td>\n",
       "      <td>67768.0</td>\n",
       "    </tr>\n",
       "    <tr>\n",
       "      <td>2020-03-09 09:00:00</td>\n",
       "      <td>114971.0</td>\n",
       "    </tr>\n",
       "    <tr>\n",
       "      <td>2020-03-09 10:00:00</td>\n",
       "      <td>159410.0</td>\n",
       "    </tr>\n",
       "    <tr>\n",
       "      <td>2020-03-09 11:00:00</td>\n",
       "      <td>182024.0</td>\n",
       "    </tr>\n",
       "    <tr>\n",
       "      <td>2020-03-09 12:00:00</td>\n",
       "      <td>181452.0</td>\n",
       "    </tr>\n",
       "    <tr>\n",
       "      <td>2020-03-09 13:00:00</td>\n",
       "      <td>182154.0</td>\n",
       "    </tr>\n",
       "    <tr>\n",
       "      <td>2020-03-09 14:00:00</td>\n",
       "      <td>175778.0</td>\n",
       "    </tr>\n",
       "    <tr>\n",
       "      <td>2020-03-09 15:00:00</td>\n",
       "      <td>147703.0</td>\n",
       "    </tr>\n",
       "    <tr>\n",
       "      <td>2020-03-09 16:00:00</td>\n",
       "      <td>121666.0</td>\n",
       "    </tr>\n",
       "    <tr>\n",
       "      <td>2020-03-09 17:00:00</td>\n",
       "      <td>50923.0</td>\n",
       "    </tr>\n",
       "    <tr>\n",
       "      <td>2020-03-09 18:00:00</td>\n",
       "      <td>4694.0</td>\n",
       "    </tr>\n",
       "    <tr>\n",
       "      <td>2020-03-09 19:00:00</td>\n",
       "      <td>0.0</td>\n",
       "    </tr>\n",
       "    <tr>\n",
       "      <td>2020-03-09 20:00:00</td>\n",
       "      <td>0.0</td>\n",
       "    </tr>\n",
       "    <tr>\n",
       "      <td>2020-03-09 21:00:00</td>\n",
       "      <td>0.0</td>\n",
       "    </tr>\n",
       "    <tr>\n",
       "      <td>2020-03-09 22:00:00</td>\n",
       "      <td>0.0</td>\n",
       "    </tr>\n",
       "    <tr>\n",
       "      <td>2020-03-09 23:00:00</td>\n",
       "      <td>0.0</td>\n",
       "    </tr>\n",
       "  </tbody>\n",
       "</table>\n",
       "</div>"
      ],
      "text/plain": [
       "                     GICIS308\n",
       "fecha_hora                   \n",
       "2020-03-09 00:00:00       0.0\n",
       "2020-03-09 01:00:00       0.0\n",
       "2020-03-09 02:00:00       0.0\n",
       "2020-03-09 03:00:00       0.0\n",
       "2020-03-09 04:00:00       0.0\n",
       "2020-03-09 05:00:00       0.0\n",
       "2020-03-09 06:00:00       0.0\n",
       "2020-03-09 07:00:00   26712.0\n",
       "2020-03-09 08:00:00   67768.0\n",
       "2020-03-09 09:00:00  114971.0\n",
       "2020-03-09 10:00:00  159410.0\n",
       "2020-03-09 11:00:00  182024.0\n",
       "2020-03-09 12:00:00  181452.0\n",
       "2020-03-09 13:00:00  182154.0\n",
       "2020-03-09 14:00:00  175778.0\n",
       "2020-03-09 15:00:00  147703.0\n",
       "2020-03-09 16:00:00  121666.0\n",
       "2020-03-09 17:00:00   50923.0\n",
       "2020-03-09 18:00:00    4694.0\n",
       "2020-03-09 19:00:00       0.0\n",
       "2020-03-09 20:00:00       0.0\n",
       "2020-03-09 21:00:00       0.0\n",
       "2020-03-09 22:00:00       0.0\n",
       "2020-03-09 23:00:00       0.0"
      ]
     },
     "execution_count": 28,
     "metadata": {},
     "output_type": "execute_result"
    }
   ],
   "source": [
    "last_day"
   ]
  },
  {
   "cell_type": "code",
   "execution_count": 29,
   "metadata": {
    "ExecuteTime": {
     "end_time": "2020-05-10T18:01:27.238139Z",
     "start_time": "2020-05-10T18:01:27.209008Z"
    }
   },
   "outputs": [
    {
     "data": {
      "text/html": [
       "<div>\n",
       "<style scoped>\n",
       "    .dataframe tbody tr th:only-of-type {\n",
       "        vertical-align: middle;\n",
       "    }\n",
       "\n",
       "    .dataframe tbody tr th {\n",
       "        vertical-align: top;\n",
       "    }\n",
       "\n",
       "    .dataframe thead th {\n",
       "        text-align: right;\n",
       "    }\n",
       "</style>\n",
       "<table border=\"1\" class=\"dataframe\">\n",
       "  <thead>\n",
       "    <tr style=\"text-align: right;\">\n",
       "      <th></th>\n",
       "      <th>hora</th>\n",
       "      <th>GICIS308</th>\n",
       "    </tr>\n",
       "    <tr>\n",
       "      <th>fecha_hora</th>\n",
       "      <th></th>\n",
       "      <th></th>\n",
       "    </tr>\n",
       "  </thead>\n",
       "  <tbody>\n",
       "    <tr>\n",
       "      <td>2020-03-10 00:00:00</td>\n",
       "      <td>0</td>\n",
       "      <td>0</td>\n",
       "    </tr>\n",
       "    <tr>\n",
       "      <td>2020-03-10 01:00:00</td>\n",
       "      <td>1</td>\n",
       "      <td>0</td>\n",
       "    </tr>\n",
       "    <tr>\n",
       "      <td>2020-03-10 02:00:00</td>\n",
       "      <td>2</td>\n",
       "      <td>0</td>\n",
       "    </tr>\n",
       "    <tr>\n",
       "      <td>2020-03-10 03:00:00</td>\n",
       "      <td>3</td>\n",
       "      <td>0</td>\n",
       "    </tr>\n",
       "    <tr>\n",
       "      <td>2020-03-10 04:00:00</td>\n",
       "      <td>4</td>\n",
       "      <td>0</td>\n",
       "    </tr>\n",
       "    <tr>\n",
       "      <td>2020-03-10 05:00:00</td>\n",
       "      <td>5</td>\n",
       "      <td>0</td>\n",
       "    </tr>\n",
       "    <tr>\n",
       "      <td>2020-03-10 06:00:00</td>\n",
       "      <td>6</td>\n",
       "      <td>0</td>\n",
       "    </tr>\n",
       "    <tr>\n",
       "      <td>2020-03-10 07:00:00</td>\n",
       "      <td>7</td>\n",
       "      <td>[14225.668391380586]</td>\n",
       "    </tr>\n",
       "    <tr>\n",
       "      <td>2020-03-10 08:00:00</td>\n",
       "      <td>8</td>\n",
       "      <td>[50114.09142426195]</td>\n",
       "    </tr>\n",
       "    <tr>\n",
       "      <td>2020-03-10 09:00:00</td>\n",
       "      <td>9</td>\n",
       "      <td>[90479.52534869591]</td>\n",
       "    </tr>\n",
       "    <tr>\n",
       "      <td>2020-03-10 10:00:00</td>\n",
       "      <td>10</td>\n",
       "      <td>[133513.54970904632]</td>\n",
       "    </tr>\n",
       "    <tr>\n",
       "      <td>2020-03-10 11:00:00</td>\n",
       "      <td>11</td>\n",
       "      <td>[170892.13849424105]</td>\n",
       "    </tr>\n",
       "    <tr>\n",
       "      <td>2020-03-10 12:00:00</td>\n",
       "      <td>12</td>\n",
       "      <td>[180491.50870107402]</td>\n",
       "    </tr>\n",
       "    <tr>\n",
       "      <td>2020-03-10 13:00:00</td>\n",
       "      <td>13</td>\n",
       "      <td>[169574.87780435345]</td>\n",
       "    </tr>\n",
       "    <tr>\n",
       "      <td>2020-03-10 14:00:00</td>\n",
       "      <td>14</td>\n",
       "      <td>[171185.87425749918]</td>\n",
       "    </tr>\n",
       "    <tr>\n",
       "      <td>2020-03-10 15:00:00</td>\n",
       "      <td>15</td>\n",
       "      <td>[157647.4580457708]</td>\n",
       "    </tr>\n",
       "    <tr>\n",
       "      <td>2020-03-10 16:00:00</td>\n",
       "      <td>16</td>\n",
       "      <td>[118175.02802279037]</td>\n",
       "    </tr>\n",
       "    <tr>\n",
       "      <td>2020-03-10 17:00:00</td>\n",
       "      <td>17</td>\n",
       "      <td>[93686.18396275291]</td>\n",
       "    </tr>\n",
       "    <tr>\n",
       "      <td>2020-03-10 18:00:00</td>\n",
       "      <td>18</td>\n",
       "      <td>[6566.979602537445]</td>\n",
       "    </tr>\n",
       "    <tr>\n",
       "      <td>2020-03-10 19:00:00</td>\n",
       "      <td>19</td>\n",
       "      <td>0</td>\n",
       "    </tr>\n",
       "    <tr>\n",
       "      <td>2020-03-10 20:00:00</td>\n",
       "      <td>20</td>\n",
       "      <td>0</td>\n",
       "    </tr>\n",
       "    <tr>\n",
       "      <td>2020-03-10 21:00:00</td>\n",
       "      <td>21</td>\n",
       "      <td>0</td>\n",
       "    </tr>\n",
       "    <tr>\n",
       "      <td>2020-03-10 22:00:00</td>\n",
       "      <td>22</td>\n",
       "      <td>0</td>\n",
       "    </tr>\n",
       "    <tr>\n",
       "      <td>2020-03-10 23:00:00</td>\n",
       "      <td>23</td>\n",
       "      <td>0</td>\n",
       "    </tr>\n",
       "  </tbody>\n",
       "</table>\n",
       "</div>"
      ],
      "text/plain": [
       "                     hora              GICIS308\n",
       "fecha_hora                                     \n",
       "2020-03-10 00:00:00     0                     0\n",
       "2020-03-10 01:00:00     1                     0\n",
       "2020-03-10 02:00:00     2                     0\n",
       "2020-03-10 03:00:00     3                     0\n",
       "2020-03-10 04:00:00     4                     0\n",
       "2020-03-10 05:00:00     5                     0\n",
       "2020-03-10 06:00:00     6                     0\n",
       "2020-03-10 07:00:00     7  [14225.668391380586]\n",
       "2020-03-10 08:00:00     8   [50114.09142426195]\n",
       "2020-03-10 09:00:00     9   [90479.52534869591]\n",
       "2020-03-10 10:00:00    10  [133513.54970904632]\n",
       "2020-03-10 11:00:00    11  [170892.13849424105]\n",
       "2020-03-10 12:00:00    12  [180491.50870107402]\n",
       "2020-03-10 13:00:00    13  [169574.87780435345]\n",
       "2020-03-10 14:00:00    14  [171185.87425749918]\n",
       "2020-03-10 15:00:00    15   [157647.4580457708]\n",
       "2020-03-10 16:00:00    16  [118175.02802279037]\n",
       "2020-03-10 17:00:00    17   [93686.18396275291]\n",
       "2020-03-10 18:00:00    18   [6566.979602537445]\n",
       "2020-03-10 19:00:00    19                     0\n",
       "2020-03-10 20:00:00    20                     0\n",
       "2020-03-10 21:00:00    21                     0\n",
       "2020-03-10 22:00:00    22                     0\n",
       "2020-03-10 23:00:00    23                     0"
      ]
     },
     "execution_count": 29,
     "metadata": {},
     "output_type": "execute_result"
    }
   ],
   "source": [
    "pred[columna] = predictions\n",
    "pred"
   ]
  },
  {
   "cell_type": "code",
   "execution_count": 30,
   "metadata": {
    "ExecuteTime": {
     "end_time": "2020-05-10T18:01:27.547216Z",
     "start_time": "2020-05-10T18:01:27.242771Z"
    },
    "code_folding": [
     4
    ]
   },
   "outputs": [
    {
     "data": {
      "image/png": "[encoded data removed]",
      "text/plain": [
       "<Figure size 576x432 with 1 Axes>"
      ]
     },
     "metadata": {
      "needs_background": "light"
     },
     "output_type": "display_data"
    }
   ],
   "source": [
    "# plot\n",
    "plt.subplots(figsize=(8,6))\n",
    "plt.plot(last_day)\n",
    "plt.plot(pred[columna], color='red')\n",
    "xticks = [0,\n",
    " 3,\n",
    " 6,\n",
    " 9,\n",
    " 12,\n",
    " 15,\n",
    " 18,\n",
    " 21,\n",
    " 24,\n",
    " 27,\n",
    " 30,\n",
    " 33,\n",
    " 36,\n",
    " 39,\n",
    " 42,\n",
    " 45,\n",
    " 48]\n",
    "plt.xticks(xticks,rotation=90)\n",
    "plt.show()"
   ]
  },
  {
   "cell_type": "code",
   "execution_count": 31,
   "metadata": {
    "ExecuteTime": {
     "end_time": "2020-05-10T18:01:27.559101Z",
     "start_time": "2020-05-10T18:01:27.550591Z"
    }
   },
   "outputs": [
    {
     "name": "stdout",
     "output_type": "stream",
     "text": [
      "El pronóstico para el día de 2020-03-10 es de: [1356552.8837644]\n"
     ]
    }
   ],
   "source": [
    "print(\"El pronóstico para el día de\", fecha_sig, \"es de:\", sum(pred[columna].values))"
   ]
  },
  {
   "cell_type": "markdown",
   "metadata": {},
   "source": [
    "# Tomando promedios anteriores:"
   ]
  },
  {
   "cell_type": "markdown",
   "metadata": {},
   "source": [
    "# Cambiando 7 8 y 9:"
   ]
  },
  {
   "cell_type": "code",
   "execution_count": 32,
   "metadata": {
    "ExecuteTime": {
     "end_time": "2020-05-10T18:01:27.571180Z",
     "start_time": "2020-05-10T18:01:27.563493Z"
    }
   },
   "outputs": [
    {
     "data": {
      "text/plain": [
       "array([14225.66839138])"
      ]
     },
     "execution_count": 32,
     "metadata": {},
     "output_type": "execute_result"
    }
   ],
   "source": [
    "pred.iloc[7,1]"
   ]
  },
  {
   "cell_type": "code",
   "execution_count": 33,
   "metadata": {
    "ExecuteTime": {
     "end_time": "2020-05-10T18:01:27.586352Z",
     "start_time": "2020-05-10T18:01:27.574885Z"
    }
   },
   "outputs": [
    {
     "data": {
      "text/plain": [
       "61    27631.0\n",
       "62    29157.0\n",
       "63     7034.0\n",
       "64    23096.0\n",
       "65     1710.0\n",
       "66     7793.0\n",
       "67    18451.0\n",
       "Name: Hora 8, dtype: float64"
      ]
     },
     "execution_count": 33,
     "metadata": {},
     "output_type": "execute_result"
    }
   ],
   "source": [
    "xhr['Hora 8'][-7:]"
   ]
  },
  {
   "cell_type": "code",
   "execution_count": 34,
   "metadata": {
    "ExecuteTime": {
     "end_time": "2020-05-10T18:01:27.618830Z",
     "start_time": "2020-05-10T18:01:27.590526Z"
    }
   },
   "outputs": [
    {
     "data": {
      "text/html": [
       "<div>\n",
       "<style scoped>\n",
       "    .dataframe tbody tr th:only-of-type {\n",
       "        vertical-align: middle;\n",
       "    }\n",
       "\n",
       "    .dataframe tbody tr th {\n",
       "        vertical-align: top;\n",
       "    }\n",
       "\n",
       "    .dataframe thead th {\n",
       "        text-align: right;\n",
       "    }\n",
       "</style>\n",
       "<table border=\"1\" class=\"dataframe\">\n",
       "  <thead>\n",
       "    <tr style=\"text-align: right;\">\n",
       "      <th></th>\n",
       "      <th>hora</th>\n",
       "      <th>GICIS308</th>\n",
       "    </tr>\n",
       "    <tr>\n",
       "      <th>fecha_hora</th>\n",
       "      <th></th>\n",
       "      <th></th>\n",
       "    </tr>\n",
       "  </thead>\n",
       "  <tbody>\n",
       "    <tr>\n",
       "      <td>2020-03-10 00:00:00</td>\n",
       "      <td>0</td>\n",
       "      <td>0</td>\n",
       "    </tr>\n",
       "    <tr>\n",
       "      <td>2020-03-10 01:00:00</td>\n",
       "      <td>1</td>\n",
       "      <td>0</td>\n",
       "    </tr>\n",
       "    <tr>\n",
       "      <td>2020-03-10 02:00:00</td>\n",
       "      <td>2</td>\n",
       "      <td>0</td>\n",
       "    </tr>\n",
       "    <tr>\n",
       "      <td>2020-03-10 03:00:00</td>\n",
       "      <td>3</td>\n",
       "      <td>0</td>\n",
       "    </tr>\n",
       "    <tr>\n",
       "      <td>2020-03-10 04:00:00</td>\n",
       "      <td>4</td>\n",
       "      <td>0</td>\n",
       "    </tr>\n",
       "    <tr>\n",
       "      <td>2020-03-10 05:00:00</td>\n",
       "      <td>5</td>\n",
       "      <td>0</td>\n",
       "    </tr>\n",
       "    <tr>\n",
       "      <td>2020-03-10 06:00:00</td>\n",
       "      <td>6</td>\n",
       "      <td>0</td>\n",
       "    </tr>\n",
       "    <tr>\n",
       "      <td>2020-03-10 07:00:00</td>\n",
       "      <td>7</td>\n",
       "      <td>16410.3</td>\n",
       "    </tr>\n",
       "    <tr>\n",
       "      <td>2020-03-10 08:00:00</td>\n",
       "      <td>8</td>\n",
       "      <td>76344.9</td>\n",
       "    </tr>\n",
       "    <tr>\n",
       "      <td>2020-03-10 09:00:00</td>\n",
       "      <td>9</td>\n",
       "      <td>117381</td>\n",
       "    </tr>\n",
       "    <tr>\n",
       "      <td>2020-03-10 10:00:00</td>\n",
       "      <td>10</td>\n",
       "      <td>[133513.54970904632]</td>\n",
       "    </tr>\n",
       "    <tr>\n",
       "      <td>2020-03-10 11:00:00</td>\n",
       "      <td>11</td>\n",
       "      <td>[170892.13849424105]</td>\n",
       "    </tr>\n",
       "    <tr>\n",
       "      <td>2020-03-10 12:00:00</td>\n",
       "      <td>12</td>\n",
       "      <td>[180491.50870107402]</td>\n",
       "    </tr>\n",
       "    <tr>\n",
       "      <td>2020-03-10 13:00:00</td>\n",
       "      <td>13</td>\n",
       "      <td>[169574.87780435345]</td>\n",
       "    </tr>\n",
       "    <tr>\n",
       "      <td>2020-03-10 14:00:00</td>\n",
       "      <td>14</td>\n",
       "      <td>[171185.87425749918]</td>\n",
       "    </tr>\n",
       "    <tr>\n",
       "      <td>2020-03-10 15:00:00</td>\n",
       "      <td>15</td>\n",
       "      <td>[157647.4580457708]</td>\n",
       "    </tr>\n",
       "    <tr>\n",
       "      <td>2020-03-10 16:00:00</td>\n",
       "      <td>16</td>\n",
       "      <td>[118175.02802279037]</td>\n",
       "    </tr>\n",
       "    <tr>\n",
       "      <td>2020-03-10 17:00:00</td>\n",
       "      <td>17</td>\n",
       "      <td>[93686.18396275291]</td>\n",
       "    </tr>\n",
       "    <tr>\n",
       "      <td>2020-03-10 18:00:00</td>\n",
       "      <td>18</td>\n",
       "      <td>[6566.979602537445]</td>\n",
       "    </tr>\n",
       "    <tr>\n",
       "      <td>2020-03-10 19:00:00</td>\n",
       "      <td>19</td>\n",
       "      <td>0</td>\n",
       "    </tr>\n",
       "    <tr>\n",
       "      <td>2020-03-10 20:00:00</td>\n",
       "      <td>20</td>\n",
       "      <td>0</td>\n",
       "    </tr>\n",
       "    <tr>\n",
       "      <td>2020-03-10 21:00:00</td>\n",
       "      <td>21</td>\n",
       "      <td>0</td>\n",
       "    </tr>\n",
       "    <tr>\n",
       "      <td>2020-03-10 22:00:00</td>\n",
       "      <td>22</td>\n",
       "      <td>0</td>\n",
       "    </tr>\n",
       "    <tr>\n",
       "      <td>2020-03-10 23:00:00</td>\n",
       "      <td>23</td>\n",
       "      <td>0</td>\n",
       "    </tr>\n",
       "  </tbody>\n",
       "</table>\n",
       "</div>"
      ],
      "text/plain": [
       "                     hora              GICIS308\n",
       "fecha_hora                                     \n",
       "2020-03-10 00:00:00     0                     0\n",
       "2020-03-10 01:00:00     1                     0\n",
       "2020-03-10 02:00:00     2                     0\n",
       "2020-03-10 03:00:00     3                     0\n",
       "2020-03-10 04:00:00     4                     0\n",
       "2020-03-10 05:00:00     5                     0\n",
       "2020-03-10 06:00:00     6                     0\n",
       "2020-03-10 07:00:00     7               16410.3\n",
       "2020-03-10 08:00:00     8               76344.9\n",
       "2020-03-10 09:00:00     9                117381\n",
       "2020-03-10 10:00:00    10  [133513.54970904632]\n",
       "2020-03-10 11:00:00    11  [170892.13849424105]\n",
       "2020-03-10 12:00:00    12  [180491.50870107402]\n",
       "2020-03-10 13:00:00    13  [169574.87780435345]\n",
       "2020-03-10 14:00:00    14  [171185.87425749918]\n",
       "2020-03-10 15:00:00    15   [157647.4580457708]\n",
       "2020-03-10 16:00:00    16  [118175.02802279037]\n",
       "2020-03-10 17:00:00    17   [93686.18396275291]\n",
       "2020-03-10 18:00:00    18   [6566.979602537445]\n",
       "2020-03-10 19:00:00    19                     0\n",
       "2020-03-10 20:00:00    20                     0\n",
       "2020-03-10 21:00:00    21                     0\n",
       "2020-03-10 22:00:00    22                     0\n",
       "2020-03-10 23:00:00    23                     0"
      ]
     },
     "execution_count": 34,
     "metadata": {},
     "output_type": "execute_result"
    }
   ],
   "source": [
    "pred.iloc[7,1] = np.mean(xhr['Hora 8'][-7:])\n",
    "pred.iloc[8,1] = np.mean(xhr['Hora 9'][-7:])\n",
    "pred.iloc[9,1] = np.mean(xhr['Hora 10'][-7:])\n",
    "pred"
   ]
  },
  {
   "cell_type": "code",
   "execution_count": 35,
   "metadata": {
    "ExecuteTime": {
     "end_time": "2020-05-10T18:01:27.868758Z",
     "start_time": "2020-05-10T18:01:27.622227Z"
    },
    "code_folding": [
     4
    ]
   },
   "outputs": [
    {
     "data": {
      "image/png": "[encoded data removed]",
      "text/plain": [
       "<Figure size 576x432 with 1 Axes>"
      ]
     },
     "metadata": {
      "needs_background": "light"
     },
     "output_type": "display_data"
    }
   ],
   "source": [
    "# plot\n",
    "plt.subplots(figsize=(8,6))\n",
    "plt.plot(last_day)\n",
    "plt.plot(pred[columna], color='red')\n",
    "xticks = [0,\n",
    " 3,\n",
    " 6,\n",
    " 9,\n",
    " 12,\n",
    " 15,\n",
    " 18,\n",
    " 21,\n",
    " 24,\n",
    " 27,\n",
    " 30,\n",
    " 33,\n",
    " 36,\n",
    " 39,\n",
    " 42,\n",
    " 45,\n",
    " 48]\n",
    "plt.xticks(xticks,rotation=90)\n",
    "plt.show()"
   ]
  },
  {
   "cell_type": "code",
   "execution_count": 36,
   "metadata": {
    "ExecuteTime": {
     "end_time": "2020-05-10T18:01:27.898920Z",
     "start_time": "2020-05-10T18:01:27.875505Z"
    }
   },
   "outputs": [
    {
     "name": "stdout",
     "output_type": "stream",
     "text": [
      "El pronóstico para el día de 2020-03-10 es de: [1411870.17002864]\n"
     ]
    }
   ],
   "source": [
    "print(\"El pronóstico para el día de\", fecha_sig, \"es de:\", sum(pred[columna].values))"
   ]
  },
  {
   "cell_type": "markdown",
   "metadata": {},
   "source": [
    "## Cambiando Hora 17, 18 y 19:"
   ]
  },
  {
   "cell_type": "code",
   "execution_count": 37,
   "metadata": {
    "ExecuteTime": {
     "end_time": "2020-05-10T18:01:27.934527Z",
     "start_time": "2020-05-10T18:01:27.907598Z"
    }
   },
   "outputs": [
    {
     "data": {
      "text/html": [
       "<div>\n",
       "<style scoped>\n",
       "    .dataframe tbody tr th:only-of-type {\n",
       "        vertical-align: middle;\n",
       "    }\n",
       "\n",
       "    .dataframe tbody tr th {\n",
       "        vertical-align: top;\n",
       "    }\n",
       "\n",
       "    .dataframe thead th {\n",
       "        text-align: right;\n",
       "    }\n",
       "</style>\n",
       "<table border=\"1\" class=\"dataframe\">\n",
       "  <thead>\n",
       "    <tr style=\"text-align: right;\">\n",
       "      <th></th>\n",
       "      <th>hora</th>\n",
       "      <th>GICIS308</th>\n",
       "    </tr>\n",
       "    <tr>\n",
       "      <th>fecha_hora</th>\n",
       "      <th></th>\n",
       "      <th></th>\n",
       "    </tr>\n",
       "  </thead>\n",
       "  <tbody>\n",
       "    <tr>\n",
       "      <td>2020-03-10 00:00:00</td>\n",
       "      <td>0</td>\n",
       "      <td>0</td>\n",
       "    </tr>\n",
       "    <tr>\n",
       "      <td>2020-03-10 01:00:00</td>\n",
       "      <td>1</td>\n",
       "      <td>0</td>\n",
       "    </tr>\n",
       "    <tr>\n",
       "      <td>2020-03-10 02:00:00</td>\n",
       "      <td>2</td>\n",
       "      <td>0</td>\n",
       "    </tr>\n",
       "    <tr>\n",
       "      <td>2020-03-10 03:00:00</td>\n",
       "      <td>3</td>\n",
       "      <td>0</td>\n",
       "    </tr>\n",
       "    <tr>\n",
       "      <td>2020-03-10 04:00:00</td>\n",
       "      <td>4</td>\n",
       "      <td>0</td>\n",
       "    </tr>\n",
       "    <tr>\n",
       "      <td>2020-03-10 05:00:00</td>\n",
       "      <td>5</td>\n",
       "      <td>0</td>\n",
       "    </tr>\n",
       "    <tr>\n",
       "      <td>2020-03-10 06:00:00</td>\n",
       "      <td>6</td>\n",
       "      <td>0</td>\n",
       "    </tr>\n",
       "    <tr>\n",
       "      <td>2020-03-10 07:00:00</td>\n",
       "      <td>7</td>\n",
       "      <td>16410.3</td>\n",
       "    </tr>\n",
       "    <tr>\n",
       "      <td>2020-03-10 08:00:00</td>\n",
       "      <td>8</td>\n",
       "      <td>76344.9</td>\n",
       "    </tr>\n",
       "    <tr>\n",
       "      <td>2020-03-10 09:00:00</td>\n",
       "      <td>9</td>\n",
       "      <td>117381</td>\n",
       "    </tr>\n",
       "    <tr>\n",
       "      <td>2020-03-10 10:00:00</td>\n",
       "      <td>10</td>\n",
       "      <td>[133513.54970904632]</td>\n",
       "    </tr>\n",
       "    <tr>\n",
       "      <td>2020-03-10 11:00:00</td>\n",
       "      <td>11</td>\n",
       "      <td>[170892.13849424105]</td>\n",
       "    </tr>\n",
       "    <tr>\n",
       "      <td>2020-03-10 12:00:00</td>\n",
       "      <td>12</td>\n",
       "      <td>[180491.50870107402]</td>\n",
       "    </tr>\n",
       "    <tr>\n",
       "      <td>2020-03-10 13:00:00</td>\n",
       "      <td>13</td>\n",
       "      <td>[169574.87780435345]</td>\n",
       "    </tr>\n",
       "    <tr>\n",
       "      <td>2020-03-10 14:00:00</td>\n",
       "      <td>14</td>\n",
       "      <td>[171185.87425749918]</td>\n",
       "    </tr>\n",
       "    <tr>\n",
       "      <td>2020-03-10 15:00:00</td>\n",
       "      <td>15</td>\n",
       "      <td>[157647.4580457708]</td>\n",
       "    </tr>\n",
       "    <tr>\n",
       "      <td>2020-03-10 16:00:00</td>\n",
       "      <td>16</td>\n",
       "      <td>118272</td>\n",
       "    </tr>\n",
       "    <tr>\n",
       "      <td>2020-03-10 17:00:00</td>\n",
       "      <td>17</td>\n",
       "      <td>70345.4</td>\n",
       "    </tr>\n",
       "    <tr>\n",
       "      <td>2020-03-10 18:00:00</td>\n",
       "      <td>18</td>\n",
       "      <td>8752.86</td>\n",
       "    </tr>\n",
       "    <tr>\n",
       "      <td>2020-03-10 19:00:00</td>\n",
       "      <td>19</td>\n",
       "      <td>0</td>\n",
       "    </tr>\n",
       "    <tr>\n",
       "      <td>2020-03-10 20:00:00</td>\n",
       "      <td>20</td>\n",
       "      <td>0</td>\n",
       "    </tr>\n",
       "    <tr>\n",
       "      <td>2020-03-10 21:00:00</td>\n",
       "      <td>21</td>\n",
       "      <td>0</td>\n",
       "    </tr>\n",
       "    <tr>\n",
       "      <td>2020-03-10 22:00:00</td>\n",
       "      <td>22</td>\n",
       "      <td>0</td>\n",
       "    </tr>\n",
       "    <tr>\n",
       "      <td>2020-03-10 23:00:00</td>\n",
       "      <td>23</td>\n",
       "      <td>0</td>\n",
       "    </tr>\n",
       "  </tbody>\n",
       "</table>\n",
       "</div>"
      ],
      "text/plain": [
       "                     hora              GICIS308\n",
       "fecha_hora                                     \n",
       "2020-03-10 00:00:00     0                     0\n",
       "2020-03-10 01:00:00     1                     0\n",
       "2020-03-10 02:00:00     2                     0\n",
       "2020-03-10 03:00:00     3                     0\n",
       "2020-03-10 04:00:00     4                     0\n",
       "2020-03-10 05:00:00     5                     0\n",
       "2020-03-10 06:00:00     6                     0\n",
       "2020-03-10 07:00:00     7               16410.3\n",
       "2020-03-10 08:00:00     8               76344.9\n",
       "2020-03-10 09:00:00     9                117381\n",
       "2020-03-10 10:00:00    10  [133513.54970904632]\n",
       "2020-03-10 11:00:00    11  [170892.13849424105]\n",
       "2020-03-10 12:00:00    12  [180491.50870107402]\n",
       "2020-03-10 13:00:00    13  [169574.87780435345]\n",
       "2020-03-10 14:00:00    14  [171185.87425749918]\n",
       "2020-03-10 15:00:00    15   [157647.4580457708]\n",
       "2020-03-10 16:00:00    16                118272\n",
       "2020-03-10 17:00:00    17               70345.4\n",
       "2020-03-10 18:00:00    18               8752.86\n",
       "2020-03-10 19:00:00    19                     0\n",
       "2020-03-10 20:00:00    20                     0\n",
       "2020-03-10 21:00:00    21                     0\n",
       "2020-03-10 22:00:00    22                     0\n",
       "2020-03-10 23:00:00    23                     0"
      ]
     },
     "execution_count": 37,
     "metadata": {},
     "output_type": "execute_result"
    }
   ],
   "source": [
    "pred.iloc[16,1] = np.mean(xhr['Hora 17'][-7:])\n",
    "pred.iloc[17,1] = np.mean(xhr['Hora 18'][-7:])\n",
    "pred.iloc[18,1] = np.mean(xhr['Hora 19'][-7:])\n",
    "pred"
   ]
  },
  {
   "cell_type": "code",
   "execution_count": 39,
   "metadata": {
    "ExecuteTime": {
     "end_time": "2020-05-10T21:22:39.845742Z",
     "start_time": "2020-05-10T21:22:39.465203Z"
    },
    "code_folding": [
     4
    ]
   },
   "outputs": [
    {
     "data": {
      "image/png": "[encoded data removed]",
      "text/plain": [
       "<Figure size 576x432 with 1 Axes>"
      ]
     },
     "metadata": {
      "needs_background": "light"
     },
     "output_type": "display_data"
    }
   ],
   "source": [
    "# plot\n",
    "plt.subplots(figsize=(8,6))\n",
    "plt.plot(last_day)\n",
    "plt.plot(pred[columna], color='red')\n",
    "xticks = [0,\n",
    " 3,\n",
    " 6,\n",
    " 9,\n",
    " 12,\n",
    " 15,\n",
    " 18,\n",
    " 21,\n",
    " 24,\n",
    " 27,\n",
    " 30,\n",
    " 33,\n",
    " 36,\n",
    " 39,\n",
    " 42,\n",
    " 45,\n",
    " 48]\n",
    "plt.xticks(xticks,rotation=90)\n",
    "plt.show()"
   ]
  },
  {
   "cell_type": "code",
   "execution_count": 40,
   "metadata": {
    "ExecuteTime": {
     "end_time": "2020-05-10T21:22:41.819537Z",
     "start_time": "2020-05-10T21:22:41.811756Z"
    }
   },
   "outputs": [
    {
     "name": "stdout",
     "output_type": "stream",
     "text": [
      "El pronóstico para el día de 2020-03-10 es de: [1390812.40701199]\n"
     ]
    }
   ],
   "source": [
    "print(\"El pronóstico para el día de\", fecha_sig, \"es de:\", sum(pred[columna].values))"
   ]
  },
  {
   "cell_type": "code",
   "execution_count": null,
   "metadata": {},
   "outputs": [],
   "source": []
  }
 ],
 "metadata": {
  "kernelspec": {
   "display_name": "Python 3",
   "language": "python",
   "name": "python3"
  },
  "language_info": {
   "codemirror_mode": {
    "name": "ipython",
    "version": 3
   },
   "file_extension": ".py",
   "mimetype": "text/x-python",
   "name": "python",
   "nbconvert_exporter": "python",
   "pygments_lexer": "ipython3",
   "version": "3.7.4"
  }
 },
 "nbformat": 4,
 "nbformat_minor": 2
}
